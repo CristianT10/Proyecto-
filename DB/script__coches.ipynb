{
 "cells": [
  {
   "cell_type": "code",
   "execution_count": null,
   "id": "1b8f7921",
   "metadata": {},
   "outputs": [],
   "source": [
    "1- Listar vehículos con ciudad y tipo de carrocería\n",
    "\n",
    "SELECT \n",
    "    v.id,\n",
    "    v.marca,\n",
    "    v.modelo,\n",
    "    v.precio_final,\n",
    "    u.ciudad AS ubicacion,\n",
    "    t.nombre AS tipo_carroceria\n",
    "FROM \n",
    "    vehiculos v\n",
    "LEFT JOIN \n",
    "    ubicaciones u ON v.ubicacion_id = u.id\n",
    "LEFT JOIN \n",
    "    tipos_carroceria t ON v.tipo_carroceria_id = t.id\n",
    "ORDER BY \n",
    "    v.created_at DESC;\n"
   ]
  },
  {
   "cell_type": "code",
   "execution_count": null,
   "id": "ee090ae6",
   "metadata": {},
   "outputs": [],
   "source": [
    "2- los 10 vehículos más caros\n",
    "\n",
    "SELECT \n",
    "    marca,\n",
    "    modelo,\n",
    "    precio_final\n",
    "FROM \n",
    "    vehiculos\n",
    "ORDER BY \n",
    "    precio_final DESC\n",
    "LIMIT 10;"
   ]
  },
  {
   "cell_type": "code",
   "execution_count": null,
   "id": "04e99027",
   "metadata": {},
   "outputs": [],
   "source": [
    "3- Cuántos vehículos hay por ciudad\n",
    "\n",
    "SELECT \n",
    "    u.ciudad,\n",
    "    COUNT(*) AS cantidad_vehiculos\n",
    "FROM \n",
    "    vehiculos v\n",
    "JOIN \n",
    "    ubicaciones u ON v.ubicacion_id = u.id\n",
    "GROUP BY \n",
    "    u.ciudad\n",
    "ORDER BY \n",
    "    cantidad_vehiculos DESC;"
   ]
  },
  {
   "cell_type": "code",
   "execution_count": null,
   "id": "700f251e",
   "metadata": {},
   "outputs": [],
   "source": [
    "4- Vehículo con más de 200 CV y menos de 50.000 km\n",
    "\n",
    "SELECT \n",
    "    marca,\n",
    "    modelo,\n",
    "    potencia,\n",
    "    kilometraje\n",
    "FROM \n",
    "    vehiculos\n",
    "WHERE \n",
    "    potencia > 200 AND kilometraje < 50000;"
   ]
  },
  {
   "cell_type": "code",
   "execution_count": null,
   "id": "9265b2a9",
   "metadata": {},
   "outputs": [],
   "source": [
    "SELECT \n",
    "    *\n",
    "FROM \n",
    "    vehiculos\n",
    "WHERE \n",
    "    marca = 'BMW' AND modelo LIKE '%X1%';"
   ]
  },
  {
   "cell_type": "code",
   "execution_count": null,
   "id": "72c544ab",
   "metadata": {},
   "outputs": [],
   "source": [
    "6- Obtener vehículo por tipo de carrocería\n",
    "\n",
    "SELECT \n",
    "    v.marca,\n",
    "    v.modelo,\n",
    "    t.nombre AS tipo_carroceria\n",
    "FROM \n",
    "    vehiculos v\n",
    "JOIN \n",
    "    tipos_carroceria t ON v.tipo_carroceria_id = t.id\n",
    "WHERE \n",
    "    t.nombre = 'SUV';"
   ]
  },
  {
   "cell_type": "code",
   "execution_count": null,
   "id": "80e85015",
   "metadata": {},
   "outputs": [],
   "source": [
    "7- Solo vehículos eléctricos\n",
    "\n",
    "SELECT \n",
    "    marca,\n",
    "    modelo,\n",
    "    tipo_motor,\n",
    "    precio_final\n",
    "FROM \n",
    "    vehiculos\n",
    "WHERE \n",
    "    combustible_electrico = TRUE;"
   ]
  },
  {
   "cell_type": "code",
   "execution_count": null,
   "id": "9b731e06",
   "metadata": {},
   "outputs": [],
   "source": [
    "8- vehículos por tipo de transmisión\n",
    "\n",
    "SELECT \n",
    "    transmision,\n",
    "    COUNT(*) AS cantidad\n",
    "FROM \n",
    "    vehiculos\n",
    "GROUP BY \n",
    "    transmision;"
   ]
  },
  {
   "cell_type": "code",
   "execution_count": null,
   "id": "e181887f",
   "metadata": {},
   "outputs": [],
   "source": [
    "9- Vehículos matriculados en los últimos 2 años\n",
    "\n",
    "SELECT \n",
    "    marca,\n",
    "    modelo,\n",
    "    ano_matriculacion\n",
    "FROM \n",
    "    vehiculos\n",
    "WHERE \n",
    "    ano_matriculacion >= YEAR(CURDATE()) - 2;"
   ]
  },
  {
   "cell_type": "code",
   "execution_count": null,
   "id": "7ebd38b2",
   "metadata": {},
   "outputs": [],
   "source": [
    "10- Vehículos con descuento aplicado\n",
    "\n",
    "SELECT \n",
    "    marca,\n",
    "    modelo,\n",
    "    descuento,\n",
    "    precio_contado,\n",
    "    precio_final\n",
    "FROM \n",
    "    vehiculos\n",
    "WHERE \n",
    "    descuento > 0;"
   ]
  },
  {
   "cell_type": "code",
   "execution_count": null,
   "id": "297311d0",
   "metadata": {},
   "outputs": [],
   "source": []
  }
 ],
 "metadata": {
  "language_info": {
   "name": "python"
  }
 },
 "nbformat": 4,
 "nbformat_minor": 5
}
