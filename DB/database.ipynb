{
 "cells": [
  {
   "cell_type": "code",
   "execution_count": null,
   "id": "cbdbbc5f",
   "metadata": {},
   "outputs": [],
   "source": []
  },
  {
   "cell_type": "code",
   "execution_count": null,
   "id": "321175f7",
   "metadata": {},
   "outputs": [],
   "source": [
    "CREATE DATABASE IF NOT EXISTS coches;\n",
    "\n",
    "USE coches;\n",
    "\n",
    "CREATE TABLE IF NOT EXISTS ubicaciones (\n",
    "    id INT AUTO_INCREMENT PRIMARY KEY,\n",
    "    ciudad VARCHAR(100) NOT NULL UNIQUE,\n",
    "    created_at TIMESTAMP DEFAULT CURRENT_TIMESTAMP,\n",
    "    updated_at TIMESTAMP DEFAULT CURRENT_TIMESTAMP ON UPDATE CURRENT_TIMESTAMP\n",
    ");\n",
    "\n",
    "-- Tabla de tipos de carrocería\n",
    "CREATE TABLE IF NOT EXISTS tipos_carroceria (\n",
    "    id INT AUTO_INCREMENT PRIMARY KEY,\n",
    "    nombre VARCHAR(50) NOT NULL UNIQUE,\n",
    "    created_at TIMESTAMP DEFAULT CURRENT_TIMESTAMP\n",
    ");\n",
    "\n",
    "-- Tabla de vehículos\n",
    "CREATE TABLE IF NOT EXISTS vehiculos (\n",
    "    id INT AUTO_INCREMENT PRIMARY KEY,\n",
    "    marca VARCHAR(50) NOT NULL,\n",
    "    modelo VARCHAR(255) NOT NULL,\n",
    "    tipo_motor VARCHAR(50),\n",
    "    precio_contado DECIMAL(10,2),\n",
    "    precio_final DECIMAL(10,2),\n",
    "    financiacion_disponible BOOLEAN DEFAULT FALSE,\n",
    "    descuento DECIMAL(5,2),\n",
    "    kilometraje INT,\n",
    "    ubicacion_id INT,\n",
    "    mes_matriculacion INT,\n",
    "    ano_matriculacion INT,\n",
    "    garantia VARCHAR(50),\n",
    "    transmision VARCHAR(50),\n",
    "    transmision_cod INT,\n",
    "    tipo_carroceria_id INT,\n",
    "    num_asientos INT,\n",
    "    potencia INT,\n",
    "    num_puertas INT,\n",
    "    es_km0 BOOLEAN DEFAULT FALSE,\n",
    "    es_demo BOOLEAN DEFAULT FALSE,\n",
    "    combustible_diesel BOOLEAN DEFAULT FALSE,\n",
    "    combustible_electrico BOOLEAN DEFAULT FALSE,\n",
    "    combustible_gas BOOLEAN DEFAULT FALSE,\n",
    "    combustible_gasolina BOOLEAN DEFAULT FALSE,\n",
    "    combustible_hibrido BOOLEAN DEFAULT FALSE,\n",
    "    combustible_hibrido_enchufable BOOLEAN DEFAULT FALSE,\n",
    "    created_at TIMESTAMP DEFAULT CURRENT_TIMESTAMP,\n",
    "    updated_at TIMESTAMP DEFAULT CURRENT_TIMESTAMP ON UPDATE CURRENT_TIMESTAMP,\n",
    "    FOREIGN KEY (ubicacion_id) REFERENCES ubicaciones(id),\n",
    "    FOREIGN KEY (tipo_carroceria_id) REFERENCES tipos_carroceria(id)\n",
    ");\n"
   ]
  }
 ],
 "metadata": {
  "kernelspec": {
   "display_name": "Python 3",
   "language": "python",
   "name": "python3"
  },
  "language_info": {
   "codemirror_mode": {
    "name": "ipython",
    "version": 3
   },
   "file_extension": ".py",
   "mimetype": "text/x-python",
   "name": "python",
   "nbconvert_exporter": "python",
   "pygments_lexer": "ipython3",
   "version": "3.13.3"
  }
 },
 "nbformat": 4,
 "nbformat_minor": 5
}
