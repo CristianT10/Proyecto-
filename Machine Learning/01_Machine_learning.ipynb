{
 "cells": [
  {
   "cell_type": "code",
   "execution_count": null,
   "id": "d9e47e88",
   "metadata": {},
   "outputs": [],
   "source": [
    "import pandas as pd\n",
    "from sklearn.model_selection import train_test_split\n",
    "import pandas as pd\n",
    "from sklearn.neighbors import KNeighborsRegressor\n",
    "from sklearn.ensemble import RandomForestRegressor, GradientBoostingRegressor, AdaBoostRegressor\n",
    "from sklearn.linear_model import LinearRegression\n",
    "from sklearn.metrics import mean_absolute_error, mean_squared_error, r2_score\n",
    "import numpy as np\n",
    "import matplotlib.pyplot as plt\n",
    "import seaborn as sns"
   ]
  },
  {
   "cell_type": "code",
   "execution_count": null,
   "id": "68f6f555",
   "metadata": {},
   "outputs": [],
   "source": [
    "df = pd.read_csv('datos_limpios_modelo.csv')\n",
    "\n",
    "X = df.drop(columns=['precio_contado'])\n",
    "y = df['precio_contado']\n",
    "\n",
    "print(f\"Shape de X: {X.shape}, Shape de y: {y.shape}\")"
   ]
  },
  {
   "cell_type": "code",
   "execution_count": null,
   "id": "e05f1e8d",
   "metadata": {},
   "outputs": [],
   "source": [
    "X_train, X_test, y_train, y_test = train_test_split(\n",
    "    X, y, test_size=0.2, random_state=42\n",
    ")\n",
    "\n",
    "print(f\"X_train: {X_train.shape}, X_test: {X_test.shape}\")\n",
    "print(f\"y_train: {y_train.shape}, y_test: {y_test.shape}\")"
   ]
  },
  {
   "cell_type": "code",
   "execution_count": null,
   "id": "574eccca",
   "metadata": {},
   "outputs": [],
   "source": [
    "modelos = {\n",
    "    'Linear Regression': LinearRegression(),\n",
    "    'Random Forest': RandomForestRegressor(random_state=42, n_estimators=100),\n",
    "    'Gradient Boosting': GradientBoostingRegressor(random_state=42, n_estimators=100),\n",
    "    'AdaBoost': AdaBoostRegressor(random_state=42, n_estimators=50),\n",
    "    'K-Nearest Neighbors': KNeighborsRegressor(n_neighbors=3)\n",
    "}\n",
    "\n",
    "results = {}\n",
    "\n",
    "for name, model in modelos.items():\n",
    "    model.fit(X_train, y_train)\n",
    "    y_pred = model.predict(X_test)\n",
    "    \n",
    "    mae = mean_absolute_error(y_test, y_pred)\n",
    "    mse = mean_squared_error(y_test, y_pred)\n",
    "    rmse = np.sqrt(mse)\n",
    "    r2 = r2_score(y_test, y_pred)\n",
    "    \n",
    "    results[name] = {'MAE': mae, 'MSE': mse, 'RMSE': rmse, 'R2': r2}\n",
    "    print(f\"{name} -> MAE: {mae:.2f}, MSE: {mse:.2f}, RMSE: {rmse:.2f}, R2: {r2:.4f}\")\n"
   ]
  },
  {
   "cell_type": "code",
   "execution_count": null,
   "id": "9856292f",
   "metadata": {},
   "outputs": [],
   "source": [
    "mejor_modelo = modelos['Linear Regression']\n",
    "mejor_modelo.fit(X, y)  "
   ]
  },
  {
   "cell_type": "code",
   "execution_count": null,
   "id": "6fb062c2",
   "metadata": {},
   "outputs": [],
   "source": [
    "features = X.columns\n",
    "coeficientes = mejor_modelo.coef_\n",
    "\n",
    "df_importancia = pd.DataFrame({\n",
    "    'feature': features,\n",
    "    'coefficient': coeficientes\n",
    "}).reindex(coeficientes.argsort()[::-1]) \n",
    "\n",
    "df_importancia = df_importancia.reindex(df_importancia['coefficient'].abs().sort_values(ascending=False).index)\n",
    "\n",
    "plt.figure(figsize=(10, 8))\n",
    "bars = plt.barh(df_importancia['feature'], df_importancia['coefficient'], color=['tab:blue' if c > 0 else 'tab:red' for c in df_importancia['coefficient']])\n",
    "plt.xlabel('Coeficiente')\n",
    "plt.title('Importancia de características - Coeficientes del Modelo Lineal')\n",
    "plt.gca().invert_yaxis()\n",
    "plt.show()"
   ]
  },
  {
   "cell_type": "code",
   "execution_count": null,
   "id": "5612262e",
   "metadata": {},
   "outputs": [],
   "source": []
  }
 ],
 "metadata": {
  "language_info": {
   "name": "python"
  }
 },
 "nbformat": 4,
 "nbformat_minor": 5
}
