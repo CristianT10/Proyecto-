{
 "cells": [
  {
   "cell_type": "markdown",
   "id": "b73fc195",
   "metadata": {},
   "source": [
    "# Redes Neuronales"
   ]
  },
  {
   "cell_type": "code",
   "execution_count": 12,
   "id": "6fdc8b3b",
   "metadata": {},
   "outputs": [],
   "source": [
    "import pandas as pd\n",
    "import numpy as np\n",
    "from sklearn.model_selection import train_test_split\n",
    "from tensorflow.keras.models import Sequential\n",
    "from tensorflow.keras.layers import Dense, Input\n",
    "from tensorflow.keras.optimizers import Adam\n",
    "import plotly.graph_objects as go\n",
    "import os\n",
    "import pickle"
   ]
  },
  {
   "cell_type": "markdown",
   "id": "ec822eca",
   "metadata": {},
   "source": [
    "* Cargamos .csv y separamos \"X\" e \"y\" . Recordemos \"X\" son todas las columnas excepto la columna target en cambio \"y\" es la columna target."
   ]
  },
  {
   "cell_type": "code",
   "execution_count": 2,
   "id": "614f6da4",
   "metadata": {},
   "outputs": [],
   "source": [
    "df = pd.read_csv('datos_limpios_modelo_10cols.csv')\n",
    "\n",
    "\n",
    "X = df.drop(columns=['precio_contado'])\n",
    "y = df['precio_contado']\n",
    "\n",
    "\n",
    "X_train, X_test, y_train, y_test = train_test_split(\n",
    "    X, y, test_size=0.2, random_state=42\n",
    ")\n"
   ]
  },
  {
   "cell_type": "markdown",
   "id": "f9235375",
   "metadata": {},
   "source": [
    "* Creamos un modelo de red neuronal con varias capas:\n",
    "  - La primera capa recibe los datos de entrada (el numero de caracteristicas que tiene cada ejemplo).\n",
    "  - Luego hay dos capas intermedias (ocultas) con varias neuronas que ayudan a que el modelo aprenda patrones complejos.\n",
    "  - La ultima capa tiene una neurona que nos da la prediccion del precio.\n",
    "\n",
    "* Preparamos el modelo para entrenarlo:\n",
    "  - Usamos **Adam** para ajustar el modelo.\n",
    "  - Le decimos que mida que tan bien esta haciendo la prediccion con  **MSE** (error cuadratico medio).\n",
    "  - Tambien le pedimos que nos muestre **MAE** (error absoluto medio) para entender mejor su rendimiento.\n"
   ]
  },
  {
   "cell_type": "code",
   "execution_count": 3,
   "id": "f5c17c77",
   "metadata": {},
   "outputs": [
    {
     "name": "stderr",
     "output_type": "stream",
     "text": [
      "2025-06-24 19:55:16.817914: E external/local_xla/xla/stream_executor/cuda/cuda_platform.cc:51] failed call to cuInit: INTERNAL: CUDA error: Failed call to cuInit: UNKNOWN ERROR (303)\n"
     ]
    }
   ],
   "source": [
    "model_mse = Sequential([\n",
    "    Input(shape=(X_train.shape[1],)),\n",
    "    Dense(64, activation='relu'),\n",
    "    Dense(32, activation='relu'),\n",
    "    Dense(1)\n",
    "])\n",
    "\n",
    "model_mse.compile(optimizer=Adam(), loss='mse', metrics=['mae'])\n",
    "\n"
   ]
  },
  {
   "cell_type": "markdown",
   "id": "add34514",
   "metadata": {},
   "source": [
    "* Entrenamos el modelo usando los datos de entrenamiento (\"X_train\" y \"y_train\").\n",
    "* Tambien usamos los datos de prueba (\"X_test\" y \"y_test\") para validar como esta funcionando el modelo mientras aprende.\n",
    "* Definimos que el entrenamiento dure 100 epocas (pasadas completas sobre todos los datos).\n",
    "* En cada epoca, el modelo procesa los datos en grupos de 32 ejemplos (batch size).\n",
    "* \"verbose=1\" hace que se muestre una barra de progreso durante el entrenamiento.\n"
   ]
  },
  {
   "cell_type": "code",
   "execution_count": 4,
   "id": "98cb03d2",
   "metadata": {},
   "outputs": [
    {
     "name": "stdout",
     "output_type": "stream",
     "text": [
      "Epoch 1/30\n",
      "\u001b[1m2211/2211\u001b[0m \u001b[32m━━━━━━━━━━━━━━━━━━━━\u001b[0m\u001b[37m\u001b[0m \u001b[1m14s\u001b[0m 5ms/step - loss: 7327932416.0000 - mae: 29494.4785 - val_loss: 3445460992.0000 - val_mae: 15611.6270\n",
      "Epoch 2/30\n",
      "\u001b[1m2211/2211\u001b[0m \u001b[32m━━━━━━━━━━━━━━━━━━━━\u001b[0m\u001b[37m\u001b[0m \u001b[1m11s\u001b[0m 5ms/step - loss: 2787899136.0000 - mae: 15950.2295 - val_loss: 2984452608.0000 - val_mae: 15055.0420\n",
      "Epoch 3/30\n",
      "\u001b[1m2211/2211\u001b[0m \u001b[32m━━━━━━━━━━━━━━━━━━━━\u001b[0m\u001b[37m\u001b[0m \u001b[1m13s\u001b[0m 6ms/step - loss: 2622671360.0000 - mae: 14837.2588 - val_loss: 2765142528.0000 - val_mae: 13774.5986\n",
      "Epoch 4/30\n",
      "\u001b[1m2211/2211\u001b[0m \u001b[32m━━━━━━━━━━━━━━━━━━━━\u001b[0m\u001b[37m\u001b[0m \u001b[1m13s\u001b[0m 6ms/step - loss: 2438168576.0000 - mae: 13587.9121 - val_loss: 2595771904.0000 - val_mae: 12730.1191\n",
      "Epoch 5/30\n",
      "\u001b[1m2211/2211\u001b[0m \u001b[32m━━━━━━━━━━━━━━━━━━━━\u001b[0m\u001b[37m\u001b[0m \u001b[1m12s\u001b[0m 6ms/step - loss: 2775557120.0000 - mae: 12656.1338 - val_loss: 2444128768.0000 - val_mae: 11696.0156\n",
      "Epoch 6/30\n",
      "\u001b[1m2211/2211\u001b[0m \u001b[32m━━━━━━━━━━━━━━━━━━━━\u001b[0m\u001b[37m\u001b[0m \u001b[1m14s\u001b[0m 6ms/step - loss: 1649797760.0000 - mae: 11503.5742 - val_loss: 2278457600.0000 - val_mae: 11191.8008\n",
      "Epoch 7/30\n",
      "\u001b[1m2211/2211\u001b[0m \u001b[32m━━━━━━━━━━━━━━━━━━━━\u001b[0m\u001b[37m\u001b[0m \u001b[1m14s\u001b[0m 6ms/step - loss: 1598390016.0000 - mae: 10955.6973 - val_loss: 2138327296.0000 - val_mae: 10194.9355\n",
      "Epoch 8/30\n",
      "\u001b[1m2211/2211\u001b[0m \u001b[32m━━━━━━━━━━━━━━━━━━━━\u001b[0m\u001b[37m\u001b[0m \u001b[1m12s\u001b[0m 5ms/step - loss: 2074554880.0000 - mae: 10428.9531 - val_loss: 1994370048.0000 - val_mae: 9309.9424\n",
      "Epoch 9/30\n",
      "\u001b[1m2211/2211\u001b[0m \u001b[32m━━━━━━━━━━━━━━━━━━━━\u001b[0m\u001b[37m\u001b[0m \u001b[1m6s\u001b[0m 3ms/step - loss: 1549774592.0000 - mae: 9354.0762 - val_loss: 1854142592.0000 - val_mae: 8481.7246\n",
      "Epoch 10/30\n",
      "\u001b[1m2211/2211\u001b[0m \u001b[32m━━━━━━━━━━━━━━━━━━━━\u001b[0m\u001b[37m\u001b[0m \u001b[1m6s\u001b[0m 3ms/step - loss: 964269696.0000 - mae: 8288.6914 - val_loss: 1697094528.0000 - val_mae: 7822.5352\n",
      "Epoch 11/30\n",
      "\u001b[1m2211/2211\u001b[0m \u001b[32m━━━━━━━━━━━━━━━━━━━━\u001b[0m\u001b[37m\u001b[0m \u001b[1m7s\u001b[0m 3ms/step - loss: 748798656.0000 - mae: 7523.9233 - val_loss: 1552226944.0000 - val_mae: 7184.5508\n",
      "Epoch 12/30\n",
      "\u001b[1m2211/2211\u001b[0m \u001b[32m━━━━━━━━━━━━━━━━━━━━\u001b[0m\u001b[37m\u001b[0m \u001b[1m7s\u001b[0m 3ms/step - loss: 658411328.0000 - mae: 6906.5269 - val_loss: 1421002496.0000 - val_mae: 6602.7808\n",
      "Epoch 13/30\n",
      "\u001b[1m2211/2211\u001b[0m \u001b[32m━━━━━━━━━━━━━━━━━━━━\u001b[0m\u001b[37m\u001b[0m \u001b[1m7s\u001b[0m 3ms/step - loss: 655881088.0000 - mae: 6419.4062 - val_loss: 1303039744.0000 - val_mae: 6081.7559\n",
      "Epoch 14/30\n",
      "\u001b[1m2211/2211\u001b[0m \u001b[32m━━━━━━━━━━━━━━━━━━━━\u001b[0m\u001b[37m\u001b[0m \u001b[1m8s\u001b[0m 4ms/step - loss: 382632960.0000 - mae: 5824.5151 - val_loss: 1173189888.0000 - val_mae: 5775.9453\n",
      "Epoch 15/30\n",
      "\u001b[1m2211/2211\u001b[0m \u001b[32m━━━━━━━━━━━━━━━━━━━━\u001b[0m\u001b[37m\u001b[0m \u001b[1m6s\u001b[0m 3ms/step - loss: 478401792.0000 - mae: 5656.8740 - val_loss: 1090273280.0000 - val_mae: 5273.1616\n",
      "Epoch 16/30\n",
      "\u001b[1m2211/2211\u001b[0m \u001b[32m━━━━━━━━━━━━━━━━━━━━\u001b[0m\u001b[37m\u001b[0m \u001b[1m7s\u001b[0m 3ms/step - loss: 467366368.0000 - mae: 5199.2417 - val_loss: 1015187840.0000 - val_mae: 5055.0093\n",
      "Epoch 17/30\n",
      "\u001b[1m2211/2211\u001b[0m \u001b[32m━━━━━━━━━━━━━━━━━━━━\u001b[0m\u001b[37m\u001b[0m \u001b[1m7s\u001b[0m 3ms/step - loss: 202612848.0000 - mae: 4877.4961 - val_loss: 961887296.0000 - val_mae: 4882.8501\n",
      "Epoch 18/30\n",
      "\u001b[1m2211/2211\u001b[0m \u001b[32m━━━━━━━━━━━━━━━━━━━━\u001b[0m\u001b[37m\u001b[0m \u001b[1m7s\u001b[0m 3ms/step - loss: 227686160.0000 - mae: 4709.6753 - val_loss: 940613504.0000 - val_mae: 4704.6333\n",
      "Epoch 19/30\n",
      "\u001b[1m2211/2211\u001b[0m \u001b[32m━━━━━━━━━━━━━━━━━━━━\u001b[0m\u001b[37m\u001b[0m \u001b[1m11s\u001b[0m 5ms/step - loss: 202694016.0000 - mae: 4507.4863 - val_loss: 917767744.0000 - val_mae: 4554.4746\n",
      "Epoch 20/30\n",
      "\u001b[1m2211/2211\u001b[0m \u001b[32m━━━━━━━━━━━━━━━━━━━━\u001b[0m\u001b[37m\u001b[0m \u001b[1m9s\u001b[0m 4ms/step - loss: 219805936.0000 - mae: 4302.3208 - val_loss: 912964160.0000 - val_mae: 4444.9604\n",
      "Epoch 21/30\n",
      "\u001b[1m2211/2211\u001b[0m \u001b[32m━━━━━━━━━━━━━━━━━━━━\u001b[0m\u001b[37m\u001b[0m \u001b[1m16s\u001b[0m 7ms/step - loss: 221137312.0000 - mae: 4247.7441 - val_loss: 925748672.0000 - val_mae: 4404.7549\n",
      "Epoch 22/30\n",
      "\u001b[1m2211/2211\u001b[0m \u001b[32m━━━━━━━━━━━━━━━━━━━━\u001b[0m\u001b[37m\u001b[0m \u001b[1m8s\u001b[0m 4ms/step - loss: 196974464.0000 - mae: 4220.5732 - val_loss: 908249664.0000 - val_mae: 4338.1162\n",
      "Epoch 23/30\n",
      "\u001b[1m2211/2211\u001b[0m \u001b[32m━━━━━━━━━━━━━━━━━━━━\u001b[0m\u001b[37m\u001b[0m \u001b[1m5s\u001b[0m 2ms/step - loss: 191318656.0000 - mae: 4133.4155 - val_loss: 911886720.0000 - val_mae: 4263.0493\n",
      "Epoch 24/30\n",
      "\u001b[1m2211/2211\u001b[0m \u001b[32m━━━━━━━━━━━━━━━━━━━━\u001b[0m\u001b[37m\u001b[0m \u001b[1m10s\u001b[0m 5ms/step - loss: 383255840.0000 - mae: 4173.8340 - val_loss: 911430272.0000 - val_mae: 4223.2935\n",
      "Epoch 25/30\n",
      "\u001b[1m2211/2211\u001b[0m \u001b[32m━━━━━━━━━━━━━━━━━━━━\u001b[0m\u001b[37m\u001b[0m \u001b[1m20s\u001b[0m 9ms/step - loss: 244482816.0000 - mae: 4100.3115 - val_loss: 912509760.0000 - val_mae: 4154.0859\n",
      "Epoch 26/30\n",
      "\u001b[1m2211/2211\u001b[0m \u001b[32m━━━━━━━━━━━━━━━━━━━━\u001b[0m\u001b[37m\u001b[0m \u001b[1m9s\u001b[0m 4ms/step - loss: 466358080.0000 - mae: 4163.3159 - val_loss: 902858368.0000 - val_mae: 4147.2939\n",
      "Epoch 27/30\n",
      "\u001b[1m2211/2211\u001b[0m \u001b[32m━━━━━━━━━━━━━━━━━━━━\u001b[0m\u001b[37m\u001b[0m \u001b[1m8s\u001b[0m 4ms/step - loss: 301936864.0000 - mae: 4072.8130 - val_loss: 892204992.0000 - val_mae: 4107.3359\n",
      "Epoch 28/30\n",
      "\u001b[1m2211/2211\u001b[0m \u001b[32m━━━━━━━━━━━━━━━━━━━━\u001b[0m\u001b[37m\u001b[0m \u001b[1m7s\u001b[0m 3ms/step - loss: 245434768.0000 - mae: 4012.7554 - val_loss: 903054720.0000 - val_mae: 4088.0200\n",
      "Epoch 29/30\n",
      "\u001b[1m2211/2211\u001b[0m \u001b[32m━━━━━━━━━━━━━━━━━━━━\u001b[0m\u001b[37m\u001b[0m \u001b[1m9s\u001b[0m 4ms/step - loss: 366396160.0000 - mae: 4056.7319 - val_loss: 899240512.0000 - val_mae: 4054.8936\n",
      "Epoch 30/30\n",
      "\u001b[1m2211/2211\u001b[0m \u001b[32m━━━━━━━━━━━━━━━━━━━━\u001b[0m\u001b[37m\u001b[0m \u001b[1m14s\u001b[0m 7ms/step - loss: 161700064.0000 - mae: 3878.7771 - val_loss: 901834624.0000 - val_mae: 4056.4011\n"
     ]
    }
   ],
   "source": [
    "history_mse = model_mse.fit(\n",
    "    X_train, y_train,\n",
    "    validation_data=(X_test, y_test),\n",
    "    epochs=30,\n",
    "    batch_size=32,\n",
    "    verbose=1\n",
    ")\n",
    "\n"
   ]
  },
  {
   "cell_type": "markdown",
   "id": "39711a5f",
   "metadata": {},
   "source": [
    "* Creamos un grafico para mostrar como evoluciona la perdida del modelo a lo largo de las epocas.\n",
    "* Añadimos dos lineas:\n",
    "  - La perdida en los datos de entrenamiento (\"loss\").\n",
    "  - La perdida en los datos de validación (\"val_loss\").\n",
    "* Esto nos ayuda a ver si el modelo esta aprendiendo bien o si esta sobreajustando.\n",
    "* El eje X muestra las epocas y el eje Y la magnitud de la perdida (MSE).\n"
   ]
  },
  {
   "cell_type": "code",
   "execution_count": 5,
   "id": "aca38a3a",
   "metadata": {},
   "outputs": [
    {
     "data": {
      "application/vnd.plotly.v1+json": {
       "config": {
        "plotlyServerURL": "https://plot.ly"
       },
       "data": [
        {
         "name": "Entrenamiento (MSE)",
         "type": "scatter",
         "y": [
          5177093120,
          3276687616,
          2876625152,
          2606915584,
          2374416128,
          2105908864,
          1873713536,
          1662840448,
          1444568832,
          1216594944,
          993549312,
          807284032,
          650098240,
          491855968,
          390575360,
          329413536,
          291454816,
          275558944,
          270268672,
          266391696,
          263491456,
          263722992,
          262966800,
          261315856,
          260431744,
          259630496,
          258097744,
          259027936,
          257851536,
          257302928
         ]
        },
        {
         "name": "Validación (MSE)",
         "type": "scatter",
         "y": [
          3445460992,
          2984452608,
          2765142528,
          2595771904,
          2444128768,
          2278457600,
          2138327296,
          1994370048,
          1854142592,
          1697094528,
          1552226944,
          1421002496,
          1303039744,
          1173189888,
          1090273280,
          1015187840,
          961887296,
          940613504,
          917767744,
          912964160,
          925748672,
          908249664,
          911886720,
          911430272,
          912509760,
          902858368,
          892204992,
          903054720,
          899240512,
          901834624
         ]
        }
       ],
       "layout": {
        "template": {
         "data": {
          "bar": [
           {
            "error_x": {
             "color": "#2a3f5f"
            },
            "error_y": {
             "color": "#2a3f5f"
            },
            "marker": {
             "line": {
              "color": "#E5ECF6",
              "width": 0.5
             },
             "pattern": {
              "fillmode": "overlay",
              "size": 10,
              "solidity": 0.2
             }
            },
            "type": "bar"
           }
          ],
          "barpolar": [
           {
            "marker": {
             "line": {
              "color": "#E5ECF6",
              "width": 0.5
             },
             "pattern": {
              "fillmode": "overlay",
              "size": 10,
              "solidity": 0.2
             }
            },
            "type": "barpolar"
           }
          ],
          "carpet": [
           {
            "aaxis": {
             "endlinecolor": "#2a3f5f",
             "gridcolor": "white",
             "linecolor": "white",
             "minorgridcolor": "white",
             "startlinecolor": "#2a3f5f"
            },
            "baxis": {
             "endlinecolor": "#2a3f5f",
             "gridcolor": "white",
             "linecolor": "white",
             "minorgridcolor": "white",
             "startlinecolor": "#2a3f5f"
            },
            "type": "carpet"
           }
          ],
          "choropleth": [
           {
            "colorbar": {
             "outlinewidth": 0,
             "ticks": ""
            },
            "type": "choropleth"
           }
          ],
          "contour": [
           {
            "colorbar": {
             "outlinewidth": 0,
             "ticks": ""
            },
            "colorscale": [
             [
              0,
              "#0d0887"
             ],
             [
              0.1111111111111111,
              "#46039f"
             ],
             [
              0.2222222222222222,
              "#7201a8"
             ],
             [
              0.3333333333333333,
              "#9c179e"
             ],
             [
              0.4444444444444444,
              "#bd3786"
             ],
             [
              0.5555555555555556,
              "#d8576b"
             ],
             [
              0.6666666666666666,
              "#ed7953"
             ],
             [
              0.7777777777777778,
              "#fb9f3a"
             ],
             [
              0.8888888888888888,
              "#fdca26"
             ],
             [
              1,
              "#f0f921"
             ]
            ],
            "type": "contour"
           }
          ],
          "contourcarpet": [
           {
            "colorbar": {
             "outlinewidth": 0,
             "ticks": ""
            },
            "type": "contourcarpet"
           }
          ],
          "heatmap": [
           {
            "colorbar": {
             "outlinewidth": 0,
             "ticks": ""
            },
            "colorscale": [
             [
              0,
              "#0d0887"
             ],
             [
              0.1111111111111111,
              "#46039f"
             ],
             [
              0.2222222222222222,
              "#7201a8"
             ],
             [
              0.3333333333333333,
              "#9c179e"
             ],
             [
              0.4444444444444444,
              "#bd3786"
             ],
             [
              0.5555555555555556,
              "#d8576b"
             ],
             [
              0.6666666666666666,
              "#ed7953"
             ],
             [
              0.7777777777777778,
              "#fb9f3a"
             ],
             [
              0.8888888888888888,
              "#fdca26"
             ],
             [
              1,
              "#f0f921"
             ]
            ],
            "type": "heatmap"
           }
          ],
          "histogram": [
           {
            "marker": {
             "pattern": {
              "fillmode": "overlay",
              "size": 10,
              "solidity": 0.2
             }
            },
            "type": "histogram"
           }
          ],
          "histogram2d": [
           {
            "colorbar": {
             "outlinewidth": 0,
             "ticks": ""
            },
            "colorscale": [
             [
              0,
              "#0d0887"
             ],
             [
              0.1111111111111111,
              "#46039f"
             ],
             [
              0.2222222222222222,
              "#7201a8"
             ],
             [
              0.3333333333333333,
              "#9c179e"
             ],
             [
              0.4444444444444444,
              "#bd3786"
             ],
             [
              0.5555555555555556,
              "#d8576b"
             ],
             [
              0.6666666666666666,
              "#ed7953"
             ],
             [
              0.7777777777777778,
              "#fb9f3a"
             ],
             [
              0.8888888888888888,
              "#fdca26"
             ],
             [
              1,
              "#f0f921"
             ]
            ],
            "type": "histogram2d"
           }
          ],
          "histogram2dcontour": [
           {
            "colorbar": {
             "outlinewidth": 0,
             "ticks": ""
            },
            "colorscale": [
             [
              0,
              "#0d0887"
             ],
             [
              0.1111111111111111,
              "#46039f"
             ],
             [
              0.2222222222222222,
              "#7201a8"
             ],
             [
              0.3333333333333333,
              "#9c179e"
             ],
             [
              0.4444444444444444,
              "#bd3786"
             ],
             [
              0.5555555555555556,
              "#d8576b"
             ],
             [
              0.6666666666666666,
              "#ed7953"
             ],
             [
              0.7777777777777778,
              "#fb9f3a"
             ],
             [
              0.8888888888888888,
              "#fdca26"
             ],
             [
              1,
              "#f0f921"
             ]
            ],
            "type": "histogram2dcontour"
           }
          ],
          "mesh3d": [
           {
            "colorbar": {
             "outlinewidth": 0,
             "ticks": ""
            },
            "type": "mesh3d"
           }
          ],
          "parcoords": [
           {
            "line": {
             "colorbar": {
              "outlinewidth": 0,
              "ticks": ""
             }
            },
            "type": "parcoords"
           }
          ],
          "pie": [
           {
            "automargin": true,
            "type": "pie"
           }
          ],
          "scatter": [
           {
            "fillpattern": {
             "fillmode": "overlay",
             "size": 10,
             "solidity": 0.2
            },
            "type": "scatter"
           }
          ],
          "scatter3d": [
           {
            "line": {
             "colorbar": {
              "outlinewidth": 0,
              "ticks": ""
             }
            },
            "marker": {
             "colorbar": {
              "outlinewidth": 0,
              "ticks": ""
             }
            },
            "type": "scatter3d"
           }
          ],
          "scattercarpet": [
           {
            "marker": {
             "colorbar": {
              "outlinewidth": 0,
              "ticks": ""
             }
            },
            "type": "scattercarpet"
           }
          ],
          "scattergeo": [
           {
            "marker": {
             "colorbar": {
              "outlinewidth": 0,
              "ticks": ""
             }
            },
            "type": "scattergeo"
           }
          ],
          "scattergl": [
           {
            "marker": {
             "colorbar": {
              "outlinewidth": 0,
              "ticks": ""
             }
            },
            "type": "scattergl"
           }
          ],
          "scattermap": [
           {
            "marker": {
             "colorbar": {
              "outlinewidth": 0,
              "ticks": ""
             }
            },
            "type": "scattermap"
           }
          ],
          "scattermapbox": [
           {
            "marker": {
             "colorbar": {
              "outlinewidth": 0,
              "ticks": ""
             }
            },
            "type": "scattermapbox"
           }
          ],
          "scatterpolar": [
           {
            "marker": {
             "colorbar": {
              "outlinewidth": 0,
              "ticks": ""
             }
            },
            "type": "scatterpolar"
           }
          ],
          "scatterpolargl": [
           {
            "marker": {
             "colorbar": {
              "outlinewidth": 0,
              "ticks": ""
             }
            },
            "type": "scatterpolargl"
           }
          ],
          "scatterternary": [
           {
            "marker": {
             "colorbar": {
              "outlinewidth": 0,
              "ticks": ""
             }
            },
            "type": "scatterternary"
           }
          ],
          "surface": [
           {
            "colorbar": {
             "outlinewidth": 0,
             "ticks": ""
            },
            "colorscale": [
             [
              0,
              "#0d0887"
             ],
             [
              0.1111111111111111,
              "#46039f"
             ],
             [
              0.2222222222222222,
              "#7201a8"
             ],
             [
              0.3333333333333333,
              "#9c179e"
             ],
             [
              0.4444444444444444,
              "#bd3786"
             ],
             [
              0.5555555555555556,
              "#d8576b"
             ],
             [
              0.6666666666666666,
              "#ed7953"
             ],
             [
              0.7777777777777778,
              "#fb9f3a"
             ],
             [
              0.8888888888888888,
              "#fdca26"
             ],
             [
              1,
              "#f0f921"
             ]
            ],
            "type": "surface"
           }
          ],
          "table": [
           {
            "cells": {
             "fill": {
              "color": "#EBF0F8"
             },
             "line": {
              "color": "white"
             }
            },
            "header": {
             "fill": {
              "color": "#C8D4E3"
             },
             "line": {
              "color": "white"
             }
            },
            "type": "table"
           }
          ]
         },
         "layout": {
          "annotationdefaults": {
           "arrowcolor": "#2a3f5f",
           "arrowhead": 0,
           "arrowwidth": 1
          },
          "autotypenumbers": "strict",
          "coloraxis": {
           "colorbar": {
            "outlinewidth": 0,
            "ticks": ""
           }
          },
          "colorscale": {
           "diverging": [
            [
             0,
             "#8e0152"
            ],
            [
             0.1,
             "#c51b7d"
            ],
            [
             0.2,
             "#de77ae"
            ],
            [
             0.3,
             "#f1b6da"
            ],
            [
             0.4,
             "#fde0ef"
            ],
            [
             0.5,
             "#f7f7f7"
            ],
            [
             0.6,
             "#e6f5d0"
            ],
            [
             0.7,
             "#b8e186"
            ],
            [
             0.8,
             "#7fbc41"
            ],
            [
             0.9,
             "#4d9221"
            ],
            [
             1,
             "#276419"
            ]
           ],
           "sequential": [
            [
             0,
             "#0d0887"
            ],
            [
             0.1111111111111111,
             "#46039f"
            ],
            [
             0.2222222222222222,
             "#7201a8"
            ],
            [
             0.3333333333333333,
             "#9c179e"
            ],
            [
             0.4444444444444444,
             "#bd3786"
            ],
            [
             0.5555555555555556,
             "#d8576b"
            ],
            [
             0.6666666666666666,
             "#ed7953"
            ],
            [
             0.7777777777777778,
             "#fb9f3a"
            ],
            [
             0.8888888888888888,
             "#fdca26"
            ],
            [
             1,
             "#f0f921"
            ]
           ],
           "sequentialminus": [
            [
             0,
             "#0d0887"
            ],
            [
             0.1111111111111111,
             "#46039f"
            ],
            [
             0.2222222222222222,
             "#7201a8"
            ],
            [
             0.3333333333333333,
             "#9c179e"
            ],
            [
             0.4444444444444444,
             "#bd3786"
            ],
            [
             0.5555555555555556,
             "#d8576b"
            ],
            [
             0.6666666666666666,
             "#ed7953"
            ],
            [
             0.7777777777777778,
             "#fb9f3a"
            ],
            [
             0.8888888888888888,
             "#fdca26"
            ],
            [
             1,
             "#f0f921"
            ]
           ]
          },
          "colorway": [
           "#636efa",
           "#EF553B",
           "#00cc96",
           "#ab63fa",
           "#FFA15A",
           "#19d3f3",
           "#FF6692",
           "#B6E880",
           "#FF97FF",
           "#FECB52"
          ],
          "font": {
           "color": "#2a3f5f"
          },
          "geo": {
           "bgcolor": "white",
           "lakecolor": "white",
           "landcolor": "#E5ECF6",
           "showlakes": true,
           "showland": true,
           "subunitcolor": "white"
          },
          "hoverlabel": {
           "align": "left"
          },
          "hovermode": "closest",
          "mapbox": {
           "style": "light"
          },
          "paper_bgcolor": "white",
          "plot_bgcolor": "#E5ECF6",
          "polar": {
           "angularaxis": {
            "gridcolor": "white",
            "linecolor": "white",
            "ticks": ""
           },
           "bgcolor": "#E5ECF6",
           "radialaxis": {
            "gridcolor": "white",
            "linecolor": "white",
            "ticks": ""
           }
          },
          "scene": {
           "xaxis": {
            "backgroundcolor": "#E5ECF6",
            "gridcolor": "white",
            "gridwidth": 2,
            "linecolor": "white",
            "showbackground": true,
            "ticks": "",
            "zerolinecolor": "white"
           },
           "yaxis": {
            "backgroundcolor": "#E5ECF6",
            "gridcolor": "white",
            "gridwidth": 2,
            "linecolor": "white",
            "showbackground": true,
            "ticks": "",
            "zerolinecolor": "white"
           },
           "zaxis": {
            "backgroundcolor": "#E5ECF6",
            "gridcolor": "white",
            "gridwidth": 2,
            "linecolor": "white",
            "showbackground": true,
            "ticks": "",
            "zerolinecolor": "white"
           }
          },
          "shapedefaults": {
           "line": {
            "color": "#2a3f5f"
           }
          },
          "ternary": {
           "aaxis": {
            "gridcolor": "white",
            "linecolor": "white",
            "ticks": ""
           },
           "baxis": {
            "gridcolor": "white",
            "linecolor": "white",
            "ticks": ""
           },
           "bgcolor": "#E5ECF6",
           "caxis": {
            "gridcolor": "white",
            "linecolor": "white",
            "ticks": ""
           }
          },
          "title": {
           "x": 0.05
          },
          "xaxis": {
           "automargin": true,
           "gridcolor": "white",
           "linecolor": "white",
           "ticks": "",
           "title": {
            "standoff": 15
           },
           "zerolinecolor": "white",
           "zerolinewidth": 2
          },
          "yaxis": {
           "automargin": true,
           "gridcolor": "white",
           "linecolor": "white",
           "ticks": "",
           "title": {
            "standoff": 15
           },
           "zerolinecolor": "white",
           "zerolinewidth": 2
          }
         }
        },
        "title": {
         "text": "Pérdida con función MSE"
        },
        "xaxis": {
         "title": {
          "text": "Épocas"
         }
        },
        "yaxis": {
         "title": {
          "text": "MSE"
         }
        }
       }
      }
     },
     "metadata": {},
     "output_type": "display_data"
    }
   ],
   "source": [
    "fig_mse = go.Figure()\n",
    "fig_mse.add_trace(go.Scatter(y=history_mse.history['loss'], name='Entrenamiento (MSE)'))\n",
    "fig_mse.add_trace(go.Scatter(y=history_mse.history['val_loss'], name='Validación (MSE)'))\n",
    "fig_mse.update_layout(title='Pérdida con función MSE', xaxis_title='Épocas', yaxis_title='MSE')\n",
    "fig_mse.show()"
   ]
  },
  {
   "cell_type": "markdown",
   "id": "283c1c59",
   "metadata": {},
   "source": [
    "* En el gráfico, tanto la perdida en entrenamiento como en validacion bajan rapidamente y se acercan bastante desde las primeras epocas. Esto indica que el modelo esta aprendiendo de manera eficiente y generaliza bien, es decir, no solo memoriza los datos de entrenamiento, sino que tambien funciona bien con datos nuevos. La convergencia rapida y cercana de ambas curvas sugiere que el modelo esta bien ajustado, sin problemas evidentes de sobreajuste o subajuste."
   ]
  },
  {
   "cell_type": "markdown",
   "id": "e427ee56",
   "metadata": {},
   "source": [
    "Repetimos el mismo proceso de creacion, entrenamiento y evaluacion del modelo, pero esta vez usando la funcion de perdida MAE para observar como se comporta la curva de error absoluto medio durante el entrenamiento y la validacion"
   ]
  },
  {
   "cell_type": "code",
   "execution_count": 6,
   "id": "29452ddb",
   "metadata": {},
   "outputs": [],
   "source": [
    "model_mae = Sequential([\n",
    "    Input(shape=(X_train.shape[1],)),\n",
    "    Dense(64, activation='relu'),\n",
    "    Dense(32, activation='relu'),\n",
    "    Dense(1)\n",
    "])\n",
    "\n",
    "model_mae.compile(optimizer=Adam(), loss='mae', metrics=['mse'])\n"
   ]
  },
  {
   "cell_type": "code",
   "execution_count": 7,
   "id": "6eccac19",
   "metadata": {},
   "outputs": [
    {
     "name": "stdout",
     "output_type": "stream",
     "text": [
      "Epoch 1/30\n",
      "\u001b[1m2211/2211\u001b[0m \u001b[32m━━━━━━━━━━━━━━━━━━━━\u001b[0m\u001b[37m\u001b[0m \u001b[1m9s\u001b[0m 4ms/step - loss: 27804.4297 - mse: 6003122688.0000 - val_loss: 12022.2256 - val_mse: 3824688896.0000\n",
      "Epoch 2/30\n",
      "\u001b[1m2211/2211\u001b[0m \u001b[32m━━━━━━━━━━━━━━━━━━━━\u001b[0m\u001b[37m\u001b[0m \u001b[1m8s\u001b[0m 4ms/step - loss: 10771.5479 - mse: 2766640128.0000 - val_loss: 7725.9917 - val_mse: 2415149056.0000\n",
      "Epoch 3/30\n",
      "\u001b[1m2211/2211\u001b[0m \u001b[32m━━━━━━━━━━━━━━━━━━━━\u001b[0m\u001b[37m\u001b[0m \u001b[1m7s\u001b[0m 3ms/step - loss: 7553.9575 - mse: 1604435840.0000 - val_loss: 6073.0312 - val_mse: 1747995264.0000\n",
      "Epoch 4/30\n",
      "\u001b[1m2211/2211\u001b[0m \u001b[32m━━━━━━━━━━━━━━━━━━━━\u001b[0m\u001b[37m\u001b[0m \u001b[1m7s\u001b[0m 3ms/step - loss: 5532.9517 - mse: 624726784.0000 - val_loss: 4428.3511 - val_mse: 1199275136.0000\n",
      "Epoch 5/30\n",
      "\u001b[1m2211/2211\u001b[0m \u001b[32m━━━━━━━━━━━━━━━━━━━━\u001b[0m\u001b[37m\u001b[0m \u001b[1m8s\u001b[0m 3ms/step - loss: 4029.2607 - mse: 385783168.0000 - val_loss: 3712.2129 - val_mse: 978550464.0000\n",
      "Epoch 6/30\n",
      "\u001b[1m2211/2211\u001b[0m \u001b[32m━━━━━━━━━━━━━━━━━━━━\u001b[0m\u001b[37m\u001b[0m \u001b[1m6s\u001b[0m 3ms/step - loss: 3479.5559 - mse: 354738944.0000 - val_loss: 3533.1938 - val_mse: 919412160.0000\n",
      "Epoch 7/30\n",
      "\u001b[1m2211/2211\u001b[0m \u001b[32m━━━━━━━━━━━━━━━━━━━━\u001b[0m\u001b[37m\u001b[0m \u001b[1m6s\u001b[0m 3ms/step - loss: 3278.8223 - mse: 188293536.0000 - val_loss: 3446.9399 - val_mse: 901805696.0000\n",
      "Epoch 8/30\n",
      "\u001b[1m2211/2211\u001b[0m \u001b[32m━━━━━━━━━━━━━━━━━━━━\u001b[0m\u001b[37m\u001b[0m \u001b[1m6s\u001b[0m 3ms/step - loss: 3456.0195 - mse: 495619008.0000 - val_loss: 3404.5679 - val_mse: 908015808.0000\n",
      "Epoch 9/30\n",
      "\u001b[1m2211/2211\u001b[0m \u001b[32m━━━━━━━━━━━━━━━━━━━━\u001b[0m\u001b[37m\u001b[0m \u001b[1m8s\u001b[0m 4ms/step - loss: 3260.7634 - mse: 272189024.0000 - val_loss: 3340.2061 - val_mse: 897874880.0000\n",
      "Epoch 10/30\n",
      "\u001b[1m2211/2211\u001b[0m \u001b[32m━━━━━━━━━━━━━━━━━━━━\u001b[0m\u001b[37m\u001b[0m \u001b[1m5s\u001b[0m 2ms/step - loss: 3296.0750 - mse: 349630240.0000 - val_loss: 3303.3401 - val_mse: 888307328.0000\n",
      "Epoch 11/30\n",
      "\u001b[1m2211/2211\u001b[0m \u001b[32m━━━━━━━━━━━━━━━━━━━━\u001b[0m\u001b[37m\u001b[0m \u001b[1m7s\u001b[0m 3ms/step - loss: 3263.2102 - mse: 327848608.0000 - val_loss: 3279.0461 - val_mse: 879510400.0000\n",
      "Epoch 12/30\n",
      "\u001b[1m2211/2211\u001b[0m \u001b[32m━━━━━━━━━━━━━━━━━━━━\u001b[0m\u001b[37m\u001b[0m \u001b[1m5s\u001b[0m 2ms/step - loss: 3027.5737 - mse: 174043072.0000 - val_loss: 3258.1460 - val_mse: 881718208.0000\n",
      "Epoch 13/30\n",
      "\u001b[1m2211/2211\u001b[0m \u001b[32m━━━━━━━━━━━━━━━━━━━━\u001b[0m\u001b[37m\u001b[0m \u001b[1m7s\u001b[0m 3ms/step - loss: 3120.6960 - mse: 294650400.0000 - val_loss: 3242.8586 - val_mse: 886646208.0000\n",
      "Epoch 14/30\n",
      "\u001b[1m2211/2211\u001b[0m \u001b[32m━━━━━━━━━━━━━━━━━━━━\u001b[0m\u001b[37m\u001b[0m \u001b[1m16s\u001b[0m 7ms/step - loss: 3051.2881 - mse: 260873968.0000 - val_loss: 3229.1023 - val_mse: 878951936.0000\n",
      "Epoch 15/30\n",
      "\u001b[1m2211/2211\u001b[0m \u001b[32m━━━━━━━━━━━━━━━━━━━━\u001b[0m\u001b[37m\u001b[0m \u001b[1m23s\u001b[0m 10ms/step - loss: 3002.5815 - mse: 173443264.0000 - val_loss: 3237.0454 - val_mse: 893842624.0000\n",
      "Epoch 16/30\n",
      "\u001b[1m2211/2211\u001b[0m \u001b[32m━━━━━━━━━━━━━━━━━━━━\u001b[0m\u001b[37m\u001b[0m \u001b[1m11s\u001b[0m 5ms/step - loss: 3002.7261 - mse: 172508368.0000 - val_loss: 3230.6272 - val_mse: 893966336.0000\n",
      "Epoch 17/30\n",
      "\u001b[1m2211/2211\u001b[0m \u001b[32m━━━━━━━━━━━━━━━━━━━━\u001b[0m\u001b[37m\u001b[0m \u001b[1m8s\u001b[0m 4ms/step - loss: 2983.9351 - mse: 196074704.0000 - val_loss: 3210.5552 - val_mse: 883401216.0000\n",
      "Epoch 18/30\n",
      "\u001b[1m2211/2211\u001b[0m \u001b[32m━━━━━━━━━━━━━━━━━━━━\u001b[0m\u001b[37m\u001b[0m \u001b[1m8s\u001b[0m 3ms/step - loss: 3083.0791 - mse: 200747728.0000 - val_loss: 3217.0630 - val_mse: 887001536.0000\n",
      "Epoch 19/30\n",
      "\u001b[1m2211/2211\u001b[0m \u001b[32m━━━━━━━━━━━━━━━━━━━━\u001b[0m\u001b[37m\u001b[0m \u001b[1m9s\u001b[0m 4ms/step - loss: 3179.7031 - mse: 347346048.0000 - val_loss: 3199.1021 - val_mse: 881164544.0000\n",
      "Epoch 20/30\n",
      "\u001b[1m2211/2211\u001b[0m \u001b[32m━━━━━━━━━━━━━━━━━━━━\u001b[0m\u001b[37m\u001b[0m \u001b[1m15s\u001b[0m 7ms/step - loss: 2978.3337 - mse: 235106816.0000 - val_loss: 3197.4451 - val_mse: 889055168.0000\n",
      "Epoch 21/30\n",
      "\u001b[1m2211/2211\u001b[0m \u001b[32m━━━━━━━━━━━━━━━━━━━━\u001b[0m\u001b[37m\u001b[0m \u001b[1m7s\u001b[0m 3ms/step - loss: 3163.7197 - mse: 282082784.0000 - val_loss: 3196.6614 - val_mse: 891966336.0000\n",
      "Epoch 22/30\n",
      "\u001b[1m2211/2211\u001b[0m \u001b[32m━━━━━━━━━━━━━━━━━━━━\u001b[0m\u001b[37m\u001b[0m \u001b[1m13s\u001b[0m 6ms/step - loss: 3122.0918 - mse: 274169120.0000 - val_loss: 3194.2710 - val_mse: 887308480.0000\n",
      "Epoch 23/30\n",
      "\u001b[1m2211/2211\u001b[0m \u001b[32m━━━━━━━━━━━━━━━━━━━━\u001b[0m\u001b[37m\u001b[0m \u001b[1m11s\u001b[0m 5ms/step - loss: 3108.6597 - mse: 290153216.0000 - val_loss: 3193.7412 - val_mse: 893592640.0000\n",
      "Epoch 24/30\n",
      "\u001b[1m2211/2211\u001b[0m \u001b[32m━━━━━━━━━━━━━━━━━━━━\u001b[0m\u001b[37m\u001b[0m \u001b[1m6s\u001b[0m 3ms/step - loss: 3067.7773 - mse: 193644032.0000 - val_loss: 3181.6404 - val_mse: 877089088.0000\n",
      "Epoch 25/30\n",
      "\u001b[1m2211/2211\u001b[0m \u001b[32m━━━━━━━━━━━━━━━━━━━━\u001b[0m\u001b[37m\u001b[0m \u001b[1m10s\u001b[0m 4ms/step - loss: 2908.8687 - mse: 169863328.0000 - val_loss: 3185.8782 - val_mse: 889575040.0000\n",
      "Epoch 26/30\n",
      "\u001b[1m2211/2211\u001b[0m \u001b[32m━━━━━━━━━━━━━━━━━━━━\u001b[0m\u001b[37m\u001b[0m \u001b[1m14s\u001b[0m 6ms/step - loss: 3026.1255 - mse: 228616080.0000 - val_loss: 3175.1216 - val_mse: 882425024.0000\n",
      "Epoch 27/30\n",
      "\u001b[1m2211/2211\u001b[0m \u001b[32m━━━━━━━━━━━━━━━━━━━━\u001b[0m\u001b[37m\u001b[0m \u001b[1m11s\u001b[0m 5ms/step - loss: 2986.8877 - mse: 174783408.0000 - val_loss: 3186.1265 - val_mse: 891470080.0000\n",
      "Epoch 28/30\n",
      "\u001b[1m2211/2211\u001b[0m \u001b[32m━━━━━━━━━━━━━━━━━━━━\u001b[0m\u001b[37m\u001b[0m \u001b[1m6s\u001b[0m 3ms/step - loss: 3011.4573 - mse: 221877808.0000 - val_loss: 3177.8733 - val_mse: 889038400.0000\n",
      "Epoch 29/30\n",
      "\u001b[1m2211/2211\u001b[0m \u001b[32m━━━━━━━━━━━━━━━━━━━━\u001b[0m\u001b[37m\u001b[0m \u001b[1m6s\u001b[0m 3ms/step - loss: 3004.2852 - mse: 211076816.0000 - val_loss: 3171.9915 - val_mse: 881719296.0000\n",
      "Epoch 30/30\n",
      "\u001b[1m2211/2211\u001b[0m \u001b[32m━━━━━━━━━━━━━━━━━━━━\u001b[0m\u001b[37m\u001b[0m \u001b[1m5s\u001b[0m 2ms/step - loss: 3030.9861 - mse: 303715040.0000 - val_loss: 3172.6672 - val_mse: 884099840.0000\n"
     ]
    }
   ],
   "source": [
    "history_mae = model_mae.fit(\n",
    "    X_train, y_train,\n",
    "    validation_data=(X_test, y_test),\n",
    "    epochs=30,\n",
    "    batch_size=32,\n",
    "    verbose=1\n",
    ")\n"
   ]
  },
  {
   "cell_type": "code",
   "execution_count": 8,
   "id": "e18b29c0",
   "metadata": {},
   "outputs": [
    {
     "data": {
      "application/vnd.plotly.v1+json": {
       "config": {
        "plotlyServerURL": "https://plot.ly"
       },
       "data": [
        {
         "name": "Entrenamiento (MAE)",
         "type": "scatter",
         "y": [
          21859.7265625,
          9638.0126953125,
          7066.748046875,
          5195.939453125,
          3865.464111328125,
          3459.421142578125,
          3343.57080078125,
          3274.948974609375,
          3224.2275390625,
          3181.639404296875,
          3155.105712890625,
          3134.94677734375,
          3118.14208984375,
          3103.918701171875,
          3094.5703125,
          3090.63037109375,
          3084.717041015625,
          3079.581787109375,
          3073.730224609375,
          3066.944091796875,
          3064.202392578125,
          3061.051025390625,
          3057.63427734375,
          3056.542236328125,
          3053.04931640625,
          3052.02734375,
          3049.912841796875,
          3049.15087890625,
          3046.01025390625,
          3045.219970703125
         ]
        },
        {
         "name": "Validación (MAE)",
         "type": "scatter",
         "y": [
          12022.2255859375,
          7725.99169921875,
          6073.03125,
          4428.35107421875,
          3712.212890625,
          3533.19384765625,
          3446.93994140625,
          3404.56787109375,
          3340.2060546875,
          3303.340087890625,
          3279.046142578125,
          3258.14599609375,
          3242.858642578125,
          3229.102294921875,
          3237.04541015625,
          3230.627197265625,
          3210.55517578125,
          3217.06298828125,
          3199.10205078125,
          3197.445068359375,
          3196.661376953125,
          3194.27099609375,
          3193.7412109375,
          3181.640380859375,
          3185.878173828125,
          3175.12158203125,
          3186.12646484375,
          3177.873291015625,
          3171.991455078125,
          3172.667236328125
         ]
        }
       ],
       "layout": {
        "template": {
         "data": {
          "bar": [
           {
            "error_x": {
             "color": "#2a3f5f"
            },
            "error_y": {
             "color": "#2a3f5f"
            },
            "marker": {
             "line": {
              "color": "#E5ECF6",
              "width": 0.5
             },
             "pattern": {
              "fillmode": "overlay",
              "size": 10,
              "solidity": 0.2
             }
            },
            "type": "bar"
           }
          ],
          "barpolar": [
           {
            "marker": {
             "line": {
              "color": "#E5ECF6",
              "width": 0.5
             },
             "pattern": {
              "fillmode": "overlay",
              "size": 10,
              "solidity": 0.2
             }
            },
            "type": "barpolar"
           }
          ],
          "carpet": [
           {
            "aaxis": {
             "endlinecolor": "#2a3f5f",
             "gridcolor": "white",
             "linecolor": "white",
             "minorgridcolor": "white",
             "startlinecolor": "#2a3f5f"
            },
            "baxis": {
             "endlinecolor": "#2a3f5f",
             "gridcolor": "white",
             "linecolor": "white",
             "minorgridcolor": "white",
             "startlinecolor": "#2a3f5f"
            },
            "type": "carpet"
           }
          ],
          "choropleth": [
           {
            "colorbar": {
             "outlinewidth": 0,
             "ticks": ""
            },
            "type": "choropleth"
           }
          ],
          "contour": [
           {
            "colorbar": {
             "outlinewidth": 0,
             "ticks": ""
            },
            "colorscale": [
             [
              0,
              "#0d0887"
             ],
             [
              0.1111111111111111,
              "#46039f"
             ],
             [
              0.2222222222222222,
              "#7201a8"
             ],
             [
              0.3333333333333333,
              "#9c179e"
             ],
             [
              0.4444444444444444,
              "#bd3786"
             ],
             [
              0.5555555555555556,
              "#d8576b"
             ],
             [
              0.6666666666666666,
              "#ed7953"
             ],
             [
              0.7777777777777778,
              "#fb9f3a"
             ],
             [
              0.8888888888888888,
              "#fdca26"
             ],
             [
              1,
              "#f0f921"
             ]
            ],
            "type": "contour"
           }
          ],
          "contourcarpet": [
           {
            "colorbar": {
             "outlinewidth": 0,
             "ticks": ""
            },
            "type": "contourcarpet"
           }
          ],
          "heatmap": [
           {
            "colorbar": {
             "outlinewidth": 0,
             "ticks": ""
            },
            "colorscale": [
             [
              0,
              "#0d0887"
             ],
             [
              0.1111111111111111,
              "#46039f"
             ],
             [
              0.2222222222222222,
              "#7201a8"
             ],
             [
              0.3333333333333333,
              "#9c179e"
             ],
             [
              0.4444444444444444,
              "#bd3786"
             ],
             [
              0.5555555555555556,
              "#d8576b"
             ],
             [
              0.6666666666666666,
              "#ed7953"
             ],
             [
              0.7777777777777778,
              "#fb9f3a"
             ],
             [
              0.8888888888888888,
              "#fdca26"
             ],
             [
              1,
              "#f0f921"
             ]
            ],
            "type": "heatmap"
           }
          ],
          "histogram": [
           {
            "marker": {
             "pattern": {
              "fillmode": "overlay",
              "size": 10,
              "solidity": 0.2
             }
            },
            "type": "histogram"
           }
          ],
          "histogram2d": [
           {
            "colorbar": {
             "outlinewidth": 0,
             "ticks": ""
            },
            "colorscale": [
             [
              0,
              "#0d0887"
             ],
             [
              0.1111111111111111,
              "#46039f"
             ],
             [
              0.2222222222222222,
              "#7201a8"
             ],
             [
              0.3333333333333333,
              "#9c179e"
             ],
             [
              0.4444444444444444,
              "#bd3786"
             ],
             [
              0.5555555555555556,
              "#d8576b"
             ],
             [
              0.6666666666666666,
              "#ed7953"
             ],
             [
              0.7777777777777778,
              "#fb9f3a"
             ],
             [
              0.8888888888888888,
              "#fdca26"
             ],
             [
              1,
              "#f0f921"
             ]
            ],
            "type": "histogram2d"
           }
          ],
          "histogram2dcontour": [
           {
            "colorbar": {
             "outlinewidth": 0,
             "ticks": ""
            },
            "colorscale": [
             [
              0,
              "#0d0887"
             ],
             [
              0.1111111111111111,
              "#46039f"
             ],
             [
              0.2222222222222222,
              "#7201a8"
             ],
             [
              0.3333333333333333,
              "#9c179e"
             ],
             [
              0.4444444444444444,
              "#bd3786"
             ],
             [
              0.5555555555555556,
              "#d8576b"
             ],
             [
              0.6666666666666666,
              "#ed7953"
             ],
             [
              0.7777777777777778,
              "#fb9f3a"
             ],
             [
              0.8888888888888888,
              "#fdca26"
             ],
             [
              1,
              "#f0f921"
             ]
            ],
            "type": "histogram2dcontour"
           }
          ],
          "mesh3d": [
           {
            "colorbar": {
             "outlinewidth": 0,
             "ticks": ""
            },
            "type": "mesh3d"
           }
          ],
          "parcoords": [
           {
            "line": {
             "colorbar": {
              "outlinewidth": 0,
              "ticks": ""
             }
            },
            "type": "parcoords"
           }
          ],
          "pie": [
           {
            "automargin": true,
            "type": "pie"
           }
          ],
          "scatter": [
           {
            "fillpattern": {
             "fillmode": "overlay",
             "size": 10,
             "solidity": 0.2
            },
            "type": "scatter"
           }
          ],
          "scatter3d": [
           {
            "line": {
             "colorbar": {
              "outlinewidth": 0,
              "ticks": ""
             }
            },
            "marker": {
             "colorbar": {
              "outlinewidth": 0,
              "ticks": ""
             }
            },
            "type": "scatter3d"
           }
          ],
          "scattercarpet": [
           {
            "marker": {
             "colorbar": {
              "outlinewidth": 0,
              "ticks": ""
             }
            },
            "type": "scattercarpet"
           }
          ],
          "scattergeo": [
           {
            "marker": {
             "colorbar": {
              "outlinewidth": 0,
              "ticks": ""
             }
            },
            "type": "scattergeo"
           }
          ],
          "scattergl": [
           {
            "marker": {
             "colorbar": {
              "outlinewidth": 0,
              "ticks": ""
             }
            },
            "type": "scattergl"
           }
          ],
          "scattermap": [
           {
            "marker": {
             "colorbar": {
              "outlinewidth": 0,
              "ticks": ""
             }
            },
            "type": "scattermap"
           }
          ],
          "scattermapbox": [
           {
            "marker": {
             "colorbar": {
              "outlinewidth": 0,
              "ticks": ""
             }
            },
            "type": "scattermapbox"
           }
          ],
          "scatterpolar": [
           {
            "marker": {
             "colorbar": {
              "outlinewidth": 0,
              "ticks": ""
             }
            },
            "type": "scatterpolar"
           }
          ],
          "scatterpolargl": [
           {
            "marker": {
             "colorbar": {
              "outlinewidth": 0,
              "ticks": ""
             }
            },
            "type": "scatterpolargl"
           }
          ],
          "scatterternary": [
           {
            "marker": {
             "colorbar": {
              "outlinewidth": 0,
              "ticks": ""
             }
            },
            "type": "scatterternary"
           }
          ],
          "surface": [
           {
            "colorbar": {
             "outlinewidth": 0,
             "ticks": ""
            },
            "colorscale": [
             [
              0,
              "#0d0887"
             ],
             [
              0.1111111111111111,
              "#46039f"
             ],
             [
              0.2222222222222222,
              "#7201a8"
             ],
             [
              0.3333333333333333,
              "#9c179e"
             ],
             [
              0.4444444444444444,
              "#bd3786"
             ],
             [
              0.5555555555555556,
              "#d8576b"
             ],
             [
              0.6666666666666666,
              "#ed7953"
             ],
             [
              0.7777777777777778,
              "#fb9f3a"
             ],
             [
              0.8888888888888888,
              "#fdca26"
             ],
             [
              1,
              "#f0f921"
             ]
            ],
            "type": "surface"
           }
          ],
          "table": [
           {
            "cells": {
             "fill": {
              "color": "#EBF0F8"
             },
             "line": {
              "color": "white"
             }
            },
            "header": {
             "fill": {
              "color": "#C8D4E3"
             },
             "line": {
              "color": "white"
             }
            },
            "type": "table"
           }
          ]
         },
         "layout": {
          "annotationdefaults": {
           "arrowcolor": "#2a3f5f",
           "arrowhead": 0,
           "arrowwidth": 1
          },
          "autotypenumbers": "strict",
          "coloraxis": {
           "colorbar": {
            "outlinewidth": 0,
            "ticks": ""
           }
          },
          "colorscale": {
           "diverging": [
            [
             0,
             "#8e0152"
            ],
            [
             0.1,
             "#c51b7d"
            ],
            [
             0.2,
             "#de77ae"
            ],
            [
             0.3,
             "#f1b6da"
            ],
            [
             0.4,
             "#fde0ef"
            ],
            [
             0.5,
             "#f7f7f7"
            ],
            [
             0.6,
             "#e6f5d0"
            ],
            [
             0.7,
             "#b8e186"
            ],
            [
             0.8,
             "#7fbc41"
            ],
            [
             0.9,
             "#4d9221"
            ],
            [
             1,
             "#276419"
            ]
           ],
           "sequential": [
            [
             0,
             "#0d0887"
            ],
            [
             0.1111111111111111,
             "#46039f"
            ],
            [
             0.2222222222222222,
             "#7201a8"
            ],
            [
             0.3333333333333333,
             "#9c179e"
            ],
            [
             0.4444444444444444,
             "#bd3786"
            ],
            [
             0.5555555555555556,
             "#d8576b"
            ],
            [
             0.6666666666666666,
             "#ed7953"
            ],
            [
             0.7777777777777778,
             "#fb9f3a"
            ],
            [
             0.8888888888888888,
             "#fdca26"
            ],
            [
             1,
             "#f0f921"
            ]
           ],
           "sequentialminus": [
            [
             0,
             "#0d0887"
            ],
            [
             0.1111111111111111,
             "#46039f"
            ],
            [
             0.2222222222222222,
             "#7201a8"
            ],
            [
             0.3333333333333333,
             "#9c179e"
            ],
            [
             0.4444444444444444,
             "#bd3786"
            ],
            [
             0.5555555555555556,
             "#d8576b"
            ],
            [
             0.6666666666666666,
             "#ed7953"
            ],
            [
             0.7777777777777778,
             "#fb9f3a"
            ],
            [
             0.8888888888888888,
             "#fdca26"
            ],
            [
             1,
             "#f0f921"
            ]
           ]
          },
          "colorway": [
           "#636efa",
           "#EF553B",
           "#00cc96",
           "#ab63fa",
           "#FFA15A",
           "#19d3f3",
           "#FF6692",
           "#B6E880",
           "#FF97FF",
           "#FECB52"
          ],
          "font": {
           "color": "#2a3f5f"
          },
          "geo": {
           "bgcolor": "white",
           "lakecolor": "white",
           "landcolor": "#E5ECF6",
           "showlakes": true,
           "showland": true,
           "subunitcolor": "white"
          },
          "hoverlabel": {
           "align": "left"
          },
          "hovermode": "closest",
          "mapbox": {
           "style": "light"
          },
          "paper_bgcolor": "white",
          "plot_bgcolor": "#E5ECF6",
          "polar": {
           "angularaxis": {
            "gridcolor": "white",
            "linecolor": "white",
            "ticks": ""
           },
           "bgcolor": "#E5ECF6",
           "radialaxis": {
            "gridcolor": "white",
            "linecolor": "white",
            "ticks": ""
           }
          },
          "scene": {
           "xaxis": {
            "backgroundcolor": "#E5ECF6",
            "gridcolor": "white",
            "gridwidth": 2,
            "linecolor": "white",
            "showbackground": true,
            "ticks": "",
            "zerolinecolor": "white"
           },
           "yaxis": {
            "backgroundcolor": "#E5ECF6",
            "gridcolor": "white",
            "gridwidth": 2,
            "linecolor": "white",
            "showbackground": true,
            "ticks": "",
            "zerolinecolor": "white"
           },
           "zaxis": {
            "backgroundcolor": "#E5ECF6",
            "gridcolor": "white",
            "gridwidth": 2,
            "linecolor": "white",
            "showbackground": true,
            "ticks": "",
            "zerolinecolor": "white"
           }
          },
          "shapedefaults": {
           "line": {
            "color": "#2a3f5f"
           }
          },
          "ternary": {
           "aaxis": {
            "gridcolor": "white",
            "linecolor": "white",
            "ticks": ""
           },
           "baxis": {
            "gridcolor": "white",
            "linecolor": "white",
            "ticks": ""
           },
           "bgcolor": "#E5ECF6",
           "caxis": {
            "gridcolor": "white",
            "linecolor": "white",
            "ticks": ""
           }
          },
          "title": {
           "x": 0.05
          },
          "xaxis": {
           "automargin": true,
           "gridcolor": "white",
           "linecolor": "white",
           "ticks": "",
           "title": {
            "standoff": 15
           },
           "zerolinecolor": "white",
           "zerolinewidth": 2
          },
          "yaxis": {
           "automargin": true,
           "gridcolor": "white",
           "linecolor": "white",
           "ticks": "",
           "title": {
            "standoff": 15
           },
           "zerolinecolor": "white",
           "zerolinewidth": 2
          }
         }
        },
        "title": {
         "text": "Pérdida con función MAE"
        },
        "xaxis": {
         "title": {
          "text": "Épocas"
         }
        },
        "yaxis": {
         "title": {
          "text": "MAE"
         }
        }
       }
      }
     },
     "metadata": {},
     "output_type": "display_data"
    }
   ],
   "source": [
    "fig_mae = go.Figure()\n",
    "fig_mae.add_trace(go.Scatter(y=history_mae.history['loss'], name='Entrenamiento (MAE)'))\n",
    "fig_mae.add_trace(go.Scatter(y=history_mae.history['val_loss'], name='Validación (MAE)'))\n",
    "fig_mae.update_layout(title='Pérdida con función MAE', xaxis_title='Épocas', yaxis_title='MAE')\n",
    "fig_mae.show()\n"
   ]
  },
  {
   "cell_type": "markdown",
   "id": "5c924262",
   "metadata": {},
   "source": [
    "* En este grafico, ambas lineas —entrenamiento y validacion— se acercan y disminuyen juntas de manera constante, lo que indica que el modelo esta aprendiendo correctamente y no presenta sobreajuste (overfitting). Esto significa que el modelo generaliza bien y su rendimiento es estable tanto con los datos de entrenamiento como con datos nuevos.\n"
   ]
  },
  {
   "cell_type": "code",
   "execution_count": 14,
   "id": "a83bd3f3",
   "metadata": {},
   "outputs": [],
   "source": [
    "model_mae.save('modelos/modelo_red_neuronal_mae.keras')\n"
   ]
  },
  {
   "cell_type": "code",
   "execution_count": null,
   "id": "a2b827f2",
   "metadata": {},
   "outputs": [],
   "source": []
  }
 ],
 "metadata": {
  "kernelspec": {
   "display_name": ".venv",
   "language": "python",
   "name": "python3"
  },
  "language_info": {
   "codemirror_mode": {
    "name": "ipython",
    "version": 3
   },
   "file_extension": ".py",
   "mimetype": "text/x-python",
   "name": "python",
   "nbconvert_exporter": "python",
   "pygments_lexer": "ipython3",
   "version": "3.11.5"
  }
 },
 "nbformat": 4,
 "nbformat_minor": 5
}
