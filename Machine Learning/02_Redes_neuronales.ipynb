{
 "cells": [
  {
   "cell_type": "markdown",
   "id": "b73fc195",
   "metadata": {},
   "source": [
    "# Redes Neuronales"
   ]
  },
  {
   "cell_type": "code",
   "execution_count": 1,
   "id": "6fdc8b3b",
   "metadata": {},
   "outputs": [
    {
     "name": "stderr",
     "output_type": "stream",
     "text": [
      "2025-06-26 19:37:10.325032: I external/local_xla/xla/tsl/cuda/cudart_stub.cc:32] Could not find cuda drivers on your machine, GPU will not be used.\n",
      "2025-06-26 19:37:10.529075: I external/local_xla/xla/tsl/cuda/cudart_stub.cc:32] Could not find cuda drivers on your machine, GPU will not be used.\n",
      "2025-06-26 19:37:10.703365: E external/local_xla/xla/stream_executor/cuda/cuda_fft.cc:467] Unable to register cuFFT factory: Attempting to register factory for plugin cuFFT when one has already been registered\n",
      "WARNING: All log messages before absl::InitializeLog() is called are written to STDERR\n",
      "E0000 00:00:1750959430.923213   13921 cuda_dnn.cc:8579] Unable to register cuDNN factory: Attempting to register factory for plugin cuDNN when one has already been registered\n",
      "E0000 00:00:1750959430.981162   13921 cuda_blas.cc:1407] Unable to register cuBLAS factory: Attempting to register factory for plugin cuBLAS when one has already been registered\n",
      "W0000 00:00:1750959431.359585   13921 computation_placer.cc:177] computation placer already registered. Please check linkage and avoid linking the same target more than once.\n",
      "W0000 00:00:1750959431.359634   13921 computation_placer.cc:177] computation placer already registered. Please check linkage and avoid linking the same target more than once.\n",
      "W0000 00:00:1750959431.359639   13921 computation_placer.cc:177] computation placer already registered. Please check linkage and avoid linking the same target more than once.\n",
      "W0000 00:00:1750959431.359642   13921 computation_placer.cc:177] computation placer already registered. Please check linkage and avoid linking the same target more than once.\n",
      "2025-06-26 19:37:11.394736: I tensorflow/core/platform/cpu_feature_guard.cc:210] This TensorFlow binary is optimized to use available CPU instructions in performance-critical operations.\n",
      "To enable the following instructions: AVX2 FMA, in other operations, rebuild TensorFlow with the appropriate compiler flags.\n"
     ]
    }
   ],
   "source": [
    "import pandas as pd\n",
    "import numpy as np\n",
    "from sklearn.model_selection import train_test_split\n",
    "from tensorflow.keras.models import Sequential\n",
    "from tensorflow.keras.layers import Dense, Input\n",
    "from tensorflow.keras.optimizers import Adam\n",
    "import plotly.graph_objects as go\n",
    "import os\n",
    "import pickle"
   ]
  },
  {
   "cell_type": "markdown",
   "id": "ec822eca",
   "metadata": {},
   "source": [
    "* Cargamos .csv y separamos \"X\" e \"y\" . Recordemos \"X\" son todas las columnas excepto la columna target en cambio \"y\" es la columna target."
   ]
  },
  {
   "cell_type": "code",
   "execution_count": 2,
   "id": "614f6da4",
   "metadata": {},
   "outputs": [],
   "source": [
    "df = pd.read_csv('datos_limpios_modelo_10cols.csv')\n",
    "\n",
    "\n",
    "X = df.drop(columns=['precio_contado'])\n",
    "y = df['precio_contado']\n",
    "\n",
    "\n",
    "X_train, X_test, y_train, y_test = train_test_split(\n",
    "    X, y, test_size=0.2, random_state=42\n",
    ")\n"
   ]
  },
  {
   "cell_type": "markdown",
   "id": "f9235375",
   "metadata": {},
   "source": [
    "* Creamos un modelo de red neuronal con varias capas:\n",
    "  - La primera capa recibe los datos de entrada (el numero de caracteristicas que tiene cada ejemplo).\n",
    "  - Luego hay dos capas intermedias (ocultas) con varias neuronas que ayudan a que el modelo aprenda patrones complejos.\n",
    "  - La ultima capa tiene una neurona que nos da la prediccion del precio.\n",
    "\n",
    "* Preparamos el modelo para entrenarlo:\n",
    "  - Usamos **Adam** para ajustar el modelo.\n",
    "  - Le decimos que mida que tan bien esta haciendo la prediccion con  **MSE** (error cuadratico medio).\n",
    "  - Tambien le pedimos que nos muestre **MAE** (error absoluto medio) para entender mejor su rendimiento.\n"
   ]
  },
  {
   "cell_type": "code",
   "execution_count": 3,
   "id": "f5c17c77",
   "metadata": {},
   "outputs": [
    {
     "name": "stderr",
     "output_type": "stream",
     "text": [
      "2025-06-26 19:37:17.067564: E external/local_xla/xla/stream_executor/cuda/cuda_platform.cc:51] failed call to cuInit: INTERNAL: CUDA error: Failed call to cuInit: UNKNOWN ERROR (303)\n"
     ]
    }
   ],
   "source": [
    "model_mse = Sequential([\n",
    "    Input(shape=(X_train.shape[1],)),\n",
    "    Dense(64, activation='relu'),\n",
    "    Dense(32, activation='relu'),\n",
    "    Dense(1)\n",
    "])\n",
    "\n",
    "model_mse.compile(optimizer=Adam(), loss='mse', metrics=['mae'])\n",
    "\n"
   ]
  },
  {
   "cell_type": "markdown",
   "id": "add34514",
   "metadata": {},
   "source": [
    "* Entrenamos el modelo usando los datos de entrenamiento (\"X_train\" y \"y_train\").\n",
    "* Tambien usamos los datos de prueba (\"X_test\" y \"y_test\") para validar como esta funcionando el modelo mientras aprende.\n",
    "* Definimos que el entrenamiento dure 100 epocas (pasadas completas sobre todos los datos).\n",
    "* En cada epoca, el modelo procesa los datos en grupos de 32 ejemplos (batch size).\n",
    "* \"verbose=1\" hace que se muestre una barra de progreso durante el entrenamiento.\n"
   ]
  },
  {
   "cell_type": "code",
   "execution_count": 4,
   "id": "98cb03d2",
   "metadata": {},
   "outputs": [
    {
     "name": "stdout",
     "output_type": "stream",
     "text": [
      "Epoch 1/30\n",
      "\u001b[1m2211/2211\u001b[0m \u001b[32m━━━━━━━━━━━━━━━━━━━━\u001b[0m\u001b[37m\u001b[0m \u001b[1m9s\u001b[0m 3ms/step - loss: 6745864704.0000 - mae: 31081.7363 - val_loss: 4124099584.0000 - val_mae: 18953.3008\n",
      "Epoch 2/30\n",
      "\u001b[1m2211/2211\u001b[0m \u001b[32m━━━━━━━━━━━━━━━━━━━━\u001b[0m\u001b[37m\u001b[0m \u001b[1m8s\u001b[0m 3ms/step - loss: 3424684032.0000 - mae: 18916.3613 - val_loss: 3226230528.0000 - val_mae: 19320.9668\n",
      "Epoch 3/30\n",
      "\u001b[1m2211/2211\u001b[0m \u001b[32m━━━━━━━━━━━━━━━━━━━━\u001b[0m\u001b[37m\u001b[0m \u001b[1m11s\u001b[0m 5ms/step - loss: 3041987328.0000 - mae: 19306.5996 - val_loss: 2997132544.0000 - val_mae: 18198.3027\n",
      "Epoch 4/30\n",
      "\u001b[1m2211/2211\u001b[0m \u001b[32m━━━━━━━━━━━━━━━━━━━━\u001b[0m\u001b[37m\u001b[0m \u001b[1m16s\u001b[0m 3ms/step - loss: 3811432192.0000 - mae: 18718.4512 - val_loss: 2820739840.0000 - val_mae: 16457.1445\n",
      "Epoch 5/30\n",
      "\u001b[1m2211/2211\u001b[0m \u001b[32m━━━━━━━━━━━━━━━━━━━━\u001b[0m\u001b[37m\u001b[0m \u001b[1m7s\u001b[0m 3ms/step - loss: 2548855040.0000 - mae: 16248.0801 - val_loss: 2658615552.0000 - val_mae: 15072.8945\n",
      "Epoch 6/30\n",
      "\u001b[1m2211/2211\u001b[0m \u001b[32m━━━━━━━━━━━━━━━━━━━━\u001b[0m\u001b[37m\u001b[0m \u001b[1m9s\u001b[0m 4ms/step - loss: 2330080000.0000 - mae: 14931.2861 - val_loss: 2512652032.0000 - val_mae: 13684.7275\n",
      "Epoch 7/30\n",
      "\u001b[1m2211/2211\u001b[0m \u001b[32m━━━━━━━━━━━━━━━━━━━━\u001b[0m\u001b[37m\u001b[0m \u001b[1m9s\u001b[0m 4ms/step - loss: 1873929088.0000 - mae: 13285.6709 - val_loss: 2379894784.0000 - val_mae: 12518.1445\n",
      "Epoch 8/30\n",
      "\u001b[1m2211/2211\u001b[0m \u001b[32m━━━━━━━━━━━━━━━━━━━━\u001b[0m\u001b[37m\u001b[0m \u001b[1m7s\u001b[0m 3ms/step - loss: 2829129472.0000 - mae: 12734.2227 - val_loss: 2258572288.0000 - val_mae: 11308.0742\n",
      "Epoch 9/30\n",
      "\u001b[1m2211/2211\u001b[0m \u001b[32m━━━━━━━━━━━━━━━━━━━━\u001b[0m\u001b[37m\u001b[0m \u001b[1m9s\u001b[0m 3ms/step - loss: 1797460608.0000 - mae: 11152.7178 - val_loss: 2117855488.0000 - val_mae: 10558.4609\n",
      "Epoch 10/30\n",
      "\u001b[1m2211/2211\u001b[0m \u001b[32m━━━━━━━━━━━━━━━━━━━━\u001b[0m\u001b[37m\u001b[0m \u001b[1m6s\u001b[0m 3ms/step - loss: 1399133824.0000 - mae: 10249.6221 - val_loss: 1990120576.0000 - val_mae: 9574.4688\n",
      "Epoch 11/30\n",
      "\u001b[1m2211/2211\u001b[0m \u001b[32m━━━━━━━━━━━━━━━━━━━━\u001b[0m\u001b[37m\u001b[0m \u001b[1m6s\u001b[0m 3ms/step - loss: 865659840.0000 - mae: 9144.0869 - val_loss: 1852237184.0000 - val_mae: 8673.3613\n",
      "Epoch 12/30\n",
      "\u001b[1m2211/2211\u001b[0m \u001b[32m━━━━━━━━━━━━━━━━━━━━\u001b[0m\u001b[37m\u001b[0m \u001b[1m6s\u001b[0m 3ms/step - loss: 1228559488.0000 - mae: 8471.0957 - val_loss: 1730722048.0000 - val_mae: 7545.4663\n",
      "Epoch 13/30\n",
      "\u001b[1m2211/2211\u001b[0m \u001b[32m━━━━━━━━━━━━━━━━━━━━\u001b[0m\u001b[37m\u001b[0m \u001b[1m6s\u001b[0m 3ms/step - loss: 1058564288.0000 - mae: 7455.9834 - val_loss: 1605678208.0000 - val_mae: 6834.6030\n",
      "Epoch 14/30\n",
      "\u001b[1m2211/2211\u001b[0m \u001b[32m━━━━━━━━━━━━━━━━━━━━\u001b[0m\u001b[37m\u001b[0m \u001b[1m6s\u001b[0m 3ms/step - loss: 1082950528.0000 - mae: 6958.1025 - val_loss: 1489078656.0000 - val_mae: 6319.3745\n",
      "Epoch 15/30\n",
      "\u001b[1m2211/2211\u001b[0m \u001b[32m━━━━━━━━━━━━━━━━━━━━\u001b[0m\u001b[37m\u001b[0m \u001b[1m6s\u001b[0m 3ms/step - loss: 763455040.0000 - mae: 6281.1040 - val_loss: 1364086144.0000 - val_mae: 6010.9351\n",
      "Epoch 16/30\n",
      "\u001b[1m2211/2211\u001b[0m \u001b[32m━━━━━━━━━━━━━━━━━━━━\u001b[0m\u001b[37m\u001b[0m \u001b[1m6s\u001b[0m 3ms/step - loss: 451143968.0000 - mae: 5704.8682 - val_loss: 1246846848.0000 - val_mae: 5618.0815\n",
      "Epoch 17/30\n",
      "\u001b[1m2211/2211\u001b[0m \u001b[32m━━━━━━━━━━━━━━━━━━━━\u001b[0m\u001b[37m\u001b[0m \u001b[1m6s\u001b[0m 3ms/step - loss: 428098016.0000 - mae: 5392.9595 - val_loss: 1161618560.0000 - val_mae: 5241.4395\n",
      "Epoch 18/30\n",
      "\u001b[1m2211/2211\u001b[0m \u001b[32m━━━━━━━━━━━━━━━━━━━━\u001b[0m\u001b[37m\u001b[0m \u001b[1m6s\u001b[0m 3ms/step - loss: 346186176.0000 - mae: 5132.1187 - val_loss: 1087623808.0000 - val_mae: 4998.3789\n",
      "Epoch 19/30\n",
      "\u001b[1m2211/2211\u001b[0m \u001b[32m━━━━━━━━━━━━━━━━━━━━\u001b[0m\u001b[37m\u001b[0m \u001b[1m6s\u001b[0m 3ms/step - loss: 253695104.0000 - mae: 4786.7407 - val_loss: 1012244096.0000 - val_mae: 4902.3569\n",
      "Epoch 20/30\n",
      "\u001b[1m2211/2211\u001b[0m \u001b[32m━━━━━━━━━━━━━━━━━━━━\u001b[0m\u001b[37m\u001b[0m \u001b[1m6s\u001b[0m 3ms/step - loss: 337415072.0000 - mae: 4748.8169 - val_loss: 972787968.0000 - val_mae: 4694.0151\n",
      "Epoch 21/30\n",
      "\u001b[1m2211/2211\u001b[0m \u001b[32m━━━━━━━━━━━━━━━━━━━━\u001b[0m\u001b[37m\u001b[0m \u001b[1m8s\u001b[0m 4ms/step - loss: 189036480.0000 - mae: 4472.8789 - val_loss: 942915200.0000 - val_mae: 4504.3047\n",
      "Epoch 22/30\n",
      "\u001b[1m2211/2211\u001b[0m \u001b[32m━━━━━━━━━━━━━━━━━━━━\u001b[0m\u001b[37m\u001b[0m \u001b[1m7s\u001b[0m 3ms/step - loss: 265655280.0000 - mae: 4449.5479 - val_loss: 919097792.0000 - val_mae: 4409.7417\n",
      "Epoch 23/30\n",
      "\u001b[1m2211/2211\u001b[0m \u001b[32m━━━━━━━━━━━━━━━━━━━━\u001b[0m\u001b[37m\u001b[0m \u001b[1m7s\u001b[0m 3ms/step - loss: 353368704.0000 - mae: 4297.6670 - val_loss: 909356736.0000 - val_mae: 4307.2563\n",
      "Epoch 24/30\n",
      "\u001b[1m2211/2211\u001b[0m \u001b[32m━━━━━━━━━━━━━━━━━━━━\u001b[0m\u001b[37m\u001b[0m \u001b[1m7s\u001b[0m 3ms/step - loss: 170335376.0000 - mae: 4171.9707 - val_loss: 919301248.0000 - val_mae: 4234.0859\n",
      "Epoch 25/30\n",
      "\u001b[1m2211/2211\u001b[0m \u001b[32m━━━━━━━━━━━━━━━━━━━━\u001b[0m\u001b[37m\u001b[0m \u001b[1m7s\u001b[0m 3ms/step - loss: 288855968.0000 - mae: 4120.2988 - val_loss: 900806976.0000 - val_mae: 4178.9243\n",
      "Epoch 26/30\n",
      "\u001b[1m2211/2211\u001b[0m \u001b[32m━━━━━━━━━━━━━━━━━━━━\u001b[0m\u001b[37m\u001b[0m \u001b[1m7s\u001b[0m 3ms/step - loss: 243456656.0000 - mae: 3999.7053 - val_loss: 901954176.0000 - val_mae: 4138.5947\n",
      "Epoch 27/30\n",
      "\u001b[1m2211/2211\u001b[0m \u001b[32m━━━━━━━━━━━━━━━━━━━━\u001b[0m\u001b[37m\u001b[0m \u001b[1m7s\u001b[0m 3ms/step - loss: 170859184.0000 - mae: 3895.0920 - val_loss: 909609664.0000 - val_mae: 4146.5454\n",
      "Epoch 28/30\n",
      "\u001b[1m2211/2211\u001b[0m \u001b[32m━━━━━━━━━━━━━━━━━━━━\u001b[0m\u001b[37m\u001b[0m \u001b[1m7s\u001b[0m 3ms/step - loss: 272533280.0000 - mae: 4071.0518 - val_loss: 920027520.0000 - val_mae: 4072.7002\n",
      "Epoch 29/30\n",
      "\u001b[1m2211/2211\u001b[0m \u001b[32m━━━━━━━━━━━━━━━━━━━━\u001b[0m\u001b[37m\u001b[0m \u001b[1m7s\u001b[0m 3ms/step - loss: 382425824.0000 - mae: 4060.8989 - val_loss: 913383936.0000 - val_mae: 4074.9219\n",
      "Epoch 30/30\n",
      "\u001b[1m2211/2211\u001b[0m \u001b[32m━━━━━━━━━━━━━━━━━━━━\u001b[0m\u001b[37m\u001b[0m \u001b[1m7s\u001b[0m 3ms/step - loss: 135758624.0000 - mae: 3890.6504 - val_loss: 919367040.0000 - val_mae: 4057.0269\n"
     ]
    }
   ],
   "source": [
    "history_mse = model_mse.fit(\n",
    "    X_train, y_train,\n",
    "    validation_data=(X_test, y_test),\n",
    "    epochs=30,\n",
    "    batch_size=32,\n",
    "    verbose=1\n",
    ")\n",
    "\n"
   ]
  },
  {
   "cell_type": "markdown",
   "id": "39711a5f",
   "metadata": {},
   "source": [
    "* Creamos un grafico para mostrar como evoluciona la perdida del modelo a lo largo de las epocas.\n",
    "* Añadimos dos lineas:\n",
    "  - La perdida en los datos de entrenamiento (\"loss\").\n",
    "  - La perdida en los datos de validación (\"val_loss\").\n",
    "* Esto nos ayuda a ver si el modelo esta aprendiendo bien o si esta sobreajustando.\n",
    "* El eje X muestra las epocas y el eje Y la magnitud de la perdida (MSE).\n"
   ]
  },
  {
   "cell_type": "code",
   "execution_count": 5,
   "id": "aca38a3a",
   "metadata": {},
   "outputs": [
    {
     "data": {
      "application/vnd.plotly.v1+json": {
       "config": {
        "plotlyServerURL": "https://plot.ly"
       },
       "data": [
        {
         "name": "Entrenamiento (MSE)",
         "type": "scatter",
         "y": [
          5689638912,
          3698416640,
          3195730688,
          2924286720,
          2681292544,
          2457934848,
          2242334720,
          2050082176,
          1851827072,
          1638861824,
          1423350784,
          1240971008,
          1062997056,
          889707264,
          725535552,
          564339200,
          455704480,
          377492064,
          320197920,
          287958496,
          272416064,
          265174384,
          262438352,
          261777040,
          259566928,
          260258576,
          259254640,
          258217728,
          258019840,
          258155824
         ]
        },
        {
         "name": "Validación (MSE)",
         "type": "scatter",
         "y": [
          4124099584,
          3226230528,
          2997132544,
          2820739840,
          2658615552,
          2512652032,
          2379894784,
          2258572288,
          2117855488,
          1990120576,
          1852237184,
          1730722048,
          1605678208,
          1489078656,
          1364086144,
          1246846848,
          1161618560,
          1087623808,
          1012244096,
          972787968,
          942915200,
          919097792,
          909356736,
          919301248,
          900806976,
          901954176,
          909609664,
          920027520,
          913383936,
          919367040
         ]
        }
       ],
       "layout": {
        "template": {
         "data": {
          "bar": [
           {
            "error_x": {
             "color": "#2a3f5f"
            },
            "error_y": {
             "color": "#2a3f5f"
            },
            "marker": {
             "line": {
              "color": "#E5ECF6",
              "width": 0.5
             },
             "pattern": {
              "fillmode": "overlay",
              "size": 10,
              "solidity": 0.2
             }
            },
            "type": "bar"
           }
          ],
          "barpolar": [
           {
            "marker": {
             "line": {
              "color": "#E5ECF6",
              "width": 0.5
             },
             "pattern": {
              "fillmode": "overlay",
              "size": 10,
              "solidity": 0.2
             }
            },
            "type": "barpolar"
           }
          ],
          "carpet": [
           {
            "aaxis": {
             "endlinecolor": "#2a3f5f",
             "gridcolor": "white",
             "linecolor": "white",
             "minorgridcolor": "white",
             "startlinecolor": "#2a3f5f"
            },
            "baxis": {
             "endlinecolor": "#2a3f5f",
             "gridcolor": "white",
             "linecolor": "white",
             "minorgridcolor": "white",
             "startlinecolor": "#2a3f5f"
            },
            "type": "carpet"
           }
          ],
          "choropleth": [
           {
            "colorbar": {
             "outlinewidth": 0,
             "ticks": ""
            },
            "type": "choropleth"
           }
          ],
          "contour": [
           {
            "colorbar": {
             "outlinewidth": 0,
             "ticks": ""
            },
            "colorscale": [
             [
              0,
              "#0d0887"
             ],
             [
              0.1111111111111111,
              "#46039f"
             ],
             [
              0.2222222222222222,
              "#7201a8"
             ],
             [
              0.3333333333333333,
              "#9c179e"
             ],
             [
              0.4444444444444444,
              "#bd3786"
             ],
             [
              0.5555555555555556,
              "#d8576b"
             ],
             [
              0.6666666666666666,
              "#ed7953"
             ],
             [
              0.7777777777777778,
              "#fb9f3a"
             ],
             [
              0.8888888888888888,
              "#fdca26"
             ],
             [
              1,
              "#f0f921"
             ]
            ],
            "type": "contour"
           }
          ],
          "contourcarpet": [
           {
            "colorbar": {
             "outlinewidth": 0,
             "ticks": ""
            },
            "type": "contourcarpet"
           }
          ],
          "heatmap": [
           {
            "colorbar": {
             "outlinewidth": 0,
             "ticks": ""
            },
            "colorscale": [
             [
              0,
              "#0d0887"
             ],
             [
              0.1111111111111111,
              "#46039f"
             ],
             [
              0.2222222222222222,
              "#7201a8"
             ],
             [
              0.3333333333333333,
              "#9c179e"
             ],
             [
              0.4444444444444444,
              "#bd3786"
             ],
             [
              0.5555555555555556,
              "#d8576b"
             ],
             [
              0.6666666666666666,
              "#ed7953"
             ],
             [
              0.7777777777777778,
              "#fb9f3a"
             ],
             [
              0.8888888888888888,
              "#fdca26"
             ],
             [
              1,
              "#f0f921"
             ]
            ],
            "type": "heatmap"
           }
          ],
          "histogram": [
           {
            "marker": {
             "pattern": {
              "fillmode": "overlay",
              "size": 10,
              "solidity": 0.2
             }
            },
            "type": "histogram"
           }
          ],
          "histogram2d": [
           {
            "colorbar": {
             "outlinewidth": 0,
             "ticks": ""
            },
            "colorscale": [
             [
              0,
              "#0d0887"
             ],
             [
              0.1111111111111111,
              "#46039f"
             ],
             [
              0.2222222222222222,
              "#7201a8"
             ],
             [
              0.3333333333333333,
              "#9c179e"
             ],
             [
              0.4444444444444444,
              "#bd3786"
             ],
             [
              0.5555555555555556,
              "#d8576b"
             ],
             [
              0.6666666666666666,
              "#ed7953"
             ],
             [
              0.7777777777777778,
              "#fb9f3a"
             ],
             [
              0.8888888888888888,
              "#fdca26"
             ],
             [
              1,
              "#f0f921"
             ]
            ],
            "type": "histogram2d"
           }
          ],
          "histogram2dcontour": [
           {
            "colorbar": {
             "outlinewidth": 0,
             "ticks": ""
            },
            "colorscale": [
             [
              0,
              "#0d0887"
             ],
             [
              0.1111111111111111,
              "#46039f"
             ],
             [
              0.2222222222222222,
              "#7201a8"
             ],
             [
              0.3333333333333333,
              "#9c179e"
             ],
             [
              0.4444444444444444,
              "#bd3786"
             ],
             [
              0.5555555555555556,
              "#d8576b"
             ],
             [
              0.6666666666666666,
              "#ed7953"
             ],
             [
              0.7777777777777778,
              "#fb9f3a"
             ],
             [
              0.8888888888888888,
              "#fdca26"
             ],
             [
              1,
              "#f0f921"
             ]
            ],
            "type": "histogram2dcontour"
           }
          ],
          "mesh3d": [
           {
            "colorbar": {
             "outlinewidth": 0,
             "ticks": ""
            },
            "type": "mesh3d"
           }
          ],
          "parcoords": [
           {
            "line": {
             "colorbar": {
              "outlinewidth": 0,
              "ticks": ""
             }
            },
            "type": "parcoords"
           }
          ],
          "pie": [
           {
            "automargin": true,
            "type": "pie"
           }
          ],
          "scatter": [
           {
            "fillpattern": {
             "fillmode": "overlay",
             "size": 10,
             "solidity": 0.2
            },
            "type": "scatter"
           }
          ],
          "scatter3d": [
           {
            "line": {
             "colorbar": {
              "outlinewidth": 0,
              "ticks": ""
             }
            },
            "marker": {
             "colorbar": {
              "outlinewidth": 0,
              "ticks": ""
             }
            },
            "type": "scatter3d"
           }
          ],
          "scattercarpet": [
           {
            "marker": {
             "colorbar": {
              "outlinewidth": 0,
              "ticks": ""
             }
            },
            "type": "scattercarpet"
           }
          ],
          "scattergeo": [
           {
            "marker": {
             "colorbar": {
              "outlinewidth": 0,
              "ticks": ""
             }
            },
            "type": "scattergeo"
           }
          ],
          "scattergl": [
           {
            "marker": {
             "colorbar": {
              "outlinewidth": 0,
              "ticks": ""
             }
            },
            "type": "scattergl"
           }
          ],
          "scattermap": [
           {
            "marker": {
             "colorbar": {
              "outlinewidth": 0,
              "ticks": ""
             }
            },
            "type": "scattermap"
           }
          ],
          "scattermapbox": [
           {
            "marker": {
             "colorbar": {
              "outlinewidth": 0,
              "ticks": ""
             }
            },
            "type": "scattermapbox"
           }
          ],
          "scatterpolar": [
           {
            "marker": {
             "colorbar": {
              "outlinewidth": 0,
              "ticks": ""
             }
            },
            "type": "scatterpolar"
           }
          ],
          "scatterpolargl": [
           {
            "marker": {
             "colorbar": {
              "outlinewidth": 0,
              "ticks": ""
             }
            },
            "type": "scatterpolargl"
           }
          ],
          "scatterternary": [
           {
            "marker": {
             "colorbar": {
              "outlinewidth": 0,
              "ticks": ""
             }
            },
            "type": "scatterternary"
           }
          ],
          "surface": [
           {
            "colorbar": {
             "outlinewidth": 0,
             "ticks": ""
            },
            "colorscale": [
             [
              0,
              "#0d0887"
             ],
             [
              0.1111111111111111,
              "#46039f"
             ],
             [
              0.2222222222222222,
              "#7201a8"
             ],
             [
              0.3333333333333333,
              "#9c179e"
             ],
             [
              0.4444444444444444,
              "#bd3786"
             ],
             [
              0.5555555555555556,
              "#d8576b"
             ],
             [
              0.6666666666666666,
              "#ed7953"
             ],
             [
              0.7777777777777778,
              "#fb9f3a"
             ],
             [
              0.8888888888888888,
              "#fdca26"
             ],
             [
              1,
              "#f0f921"
             ]
            ],
            "type": "surface"
           }
          ],
          "table": [
           {
            "cells": {
             "fill": {
              "color": "#EBF0F8"
             },
             "line": {
              "color": "white"
             }
            },
            "header": {
             "fill": {
              "color": "#C8D4E3"
             },
             "line": {
              "color": "white"
             }
            },
            "type": "table"
           }
          ]
         },
         "layout": {
          "annotationdefaults": {
           "arrowcolor": "#2a3f5f",
           "arrowhead": 0,
           "arrowwidth": 1
          },
          "autotypenumbers": "strict",
          "coloraxis": {
           "colorbar": {
            "outlinewidth": 0,
            "ticks": ""
           }
          },
          "colorscale": {
           "diverging": [
            [
             0,
             "#8e0152"
            ],
            [
             0.1,
             "#c51b7d"
            ],
            [
             0.2,
             "#de77ae"
            ],
            [
             0.3,
             "#f1b6da"
            ],
            [
             0.4,
             "#fde0ef"
            ],
            [
             0.5,
             "#f7f7f7"
            ],
            [
             0.6,
             "#e6f5d0"
            ],
            [
             0.7,
             "#b8e186"
            ],
            [
             0.8,
             "#7fbc41"
            ],
            [
             0.9,
             "#4d9221"
            ],
            [
             1,
             "#276419"
            ]
           ],
           "sequential": [
            [
             0,
             "#0d0887"
            ],
            [
             0.1111111111111111,
             "#46039f"
            ],
            [
             0.2222222222222222,
             "#7201a8"
            ],
            [
             0.3333333333333333,
             "#9c179e"
            ],
            [
             0.4444444444444444,
             "#bd3786"
            ],
            [
             0.5555555555555556,
             "#d8576b"
            ],
            [
             0.6666666666666666,
             "#ed7953"
            ],
            [
             0.7777777777777778,
             "#fb9f3a"
            ],
            [
             0.8888888888888888,
             "#fdca26"
            ],
            [
             1,
             "#f0f921"
            ]
           ],
           "sequentialminus": [
            [
             0,
             "#0d0887"
            ],
            [
             0.1111111111111111,
             "#46039f"
            ],
            [
             0.2222222222222222,
             "#7201a8"
            ],
            [
             0.3333333333333333,
             "#9c179e"
            ],
            [
             0.4444444444444444,
             "#bd3786"
            ],
            [
             0.5555555555555556,
             "#d8576b"
            ],
            [
             0.6666666666666666,
             "#ed7953"
            ],
            [
             0.7777777777777778,
             "#fb9f3a"
            ],
            [
             0.8888888888888888,
             "#fdca26"
            ],
            [
             1,
             "#f0f921"
            ]
           ]
          },
          "colorway": [
           "#636efa",
           "#EF553B",
           "#00cc96",
           "#ab63fa",
           "#FFA15A",
           "#19d3f3",
           "#FF6692",
           "#B6E880",
           "#FF97FF",
           "#FECB52"
          ],
          "font": {
           "color": "#2a3f5f"
          },
          "geo": {
           "bgcolor": "white",
           "lakecolor": "white",
           "landcolor": "#E5ECF6",
           "showlakes": true,
           "showland": true,
           "subunitcolor": "white"
          },
          "hoverlabel": {
           "align": "left"
          },
          "hovermode": "closest",
          "mapbox": {
           "style": "light"
          },
          "paper_bgcolor": "white",
          "plot_bgcolor": "#E5ECF6",
          "polar": {
           "angularaxis": {
            "gridcolor": "white",
            "linecolor": "white",
            "ticks": ""
           },
           "bgcolor": "#E5ECF6",
           "radialaxis": {
            "gridcolor": "white",
            "linecolor": "white",
            "ticks": ""
           }
          },
          "scene": {
           "xaxis": {
            "backgroundcolor": "#E5ECF6",
            "gridcolor": "white",
            "gridwidth": 2,
            "linecolor": "white",
            "showbackground": true,
            "ticks": "",
            "zerolinecolor": "white"
           },
           "yaxis": {
            "backgroundcolor": "#E5ECF6",
            "gridcolor": "white",
            "gridwidth": 2,
            "linecolor": "white",
            "showbackground": true,
            "ticks": "",
            "zerolinecolor": "white"
           },
           "zaxis": {
            "backgroundcolor": "#E5ECF6",
            "gridcolor": "white",
            "gridwidth": 2,
            "linecolor": "white",
            "showbackground": true,
            "ticks": "",
            "zerolinecolor": "white"
           }
          },
          "shapedefaults": {
           "line": {
            "color": "#2a3f5f"
           }
          },
          "ternary": {
           "aaxis": {
            "gridcolor": "white",
            "linecolor": "white",
            "ticks": ""
           },
           "baxis": {
            "gridcolor": "white",
            "linecolor": "white",
            "ticks": ""
           },
           "bgcolor": "#E5ECF6",
           "caxis": {
            "gridcolor": "white",
            "linecolor": "white",
            "ticks": ""
           }
          },
          "title": {
           "x": 0.05
          },
          "xaxis": {
           "automargin": true,
           "gridcolor": "white",
           "linecolor": "white",
           "ticks": "",
           "title": {
            "standoff": 15
           },
           "zerolinecolor": "white",
           "zerolinewidth": 2
          },
          "yaxis": {
           "automargin": true,
           "gridcolor": "white",
           "linecolor": "white",
           "ticks": "",
           "title": {
            "standoff": 15
           },
           "zerolinecolor": "white",
           "zerolinewidth": 2
          }
         }
        },
        "title": {
         "text": "Pérdida con función MSE"
        },
        "xaxis": {
         "title": {
          "text": "Épocas"
         }
        },
        "yaxis": {
         "title": {
          "text": "MSE"
         }
        }
       }
      }
     },
     "metadata": {},
     "output_type": "display_data"
    }
   ],
   "source": [
    "fig_mse = go.Figure()\n",
    "fig_mse.add_trace(go.Scatter(y=history_mse.history['loss'], name='Entrenamiento (MSE)'))\n",
    "fig_mse.add_trace(go.Scatter(y=history_mse.history['val_loss'], name='Validación (MSE)'))\n",
    "fig_mse.update_layout(title='Pérdida con función MSE', xaxis_title='Épocas', yaxis_title='MSE')\n",
    "fig_mse.show()"
   ]
  },
  {
   "cell_type": "markdown",
   "id": "283c1c59",
   "metadata": {},
   "source": [
    "* En el gráfico, tanto la perdida en entrenamiento como en validacion bajan rapidamente y se acercan bastante desde las primeras epocas. Esto indica que el modelo esta aprendiendo de manera eficiente y generaliza bien, es decir, no solo memoriza los datos de entrenamiento, sino que tambien funciona bien con datos nuevos. La convergencia rapida y cercana de ambas curvas sugiere que el modelo esta bien ajustado, sin problemas evidentes de sobreajuste o subajuste."
   ]
  },
  {
   "cell_type": "markdown",
   "id": "e427ee56",
   "metadata": {},
   "source": [
    "Repetimos el mismo proceso de creacion, entrenamiento y evaluacion del modelo, pero esta vez usando la funcion de perdida MAE para observar como se comporta la curva de error absoluto medio durante el entrenamiento y la validacion"
   ]
  },
  {
   "cell_type": "code",
   "execution_count": 6,
   "id": "29452ddb",
   "metadata": {},
   "outputs": [],
   "source": [
    "model_mae = Sequential([\n",
    "    Input(shape=(X_train.shape[1],)),\n",
    "    Dense(64, activation='relu'),\n",
    "    Dense(32, activation='relu'),\n",
    "    Dense(1)\n",
    "])\n",
    "\n",
    "model_mae.compile(optimizer=Adam(), loss='mae', metrics=['mse'])\n"
   ]
  },
  {
   "cell_type": "code",
   "execution_count": 7,
   "id": "6eccac19",
   "metadata": {},
   "outputs": [
    {
     "name": "stdout",
     "output_type": "stream",
     "text": [
      "Epoch 1/30\n",
      "\u001b[1m2211/2211\u001b[0m \u001b[32m━━━━━━━━━━━━━━━━━━━━\u001b[0m\u001b[37m\u001b[0m \u001b[1m7s\u001b[0m 3ms/step - loss: 28347.7559 - mse: 5630346240.0000 - val_loss: 11506.3691 - val_mse: 3653378560.0000\n",
      "Epoch 2/30\n",
      "\u001b[1m2211/2211\u001b[0m \u001b[32m━━━━━━━━━━━━━━━━━━━━\u001b[0m\u001b[37m\u001b[0m \u001b[1m6s\u001b[0m 3ms/step - loss: 10492.6973 - mse: 3042323968.0000 - val_loss: 8004.3271 - val_mse: 2485285120.0000\n",
      "Epoch 3/30\n",
      "\u001b[1m2211/2211\u001b[0m \u001b[32m━━━━━━━━━━━━━━━━━━━━\u001b[0m\u001b[37m\u001b[0m \u001b[1m8s\u001b[0m 4ms/step - loss: 7883.2100 - mse: 1922841472.0000 - val_loss: 6517.7573 - val_mse: 1884075520.0000\n",
      "Epoch 4/30\n",
      "\u001b[1m2211/2211\u001b[0m \u001b[32m━━━━━━━━━━━━━━━━━━━━\u001b[0m\u001b[37m\u001b[0m \u001b[1m7s\u001b[0m 3ms/step - loss: 6249.8945 - mse: 955870464.0000 - val_loss: 5022.3984 - val_mse: 1386573696.0000\n",
      "Epoch 5/30\n",
      "\u001b[1m2211/2211\u001b[0m \u001b[32m━━━━━━━━━━━━━━━━━━━━\u001b[0m\u001b[37m\u001b[0m \u001b[1m8s\u001b[0m 3ms/step - loss: 4602.1948 - mse: 508127360.0000 - val_loss: 3972.9448 - val_mse: 1062010432.0000\n",
      "Epoch 6/30\n",
      "\u001b[1m2211/2211\u001b[0m \u001b[32m━━━━━━━━━━━━━━━━━━━━\u001b[0m\u001b[37m\u001b[0m \u001b[1m8s\u001b[0m 4ms/step - loss: 3695.0457 - mse: 257411728.0000 - val_loss: 3582.4446 - val_mse: 934904064.0000\n",
      "Epoch 7/30\n",
      "\u001b[1m2211/2211\u001b[0m \u001b[32m━━━━━━━━━━━━━━━━━━━━\u001b[0m\u001b[37m\u001b[0m \u001b[1m8s\u001b[0m 3ms/step - loss: 3450.9590 - mse: 383357632.0000 - val_loss: 3465.3252 - val_mse: 904706304.0000\n",
      "Epoch 8/30\n",
      "\u001b[1m2211/2211\u001b[0m \u001b[32m━━━━━━━━━━━━━━━━━━━━\u001b[0m\u001b[37m\u001b[0m \u001b[1m8s\u001b[0m 3ms/step - loss: 3246.1189 - mse: 217179488.0000 - val_loss: 3407.5215 - val_mse: 902936896.0000\n",
      "Epoch 9/30\n",
      "\u001b[1m2211/2211\u001b[0m \u001b[32m━━━━━━━━━━━━━━━━━━━━\u001b[0m\u001b[37m\u001b[0m \u001b[1m8s\u001b[0m 3ms/step - loss: 3351.6174 - mse: 304908000.0000 - val_loss: 3350.4888 - val_mse: 896384256.0000\n",
      "Epoch 10/30\n",
      "\u001b[1m2211/2211\u001b[0m \u001b[32m━━━━━━━━━━━━━━━━━━━━\u001b[0m\u001b[37m\u001b[0m \u001b[1m8s\u001b[0m 4ms/step - loss: 3255.4900 - mse: 407711072.0000 - val_loss: 3324.0261 - val_mse: 903108608.0000\n",
      "Epoch 11/30\n",
      "\u001b[1m2211/2211\u001b[0m \u001b[32m━━━━━━━━━━━━━━━━━━━━\u001b[0m\u001b[37m\u001b[0m \u001b[1m8s\u001b[0m 4ms/step - loss: 3103.6951 - mse: 196509120.0000 - val_loss: 3288.6389 - val_mse: 889501184.0000\n",
      "Epoch 12/30\n",
      "\u001b[1m2211/2211\u001b[0m \u001b[32m━━━━━━━━━━━━━━━━━━━━\u001b[0m\u001b[37m\u001b[0m \u001b[1m8s\u001b[0m 3ms/step - loss: 3040.5752 - mse: 187778688.0000 - val_loss: 3268.6650 - val_mse: 892763200.0000\n",
      "Epoch 13/30\n",
      "\u001b[1m2211/2211\u001b[0m \u001b[32m━━━━━━━━━━━━━━━━━━━━\u001b[0m\u001b[37m\u001b[0m \u001b[1m8s\u001b[0m 4ms/step - loss: 3054.7981 - mse: 178963888.0000 - val_loss: 3258.4858 - val_mse: 895728384.0000\n",
      "Epoch 14/30\n",
      "\u001b[1m2211/2211\u001b[0m \u001b[32m━━━━━━━━━━━━━━━━━━━━\u001b[0m\u001b[37m\u001b[0m \u001b[1m8s\u001b[0m 3ms/step - loss: 3061.0410 - mse: 196768160.0000 - val_loss: 3233.9270 - val_mse: 881681152.0000\n",
      "Epoch 15/30\n",
      "\u001b[1m2211/2211\u001b[0m \u001b[32m━━━━━━━━━━━━━━━━━━━━\u001b[0m\u001b[37m\u001b[0m \u001b[1m8s\u001b[0m 3ms/step - loss: 3059.7788 - mse: 343567648.0000 - val_loss: 3230.3608 - val_mse: 889598720.0000\n",
      "Epoch 16/30\n",
      "\u001b[1m2211/2211\u001b[0m \u001b[32m━━━━━━━━━━━━━━━━━━━━\u001b[0m\u001b[37m\u001b[0m \u001b[1m8s\u001b[0m 4ms/step - loss: 3038.9785 - mse: 211697744.0000 - val_loss: 3222.8931 - val_mse: 889230400.0000\n",
      "Epoch 17/30\n",
      "\u001b[1m2211/2211\u001b[0m \u001b[32m━━━━━━━━━━━━━━━━━━━━\u001b[0m\u001b[37m\u001b[0m \u001b[1m8s\u001b[0m 3ms/step - loss: 3135.3806 - mse: 227244000.0000 - val_loss: 3214.6455 - val_mse: 884870208.0000\n",
      "Epoch 18/30\n",
      "\u001b[1m2211/2211\u001b[0m \u001b[32m━━━━━━━━━━━━━━━━━━━━\u001b[0m\u001b[37m\u001b[0m \u001b[1m8s\u001b[0m 4ms/step - loss: 3140.8860 - mse: 277153728.0000 - val_loss: 3197.4185 - val_mse: 881447872.0000\n",
      "Epoch 19/30\n",
      "\u001b[1m2211/2211\u001b[0m \u001b[32m━━━━━━━━━━━━━━━━━━━━\u001b[0m\u001b[37m\u001b[0m \u001b[1m8s\u001b[0m 4ms/step - loss: 3042.4348 - mse: 217121824.0000 - val_loss: 3211.1738 - val_mse: 893030272.0000\n",
      "Epoch 20/30\n",
      "\u001b[1m2211/2211\u001b[0m \u001b[32m━━━━━━━━━━━━━━━━━━━━\u001b[0m\u001b[37m\u001b[0m \u001b[1m8s\u001b[0m 4ms/step - loss: 3127.9624 - mse: 346020672.0000 - val_loss: 3192.7004 - val_mse: 876420416.0000\n",
      "Epoch 21/30\n",
      "\u001b[1m2211/2211\u001b[0m \u001b[32m━━━━━━━━━━━━━━━━━━━━\u001b[0m\u001b[37m\u001b[0m \u001b[1m8s\u001b[0m 3ms/step - loss: 2988.0459 - mse: 149826064.0000 - val_loss: 3195.4556 - val_mse: 893050112.0000\n",
      "Epoch 22/30\n",
      "\u001b[1m2211/2211\u001b[0m \u001b[32m━━━━━━━━━━━━━━━━━━━━\u001b[0m\u001b[37m\u001b[0m \u001b[1m9s\u001b[0m 4ms/step - loss: 3149.2932 - mse: 355012064.0000 - val_loss: 3199.7720 - val_mse: 896567744.0000\n",
      "Epoch 23/30\n",
      "\u001b[1m2211/2211\u001b[0m \u001b[32m━━━━━━━━━━━━━━━━━━━━\u001b[0m\u001b[37m\u001b[0m \u001b[1m9s\u001b[0m 4ms/step - loss: 2979.5474 - mse: 157912320.0000 - val_loss: 3205.6892 - val_mse: 902061888.0000\n",
      "Epoch 24/30\n",
      "\u001b[1m2211/2211\u001b[0m \u001b[32m━━━━━━━━━━━━━━━━━━━━\u001b[0m\u001b[37m\u001b[0m \u001b[1m10s\u001b[0m 4ms/step - loss: 3031.3733 - mse: 234369632.0000 - val_loss: 3180.3394 - val_mse: 890722816.0000\n",
      "Epoch 25/30\n",
      "\u001b[1m2211/2211\u001b[0m \u001b[32m━━━━━━━━━━━━━━━━━━━━\u001b[0m\u001b[37m\u001b[0m \u001b[1m9s\u001b[0m 4ms/step - loss: 2996.3103 - mse: 276741728.0000 - val_loss: 3179.9512 - val_mse: 892304128.0000\n",
      "Epoch 26/30\n",
      "\u001b[1m2211/2211\u001b[0m \u001b[32m━━━━━━━━━━━━━━━━━━━━\u001b[0m\u001b[37m\u001b[0m \u001b[1m9s\u001b[0m 4ms/step - loss: 3025.1848 - mse: 219187616.0000 - val_loss: 3171.9160 - val_mse: 885543616.0000\n",
      "Epoch 27/30\n",
      "\u001b[1m2211/2211\u001b[0m \u001b[32m━━━━━━━━━━━━━━━━━━━━\u001b[0m\u001b[37m\u001b[0m \u001b[1m8s\u001b[0m 4ms/step - loss: 3052.9722 - mse: 280308576.0000 - val_loss: 3173.5366 - val_mse: 886719360.0000\n",
      "Epoch 28/30\n",
      "\u001b[1m2211/2211\u001b[0m \u001b[32m━━━━━━━━━━━━━━━━━━━━\u001b[0m\u001b[37m\u001b[0m \u001b[1m8s\u001b[0m 4ms/step - loss: 3112.4380 - mse: 389935520.0000 - val_loss: 3171.7820 - val_mse: 882695872.0000\n",
      "Epoch 29/30\n",
      "\u001b[1m2211/2211\u001b[0m \u001b[32m━━━━━━━━━━━━━━━━━━━━\u001b[0m\u001b[37m\u001b[0m \u001b[1m8s\u001b[0m 4ms/step - loss: 3042.4399 - mse: 302115392.0000 - val_loss: 3164.6316 - val_mse: 887821888.0000\n",
      "Epoch 30/30\n",
      "\u001b[1m2211/2211\u001b[0m \u001b[32m━━━━━━━━━━━━━━━━━━━━\u001b[0m\u001b[37m\u001b[0m \u001b[1m9s\u001b[0m 4ms/step - loss: 3063.3750 - mse: 250099504.0000 - val_loss: 3176.5835 - val_mse: 894844480.0000\n"
     ]
    }
   ],
   "source": [
    "history_mae = model_mae.fit(\n",
    "    X_train, y_train,\n",
    "    validation_data=(X_test, y_test),\n",
    "    epochs=30,\n",
    "    batch_size=32,\n",
    "    verbose=1\n",
    ")\n"
   ]
  },
  {
   "cell_type": "code",
   "execution_count": 8,
   "id": "e8077f17",
   "metadata": {},
   "outputs": [],
   "source": [
    "os.makedirs('metricas', exist_ok=True)\n",
    "\n",
    "with open('metricas/metricas_modelo_dl.pkl', 'wb') as f:\n",
    "    pickle.dump(history_mae.history, f)\n"
   ]
  },
  {
   "cell_type": "code",
   "execution_count": 9,
   "id": "e18b29c0",
   "metadata": {},
   "outputs": [
    {
     "data": {
      "application/vnd.plotly.v1+json": {
       "config": {
        "plotlyServerURL": "https://plot.ly"
       },
       "data": [
        {
         "name": "Entrenamiento (MAE)",
         "type": "scatter",
         "y": [
          21985.11328125,
          9621.939453125,
          7435.388671875,
          5818.89111328125,
          4359.5830078125,
          3593.597412109375,
          3370.945068359375,
          3289.673828125,
          3235.705078125,
          3193.38671875,
          3164.361083984375,
          3138.73095703125,
          3122.1640625,
          3109.575439453125,
          3098.014892578125,
          3088.71533203125,
          3081.2578125,
          3073.46826171875,
          3068.728515625,
          3062.30224609375,
          3057.96435546875,
          3052.822021484375,
          3049.89794921875,
          3047.917724609375,
          3043.02685546875,
          3042.824462890625,
          3039.373779296875,
          3036.935302734375,
          3035.504638671875,
          3034.04296875
         ]
        },
        {
         "name": "Validación (MAE)",
         "type": "scatter",
         "y": [
          11506.369140625,
          8004.3271484375,
          6517.75732421875,
          5022.3984375,
          3972.94482421875,
          3582.444580078125,
          3465.3251953125,
          3407.521484375,
          3350.48876953125,
          3324.026123046875,
          3288.638916015625,
          3268.6650390625,
          3258.48583984375,
          3233.927001953125,
          3230.36083984375,
          3222.89306640625,
          3214.6455078125,
          3197.41845703125,
          3211.173828125,
          3192.700439453125,
          3195.45556640625,
          3199.77197265625,
          3205.689208984375,
          3180.33935546875,
          3179.951171875,
          3171.916015625,
          3173.53662109375,
          3171.781982421875,
          3164.631591796875,
          3176.58349609375
         ]
        }
       ],
       "layout": {
        "template": {
         "data": {
          "bar": [
           {
            "error_x": {
             "color": "#2a3f5f"
            },
            "error_y": {
             "color": "#2a3f5f"
            },
            "marker": {
             "line": {
              "color": "#E5ECF6",
              "width": 0.5
             },
             "pattern": {
              "fillmode": "overlay",
              "size": 10,
              "solidity": 0.2
             }
            },
            "type": "bar"
           }
          ],
          "barpolar": [
           {
            "marker": {
             "line": {
              "color": "#E5ECF6",
              "width": 0.5
             },
             "pattern": {
              "fillmode": "overlay",
              "size": 10,
              "solidity": 0.2
             }
            },
            "type": "barpolar"
           }
          ],
          "carpet": [
           {
            "aaxis": {
             "endlinecolor": "#2a3f5f",
             "gridcolor": "white",
             "linecolor": "white",
             "minorgridcolor": "white",
             "startlinecolor": "#2a3f5f"
            },
            "baxis": {
             "endlinecolor": "#2a3f5f",
             "gridcolor": "white",
             "linecolor": "white",
             "minorgridcolor": "white",
             "startlinecolor": "#2a3f5f"
            },
            "type": "carpet"
           }
          ],
          "choropleth": [
           {
            "colorbar": {
             "outlinewidth": 0,
             "ticks": ""
            },
            "type": "choropleth"
           }
          ],
          "contour": [
           {
            "colorbar": {
             "outlinewidth": 0,
             "ticks": ""
            },
            "colorscale": [
             [
              0,
              "#0d0887"
             ],
             [
              0.1111111111111111,
              "#46039f"
             ],
             [
              0.2222222222222222,
              "#7201a8"
             ],
             [
              0.3333333333333333,
              "#9c179e"
             ],
             [
              0.4444444444444444,
              "#bd3786"
             ],
             [
              0.5555555555555556,
              "#d8576b"
             ],
             [
              0.6666666666666666,
              "#ed7953"
             ],
             [
              0.7777777777777778,
              "#fb9f3a"
             ],
             [
              0.8888888888888888,
              "#fdca26"
             ],
             [
              1,
              "#f0f921"
             ]
            ],
            "type": "contour"
           }
          ],
          "contourcarpet": [
           {
            "colorbar": {
             "outlinewidth": 0,
             "ticks": ""
            },
            "type": "contourcarpet"
           }
          ],
          "heatmap": [
           {
            "colorbar": {
             "outlinewidth": 0,
             "ticks": ""
            },
            "colorscale": [
             [
              0,
              "#0d0887"
             ],
             [
              0.1111111111111111,
              "#46039f"
             ],
             [
              0.2222222222222222,
              "#7201a8"
             ],
             [
              0.3333333333333333,
              "#9c179e"
             ],
             [
              0.4444444444444444,
              "#bd3786"
             ],
             [
              0.5555555555555556,
              "#d8576b"
             ],
             [
              0.6666666666666666,
              "#ed7953"
             ],
             [
              0.7777777777777778,
              "#fb9f3a"
             ],
             [
              0.8888888888888888,
              "#fdca26"
             ],
             [
              1,
              "#f0f921"
             ]
            ],
            "type": "heatmap"
           }
          ],
          "histogram": [
           {
            "marker": {
             "pattern": {
              "fillmode": "overlay",
              "size": 10,
              "solidity": 0.2
             }
            },
            "type": "histogram"
           }
          ],
          "histogram2d": [
           {
            "colorbar": {
             "outlinewidth": 0,
             "ticks": ""
            },
            "colorscale": [
             [
              0,
              "#0d0887"
             ],
             [
              0.1111111111111111,
              "#46039f"
             ],
             [
              0.2222222222222222,
              "#7201a8"
             ],
             [
              0.3333333333333333,
              "#9c179e"
             ],
             [
              0.4444444444444444,
              "#bd3786"
             ],
             [
              0.5555555555555556,
              "#d8576b"
             ],
             [
              0.6666666666666666,
              "#ed7953"
             ],
             [
              0.7777777777777778,
              "#fb9f3a"
             ],
             [
              0.8888888888888888,
              "#fdca26"
             ],
             [
              1,
              "#f0f921"
             ]
            ],
            "type": "histogram2d"
           }
          ],
          "histogram2dcontour": [
           {
            "colorbar": {
             "outlinewidth": 0,
             "ticks": ""
            },
            "colorscale": [
             [
              0,
              "#0d0887"
             ],
             [
              0.1111111111111111,
              "#46039f"
             ],
             [
              0.2222222222222222,
              "#7201a8"
             ],
             [
              0.3333333333333333,
              "#9c179e"
             ],
             [
              0.4444444444444444,
              "#bd3786"
             ],
             [
              0.5555555555555556,
              "#d8576b"
             ],
             [
              0.6666666666666666,
              "#ed7953"
             ],
             [
              0.7777777777777778,
              "#fb9f3a"
             ],
             [
              0.8888888888888888,
              "#fdca26"
             ],
             [
              1,
              "#f0f921"
             ]
            ],
            "type": "histogram2dcontour"
           }
          ],
          "mesh3d": [
           {
            "colorbar": {
             "outlinewidth": 0,
             "ticks": ""
            },
            "type": "mesh3d"
           }
          ],
          "parcoords": [
           {
            "line": {
             "colorbar": {
              "outlinewidth": 0,
              "ticks": ""
             }
            },
            "type": "parcoords"
           }
          ],
          "pie": [
           {
            "automargin": true,
            "type": "pie"
           }
          ],
          "scatter": [
           {
            "fillpattern": {
             "fillmode": "overlay",
             "size": 10,
             "solidity": 0.2
            },
            "type": "scatter"
           }
          ],
          "scatter3d": [
           {
            "line": {
             "colorbar": {
              "outlinewidth": 0,
              "ticks": ""
             }
            },
            "marker": {
             "colorbar": {
              "outlinewidth": 0,
              "ticks": ""
             }
            },
            "type": "scatter3d"
           }
          ],
          "scattercarpet": [
           {
            "marker": {
             "colorbar": {
              "outlinewidth": 0,
              "ticks": ""
             }
            },
            "type": "scattercarpet"
           }
          ],
          "scattergeo": [
           {
            "marker": {
             "colorbar": {
              "outlinewidth": 0,
              "ticks": ""
             }
            },
            "type": "scattergeo"
           }
          ],
          "scattergl": [
           {
            "marker": {
             "colorbar": {
              "outlinewidth": 0,
              "ticks": ""
             }
            },
            "type": "scattergl"
           }
          ],
          "scattermap": [
           {
            "marker": {
             "colorbar": {
              "outlinewidth": 0,
              "ticks": ""
             }
            },
            "type": "scattermap"
           }
          ],
          "scattermapbox": [
           {
            "marker": {
             "colorbar": {
              "outlinewidth": 0,
              "ticks": ""
             }
            },
            "type": "scattermapbox"
           }
          ],
          "scatterpolar": [
           {
            "marker": {
             "colorbar": {
              "outlinewidth": 0,
              "ticks": ""
             }
            },
            "type": "scatterpolar"
           }
          ],
          "scatterpolargl": [
           {
            "marker": {
             "colorbar": {
              "outlinewidth": 0,
              "ticks": ""
             }
            },
            "type": "scatterpolargl"
           }
          ],
          "scatterternary": [
           {
            "marker": {
             "colorbar": {
              "outlinewidth": 0,
              "ticks": ""
             }
            },
            "type": "scatterternary"
           }
          ],
          "surface": [
           {
            "colorbar": {
             "outlinewidth": 0,
             "ticks": ""
            },
            "colorscale": [
             [
              0,
              "#0d0887"
             ],
             [
              0.1111111111111111,
              "#46039f"
             ],
             [
              0.2222222222222222,
              "#7201a8"
             ],
             [
              0.3333333333333333,
              "#9c179e"
             ],
             [
              0.4444444444444444,
              "#bd3786"
             ],
             [
              0.5555555555555556,
              "#d8576b"
             ],
             [
              0.6666666666666666,
              "#ed7953"
             ],
             [
              0.7777777777777778,
              "#fb9f3a"
             ],
             [
              0.8888888888888888,
              "#fdca26"
             ],
             [
              1,
              "#f0f921"
             ]
            ],
            "type": "surface"
           }
          ],
          "table": [
           {
            "cells": {
             "fill": {
              "color": "#EBF0F8"
             },
             "line": {
              "color": "white"
             }
            },
            "header": {
             "fill": {
              "color": "#C8D4E3"
             },
             "line": {
              "color": "white"
             }
            },
            "type": "table"
           }
          ]
         },
         "layout": {
          "annotationdefaults": {
           "arrowcolor": "#2a3f5f",
           "arrowhead": 0,
           "arrowwidth": 1
          },
          "autotypenumbers": "strict",
          "coloraxis": {
           "colorbar": {
            "outlinewidth": 0,
            "ticks": ""
           }
          },
          "colorscale": {
           "diverging": [
            [
             0,
             "#8e0152"
            ],
            [
             0.1,
             "#c51b7d"
            ],
            [
             0.2,
             "#de77ae"
            ],
            [
             0.3,
             "#f1b6da"
            ],
            [
             0.4,
             "#fde0ef"
            ],
            [
             0.5,
             "#f7f7f7"
            ],
            [
             0.6,
             "#e6f5d0"
            ],
            [
             0.7,
             "#b8e186"
            ],
            [
             0.8,
             "#7fbc41"
            ],
            [
             0.9,
             "#4d9221"
            ],
            [
             1,
             "#276419"
            ]
           ],
           "sequential": [
            [
             0,
             "#0d0887"
            ],
            [
             0.1111111111111111,
             "#46039f"
            ],
            [
             0.2222222222222222,
             "#7201a8"
            ],
            [
             0.3333333333333333,
             "#9c179e"
            ],
            [
             0.4444444444444444,
             "#bd3786"
            ],
            [
             0.5555555555555556,
             "#d8576b"
            ],
            [
             0.6666666666666666,
             "#ed7953"
            ],
            [
             0.7777777777777778,
             "#fb9f3a"
            ],
            [
             0.8888888888888888,
             "#fdca26"
            ],
            [
             1,
             "#f0f921"
            ]
           ],
           "sequentialminus": [
            [
             0,
             "#0d0887"
            ],
            [
             0.1111111111111111,
             "#46039f"
            ],
            [
             0.2222222222222222,
             "#7201a8"
            ],
            [
             0.3333333333333333,
             "#9c179e"
            ],
            [
             0.4444444444444444,
             "#bd3786"
            ],
            [
             0.5555555555555556,
             "#d8576b"
            ],
            [
             0.6666666666666666,
             "#ed7953"
            ],
            [
             0.7777777777777778,
             "#fb9f3a"
            ],
            [
             0.8888888888888888,
             "#fdca26"
            ],
            [
             1,
             "#f0f921"
            ]
           ]
          },
          "colorway": [
           "#636efa",
           "#EF553B",
           "#00cc96",
           "#ab63fa",
           "#FFA15A",
           "#19d3f3",
           "#FF6692",
           "#B6E880",
           "#FF97FF",
           "#FECB52"
          ],
          "font": {
           "color": "#2a3f5f"
          },
          "geo": {
           "bgcolor": "white",
           "lakecolor": "white",
           "landcolor": "#E5ECF6",
           "showlakes": true,
           "showland": true,
           "subunitcolor": "white"
          },
          "hoverlabel": {
           "align": "left"
          },
          "hovermode": "closest",
          "mapbox": {
           "style": "light"
          },
          "paper_bgcolor": "white",
          "plot_bgcolor": "#E5ECF6",
          "polar": {
           "angularaxis": {
            "gridcolor": "white",
            "linecolor": "white",
            "ticks": ""
           },
           "bgcolor": "#E5ECF6",
           "radialaxis": {
            "gridcolor": "white",
            "linecolor": "white",
            "ticks": ""
           }
          },
          "scene": {
           "xaxis": {
            "backgroundcolor": "#E5ECF6",
            "gridcolor": "white",
            "gridwidth": 2,
            "linecolor": "white",
            "showbackground": true,
            "ticks": "",
            "zerolinecolor": "white"
           },
           "yaxis": {
            "backgroundcolor": "#E5ECF6",
            "gridcolor": "white",
            "gridwidth": 2,
            "linecolor": "white",
            "showbackground": true,
            "ticks": "",
            "zerolinecolor": "white"
           },
           "zaxis": {
            "backgroundcolor": "#E5ECF6",
            "gridcolor": "white",
            "gridwidth": 2,
            "linecolor": "white",
            "showbackground": true,
            "ticks": "",
            "zerolinecolor": "white"
           }
          },
          "shapedefaults": {
           "line": {
            "color": "#2a3f5f"
           }
          },
          "ternary": {
           "aaxis": {
            "gridcolor": "white",
            "linecolor": "white",
            "ticks": ""
           },
           "baxis": {
            "gridcolor": "white",
            "linecolor": "white",
            "ticks": ""
           },
           "bgcolor": "#E5ECF6",
           "caxis": {
            "gridcolor": "white",
            "linecolor": "white",
            "ticks": ""
           }
          },
          "title": {
           "x": 0.05
          },
          "xaxis": {
           "automargin": true,
           "gridcolor": "white",
           "linecolor": "white",
           "ticks": "",
           "title": {
            "standoff": 15
           },
           "zerolinecolor": "white",
           "zerolinewidth": 2
          },
          "yaxis": {
           "automargin": true,
           "gridcolor": "white",
           "linecolor": "white",
           "ticks": "",
           "title": {
            "standoff": 15
           },
           "zerolinecolor": "white",
           "zerolinewidth": 2
          }
         }
        },
        "title": {
         "text": "Pérdida con función MAE"
        },
        "xaxis": {
         "title": {
          "text": "Épocas"
         }
        },
        "yaxis": {
         "title": {
          "text": "MAE"
         }
        }
       }
      }
     },
     "metadata": {},
     "output_type": "display_data"
    }
   ],
   "source": [
    "fig_mae = go.Figure()\n",
    "fig_mae.add_trace(go.Scatter(y=history_mae.history['loss'], name='Entrenamiento (MAE)'))\n",
    "fig_mae.add_trace(go.Scatter(y=history_mae.history['val_loss'], name='Validación (MAE)'))\n",
    "fig_mae.update_layout(title='Pérdida con función MAE', xaxis_title='Épocas', yaxis_title='MAE')\n",
    "fig_mae.show()\n"
   ]
  },
  {
   "cell_type": "markdown",
   "id": "5c924262",
   "metadata": {},
   "source": [
    "* En este grafico, ambas lineas —entrenamiento y validacion— se acercan y disminuyen juntas de manera constante, lo que indica que el modelo esta aprendiendo correctamente y no presenta sobreajuste (overfitting). Esto significa que el modelo generaliza bien y su rendimiento es estable tanto con los datos de entrenamiento como con datos nuevos.\n"
   ]
  },
  {
   "cell_type": "markdown",
   "id": "76d36f88",
   "metadata": {},
   "source": [
    "* Finalmente guardamos el modelo "
   ]
  },
  {
   "cell_type": "code",
   "execution_count": 10,
   "id": "a83bd3f3",
   "metadata": {},
   "outputs": [],
   "source": [
    "model_mae.save('modelos/modelo_red_neuronal_mae.keras')\n"
   ]
  }
 ],
 "metadata": {
  "kernelspec": {
   "display_name": ".venv",
   "language": "python",
   "name": "python3"
  },
  "language_info": {
   "codemirror_mode": {
    "name": "ipython",
    "version": 3
   },
   "file_extension": ".py",
   "mimetype": "text/x-python",
   "name": "python",
   "nbconvert_exporter": "python",
   "pygments_lexer": "ipython3",
   "version": "3.11.5"
  }
 },
 "nbformat": 4,
 "nbformat_minor": 5
}
