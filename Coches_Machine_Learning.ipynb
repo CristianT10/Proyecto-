{
 "cells": [
  {
   "cell_type": "markdown",
   "id": "073706bf",
   "metadata": {},
   "source": [
    "## MACHINE LEARNING Y REDES NEURONALES ##"
   ]
  },
  {
   "cell_type": "code",
   "execution_count": null,
   "id": "6e25a0bc",
   "metadata": {},
   "outputs": [],
   "source": [
    "## Probar diferentes modelos de regresion de Machine Learning y modelos de regresion de redes neuronales como variable target\n",
    "import pandas as pd\n",
    "import numpy as np\n",
    "import matplotlib.pyplot as plt\n",
    "import seaborn as sns\n",
    "from sklearn.model_selection import train_test_split, cross_val_score\n",
    "from sklearn.preprocessing import StandardScaler, OneHotEncoder\n",
    "from sklearn.linear_model import LinearRegression, Ridge, Lasso\n",
    "from sklearn.compose import ColumnTransformer\n",
    "from sklearn.pipeline import Pipeline\n",
    "from sklearn.ensemble import RandomForestRegressor, GradientBoostingRegressor\n",
    "from sklearn.metrics import mean_squared_error, r2_score,make_scorer, mean_absolute_error, mean_absolute_percentage_error\n",
    "from sklearn.svm import SVR\n",
    "from sklearn.neighbors import KNeighborsRegressor\n",
    "from sklearn.model_selection import GridSearchCV\n",
    "#---------------------------------------------------------------------\n",
    "# Librerias de keras\n",
    "from tensorflow import keras\n",
    "from scikeras.wrappers import KerasRegressor \n",
    "from keras.datasets import mnist\n",
    "from keras.models import Sequential\n",
    "from keras.layers import Dense, Flatten, Dropout, Input\n",
    "from keras.utils import to_categorical\n",
    "import matplotlib.pyplot as plt\n",
    "import plotly.graph_objects as go\n",
    "from keras.optimizers import Adam\n",
    "import plotly.graph_objects as go\n",
    "from plotly.subplots import make_subplots"
   ]
  },
  {
   "cell_type": "code",
   "execution_count": null,
   "id": "972fa1d1",
   "metadata": {},
   "outputs": [],
   "source": [
    "# Importar el dataset\n",
    "df = pd.read_csv('datos_limpios.csv')"
   ]
  },
  {
   "cell_type": "code",
   "execution_count": 3,
   "id": "af9c7be6",
   "metadata": {},
   "outputs": [
    {
     "data": {
      "text/html": [
       "<div>\n",
       "<style scoped>\n",
       "    .dataframe tbody tr th:only-of-type {\n",
       "        vertical-align: middle;\n",
       "    }\n",
       "\n",
       "    .dataframe tbody tr th {\n",
       "        vertical-align: top;\n",
       "    }\n",
       "\n",
       "    .dataframe thead th {\n",
       "        text-align: right;\n",
       "    }\n",
       "</style>\n",
       "<table border=\"1\" class=\"dataframe\">\n",
       "  <thead>\n",
       "    <tr style=\"text-align: right;\">\n",
       "      <th></th>\n",
       "      <th>id_extraccion</th>\n",
       "      <th>timestamp_extraccion</th>\n",
       "      <th>marca</th>\n",
       "      <th>titulo</th>\n",
       "      <th>precio_contado</th>\n",
       "      <th>financiacion_disponible</th>\n",
       "      <th>descuento</th>\n",
       "      <th>precio_final</th>\n",
       "      <th>ubicacion</th>\n",
       "      <th>kilometraje</th>\n",
       "      <th>...</th>\n",
       "      <th>latitud</th>\n",
       "      <th>longitud</th>\n",
       "      <th>transmision</th>\n",
       "      <th>tipo_carroceria</th>\n",
       "      <th>asientos</th>\n",
       "      <th>potencia</th>\n",
       "      <th>puertas</th>\n",
       "      <th>mes_matriculacion2</th>\n",
       "      <th>año_matriculacion2</th>\n",
       "      <th>garantia_limpia</th>\n",
       "    </tr>\n",
       "  </thead>\n",
       "  <tbody>\n",
       "    <tr>\n",
       "      <th>0</th>\n",
       "      <td>https://www.autocasion.com/coches-segunda-mano...</td>\n",
       "      <td>2025-06-13 17:48:32.862597</td>\n",
       "      <td>ABARTH</td>\n",
       "      <td>ABARTH 500 C 695C 1.4 16v T-Jet 132kW (180 CV)</td>\n",
       "      <td>22490.0</td>\n",
       "      <td>True</td>\n",
       "      <td>-0.04</td>\n",
       "      <td>21590.40</td>\n",
       "      <td>Madrid</td>\n",
       "      <td>23213.0</td>\n",
       "      <td>...</td>\n",
       "      <td>40.4168</td>\n",
       "      <td>-3.7038</td>\n",
       "      <td>Manual</td>\n",
       "      <td>Desconocido</td>\n",
       "      <td>0.0</td>\n",
       "      <td>179.0</td>\n",
       "      <td>2.0</td>\n",
       "      <td>12.0</td>\n",
       "      <td>2022.0</td>\n",
       "      <td>12</td>\n",
       "    </tr>\n",
       "    <tr>\n",
       "      <th>1</th>\n",
       "      <td>https://www.autocasion.com/coches-segunda-mano...</td>\n",
       "      <td>2025-06-13 17:48:32.863158</td>\n",
       "      <td>ABARTH</td>\n",
       "      <td>ABARTH 500 1,4 Turbo</td>\n",
       "      <td>11799.0</td>\n",
       "      <td>True</td>\n",
       "      <td>-0.03</td>\n",
       "      <td>11445.03</td>\n",
       "      <td>Barcelona</td>\n",
       "      <td>100924.0</td>\n",
       "      <td>...</td>\n",
       "      <td>41.3851</td>\n",
       "      <td>2.1734</td>\n",
       "      <td>Manual</td>\n",
       "      <td>Desconocido</td>\n",
       "      <td>0.0</td>\n",
       "      <td>135.0</td>\n",
       "      <td>3.0</td>\n",
       "      <td>4.0</td>\n",
       "      <td>2015.0</td>\n",
       "      <td>12</td>\n",
       "    </tr>\n",
       "    <tr>\n",
       "      <th>2</th>\n",
       "      <td>https://www.autocasion.com/coches-segunda-mano...</td>\n",
       "      <td>2025-06-13 17:48:32.863594</td>\n",
       "      <td>ABARTH</td>\n",
       "      <td>ABARTH 124 SPIDER  Spider Turbo Multiair 125kW...</td>\n",
       "      <td>22990.0</td>\n",
       "      <td>True</td>\n",
       "      <td>-0.04</td>\n",
       "      <td>22070.40</td>\n",
       "      <td>Barcelona</td>\n",
       "      <td>97814.0</td>\n",
       "      <td>...</td>\n",
       "      <td>41.3851</td>\n",
       "      <td>2.1734</td>\n",
       "      <td>Automático</td>\n",
       "      <td>Desconocido</td>\n",
       "      <td>2.0</td>\n",
       "      <td>170.0</td>\n",
       "      <td>2.0</td>\n",
       "      <td>12.0</td>\n",
       "      <td>2018.0</td>\n",
       "      <td>12</td>\n",
       "    </tr>\n",
       "    <tr>\n",
       "      <th>3</th>\n",
       "      <td>https://www.autocasion.com/coches-segunda-mano...</td>\n",
       "      <td>2025-06-13 17:48:32.863992</td>\n",
       "      <td>ABARTH</td>\n",
       "      <td>ABARTH 500 595 1.4T JET TURISMO 160</td>\n",
       "      <td>15990.0</td>\n",
       "      <td>True</td>\n",
       "      <td>0.00</td>\n",
       "      <td>15990.00</td>\n",
       "      <td>Alicante</td>\n",
       "      <td>36000.0</td>\n",
       "      <td>...</td>\n",
       "      <td>38.3452</td>\n",
       "      <td>-0.4810</td>\n",
       "      <td>Manual</td>\n",
       "      <td>Berlina</td>\n",
       "      <td>4.0</td>\n",
       "      <td>160.0</td>\n",
       "      <td>3.0</td>\n",
       "      <td>10.0</td>\n",
       "      <td>2016.0</td>\n",
       "      <td>12</td>\n",
       "    </tr>\n",
       "    <tr>\n",
       "      <th>4</th>\n",
       "      <td>https://www.autocasion.com/coches-segunda-mano...</td>\n",
       "      <td>2025-06-13 17:48:32.864370</td>\n",
       "      <td>ABARTH</td>\n",
       "      <td>ABARTH 500 500C 140 AUT.</td>\n",
       "      <td>13600.0</td>\n",
       "      <td>False</td>\n",
       "      <td>-0.07</td>\n",
       "      <td>12648.00</td>\n",
       "      <td>Vizcaya</td>\n",
       "      <td>145800.0</td>\n",
       "      <td>...</td>\n",
       "      <td>43.2630</td>\n",
       "      <td>-2.9349</td>\n",
       "      <td>Automático</td>\n",
       "      <td>Desconocido</td>\n",
       "      <td>4.0</td>\n",
       "      <td>140.0</td>\n",
       "      <td>2.0</td>\n",
       "      <td>7.0</td>\n",
       "      <td>2012.0</td>\n",
       "      <td>12</td>\n",
       "    </tr>\n",
       "    <tr>\n",
       "      <th>...</th>\n",
       "      <td>...</td>\n",
       "      <td>...</td>\n",
       "      <td>...</td>\n",
       "      <td>...</td>\n",
       "      <td>...</td>\n",
       "      <td>...</td>\n",
       "      <td>...</td>\n",
       "      <td>...</td>\n",
       "      <td>...</td>\n",
       "      <td>...</td>\n",
       "      <td>...</td>\n",
       "      <td>...</td>\n",
       "      <td>...</td>\n",
       "      <td>...</td>\n",
       "      <td>...</td>\n",
       "      <td>...</td>\n",
       "      <td>...</td>\n",
       "      <td>...</td>\n",
       "      <td>...</td>\n",
       "      <td>...</td>\n",
       "      <td>...</td>\n",
       "    </tr>\n",
       "    <tr>\n",
       "      <th>109060</th>\n",
       "      <td>https://www.autocasion.com/coches-km0/km-0/yud...</td>\n",
       "      <td>2025-06-13 21:34:25.203449</td>\n",
       "      <td>YOOUDOOO</td>\n",
       "      <td>YOOUDOOO K3 70kW</td>\n",
       "      <td>19990.0</td>\n",
       "      <td>True</td>\n",
       "      <td>0.00</td>\n",
       "      <td>19990.00</td>\n",
       "      <td>Pontevedra</td>\n",
       "      <td>7361.0</td>\n",
       "      <td>...</td>\n",
       "      <td>42.4333</td>\n",
       "      <td>-8.6500</td>\n",
       "      <td>Automático</td>\n",
       "      <td>Todo Terreno</td>\n",
       "      <td>5.0</td>\n",
       "      <td>95.0</td>\n",
       "      <td>5.0</td>\n",
       "      <td>6.0</td>\n",
       "      <td>2024.0</td>\n",
       "      <td>24</td>\n",
       "    </tr>\n",
       "    <tr>\n",
       "      <th>109061</th>\n",
       "      <td>https://www.autocasion.com/coches-km0/km-0/yud...</td>\n",
       "      <td>2025-06-13 21:34:25.203631</td>\n",
       "      <td>YOOUDOOO</td>\n",
       "      <td>YOOUDOOO K3 70kW</td>\n",
       "      <td>21900.0</td>\n",
       "      <td>True</td>\n",
       "      <td>0.00</td>\n",
       "      <td>21900.00</td>\n",
       "      <td>Sevilla</td>\n",
       "      <td>3000.0</td>\n",
       "      <td>...</td>\n",
       "      <td>37.3891</td>\n",
       "      <td>-5.9845</td>\n",
       "      <td>Automático</td>\n",
       "      <td>Todo Terreno</td>\n",
       "      <td>5.0</td>\n",
       "      <td>95.0</td>\n",
       "      <td>5.0</td>\n",
       "      <td>7.0</td>\n",
       "      <td>2024.0</td>\n",
       "      <td>96</td>\n",
       "    </tr>\n",
       "    <tr>\n",
       "      <th>109062</th>\n",
       "      <td>https://www.autocasion.com/coches-km0/km-0/yud...</td>\n",
       "      <td>2025-06-13 21:34:25.203813</td>\n",
       "      <td>YOOUDOOO</td>\n",
       "      <td>YOOUDOOO K3 YUDO Pequeño  Automático de 5 Puertas</td>\n",
       "      <td>26838.0</td>\n",
       "      <td>True</td>\n",
       "      <td>0.00</td>\n",
       "      <td>26838.00</td>\n",
       "      <td>Barcelona</td>\n",
       "      <td>10.0</td>\n",
       "      <td>...</td>\n",
       "      <td>41.3851</td>\n",
       "      <td>2.1734</td>\n",
       "      <td>Automático</td>\n",
       "      <td>Pequeño</td>\n",
       "      <td>5.0</td>\n",
       "      <td>95.0</td>\n",
       "      <td>5.0</td>\n",
       "      <td>8.0</td>\n",
       "      <td>2024.0</td>\n",
       "      <td>12</td>\n",
       "    </tr>\n",
       "    <tr>\n",
       "      <th>109063</th>\n",
       "      <td>https://www.autocasion.com/coches-km0/km-0/yud...</td>\n",
       "      <td>2025-06-13 21:34:25.204043</td>\n",
       "      <td>YOOUDOOO</td>\n",
       "      <td>YOOUDOOO K3 70kW</td>\n",
       "      <td>22990.0</td>\n",
       "      <td>True</td>\n",
       "      <td>0.00</td>\n",
       "      <td>22990.00</td>\n",
       "      <td>La Rioja</td>\n",
       "      <td>4585.0</td>\n",
       "      <td>...</td>\n",
       "      <td>42.4627</td>\n",
       "      <td>-2.4450</td>\n",
       "      <td>Automático</td>\n",
       "      <td>Todo Terreno</td>\n",
       "      <td>5.0</td>\n",
       "      <td>95.0</td>\n",
       "      <td>5.0</td>\n",
       "      <td>1.0</td>\n",
       "      <td>2025.0</td>\n",
       "      <td>84</td>\n",
       "    </tr>\n",
       "    <tr>\n",
       "      <th>109064</th>\n",
       "      <td>https://www.autocasion.com/coches-segunda-mano...</td>\n",
       "      <td>2025-06-13 21:34:25.204508</td>\n",
       "      <td>YOOUDOOO</td>\n",
       "      <td>YOOUDOOO K3 70kW</td>\n",
       "      <td>21950.0</td>\n",
       "      <td>False</td>\n",
       "      <td>0.00</td>\n",
       "      <td>21950.00</td>\n",
       "      <td>Toledo</td>\n",
       "      <td>14066.0</td>\n",
       "      <td>...</td>\n",
       "      <td>39.8628</td>\n",
       "      <td>-4.0273</td>\n",
       "      <td>Automático</td>\n",
       "      <td>Todo Terreno</td>\n",
       "      <td>5.0</td>\n",
       "      <td>95.0</td>\n",
       "      <td>5.0</td>\n",
       "      <td>6.0</td>\n",
       "      <td>2024.0</td>\n",
       "      <td>12</td>\n",
       "    </tr>\n",
       "  </tbody>\n",
       "</table>\n",
       "<p>109065 rows × 29 columns</p>\n",
       "</div>"
      ],
      "text/plain": [
       "                                            id_extraccion  \\\n",
       "0       https://www.autocasion.com/coches-segunda-mano...   \n",
       "1       https://www.autocasion.com/coches-segunda-mano...   \n",
       "2       https://www.autocasion.com/coches-segunda-mano...   \n",
       "3       https://www.autocasion.com/coches-segunda-mano...   \n",
       "4       https://www.autocasion.com/coches-segunda-mano...   \n",
       "...                                                   ...   \n",
       "109060  https://www.autocasion.com/coches-km0/km-0/yud...   \n",
       "109061  https://www.autocasion.com/coches-km0/km-0/yud...   \n",
       "109062  https://www.autocasion.com/coches-km0/km-0/yud...   \n",
       "109063  https://www.autocasion.com/coches-km0/km-0/yud...   \n",
       "109064  https://www.autocasion.com/coches-segunda-mano...   \n",
       "\n",
       "              timestamp_extraccion     marca  \\\n",
       "0       2025-06-13 17:48:32.862597    ABARTH   \n",
       "1       2025-06-13 17:48:32.863158    ABARTH   \n",
       "2       2025-06-13 17:48:32.863594    ABARTH   \n",
       "3       2025-06-13 17:48:32.863992    ABARTH   \n",
       "4       2025-06-13 17:48:32.864370    ABARTH   \n",
       "...                            ...       ...   \n",
       "109060  2025-06-13 21:34:25.203449  YOOUDOOO   \n",
       "109061  2025-06-13 21:34:25.203631  YOOUDOOO   \n",
       "109062  2025-06-13 21:34:25.203813  YOOUDOOO   \n",
       "109063  2025-06-13 21:34:25.204043  YOOUDOOO   \n",
       "109064  2025-06-13 21:34:25.204508  YOOUDOOO   \n",
       "\n",
       "                                                   titulo  precio_contado  \\\n",
       "0          ABARTH 500 C 695C 1.4 16v T-Jet 132kW (180 CV)         22490.0   \n",
       "1                                    ABARTH 500 1,4 Turbo         11799.0   \n",
       "2       ABARTH 124 SPIDER  Spider Turbo Multiair 125kW...         22990.0   \n",
       "3                     ABARTH 500 595 1.4T JET TURISMO 160         15990.0   \n",
       "4                                ABARTH 500 500C 140 AUT.         13600.0   \n",
       "...                                                   ...             ...   \n",
       "109060                                   YOOUDOOO K3 70kW         19990.0   \n",
       "109061                                   YOOUDOOO K3 70kW         21900.0   \n",
       "109062  YOOUDOOO K3 YUDO Pequeño  Automático de 5 Puertas         26838.0   \n",
       "109063                                   YOOUDOOO K3 70kW         22990.0   \n",
       "109064                                   YOOUDOOO K3 70kW         21950.0   \n",
       "\n",
       "        financiacion_disponible  descuento  precio_final   ubicacion  \\\n",
       "0                          True      -0.04      21590.40      Madrid   \n",
       "1                          True      -0.03      11445.03   Barcelona   \n",
       "2                          True      -0.04      22070.40   Barcelona   \n",
       "3                          True       0.00      15990.00    Alicante   \n",
       "4                         False      -0.07      12648.00     Vizcaya   \n",
       "...                         ...        ...           ...         ...   \n",
       "109060                     True       0.00      19990.00  Pontevedra   \n",
       "109061                     True       0.00      21900.00     Sevilla   \n",
       "109062                     True       0.00      26838.00   Barcelona   \n",
       "109063                     True       0.00      22990.00    La Rioja   \n",
       "109064                    False       0.00      21950.00      Toledo   \n",
       "\n",
       "        kilometraje  ...  latitud  longitud  transmision  tipo_carroceria  \\\n",
       "0           23213.0  ...  40.4168   -3.7038       Manual      Desconocido   \n",
       "1          100924.0  ...  41.3851    2.1734       Manual      Desconocido   \n",
       "2           97814.0  ...  41.3851    2.1734   Automático      Desconocido   \n",
       "3           36000.0  ...  38.3452   -0.4810       Manual          Berlina   \n",
       "4          145800.0  ...  43.2630   -2.9349   Automático      Desconocido   \n",
       "...             ...  ...      ...       ...          ...              ...   \n",
       "109060       7361.0  ...  42.4333   -8.6500   Automático     Todo Terreno   \n",
       "109061       3000.0  ...  37.3891   -5.9845   Automático     Todo Terreno   \n",
       "109062         10.0  ...  41.3851    2.1734   Automático          Pequeño   \n",
       "109063       4585.0  ...  42.4627   -2.4450   Automático     Todo Terreno   \n",
       "109064      14066.0  ...  39.8628   -4.0273   Automático     Todo Terreno   \n",
       "\n",
       "        asientos  potencia  puertas  mes_matriculacion2  año_matriculacion2  \\\n",
       "0            0.0     179.0      2.0                12.0              2022.0   \n",
       "1            0.0     135.0      3.0                 4.0              2015.0   \n",
       "2            2.0     170.0      2.0                12.0              2018.0   \n",
       "3            4.0     160.0      3.0                10.0              2016.0   \n",
       "4            4.0     140.0      2.0                 7.0              2012.0   \n",
       "...          ...       ...      ...                 ...                 ...   \n",
       "109060       5.0      95.0      5.0                 6.0              2024.0   \n",
       "109061       5.0      95.0      5.0                 7.0              2024.0   \n",
       "109062       5.0      95.0      5.0                 8.0              2024.0   \n",
       "109063       5.0      95.0      5.0                 1.0              2025.0   \n",
       "109064       5.0      95.0      5.0                 6.0              2024.0   \n",
       "\n",
       "        garantia_limpia  \n",
       "0                    12  \n",
       "1                    12  \n",
       "2                    12  \n",
       "3                    12  \n",
       "4                    12  \n",
       "...                 ...  \n",
       "109060               24  \n",
       "109061               96  \n",
       "109062               12  \n",
       "109063               84  \n",
       "109064               12  \n",
       "\n",
       "[109065 rows x 29 columns]"
      ]
     },
     "execution_count": 3,
     "metadata": {},
     "output_type": "execute_result"
    }
   ],
   "source": [
    "df"
   ]
  },
  {
   "cell_type": "code",
   "execution_count": 4,
   "id": "e8866c95",
   "metadata": {},
   "outputs": [
    {
     "data": {
      "text/plain": [
       "0         21590.40\n",
       "1         11445.03\n",
       "2         22070.40\n",
       "3         15990.00\n",
       "4         12648.00\n",
       "            ...   \n",
       "109060    19990.00\n",
       "109061    21900.00\n",
       "109062    26838.00\n",
       "109063    22990.00\n",
       "109064    21950.00\n",
       "Name: precio_final, Length: 109065, dtype: float64"
      ]
     },
     "execution_count": 4,
     "metadata": {},
     "output_type": "execute_result"
    }
   ],
   "source": [
    "df[\"precio_final\"]"
   ]
  },
  {
   "cell_type": "code",
   "execution_count": 5,
   "id": "11c30e71",
   "metadata": {},
   "outputs": [
    {
     "data": {
      "image/png": "[encoded data removed]",
      "text/plain": [
       "<Figure size 1200x800 with 2 Axes>"
      ]
     },
     "metadata": {},
     "output_type": "display_data"
    }
   ],
   "source": [
    "plt.figure(figsize=(12, 8))\n",
    "sns.heatmap(df._get_numeric_data().iloc[:, 1:].corr(), annot=True)\n",
    "plt.show()"
   ]
  },
  {
   "cell_type": "code",
   "execution_count": null,
   "id": "83305445",
   "metadata": {},
   "outputs": [
    {
     "name": "stdout",
     "output_type": "stream",
     "text": [
      "                                precio_final\n",
      "precio_final                        1.000000\n",
      "precio_contado                      0.997191\n",
      "potencia                            0.443884\n",
      "combustible_Híbrido Enchufable      0.103132\n",
      "año_matriculacion2                  0.095903\n",
      "garantia_limpia                     0.054156\n",
      "combustible_Gasolina                0.046630\n",
      "longitud                            0.017427\n",
      "es_demo                             0.007979\n",
      "combustible_Eléctrico               0.007776\n"
     ]
    }
   ],
   "source": [
    "X = df.drop(columns=['precio_final'])\n",
    "y = df['precio_final']\n",
    "categorical_cols = X.select_dtypes(include=['object']).columns.tolist()\n",
    "numeric_cols = X.select_dtypes(include=['float64', 'int64', 'bool']).columns.tolist()\n",
    "high_cardinality_cols = ['id_extraccion', 'titulo', 'timestamp_extraccion']\n",
    "for col in high_cardinality_cols:\n",
    "\tif col in categorical_cols:\n",
    "\t\tcategorical_cols.remove(col)\n",
    "\tif col in X.columns:\n",
    "\t\tX = X.drop(columns=[col])\n",
    "categorical_cols = [col for col in categorical_cols if col in X.columns]\n",
    "numeric_cols = [col for col in numeric_cols if col in X.columns]\n",
    "preprocessor = ColumnTransformer(\n",
    "\ttransformers=[\n",
    "\t\t('num', StandardScaler(), numeric_cols),\n",
    "\t\t('cat', OneHotEncoder(handle_unknown='ignore', sparse_output=False), categorical_cols)\n",
    "\t]\n",
    ")\n",
    "\n",
    "X_processed = preprocessor.fit_transform(X)\n",
    "\n",
    "correlacion = df.corr(numeric_only=True)[['precio_final']].sort_values('precio_final', ascending=False)\n",
    "print(correlacion.head(10))\n",
    "x_train, x_test, y_train, y_test = train_test_split(X_processed, y, test_size=0.2, random_state=42)\n"
   ]
  },
  {
   "cell_type": "code",
   "execution_count": 7,
   "id": "5ff1c599",
   "metadata": {},
   "outputs": [],
   "source": [
    "X_scaler = StandardScaler()\n",
    "X_train_scaled = X_scaler.fit_transform(x_train) \n",
    "X_test_scaled = X_scaler.transform(x_test)\n",
    "\n",
    "y_scaler = StandardScaler()\n",
    "y_train_scaled = y_scaler.fit_transform(y_train.values.reshape(-1, 1))  \n",
    "y_test_scaled = y_scaler.transform(y_test.values.reshape(-1, 1))"
   ]
  },
  {
   "cell_type": "code",
   "execution_count": null,
   "id": "9cd70a5c",
   "metadata": {},
   "outputs": [
    {
     "name": "stdout",
     "output_type": "stream",
     "text": [
      "\n",
      " Res Random Forest:\n",
      "MAE: 162.95\n",
      "MSE: 101897933.62\n",
      "RMSE: 10094.45\n",
      "R²: 0.9859\n",
      "\n",
      " Res Gradient Boosting:\n",
      "MAE: 496.77\n",
      "MSE: 51068779.68\n",
      "RMSE: 7146.24\n",
      "R²: 0.9929\n",
      "\n",
      " Res KNN:\n",
      "MAE: 5951.47\n",
      "MSE: 291394878.05\n",
      "RMSE: 17070.29\n",
      "R²: 0.9597\n"
     ]
    }
   ],
   "source": [
    "\n",
    "from sklearn.metrics import mean_absolute_error\n",
    "\n",
    "def evaluar_modelo(y_real, y_pred, modelo_nombre):\n",
    "    mae = mean_absolute_error(y_real, y_pred)\n",
    "    mse = mean_squared_error(y_real, y_pred)\n",
    "    r2 = r2_score(y_real, y_pred)\n",
    "    \n",
    "    print(f\"\\n Res {modelo_nombre}:\")\n",
    "    print(f\"MAE: {mae:.2f}\")\n",
    "    print(f\"MSE: {mse:.2f}\")\n",
    "    print(f\"RMSE: {np.sqrt(mse):.2f}\")\n",
    "    print(f\"R²: {r2:.4f}\")\n",
    "    \n",
    "    return {'MAE': mae, 'MSE': mse, 'R²': r2}\n",
    "\n",
    "resultados = {}\n",
    "modelos = {\n",
    "    'Random Forest': RandomForestRegressor(n_estimators=50, random_state=42),\n",
    "    'Gradient Boosting': GradientBoostingRegressor(random_state=42),\n",
    "    'KNN': KNeighborsRegressor(n_neighbors=5)\n",
    "}\n",
    "\n",
    "for nombre, modelo in modelos.items():\n",
    "    modelo.fit(X_train_scaled, y_train_scaled.ravel())\n",
    "    y_pred_scaled = modelo.predict(X_test_scaled)\n",
    "    y_pred = y_scaler.inverse_transform(y_pred_scaled.reshape(-1, 1))\n",
    "    y_test_original = y_scaler.inverse_transform(y_test_scaled)\n",
    "    resultados[nombre] = evaluar_modelo(y_test_original, y_pred, nombre)"
   ]
  },
  {
   "cell_type": "code",
   "execution_count": null,
   "id": "562c89d4",
   "metadata": {},
   "outputs": [
    {
     "name": "stdout",
     "output_type": "stream",
     "text": [
      "\n",
      "Importancia de características ordenadas:\n",
      "========================================\n",
      "                            Feature   Importance\n",
      "                num__precio_contado 9.898790e-01\n",
      "                      num__potencia 2.468844e-03\n",
      "                      num__asientos 1.264676e-03\n",
      "                     num__descuento 1.072242e-03\n",
      "            num__mes_matriculacion2 7.856483e-04\n",
      "                 cat__marca_FERRARI 6.864946e-04\n",
      "                   num__kilometraje 5.669664e-04\n",
      "                      num__longitud 5.342269e-04\n",
      "            num__año_matriculacion2 5.280038e-04\n",
      "              cat__ubicacion_Murcia 4.333120e-04\n",
      "          num__combustible_Gasolina 3.372810e-04\n",
      "                       num__latitud 2.919687e-04\n",
      "                 cat__marca_BUGATTI 2.063735e-04\n",
      "                 cat__marca_PORSCHE 1.700060e-04\n",
      "              cat__ubicacion_Madrid 1.617667e-04\n",
      "            cat__marca_ASTON MARTIN 1.515556e-04\n",
      "            cat__ubicacion_Alicante 6.978579e-05\n",
      "                  cat__marca_PAGANI 6.152282e-05\n",
      "        cat__transmision_Automático 5.972650e-05\n",
      "            cat__transmision_Manual 5.187575e-05\n",
      "           cat__ubicacion_Barcelona 4.834915e-05\n",
      "           cat__marca_MERCEDES-BENZ 4.213077e-05\n",
      "num__combustible_Híbrido Enchufable 3.357344e-05\n",
      "               num__garantia_limpia 3.077729e-05\n",
      "              cat__ubicacion_Málaga 2.329983e-05\n",
      "                       num__puertas 1.837657e-05\n",
      "           num__combustible_Híbrido 7.090750e-06\n",
      "                 cat__marca_MCLAREN 5.295837e-06\n",
      "              cat__ubicacion_Toledo 3.796906e-06\n",
      "             cat__marca_ROLLS-ROYCE 1.118153e-06\n",
      "       cat__tipo_carroceria_Berlina 1.073483e-06\n",
      "                    cat__marca_FORD 9.625844e-07\n",
      "  cat__tipo_carroceria_Todo Terreno 6.240257e-07\n",
      "   cat__tipo_carroceria_Desconocido 6.067626e-07\n",
      "         num__combustible_Eléctrico 2.578909e-07\n",
      "            cat__ubicacion_La Rioja 2.196053e-07\n",
      "             cat__marca_LAMBORGHINI 1.883152e-07\n",
      "            num__combustible_Diésel 1.394432e-07\n",
      "                 cat__marca_BENTLEY 7.443004e-08\n",
      "       num__financiacion_disponible 6.731896e-08\n",
      "              cat__marca_LAND-ROVER 5.687506e-08\n",
      "      cat__ubicacion_Islas Baleares 5.329529e-08\n",
      "            cat__ubicacion_Valencia 4.621830e-08\n",
      "               cat__ubicacion_Cádiz 4.617578e-08\n",
      "                   cat__marca_CUPRA 4.244301e-08\n",
      "  cat__tipo_carroceria_Stationwagon 4.012002e-08\n",
      "   cat__tipo_carroceria_Monovolumen 3.550135e-08\n",
      "                    cat__marca_AUDI 3.256581e-08\n",
      "                     cat__marca_BMW 3.134971e-08\n",
      "            cat__ubicacion_Tenerife 2.789704e-08\n",
      "       cat__tipo_carroceria_Pequeño 2.776912e-08\n",
      "              cat__ubicacion_Girona 2.408957e-08\n",
      "                        num__es_km0 1.513903e-08\n",
      "             cat__ubicacion_Vizcaya 1.428568e-08\n",
      "            cat__ubicacion_Asturias 1.118016e-08\n",
      "           cat__ubicacion_La Coruña 1.069930e-08\n",
      "           cat__ubicacion_Tarragona 9.958644e-09\n",
      "             cat__ubicacion_Sevilla 8.807604e-09\n",
      "                   cat__marca_SKODA 8.196032e-09\n",
      "      cat__tipo_carroceria_Familiar 7.730081e-09\n",
      "                  cat__marca_AIWAYS 7.120189e-09\n",
      "            cat__ubicacion_Zaragoza 7.077973e-09\n",
      "                 cat__marca_CITROEN 6.230682e-09\n",
      "             cat__ubicacion_Badajoz 5.941316e-09\n",
      "              cat__marca_ALFA ROMEO 5.221512e-09\n",
      "          cat__ubicacion_Pontevedra 5.163344e-09\n",
      "                   cat__marca_VOLVO 4.856596e-09\n",
      "                     cat__marca_KIA 4.631883e-09\n",
      "                cat__ubicacion_Lugo 4.326047e-09\n",
      "                  cat__marca_JAGUAR 4.300667e-09\n",
      "               num__combustible_nan 4.272930e-09\n",
      "                   cat__marca_LEXUS 4.058087e-09\n",
      "                cat__marca_CADILLAC 3.734338e-09\n",
      "                 cat__marca_PEUGEOT 3.624069e-09\n",
      "                cat__ubicacion_Jaén 3.370237e-09\n",
      "              cat__ubicacion_Orense 3.253424e-09\n",
      "                  cat__marca_NISSAN 3.237178e-09\n",
      "                  cat__marca_TOYOTA 2.662707e-09\n",
      "              cat__marca_VOLKSWAGEN 2.622983e-09\n",
      "           cat__ubicacion_Castellón 2.423075e-09\n",
      "                       num__es_demo 2.395497e-09\n",
      "          cat__ubicacion_Las Palmas 2.298566e-09\n",
      "                    cat__marca_FIAT 1.974946e-09\n",
      "                cat__marca_MASERATI 1.904350e-09\n",
      "             cat__ubicacion_Granada 1.855778e-09\n",
      "                    cat__marca_MINI 1.696394e-09\n",
      "             cat__ubicacion_Córdoba 1.633752e-09\n",
      "                cat__ubicacion_León 1.520355e-09\n",
      "                    cat__marca_OPEL 1.371650e-09\n",
      "         cat__ubicacion_Ciudad Real 1.335077e-09\n",
      "                 cat__marca_LINCOLN 1.331281e-09\n",
      "             cat__ubicacion_Almería 1.300136e-09\n",
      "              cat__ubicacion_Zamora 1.280518e-09\n",
      "               cat__ubicacion_Álava 1.253864e-09\n",
      "                      cat__marca_DS 1.231963e-09\n",
      "                 cat__marca_RENAULT 1.179731e-09\n",
      "               cat__marca_CHEVROLET 1.144730e-09\n",
      "                    cat__marca_JEEP 1.132550e-09\n",
      "                   cat__marca_SERES 1.064654e-09\n",
      "                  cat__marca_HURTAN 1.043433e-09\n",
      "                   cat__marca_DODGE 9.400160e-10\n",
      "              cat__marca_MITSUBISHI 8.813720e-10\n",
      "         cat__marca_KGM / SSANGYONG 8.788089e-10\n",
      "                 cat__marca_HYUNDAI 8.678820e-10\n",
      "              cat__ubicacion_Burgos 8.671095e-10\n",
      "              cat__ubicacion_Cuenca 6.499421e-10\n",
      "                   cat__marca_MAZDA 6.371579e-10\n",
      "              cat__ubicacion_Lleida 4.669372e-10\n",
      "                      cat__marca_MG 4.587701e-10\n",
      "                    cat__marca_SAAB 4.467687e-10\n",
      "                     cat__marca_RAM 4.414146e-10\n",
      "                   cat__marca_TESLA 4.209087e-10\n",
      "                   cat__marca_INEOS 3.679071e-10\n",
      "              cat__ubicacion_Huesca 3.673663e-10\n",
      "             cat__ubicacion_Navarra 3.499838e-10\n",
      "                    cat__marca_SEAT 3.368464e-10\n",
      "          cat__ubicacion_Valladolid 2.263197e-10\n",
      "           cat__ubicacion_Cantabria 2.130471e-10\n",
      "           cat__ubicacion_Salamanca 2.116987e-10\n",
      "                     cat__marca_GMC 1.546988e-10\n",
      "            cat__ubicacion_Albacete 1.425357e-10\n",
      "                   cat__marca_HONDA 1.350028e-10\n",
      "                   cat__marca_SMART 1.299162e-10\n",
      "                cat__marca_CHRYSLER 1.222557e-10\n",
      "              cat__ubicacion_Huelva 1.103749e-10\n",
      "                   cat__marca_LOTUS 1.012802e-10\n",
      "                   cat__marca_DACIA 9.907197e-11\n",
      "               cat__marca_LYNK & CO 8.201665e-11\n",
      "                    cat__marca_DFSK 7.670277e-11\n",
      "           cat__ubicacion_Guipúzcoa 4.680919e-11\n",
      "                  cat__marca_ABARTH 4.535716e-11\n",
      "                  cat__marca_SUZUKI 4.531147e-11\n",
      "             cat__ubicacion_Cáceres 4.254874e-11\n",
      "                  cat__marca_SUBARU 3.711670e-11\n",
      "            cat__ubicacion_Palencia 2.662932e-11\n",
      "                  cat__marca_LANCIA 1.925278e-11\n",
      "               num__combustible_Gas 1.881815e-11\n",
      "               cat__ubicacion_Ávila 1.632908e-11\n",
      "         cat__ubicacion_Guadalajara 7.495130e-12\n",
      "             cat__ubicacion_Segovia 4.960493e-12\n",
      "                cat__marca_INFINITI 3.343187e-12\n",
      "                     cat__marca_XEV 3.107764e-12\n",
      "                cat__marca_WIESMANN 1.698305e-12\n",
      "                  cat__marca_JAECOO 9.812725e-13\n",
      "               cat__marca_LEAPMOTOR 8.869379e-13\n",
      "                     cat__marca_EVO 6.092844e-13\n",
      "                   cat__marca_ROVER 5.560218e-13\n",
      "                   cat__marca_XPENG 5.221562e-13\n",
      "               cat__ubicacion_Soria 4.605386e-13\n",
      "                   cat__marca_OMODA 4.591832e-13\n",
      "                      cat__marca_DR 3.596309e-13\n",
      "                     cat__marca_BYD 3.119070e-13\n",
      "             cat__ubicacion_Melilla 3.035264e-13\n",
      "                  cat__marca_MORGAN 2.891371e-13\n",
      "                cat__marca_YOOUDOOO 6.161753e-14\n",
      "                cat__marca_CATERHAM 4.264968e-14\n",
      "                   cat__marca_LIVAN 3.672513e-14\n",
      "              cat__ubicacion_Teruel 2.877022e-14\n",
      "                    cat__marca_EBRO 1.875215e-14\n",
      "                     cat__marca_SWM 1.134298e-14\n",
      "                  cat__marca_DAEWOO 1.432813e-15\n",
      "                 cat__marca_BESTUNE 5.403223e-16\n",
      "                cat__marca_GALLOPER 3.376182e-17\n",
      "                  cat__marca_ALPINE 0.000000e+00\n",
      "                  cat__marca_HUMMER 0.000000e+00\n",
      "                 cat__marca_GENESIS 0.000000e+00\n",
      "                  cat__marca_FISKER 0.000000e+00\n",
      "                 cat__marca_DAIMLER 0.000000e+00\n",
      "                  cat__marca_CAN-AM 0.000000e+00\n",
      "                   cat__marca_BUICK 0.000000e+00\n",
      "                   cat__marca_MAXUS 0.000000e+00\n",
      "                 cat__marca_MAYBACH 0.000000e+00\n",
      "                    cat__marca_TATA 0.000000e+00\n",
      "                     cat__marca_TVR 0.000000e+00\n",
      "                 cat__marca_SANTANA 0.000000e+00\n",
      "                 cat__marca_PONTIAC 0.000000e+00\n",
      "                cat__marca_PLYMOUTH 0.000000e+00\n",
      "              cat__marca_MPM MOTORS 0.000000e+00\n",
      "                cat__marca_POLESTAR 0.000000e+00\n",
      "                 cat__marca_INVICTA 0.000000e+00\n",
      "                   cat__marca_KARMA 0.000000e+00\n",
      "                     cat__marca_KTM 0.000000e+00\n",
      "                   cat__marca_ISUZU 0.000000e+00\n",
      "                   cat__marca_IVECO 0.000000e+00\n",
      "                cat__marca_MAHINDRA 0.000000e+00\n",
      "                  cat__marca_LIGIER 0.000000e+00\n",
      "                    cat__marca_YES! 0.000000e+00\n",
      "               cat__ubicacion_Ceuta 0.000000e+00\n",
      "========================================\n",
      "\n",
      "Otra presentación:\n",
      "num__precio_contado : 0.98988\n",
      "num__potencia       : 0.00247\n",
      "num__asientos       : 0.00126\n",
      "num__descuento      : 0.00107\n",
      "num__mes_matriculacion2: 0.00079\n",
      "cat__marca_FERRARI  : 0.00069\n",
      "num__kilometraje    : 0.00057\n",
      "num__longitud       : 0.00053\n",
      "num__año_matriculacion2: 0.00053\n",
      "cat__ubicacion_Murcia: 0.00043\n",
      "num__combustible_Gasolina: 0.00034\n",
      "num__latitud        : 0.00029\n",
      "cat__marca_BUGATTI  : 0.00021\n",
      "cat__marca_PORSCHE  : 0.00017\n",
      "cat__ubicacion_Madrid: 0.00016\n",
      "cat__marca_ASTON MARTIN: 0.00015\n",
      "cat__ubicacion_Alicante: 0.00007\n",
      "cat__marca_PAGANI   : 0.00006\n",
      "cat__transmision_Automático: 0.00006\n",
      "cat__transmision_Manual: 0.00005\n",
      "cat__ubicacion_Barcelona: 0.00005\n",
      "cat__marca_MERCEDES-BENZ: 0.00004\n",
      "num__combustible_Híbrido Enchufable: 0.00003\n",
      "num__garantia_limpia: 0.00003\n",
      "cat__ubicacion_Málaga: 0.00002\n",
      "num__puertas        : 0.00002\n",
      "num__combustible_Híbrido: 0.00001\n",
      "cat__marca_MCLAREN  : 0.00001\n",
      "cat__ubicacion_Toledo: 0.00000\n",
      "cat__marca_ROLLS-ROYCE: 0.00000\n",
      "cat__tipo_carroceria_Berlina: 0.00000\n",
      "cat__marca_FORD     : 0.00000\n",
      "cat__tipo_carroceria_Todo Terreno: 0.00000\n",
      "cat__tipo_carroceria_Desconocido: 0.00000\n",
      "num__combustible_Eléctrico: 0.00000\n",
      "cat__ubicacion_La Rioja: 0.00000\n",
      "cat__marca_LAMBORGHINI: 0.00000\n",
      "num__combustible_Diésel: 0.00000\n",
      "cat__marca_BENTLEY  : 0.00000\n",
      "num__financiacion_disponible: 0.00000\n",
      "cat__marca_LAND-ROVER: 0.00000\n",
      "cat__ubicacion_Islas Baleares: 0.00000\n",
      "cat__ubicacion_Valencia: 0.00000\n",
      "cat__ubicacion_Cádiz: 0.00000\n",
      "cat__marca_CUPRA    : 0.00000\n",
      "cat__tipo_carroceria_Stationwagon: 0.00000\n",
      "cat__tipo_carroceria_Monovolumen: 0.00000\n",
      "cat__marca_AUDI     : 0.00000\n",
      "cat__marca_BMW      : 0.00000\n",
      "cat__ubicacion_Tenerife: 0.00000\n",
      "cat__tipo_carroceria_Pequeño: 0.00000\n",
      "cat__ubicacion_Girona: 0.00000\n",
      "num__es_km0         : 0.00000\n",
      "cat__ubicacion_Vizcaya: 0.00000\n",
      "cat__ubicacion_Asturias: 0.00000\n",
      "cat__ubicacion_La Coruña: 0.00000\n",
      "cat__ubicacion_Tarragona: 0.00000\n",
      "cat__ubicacion_Sevilla: 0.00000\n",
      "cat__marca_SKODA    : 0.00000\n",
      "cat__tipo_carroceria_Familiar: 0.00000\n",
      "cat__marca_AIWAYS   : 0.00000\n",
      "cat__ubicacion_Zaragoza: 0.00000\n",
      "cat__marca_CITROEN  : 0.00000\n",
      "cat__ubicacion_Badajoz: 0.00000\n",
      "cat__marca_ALFA ROMEO: 0.00000\n",
      "cat__ubicacion_Pontevedra: 0.00000\n",
      "cat__marca_VOLVO    : 0.00000\n",
      "cat__marca_KIA      : 0.00000\n",
      "cat__ubicacion_Lugo : 0.00000\n",
      "cat__marca_JAGUAR   : 0.00000\n",
      "num__combustible_nan: 0.00000\n",
      "cat__marca_LEXUS    : 0.00000\n",
      "cat__marca_CADILLAC : 0.00000\n",
      "cat__marca_PEUGEOT  : 0.00000\n",
      "cat__ubicacion_Jaén : 0.00000\n",
      "cat__ubicacion_Orense: 0.00000\n",
      "cat__marca_NISSAN   : 0.00000\n",
      "cat__marca_TOYOTA   : 0.00000\n",
      "cat__marca_VOLKSWAGEN: 0.00000\n",
      "cat__ubicacion_Castellón: 0.00000\n",
      "num__es_demo        : 0.00000\n",
      "cat__ubicacion_Las Palmas: 0.00000\n",
      "cat__marca_FIAT     : 0.00000\n",
      "cat__marca_MASERATI : 0.00000\n",
      "cat__ubicacion_Granada: 0.00000\n",
      "cat__marca_MINI     : 0.00000\n",
      "cat__ubicacion_Córdoba: 0.00000\n",
      "cat__ubicacion_León : 0.00000\n",
      "cat__marca_OPEL     : 0.00000\n",
      "cat__ubicacion_Ciudad Real: 0.00000\n",
      "cat__marca_LINCOLN  : 0.00000\n",
      "cat__ubicacion_Almería: 0.00000\n",
      "cat__ubicacion_Zamora: 0.00000\n",
      "cat__ubicacion_Álava: 0.00000\n",
      "cat__marca_DS       : 0.00000\n",
      "cat__marca_RENAULT  : 0.00000\n",
      "cat__marca_CHEVROLET: 0.00000\n",
      "cat__marca_JEEP     : 0.00000\n",
      "cat__marca_SERES    : 0.00000\n",
      "cat__marca_HURTAN   : 0.00000\n",
      "cat__marca_DODGE    : 0.00000\n",
      "cat__marca_MITSUBISHI: 0.00000\n",
      "cat__marca_KGM / SSANGYONG: 0.00000\n",
      "cat__marca_HYUNDAI  : 0.00000\n",
      "cat__ubicacion_Burgos: 0.00000\n",
      "cat__ubicacion_Cuenca: 0.00000\n",
      "cat__marca_MAZDA    : 0.00000\n",
      "cat__ubicacion_Lleida: 0.00000\n",
      "cat__marca_MG       : 0.00000\n",
      "cat__marca_SAAB     : 0.00000\n",
      "cat__marca_RAM      : 0.00000\n",
      "cat__marca_TESLA    : 0.00000\n",
      "cat__marca_INEOS    : 0.00000\n",
      "cat__ubicacion_Huesca: 0.00000\n",
      "cat__ubicacion_Navarra: 0.00000\n",
      "cat__marca_SEAT     : 0.00000\n",
      "cat__ubicacion_Valladolid: 0.00000\n",
      "cat__ubicacion_Cantabria: 0.00000\n",
      "cat__ubicacion_Salamanca: 0.00000\n",
      "cat__marca_GMC      : 0.00000\n",
      "cat__ubicacion_Albacete: 0.00000\n",
      "cat__marca_HONDA    : 0.00000\n",
      "cat__marca_SMART    : 0.00000\n",
      "cat__marca_CHRYSLER : 0.00000\n",
      "cat__ubicacion_Huelva: 0.00000\n",
      "cat__marca_LOTUS    : 0.00000\n",
      "cat__marca_DACIA    : 0.00000\n",
      "cat__marca_LYNK & CO: 0.00000\n",
      "cat__marca_DFSK     : 0.00000\n",
      "cat__ubicacion_Guipúzcoa: 0.00000\n",
      "cat__marca_ABARTH   : 0.00000\n",
      "cat__marca_SUZUKI   : 0.00000\n",
      "cat__ubicacion_Cáceres: 0.00000\n",
      "cat__marca_SUBARU   : 0.00000\n",
      "cat__ubicacion_Palencia: 0.00000\n",
      "cat__marca_LANCIA   : 0.00000\n",
      "num__combustible_Gas: 0.00000\n",
      "cat__ubicacion_Ávila: 0.00000\n",
      "cat__ubicacion_Guadalajara: 0.00000\n",
      "cat__ubicacion_Segovia: 0.00000\n",
      "cat__marca_INFINITI : 0.00000\n",
      "cat__marca_XEV      : 0.00000\n",
      "cat__marca_WIESMANN : 0.00000\n",
      "cat__marca_JAECOO   : 0.00000\n",
      "cat__marca_LEAPMOTOR: 0.00000\n",
      "cat__marca_EVO      : 0.00000\n",
      "cat__marca_ROVER    : 0.00000\n",
      "cat__marca_XPENG    : 0.00000\n",
      "cat__ubicacion_Soria: 0.00000\n",
      "cat__marca_OMODA    : 0.00000\n",
      "cat__marca_DR       : 0.00000\n",
      "cat__marca_BYD      : 0.00000\n",
      "cat__ubicacion_Melilla: 0.00000\n",
      "cat__marca_MORGAN   : 0.00000\n",
      "cat__marca_YOOUDOOO : 0.00000\n",
      "cat__marca_CATERHAM : 0.00000\n",
      "cat__marca_LIVAN    : 0.00000\n",
      "cat__ubicacion_Teruel: 0.00000\n",
      "cat__marca_EBRO     : 0.00000\n",
      "cat__marca_SWM      : 0.00000\n",
      "cat__marca_DAEWOO   : 0.00000\n",
      "cat__marca_BESTUNE  : 0.00000\n",
      "cat__marca_GALLOPER : 0.00000\n",
      "cat__marca_ALPINE   : 0.00000\n",
      "cat__marca_HUMMER   : 0.00000\n",
      "cat__marca_GENESIS  : 0.00000\n",
      "cat__marca_FISKER   : 0.00000\n",
      "cat__marca_DAIMLER  : 0.00000\n",
      "cat__marca_CAN-AM   : 0.00000\n",
      "cat__marca_BUICK    : 0.00000\n",
      "cat__marca_MAXUS    : 0.00000\n",
      "cat__marca_MAYBACH  : 0.00000\n",
      "cat__marca_TATA     : 0.00000\n",
      "cat__marca_TVR      : 0.00000\n",
      "cat__marca_SANTANA  : 0.00000\n",
      "cat__marca_PONTIAC  : 0.00000\n",
      "cat__marca_PLYMOUTH : 0.00000\n",
      "cat__marca_MPM MOTORS: 0.00000\n",
      "cat__marca_POLESTAR : 0.00000\n",
      "cat__marca_INVICTA  : 0.00000\n",
      "cat__marca_KARMA    : 0.00000\n",
      "cat__marca_KTM      : 0.00000\n",
      "cat__marca_ISUZU    : 0.00000\n",
      "cat__marca_IVECO    : 0.00000\n",
      "cat__marca_MAHINDRA : 0.00000\n",
      "cat__marca_LIGIER   : 0.00000\n",
      "cat__marca_YES!     : 0.00000\n",
      "cat__ubicacion_Ceuta: 0.00000\n"
     ]
    }
   ],
   "source": [
    "model = RandomForestRegressor().fit(x_train, y_train)\n",
    "importances = model.feature_importances_\n",
    "\n",
    "feature_names = preprocessor.get_feature_names_out()\n",
    "feature_importances = pd.DataFrame({\n",
    "    'Feature': feature_names,\n",
    "    'Importance': importances\n",
    "})\n",
    "\n",
    "feature_importances = feature_importances.sort_values('Importance', ascending=False)\n",
    "print(\"\\nImportancia de características ordenadas:\")\n",
    "print(\"=\"*40)\n",
    "print(feature_importances.to_string(index=False)) \n",
    "print(\"=\"*40)\n",
    "print(\"\\nOtra presentación:\")\n",
    "for i, row in feature_importances.iterrows():\n",
    "    print(f\"{row['Feature']:20s}: {row['Importance']:.5f}\")"
   ]
  },
  {
   "cell_type": "code",
   "execution_count": 10,
   "id": "be29bde7",
   "metadata": {},
   "outputs": [
    {
     "data": {
      "text/html": [
       "<div>\n",
       "<style scoped>\n",
       "    .dataframe tbody tr th:only-of-type {\n",
       "        vertical-align: middle;\n",
       "    }\n",
       "\n",
       "    .dataframe tbody tr th {\n",
       "        vertical-align: top;\n",
       "    }\n",
       "\n",
       "    .dataframe thead th {\n",
       "        text-align: right;\n",
       "    }\n",
       "</style>\n",
       "<table border=\"1\" class=\"dataframe\">\n",
       "  <thead>\n",
       "    <tr style=\"text-align: right;\">\n",
       "      <th></th>\n",
       "      <th>model_name</th>\n",
       "      <th>mae</th>\n",
       "      <th>mse</th>\n",
       "      <th>r2_score</th>\n",
       "    </tr>\n",
       "  </thead>\n",
       "  <tbody>\n",
       "    <tr>\n",
       "      <th>0</th>\n",
       "      <td>Gradient Boosting</td>\n",
       "      <td>496.77</td>\n",
       "      <td>51068779.68</td>\n",
       "      <td>0.9929</td>\n",
       "    </tr>\n",
       "    <tr>\n",
       "      <th>1</th>\n",
       "      <td>Random Forest</td>\n",
       "      <td>162.95</td>\n",
       "      <td>101897933.62</td>\n",
       "      <td>0.9859</td>\n",
       "    </tr>\n",
       "    <tr>\n",
       "      <th>2</th>\n",
       "      <td>KNN</td>\n",
       "      <td>5951.47</td>\n",
       "      <td>291394878.05</td>\n",
       "      <td>0.9597</td>\n",
       "    </tr>\n",
       "  </tbody>\n",
       "</table>\n",
       "</div>"
      ],
      "text/plain": [
       "          model_name      mae           mse r2_score\n",
       "0  Gradient Boosting   496.77   51068779.68   0.9929\n",
       "1      Random Forest   162.95  101897933.62   0.9859\n",
       "2                KNN  5951.47  291394878.05   0.9597"
      ]
     },
     "execution_count": 10,
     "metadata": {},
     "output_type": "execute_result"
    }
   ],
   "source": [
    "#Comparacion de resultados\n",
    "resultados_df = pd.DataFrame.from_dict(resultados, orient='index').reset_index()\n",
    "resultados_df.columns = ['model_name', 'mae', 'mse', 'r2_score']\n",
    "resultados_df = resultados_df.sort_values('r2_score', ascending=False).reset_index(drop=True)\n",
    "resultados_df['mae'] = resultados_df['mae'].apply(lambda x: f\"{x:.2f}\")\n",
    "resultados_df['mse'] = resultados_df['mse'].apply(lambda x: f\"{x:.2f}\")\n",
    "resultados_df['r2_score'] = resultados_df['r2_score'].apply(lambda x: f\"{x:.4f}\")\n",
    "resultados_df"
   ]
  },
  {
   "cell_type": "markdown",
   "id": "b3175380",
   "metadata": {},
   "source": [
    "## Redes Neuronales"
   ]
  },
  {
   "cell_type": "code",
   "execution_count": 11,
   "id": "7d24a6ef",
   "metadata": {},
   "outputs": [],
   "source": [
    "#Definimos las características y variables objetivo\n",
    "x = df.drop(columns=[\"precio_final\"] )\n",
    "y= df[\"precio_final\"]\n"
   ]
  },
  {
   "cell_type": "markdown",
   "id": "3ae276bc",
   "metadata": {},
   "source": [
    "# Primer Entrenamiento"
   ]
  },
  {
   "cell_type": "code",
   "execution_count": 12,
   "id": "ac5bae1e",
   "metadata": {},
   "outputs": [
    {
     "data": {
      "text/plain": [
       "(87252, 188)"
      ]
     },
     "execution_count": 12,
     "metadata": {},
     "output_type": "execute_result"
    }
   ],
   "source": [
    "x_train.shape "
   ]
  },
  {
   "cell_type": "code",
   "execution_count": 13,
   "id": "19bcab2d",
   "metadata": {},
   "outputs": [
    {
     "name": "stderr",
     "output_type": "stream",
     "text": [
      "c:\\Users\\irina\\Desktop\\HACK A BOSS\\Proyecto-\\.venv\\lib\\site-packages\\keras\\src\\layers\\core\\dense.py:93: UserWarning: Do not pass an `input_shape`/`input_dim` argument to a layer. When using Sequential models, prefer using an `Input(shape)` object as the first layer in the model instead.\n",
      "  super().__init__(activity_regularizer=activity_regularizer, **kwargs)\n"
     ]
    },
    {
     "data": {
      "text/html": [
       "<pre style=\"white-space:pre;overflow-x:auto;line-height:normal;font-family:Menlo,'DejaVu Sans Mono',consolas,'Courier New',monospace\"><span style=\"font-weight: bold\">Model: \"sequential\"</span>\n",
       "</pre>\n"
      ],
      "text/plain": [
       "\u001b[1mModel: \"sequential\"\u001b[0m\n"
      ]
     },
     "metadata": {},
     "output_type": "display_data"
    },
    {
     "data": {
      "text/html": [
       "<pre style=\"white-space:pre;overflow-x:auto;line-height:normal;font-family:Menlo,'DejaVu Sans Mono',consolas,'Courier New',monospace\">┏━━━━━━━━━━━━━━━━━━━━━━━━━━━━━━━━━┳━━━━━━━━━━━━━━━━━━━━━━━━┳━━━━━━━━━━━━━━━┓\n",
       "┃<span style=\"font-weight: bold\"> Layer (type)                    </span>┃<span style=\"font-weight: bold\"> Output Shape           </span>┃<span style=\"font-weight: bold\">       Param # </span>┃\n",
       "┡━━━━━━━━━━━━━━━━━━━━━━━━━━━━━━━━━╇━━━━━━━━━━━━━━━━━━━━━━━━╇━━━━━━━━━━━━━━━┩\n",
       "│ dense (<span style=\"color: #0087ff; text-decoration-color: #0087ff\">Dense</span>)                   │ (<span style=\"color: #00d7ff; text-decoration-color: #00d7ff\">None</span>, <span style=\"color: #00af00; text-decoration-color: #00af00\">128</span>)            │        <span style=\"color: #00af00; text-decoration-color: #00af00\">24,192</span> │\n",
       "├─────────────────────────────────┼────────────────────────┼───────────────┤\n",
       "│ dropout (<span style=\"color: #0087ff; text-decoration-color: #0087ff\">Dropout</span>)               │ (<span style=\"color: #00d7ff; text-decoration-color: #00d7ff\">None</span>, <span style=\"color: #00af00; text-decoration-color: #00af00\">128</span>)            │             <span style=\"color: #00af00; text-decoration-color: #00af00\">0</span> │\n",
       "├─────────────────────────────────┼────────────────────────┼───────────────┤\n",
       "│ dense_1 (<span style=\"color: #0087ff; text-decoration-color: #0087ff\">Dense</span>)                 │ (<span style=\"color: #00d7ff; text-decoration-color: #00d7ff\">None</span>, <span style=\"color: #00af00; text-decoration-color: #00af00\">64</span>)             │         <span style=\"color: #00af00; text-decoration-color: #00af00\">8,256</span> │\n",
       "├─────────────────────────────────┼────────────────────────┼───────────────┤\n",
       "│ dense_2 (<span style=\"color: #0087ff; text-decoration-color: #0087ff\">Dense</span>)                 │ (<span style=\"color: #00d7ff; text-decoration-color: #00d7ff\">None</span>, <span style=\"color: #00af00; text-decoration-color: #00af00\">1</span>)              │            <span style=\"color: #00af00; text-decoration-color: #00af00\">65</span> │\n",
       "└─────────────────────────────────┴────────────────────────┴───────────────┘\n",
       "</pre>\n"
      ],
      "text/plain": [
       "┏━━━━━━━━━━━━━━━━━━━━━━━━━━━━━━━━━┳━━━━━━━━━━━━━━━━━━━━━━━━┳━━━━━━━━━━━━━━━┓\n",
       "┃\u001b[1m \u001b[0m\u001b[1mLayer (type)                   \u001b[0m\u001b[1m \u001b[0m┃\u001b[1m \u001b[0m\u001b[1mOutput Shape          \u001b[0m\u001b[1m \u001b[0m┃\u001b[1m \u001b[0m\u001b[1m      Param #\u001b[0m\u001b[1m \u001b[0m┃\n",
       "┡━━━━━━━━━━━━━━━━━━━━━━━━━━━━━━━━━╇━━━━━━━━━━━━━━━━━━━━━━━━╇━━━━━━━━━━━━━━━┩\n",
       "│ dense (\u001b[38;5;33mDense\u001b[0m)                   │ (\u001b[38;5;45mNone\u001b[0m, \u001b[38;5;34m128\u001b[0m)            │        \u001b[38;5;34m24,192\u001b[0m │\n",
       "├─────────────────────────────────┼────────────────────────┼───────────────┤\n",
       "│ dropout (\u001b[38;5;33mDropout\u001b[0m)               │ (\u001b[38;5;45mNone\u001b[0m, \u001b[38;5;34m128\u001b[0m)            │             \u001b[38;5;34m0\u001b[0m │\n",
       "├─────────────────────────────────┼────────────────────────┼───────────────┤\n",
       "│ dense_1 (\u001b[38;5;33mDense\u001b[0m)                 │ (\u001b[38;5;45mNone\u001b[0m, \u001b[38;5;34m64\u001b[0m)             │         \u001b[38;5;34m8,256\u001b[0m │\n",
       "├─────────────────────────────────┼────────────────────────┼───────────────┤\n",
       "│ dense_2 (\u001b[38;5;33mDense\u001b[0m)                 │ (\u001b[38;5;45mNone\u001b[0m, \u001b[38;5;34m1\u001b[0m)              │            \u001b[38;5;34m65\u001b[0m │\n",
       "└─────────────────────────────────┴────────────────────────┴───────────────┘\n"
      ]
     },
     "metadata": {},
     "output_type": "display_data"
    },
    {
     "data": {
      "text/html": [
       "<pre style=\"white-space:pre;overflow-x:auto;line-height:normal;font-family:Menlo,'DejaVu Sans Mono',consolas,'Courier New',monospace\"><span style=\"font-weight: bold\"> Total params: </span><span style=\"color: #00af00; text-decoration-color: #00af00\">32,513</span> (127.00 KB)\n",
       "</pre>\n"
      ],
      "text/plain": [
       "\u001b[1m Total params: \u001b[0m\u001b[38;5;34m32,513\u001b[0m (127.00 KB)\n"
      ]
     },
     "metadata": {},
     "output_type": "display_data"
    },
    {
     "data": {
      "text/html": [
       "<pre style=\"white-space:pre;overflow-x:auto;line-height:normal;font-family:Menlo,'DejaVu Sans Mono',consolas,'Courier New',monospace\"><span style=\"font-weight: bold\"> Trainable params: </span><span style=\"color: #00af00; text-decoration-color: #00af00\">32,513</span> (127.00 KB)\n",
       "</pre>\n"
      ],
      "text/plain": [
       "\u001b[1m Trainable params: \u001b[0m\u001b[38;5;34m32,513\u001b[0m (127.00 KB)\n"
      ]
     },
     "metadata": {},
     "output_type": "display_data"
    },
    {
     "data": {
      "text/html": [
       "<pre style=\"white-space:pre;overflow-x:auto;line-height:normal;font-family:Menlo,'DejaVu Sans Mono',consolas,'Courier New',monospace\"><span style=\"font-weight: bold\"> Non-trainable params: </span><span style=\"color: #00af00; text-decoration-color: #00af00\">0</span> (0.00 B)\n",
       "</pre>\n"
      ],
      "text/plain": [
       "\u001b[1m Non-trainable params: \u001b[0m\u001b[38;5;34m0\u001b[0m (0.00 B)\n"
      ]
     },
     "metadata": {},
     "output_type": "display_data"
    }
   ],
   "source": [
    "# Definir un modelo simple de red neuronal para regresión\n",
    "model = Sequential([\n",
    "\tDense(128, activation='relu', input_shape=(x_train.shape[1],)),\n",
    "\tDropout(0.2),\n",
    "\tDense(64, activation='relu'),\n",
    "\tDense(1) \n",
    "])\n",
    "model.compile(optimizer=Adam(learning_rate=0.001), loss='mse', metrics=['mae'])\n",
    "model.summary()"
   ]
  },
  {
   "cell_type": "code",
   "execution_count": 14,
   "id": "061ac1d8",
   "metadata": {},
   "outputs": [
    {
     "name": "stdout",
     "output_type": "stream",
     "text": [
      "Epoch 1/10\n",
      "\u001b[1m2727/2727\u001b[0m \u001b[32m━━━━━━━━━━━━━━━━━━━━\u001b[0m\u001b[37m\u001b[0m \u001b[1m4s\u001b[0m 1ms/step - loss: 6015499776.0000 - mae: 26342.7754 - val_loss: 5722850816.0000 - val_mae: 16310.7441\n",
      "Epoch 2/10\n",
      "\u001b[1m2727/2727\u001b[0m \u001b[32m━━━━━━━━━━━━━━━━━━━━\u001b[0m\u001b[37m\u001b[0m \u001b[1m3s\u001b[0m 1ms/step - loss: 3459522304.0000 - mae: 15995.8223 - val_loss: 4949669376.0000 - val_mae: 16699.7773\n",
      "Epoch 3/10\n",
      "\u001b[1m2727/2727\u001b[0m \u001b[32m━━━━━━━━━━━━━━━━━━━━\u001b[0m\u001b[37m\u001b[0m \u001b[1m3s\u001b[0m 1ms/step - loss: 4986941952.0000 - mae: 16705.0762 - val_loss: 4442550784.0000 - val_mae: 14377.3936\n",
      "Epoch 4/10\n",
      "\u001b[1m2727/2727\u001b[0m \u001b[32m━━━━━━━━━━━━━━━━━━━━\u001b[0m\u001b[37m\u001b[0m \u001b[1m5s\u001b[0m 2ms/step - loss: 3774379520.0000 - mae: 13642.1777 - val_loss: 3931820800.0000 - val_mae: 11377.1494\n",
      "Epoch 5/10\n",
      "\u001b[1m2727/2727\u001b[0m \u001b[32m━━━━━━━━━━━━━━━━━━━━\u001b[0m\u001b[37m\u001b[0m \u001b[1m4s\u001b[0m 1ms/step - loss: 2436491008.0000 - mae: 10825.7227 - val_loss: 3383814912.0000 - val_mae: 9841.2979\n",
      "Epoch 6/10\n",
      "\u001b[1m2727/2727\u001b[0m \u001b[32m━━━━━━━━━━━━━━━━━━━━\u001b[0m\u001b[37m\u001b[0m \u001b[1m3s\u001b[0m 1ms/step - loss: 2400995072.0000 - mae: 9356.6738 - val_loss: 2966981888.0000 - val_mae: 8278.8633\n",
      "Epoch 7/10\n",
      "\u001b[1m2727/2727\u001b[0m \u001b[32m━━━━━━━━━━━━━━━━━━━━\u001b[0m\u001b[37m\u001b[0m \u001b[1m3s\u001b[0m 1ms/step - loss: 2011470848.0000 - mae: 7728.5063 - val_loss: 2500578304.0000 - val_mae: 7384.0537\n",
      "Epoch 8/10\n",
      "\u001b[1m2727/2727\u001b[0m \u001b[32m━━━━━━━━━━━━━━━━━━━━\u001b[0m\u001b[37m\u001b[0m \u001b[1m3s\u001b[0m 1ms/step - loss: 1971032576.0000 - mae: 7073.8452 - val_loss: 2027998720.0000 - val_mae: 6764.2046\n",
      "Epoch 9/10\n",
      "\u001b[1m2727/2727\u001b[0m \u001b[32m━━━━━━━━━━━━━━━━━━━━\u001b[0m\u001b[37m\u001b[0m \u001b[1m3s\u001b[0m 1ms/step - loss: 1010936512.0000 - mae: 6181.0410 - val_loss: 1606939136.0000 - val_mae: 6059.5942\n",
      "Epoch 10/10\n",
      "\u001b[1m2727/2727\u001b[0m \u001b[32m━━━━━━━━━━━━━━━━━━━━\u001b[0m\u001b[37m\u001b[0m \u001b[1m3s\u001b[0m 1ms/step - loss: 946069312.0000 - mae: 5760.5254 - val_loss: 1188297728.0000 - val_mae: 5589.7534\n"
     ]
    }
   ],
   "source": [
    "# Construcción del modelo\n",
    "model = keras.Sequential([\n",
    "    keras.layers.Dense(64, activation=\"relu\", input_shape=(x_train.shape[1],)),\n",
    "    keras.layers.Dense(32, activation=\"relu\"),\n",
    "    keras.layers.Dense(1)\n",
    "])\n",
    "\n",
    "# Compilar el modelo\n",
    "model.compile(optimizer=\"adam\", loss=\"mse\", metrics=[\"mae\"])\n",
    "\n",
    "# Entrenamiento\n",
    "history = model.fit(x_train, y_train, validation_data=(x_test, y_test), epochs=10, batch_size=32, verbose=1)"
   ]
  },
  {
   "cell_type": "markdown",
   "id": "8be24744",
   "metadata": {},
   "source": [
    "# Segundo Entrenamiento"
   ]
  },
  {
   "cell_type": "code",
   "execution_count": 15,
   "id": "fe92cc9a",
   "metadata": {},
   "outputs": [],
   "source": [
    "#Normalizacion\n",
    "scaler = StandardScaler()\n",
    "x_train_scaled = scaler.fit_transform(x_train)\n",
    "x_test_scaled = scaler.transform(x_test)"
   ]
  },
  {
   "cell_type": "code",
   "execution_count": 16,
   "id": "ff58a07a",
   "metadata": {},
   "outputs": [
    {
     "name": "stdout",
     "output_type": "stream",
     "text": [
      "Epoch 1/10\n",
      "\u001b[1m2727/2727\u001b[0m \u001b[32m━━━━━━━━━━━━━━━━━━━━\u001b[0m\u001b[37m\u001b[0m \u001b[1m3s\u001b[0m 1ms/step - loss: 10708145152.0000 - mae: 30707.1641 - val_loss: 4901615104.0000 - val_mae: 17094.6758\n",
      "Epoch 2/10\n",
      "\u001b[1m2727/2727\u001b[0m \u001b[32m━━━━━━━━━━━━━━━━━━━━\u001b[0m\u001b[37m\u001b[0m \u001b[1m3s\u001b[0m 1ms/step - loss: 2843864576.0000 - mae: 15397.8037 - val_loss: 3940510720.0000 - val_mae: 13359.1260\n",
      "Epoch 3/10\n",
      "\u001b[1m2727/2727\u001b[0m \u001b[32m━━━━━━━━━━━━━━━━━━━━\u001b[0m\u001b[37m\u001b[0m \u001b[1m3s\u001b[0m 1ms/step - loss: 2340655616.0000 - mae: 11992.3018 - val_loss: 3503226624.0000 - val_mae: 11054.1895\n",
      "Epoch 4/10\n",
      "\u001b[1m2727/2727\u001b[0m \u001b[32m━━━━━━━━━━━━━━━━━━━━\u001b[0m\u001b[37m\u001b[0m \u001b[1m3s\u001b[0m 1ms/step - loss: 2529128704.0000 - mae: 10297.8984 - val_loss: 3205344000.0000 - val_mae: 9683.8730\n",
      "Epoch 5/10\n",
      "\u001b[1m2727/2727\u001b[0m \u001b[32m━━━━━━━━━━━━━━━━━━━━\u001b[0m\u001b[37m\u001b[0m \u001b[1m3s\u001b[0m 1ms/step - loss: 1950007040.0000 - mae: 8983.2451 - val_loss: 2944635136.0000 - val_mae: 8894.5371\n",
      "Epoch 6/10\n",
      "\u001b[1m2727/2727\u001b[0m \u001b[32m━━━━━━━━━━━━━━━━━━━━\u001b[0m\u001b[37m\u001b[0m \u001b[1m3s\u001b[0m 1ms/step - loss: 1950234752.0000 - mae: 8339.9873 - val_loss: 2718689280.0000 - val_mae: 8011.8291\n",
      "Epoch 7/10\n",
      "\u001b[1m2727/2727\u001b[0m \u001b[32m━━━━━━━━━━━━━━━━━━━━\u001b[0m\u001b[37m\u001b[0m \u001b[1m3s\u001b[0m 1ms/step - loss: 1233445760.0000 - mae: 7244.1143 - val_loss: 2465516032.0000 - val_mae: 7595.3281\n",
      "Epoch 8/10\n",
      "\u001b[1m2727/2727\u001b[0m \u001b[32m━━━━━━━━━━━━━━━━━━━━\u001b[0m\u001b[37m\u001b[0m \u001b[1m3s\u001b[0m 1ms/step - loss: 1600404992.0000 - mae: 7079.5874 - val_loss: 2248318976.0000 - val_mae: 7055.7988\n",
      "Epoch 9/10\n",
      "\u001b[1m2727/2727\u001b[0m \u001b[32m━━━━━━━━━━━━━━━━━━━━\u001b[0m\u001b[37m\u001b[0m \u001b[1m3s\u001b[0m 1ms/step - loss: 981156032.0000 - mae: 6370.4507 - val_loss: 2028981120.0000 - val_mae: 6540.6040\n",
      "Epoch 10/10\n",
      "\u001b[1m2727/2727\u001b[0m \u001b[32m━━━━━━━━━━━━━━━━━━━━\u001b[0m\u001b[37m\u001b[0m \u001b[1m3s\u001b[0m 1ms/step - loss: 1224162304.0000 - mae: 6084.9736 - val_loss: 1845483136.0000 - val_mae: 5994.4526\n"
     ]
    },
    {
     "data": {
      "text/plain": [
       "<keras.src.callbacks.history.History at 0x217752f6830>"
      ]
     },
     "execution_count": 16,
     "metadata": {},
     "output_type": "execute_result"
    }
   ],
   "source": [
    "#Entrenar modelo con datos procesados\n",
    "model.fit(x_train_scaled, y_train, validation_data=(x_test_scaled, y_test), epochs=10, batch_size=32, verbose=1)"
   ]
  },
  {
   "cell_type": "code",
   "execution_count": 17,
   "id": "6dfadecf",
   "metadata": {},
   "outputs": [
    {
     "name": "stdout",
     "output_type": "stream",
     "text": [
      "\u001b[1m682/682\u001b[0m \u001b[32m━━━━━━━━━━━━━━━━━━━━\u001b[0m\u001b[37m\u001b[0m \u001b[1m1s\u001b[0m 772us/step - loss: 2066663168.0000 - mae: 8972.4951\n"
     ]
    },
    {
     "data": {
      "text/plain": [
       "[1896965504.0, 8783.4736328125]"
      ]
     },
     "execution_count": 17,
     "metadata": {},
     "output_type": "execute_result"
    }
   ],
   "source": [
    "# Metricas\n",
    "scores = model.evaluate(x_test, y_test, verbose = 1)\n",
    "\n",
    "scores"
   ]
  },
  {
   "cell_type": "markdown",
   "id": "9d5146a0",
   "metadata": {},
   "source": [
    "# Tercer Entrenamiento"
   ]
  },
  {
   "cell_type": "code",
   "execution_count": 18,
   "id": "241f63da",
   "metadata": {},
   "outputs": [
    {
     "name": "stdout",
     "output_type": "stream",
     "text": [
      "Epoch 1/10\n"
     ]
    },
    {
     "name": "stderr",
     "output_type": "stream",
     "text": [
      "c:\\Users\\irina\\Desktop\\HACK A BOSS\\Proyecto-\\.venv\\lib\\site-packages\\keras\\src\\layers\\core\\dense.py:93: UserWarning: Do not pass an `input_shape`/`input_dim` argument to a layer. When using Sequential models, prefer using an `Input(shape)` object as the first layer in the model instead.\n",
      "  super().__init__(activity_regularizer=activity_regularizer, **kwargs)\n"
     ]
    },
    {
     "name": "stdout",
     "output_type": "stream",
     "text": [
      "\u001b[1m2727/2727\u001b[0m \u001b[32m━━━━━━━━━━━━━━━━━━━━\u001b[0m\u001b[37m\u001b[0m \u001b[1m4s\u001b[0m 1ms/step - loss: 4628893696.0000 - mae: 19220.0469 - val_loss: 3301542656.0000 - val_mae: 8875.4102\n",
      "Epoch 2/10\n",
      "\u001b[1m2727/2727\u001b[0m \u001b[32m━━━━━━━━━━━━━━━━━━━━\u001b[0m\u001b[37m\u001b[0m \u001b[1m4s\u001b[0m 1ms/step - loss: 1463179776.0000 - mae: 8567.7812 - val_loss: 2530977024.0000 - val_mae: 8017.1914\n",
      "Epoch 3/10\n",
      "\u001b[1m2727/2727\u001b[0m \u001b[32m━━━━━━━━━━━━━━━━━━━━\u001b[0m\u001b[37m\u001b[0m \u001b[1m4s\u001b[0m 1ms/step - loss: 1253954688.0000 - mae: 7191.8105 - val_loss: 1843431296.0000 - val_mae: 5988.1680\n",
      "Epoch 4/10\n",
      "\u001b[1m2727/2727\u001b[0m \u001b[32m━━━━━━━━━━━━━━━━━━━━\u001b[0m\u001b[37m\u001b[0m \u001b[1m3s\u001b[0m 1ms/step - loss: 1268996480.0000 - mae: 6355.0952 - val_loss: 1140614528.0000 - val_mae: 5146.9941\n",
      "Epoch 5/10\n",
      "\u001b[1m2727/2727\u001b[0m \u001b[32m━━━━━━━━━━━━━━━━━━━━\u001b[0m\u001b[37m\u001b[0m \u001b[1m4s\u001b[0m 1ms/step - loss: 673851456.0000 - mae: 5497.1138 - val_loss: 586190848.0000 - val_mae: 4045.6462\n",
      "Epoch 6/10\n",
      "\u001b[1m2727/2727\u001b[0m \u001b[32m━━━━━━━━━━━━━━━━━━━━\u001b[0m\u001b[37m\u001b[0m \u001b[1m4s\u001b[0m 1ms/step - loss: 514120000.0000 - mae: 4763.5522 - val_loss: 349037280.0000 - val_mae: 3873.5422\n",
      "Epoch 7/10\n",
      "\u001b[1m2727/2727\u001b[0m \u001b[32m━━━━━━━━━━━━━━━━━━━━\u001b[0m\u001b[37m\u001b[0m \u001b[1m4s\u001b[0m 1ms/step - loss: 400959040.0000 - mae: 4462.4370 - val_loss: 267882368.0000 - val_mae: 3724.9561\n",
      "Epoch 8/10\n",
      "\u001b[1m2727/2727\u001b[0m \u001b[32m━━━━━━━━━━━━━━━━━━━━\u001b[0m\u001b[37m\u001b[0m \u001b[1m4s\u001b[0m 1ms/step - loss: 225912592.0000 - mae: 4212.4707 - val_loss: 114767656.0000 - val_mae: 2727.1287\n",
      "Epoch 9/10\n",
      "\u001b[1m2727/2727\u001b[0m \u001b[32m━━━━━━━━━━━━━━━━━━━━\u001b[0m\u001b[37m\u001b[0m \u001b[1m4s\u001b[0m 1ms/step - loss: 129058104.0000 - mae: 3822.4619 - val_loss: 69260472.0000 - val_mae: 2437.1638\n",
      "Epoch 10/10\n",
      "\u001b[1m2727/2727\u001b[0m \u001b[32m━━━━━━━━━━━━━━━━━━━━\u001b[0m\u001b[37m\u001b[0m \u001b[1m4s\u001b[0m 1ms/step - loss: 100049928.0000 - mae: 3620.9583 - val_loss: 85961832.0000 - val_mae: 2708.0784\n"
     ]
    },
    {
     "data": {
      "text/plain": [
       "<keras.src.callbacks.history.History at 0x217321021a0>"
      ]
     },
     "execution_count": 18,
     "metadata": {},
     "output_type": "execute_result"
    }
   ],
   "source": [
    "model = keras.Sequential([\n",
    "    Dense(128, activation=\"relu\", input_shape=(x_train.shape[1],)),\n",
    "    Dropout(0.2),\n",
    "    Dense(64, activation=\"relu\"),\n",
    "    Dropout(0.2),\n",
    "    Dense(32, activation=\"relu\"),\n",
    "    Dense(1)\n",
    "])\n",
    "model.compile(optimizer=\"adam\", loss=\"mse\", metrics=[\"mae\"])\n",
    "model.fit(x_train_scaled, y_train, validation_data=(x_test_scaled, y_test), epochs=10, batch_size=32, verbose=1)"
   ]
  },
  {
   "cell_type": "markdown",
   "id": "ced723d6",
   "metadata": {},
   "source": [
    "# Último entrenamiento"
   ]
  },
  {
   "cell_type": "code",
   "execution_count": 19,
   "id": "dbbf2e9b",
   "metadata": {},
   "outputs": [
    {
     "name": "stdout",
     "output_type": "stream",
     "text": [
      "\u001b[1m682/682\u001b[0m \u001b[32m━━━━━━━━━━━━━━━━━━━━\u001b[0m\u001b[37m\u001b[0m \u001b[1m1s\u001b[0m 841us/step - loss: 76274216.0000 - mae: 2679.9275\n",
      "MAE Fine Tuning: 85961832.0\n",
      "MSE Fine Tuning: 2708.078369140625\n"
     ]
    }
   ],
   "source": [
    "#Evaluo el rendimiento\n",
    "mae_fine_tuning, mse_fine_tuning = model.evaluate(x_test_scaled, y_test)\n",
    "print(f\"MAE Fine Tuning: {mae_fine_tuning}\")\n",
    "print(f\"MSE Fine Tuning: {mse_fine_tuning}\")"
   ]
  },
  {
   "cell_type": "markdown",
   "id": "736f090b",
   "metadata": {},
   "source": [
    "Este gráfico muestra el desempeño de un modelo de Machine Learning durante su entrenamiento y validación, utilizando el Error Absoluto Medio (MAE) como métrica principal. \n",
    "Aprendizaje del modelo: Vemos que ambas lineas tienen una tendencia a bajar por lo que el modelo está generalizando bien."
   ]
  },
  {
   "cell_type": "code",
   "execution_count": null,
   "id": "c35f1402",
   "metadata": {},
   "outputs": [
    {
     "data": {
      "application/vnd.plotly.v1+json": {
       "config": {
        "plotlyServerURL": "https://plot.ly"
       },
       "data": [
        {
         "line": {
          "color": "blue"
         },
         "mode": "lines",
         "name": "Entrenamiento",
         "type": "scatter",
         "x": [
          1,
          2,
          3,
          4,
          5,
          6,
          7,
          8,
          9,
          10
         ],
         "y": [
          20955.6484375,
          16301.314453125,
          15723.1552734375,
          12551.76171875,
          10232.69921875,
          8834.7705078125,
          7645.69091796875,
          6761.2490234375,
          6149.24072265625,
          5593.52880859375
         ]
        },
        {
         "line": {
          "color": "red",
          "dash": "dash"
         },
         "mode": "lines",
         "name": "Validación",
         "type": "scatter",
         "x": [
          1,
          2,
          3,
          4,
          5,
          6,
          7,
          8,
          9,
          10
         ],
         "y": [
          16310.744140625,
          16699.77734375,
          14377.3935546875,
          11377.1494140625,
          9841.2978515625,
          8278.86328125,
          7384.0537109375,
          6764.20458984375,
          6059.59423828125,
          5589.75341796875
         ]
        }
       ],
       "layout": {
        "annotations": [
         {
          "showarrow": false,
          "text": "Mejor época: 10",
          "x": 10,
          "xanchor": "left",
          "xref": "x",
          "y": 1,
          "yanchor": "top",
          "yref": "y domain"
         }
        ],
        "height": 500,
        "hovermode": "x unified",
        "legend": {
         "x": 0.02,
         "y": 0.98
        },
        "margin": {
         "b": 40,
         "l": 40,
         "r": 20,
         "t": 60
        },
        "shapes": [
         {
          "line": {
           "color": "green",
           "dash": "dot",
           "width": 1
          },
          "type": "line",
          "x0": 10,
          "x1": 10,
          "xref": "x",
          "y0": 0,
          "y1": 1,
          "yref": "y domain"
         }
        ],
        "template": {
         "data": {
          "bar": [
           {
            "error_x": {
             "color": "#2a3f5f"
            },
            "error_y": {
             "color": "#2a3f5f"
            },
            "marker": {
             "line": {
              "color": "white",
              "width": 0.5
             },
             "pattern": {
              "fillmode": "overlay",
              "size": 10,
              "solidity": 0.2
             }
            },
            "type": "bar"
           }
          ],
          "barpolar": [
           {
            "marker": {
             "line": {
              "color": "white",
              "width": 0.5
             },
             "pattern": {
              "fillmode": "overlay",
              "size": 10,
              "solidity": 0.2
             }
            },
            "type": "barpolar"
           }
          ],
          "carpet": [
           {
            "aaxis": {
             "endlinecolor": "#2a3f5f",
             "gridcolor": "#C8D4E3",
             "linecolor": "#C8D4E3",
             "minorgridcolor": "#C8D4E3",
             "startlinecolor": "#2a3f5f"
            },
            "baxis": {
             "endlinecolor": "#2a3f5f",
             "gridcolor": "#C8D4E3",
             "linecolor": "#C8D4E3",
             "minorgridcolor": "#C8D4E3",
             "startlinecolor": "#2a3f5f"
            },
            "type": "carpet"
           }
          ],
          "choropleth": [
           {
            "colorbar": {
             "outlinewidth": 0,
             "ticks": ""
            },
            "type": "choropleth"
           }
          ],
          "contour": [
           {
            "colorbar": {
             "outlinewidth": 0,
             "ticks": ""
            },
            "colorscale": [
             [
              0,
              "#0d0887"
             ],
             [
              0.1111111111111111,
              "#46039f"
             ],
             [
              0.2222222222222222,
              "#7201a8"
             ],
             [
              0.3333333333333333,
              "#9c179e"
             ],
             [
              0.4444444444444444,
              "#bd3786"
             ],
             [
              0.5555555555555556,
              "#d8576b"
             ],
             [
              0.6666666666666666,
              "#ed7953"
             ],
             [
              0.7777777777777778,
              "#fb9f3a"
             ],
             [
              0.8888888888888888,
              "#fdca26"
             ],
             [
              1,
              "#f0f921"
             ]
            ],
            "type": "contour"
           }
          ],
          "contourcarpet": [
           {
            "colorbar": {
             "outlinewidth": 0,
             "ticks": ""
            },
            "type": "contourcarpet"
           }
          ],
          "heatmap": [
           {
            "colorbar": {
             "outlinewidth": 0,
             "ticks": ""
            },
            "colorscale": [
             [
              0,
              "#0d0887"
             ],
             [
              0.1111111111111111,
              "#46039f"
             ],
             [
              0.2222222222222222,
              "#7201a8"
             ],
             [
              0.3333333333333333,
              "#9c179e"
             ],
             [
              0.4444444444444444,
              "#bd3786"
             ],
             [
              0.5555555555555556,
              "#d8576b"
             ],
             [
              0.6666666666666666,
              "#ed7953"
             ],
             [
              0.7777777777777778,
              "#fb9f3a"
             ],
             [
              0.8888888888888888,
              "#fdca26"
             ],
             [
              1,
              "#f0f921"
             ]
            ],
            "type": "heatmap"
           }
          ],
          "histogram": [
           {
            "marker": {
             "pattern": {
              "fillmode": "overlay",
              "size": 10,
              "solidity": 0.2
             }
            },
            "type": "histogram"
           }
          ],
          "histogram2d": [
           {
            "colorbar": {
             "outlinewidth": 0,
             "ticks": ""
            },
            "colorscale": [
             [
              0,
              "#0d0887"
             ],
             [
              0.1111111111111111,
              "#46039f"
             ],
             [
              0.2222222222222222,
              "#7201a8"
             ],
             [
              0.3333333333333333,
              "#9c179e"
             ],
             [
              0.4444444444444444,
              "#bd3786"
             ],
             [
              0.5555555555555556,
              "#d8576b"
             ],
             [
              0.6666666666666666,
              "#ed7953"
             ],
             [
              0.7777777777777778,
              "#fb9f3a"
             ],
             [
              0.8888888888888888,
              "#fdca26"
             ],
             [
              1,
              "#f0f921"
             ]
            ],
            "type": "histogram2d"
           }
          ],
          "histogram2dcontour": [
           {
            "colorbar": {
             "outlinewidth": 0,
             "ticks": ""
            },
            "colorscale": [
             [
              0,
              "#0d0887"
             ],
             [
              0.1111111111111111,
              "#46039f"
             ],
             [
              0.2222222222222222,
              "#7201a8"
             ],
             [
              0.3333333333333333,
              "#9c179e"
             ],
             [
              0.4444444444444444,
              "#bd3786"
             ],
             [
              0.5555555555555556,
              "#d8576b"
             ],
             [
              0.6666666666666666,
              "#ed7953"
             ],
             [
              0.7777777777777778,
              "#fb9f3a"
             ],
             [
              0.8888888888888888,
              "#fdca26"
             ],
             [
              1,
              "#f0f921"
             ]
            ],
            "type": "histogram2dcontour"
           }
          ],
          "mesh3d": [
           {
            "colorbar": {
             "outlinewidth": 0,
             "ticks": ""
            },
            "type": "mesh3d"
           }
          ],
          "parcoords": [
           {
            "line": {
             "colorbar": {
              "outlinewidth": 0,
              "ticks": ""
             }
            },
            "type": "parcoords"
           }
          ],
          "pie": [
           {
            "automargin": true,
            "type": "pie"
           }
          ],
          "scatter": [
           {
            "fillpattern": {
             "fillmode": "overlay",
             "size": 10,
             "solidity": 0.2
            },
            "type": "scatter"
           }
          ],
          "scatter3d": [
           {
            "line": {
             "colorbar": {
              "outlinewidth": 0,
              "ticks": ""
             }
            },
            "marker": {
             "colorbar": {
              "outlinewidth": 0,
              "ticks": ""
             }
            },
            "type": "scatter3d"
           }
          ],
          "scattercarpet": [
           {
            "marker": {
             "colorbar": {
              "outlinewidth": 0,
              "ticks": ""
             }
            },
            "type": "scattercarpet"
           }
          ],
          "scattergeo": [
           {
            "marker": {
             "colorbar": {
              "outlinewidth": 0,
              "ticks": ""
             }
            },
            "type": "scattergeo"
           }
          ],
          "scattergl": [
           {
            "marker": {
             "colorbar": {
              "outlinewidth": 0,
              "ticks": ""
             }
            },
            "type": "scattergl"
           }
          ],
          "scattermap": [
           {
            "marker": {
             "colorbar": {
              "outlinewidth": 0,
              "ticks": ""
             }
            },
            "type": "scattermap"
           }
          ],
          "scattermapbox": [
           {
            "marker": {
             "colorbar": {
              "outlinewidth": 0,
              "ticks": ""
             }
            },
            "type": "scattermapbox"
           }
          ],
          "scatterpolar": [
           {
            "marker": {
             "colorbar": {
              "outlinewidth": 0,
              "ticks": ""
             }
            },
            "type": "scatterpolar"
           }
          ],
          "scatterpolargl": [
           {
            "marker": {
             "colorbar": {
              "outlinewidth": 0,
              "ticks": ""
             }
            },
            "type": "scatterpolargl"
           }
          ],
          "scatterternary": [
           {
            "marker": {
             "colorbar": {
              "outlinewidth": 0,
              "ticks": ""
             }
            },
            "type": "scatterternary"
           }
          ],
          "surface": [
           {
            "colorbar": {
             "outlinewidth": 0,
             "ticks": ""
            },
            "colorscale": [
             [
              0,
              "#0d0887"
             ],
             [
              0.1111111111111111,
              "#46039f"
             ],
             [
              0.2222222222222222,
              "#7201a8"
             ],
             [
              0.3333333333333333,
              "#9c179e"
             ],
             [
              0.4444444444444444,
              "#bd3786"
             ],
             [
              0.5555555555555556,
              "#d8576b"
             ],
             [
              0.6666666666666666,
              "#ed7953"
             ],
             [
              0.7777777777777778,
              "#fb9f3a"
             ],
             [
              0.8888888888888888,
              "#fdca26"
             ],
             [
              1,
              "#f0f921"
             ]
            ],
            "type": "surface"
           }
          ],
          "table": [
           {
            "cells": {
             "fill": {
              "color": "#EBF0F8"
             },
             "line": {
              "color": "white"
             }
            },
            "header": {
             "fill": {
              "color": "#C8D4E3"
             },
             "line": {
              "color": "white"
             }
            },
            "type": "table"
           }
          ]
         },
         "layout": {
          "annotationdefaults": {
           "arrowcolor": "#2a3f5f",
           "arrowhead": 0,
           "arrowwidth": 1
          },
          "autotypenumbers": "strict",
          "coloraxis": {
           "colorbar": {
            "outlinewidth": 0,
            "ticks": ""
           }
          },
          "colorscale": {
           "diverging": [
            [
             0,
             "#8e0152"
            ],
            [
             0.1,
             "#c51b7d"
            ],
            [
             0.2,
             "#de77ae"
            ],
            [
             0.3,
             "#f1b6da"
            ],
            [
             0.4,
             "#fde0ef"
            ],
            [
             0.5,
             "#f7f7f7"
            ],
            [
             0.6,
             "#e6f5d0"
            ],
            [
             0.7,
             "#b8e186"
            ],
            [
             0.8,
             "#7fbc41"
            ],
            [
             0.9,
             "#4d9221"
            ],
            [
             1,
             "#276419"
            ]
           ],
           "sequential": [
            [
             0,
             "#0d0887"
            ],
            [
             0.1111111111111111,
             "#46039f"
            ],
            [
             0.2222222222222222,
             "#7201a8"
            ],
            [
             0.3333333333333333,
             "#9c179e"
            ],
            [
             0.4444444444444444,
             "#bd3786"
            ],
            [
             0.5555555555555556,
             "#d8576b"
            ],
            [
             0.6666666666666666,
             "#ed7953"
            ],
            [
             0.7777777777777778,
             "#fb9f3a"
            ],
            [
             0.8888888888888888,
             "#fdca26"
            ],
            [
             1,
             "#f0f921"
            ]
           ],
           "sequentialminus": [
            [
             0,
             "#0d0887"
            ],
            [
             0.1111111111111111,
             "#46039f"
            ],
            [
             0.2222222222222222,
             "#7201a8"
            ],
            [
             0.3333333333333333,
             "#9c179e"
            ],
            [
             0.4444444444444444,
             "#bd3786"
            ],
            [
             0.5555555555555556,
             "#d8576b"
            ],
            [
             0.6666666666666666,
             "#ed7953"
            ],
            [
             0.7777777777777778,
             "#fb9f3a"
            ],
            [
             0.8888888888888888,
             "#fdca26"
            ],
            [
             1,
             "#f0f921"
            ]
           ]
          },
          "colorway": [
           "#636efa",
           "#EF553B",
           "#00cc96",
           "#ab63fa",
           "#FFA15A",
           "#19d3f3",
           "#FF6692",
           "#B6E880",
           "#FF97FF",
           "#FECB52"
          ],
          "font": {
           "color": "#2a3f5f"
          },
          "geo": {
           "bgcolor": "white",
           "lakecolor": "white",
           "landcolor": "white",
           "showlakes": true,
           "showland": true,
           "subunitcolor": "#C8D4E3"
          },
          "hoverlabel": {
           "align": "left"
          },
          "hovermode": "closest",
          "mapbox": {
           "style": "light"
          },
          "paper_bgcolor": "white",
          "plot_bgcolor": "white",
          "polar": {
           "angularaxis": {
            "gridcolor": "#EBF0F8",
            "linecolor": "#EBF0F8",
            "ticks": ""
           },
           "bgcolor": "white",
           "radialaxis": {
            "gridcolor": "#EBF0F8",
            "linecolor": "#EBF0F8",
            "ticks": ""
           }
          },
          "scene": {
           "xaxis": {
            "backgroundcolor": "white",
            "gridcolor": "#DFE8F3",
            "gridwidth": 2,
            "linecolor": "#EBF0F8",
            "showbackground": true,
            "ticks": "",
            "zerolinecolor": "#EBF0F8"
           },
           "yaxis": {
            "backgroundcolor": "white",
            "gridcolor": "#DFE8F3",
            "gridwidth": 2,
            "linecolor": "#EBF0F8",
            "showbackground": true,
            "ticks": "",
            "zerolinecolor": "#EBF0F8"
           },
           "zaxis": {
            "backgroundcolor": "white",
            "gridcolor": "#DFE8F3",
            "gridwidth": 2,
            "linecolor": "#EBF0F8",
            "showbackground": true,
            "ticks": "",
            "zerolinecolor": "#EBF0F8"
           }
          },
          "shapedefaults": {
           "line": {
            "color": "#2a3f5f"
           }
          },
          "ternary": {
           "aaxis": {
            "gridcolor": "#DFE8F3",
            "linecolor": "#A2B1C6",
            "ticks": ""
           },
           "baxis": {
            "gridcolor": "#DFE8F3",
            "linecolor": "#A2B1C6",
            "ticks": ""
           },
           "bgcolor": "white",
           "caxis": {
            "gridcolor": "#DFE8F3",
            "linecolor": "#A2B1C6",
            "ticks": ""
           }
          },
          "title": {
           "x": 0.05
          },
          "xaxis": {
           "automargin": true,
           "gridcolor": "#EBF0F8",
           "linecolor": "#EBF0F8",
           "ticks": "",
           "title": {
            "standoff": 15
           },
           "zerolinecolor": "#EBF0F8",
           "zerolinewidth": 2
          },
          "yaxis": {
           "automargin": true,
           "gridcolor": "#EBF0F8",
           "linecolor": "#EBF0F8",
           "ticks": "",
           "title": {
            "standoff": 15
           },
           "zerolinecolor": "#EBF0F8",
           "zerolinewidth": 2
          }
         }
        },
        "title": {
         "text": "Fine Tuning: Evolución del Error (MAE)"
        },
        "xaxis": {
         "title": {
          "text": "Épocas"
         }
        },
        "yaxis": {
         "title": {
          "text": "Error Absoluto Medio (MAE)"
         }
        }
       }
      }
     },
     "metadata": {},
     "output_type": "display_data"
    }
   ],
   "source": [
    "fig = go.Figure()\n",
    "fig.add_trace(go.Scatter(\n",
    "    x=list(range(1, len(history.history['mae']) + 1)),\n",
    "    y=history.history['mae'],\n",
    "    mode='lines',\n",
    "    name='Entrenamiento',\n",
    "    line=dict(color='blue')\n",
    "))\n",
    "\n",
    "fig.add_trace(go.Scatter(\n",
    "    x=list(range(1, len(history.history['val_mae']) + 1)),\n",
    "    y=history.history['val_mae'],\n",
    "    mode='lines',\n",
    "    name='Validación',\n",
    "    line=dict(color='red', dash='dash'))\n",
    ")\n",
    "fig.update_layout(\n",
    "    title='Fine Tuning: Evolución del Error (MAE)',\n",
    "    xaxis_title='Épocas',\n",
    "    yaxis_title='Error Absoluto Medio (MAE)',\n",
    "    legend=dict(x=0.02, y=0.98),\n",
    "    hovermode=\"x unified\",\n",
    "    template='plotly_white',\n",
    "    margin=dict(l=40, r=20, t=60, b=40),\n",
    "    height=500\n",
    ")\n",
    "best_epoch = np.argmin(history.history['val_mae'])\n",
    "fig.add_vline(\n",
    "    x=best_epoch + 1,\n",
    "    line=dict(color=\"green\", width=1, dash=\"dot\"),\n",
    "    annotation_text=f\"Mejor época: {best_epoch + 1}\"\n",
    ")\n",
    "fig.show()"
   ]
  },
  {
   "cell_type": "markdown",
   "id": "feb8e070",
   "metadata": {},
   "source": [
    "Comparación entre MAE y Loss \n",
    "Si el MAE disminuye en entrenamiento y validación → El modelo está aprendiendo correctamente.\n",
    "En cuanto a pérdida, una pérdida descendente indica que el modelo está optimizándose, por lo que el algoritmo está optimizandose correctamente."
   ]
  },
  {
   "cell_type": "code",
   "execution_count": 21,
   "id": "0f3afdb0",
   "metadata": {},
   "outputs": [
    {
     "data": {
      "application/vnd.plotly.v1+json": {
       "config": {
        "plotlyServerURL": "https://plot.ly"
       },
       "data": [
        {
         "line": {
          "color": "blue"
         },
         "mode": "lines",
         "name": "Entrenamiento (MAE)",
         "type": "scatter",
         "x": [
          1,
          2,
          3,
          4,
          5,
          6,
          7,
          8,
          9,
          10
         ],
         "xaxis": "x",
         "y": [
          20955.6484375,
          16301.314453125,
          15723.1552734375,
          12551.76171875,
          10232.69921875,
          8834.7705078125,
          7645.69091796875,
          6761.2490234375,
          6149.24072265625,
          5593.52880859375
         ],
         "yaxis": "y"
        },
        {
         "line": {
          "color": "red",
          "dash": "dash"
         },
         "mode": "lines",
         "name": "Validación (MAE)",
         "type": "scatter",
         "x": [
          1,
          2,
          3,
          4,
          5,
          6,
          7,
          8,
          9,
          10
         ],
         "xaxis": "x",
         "y": [
          16310.744140625,
          16699.77734375,
          14377.3935546875,
          11377.1494140625,
          9841.2978515625,
          8278.86328125,
          7384.0537109375,
          6764.20458984375,
          6059.59423828125,
          5589.75341796875
         ],
         "yaxis": "y"
        },
        {
         "line": {
          "color": "green"
         },
         "mode": "lines",
         "name": "Entrenamiento (Loss)",
         "type": "scatter",
         "x": [
          1,
          2,
          3,
          4,
          5,
          6,
          7,
          8,
          9,
          10
         ],
         "xaxis": "x2",
         "y": [
          5224223232,
          3740000512,
          3283701760,
          2868080128,
          2470799360,
          2137700608,
          1824874112,
          1502116096,
          1196430208,
          919118080
         ],
         "yaxis": "y2"
        },
        {
         "line": {
          "color": "orange",
          "dash": "dash"
         },
         "mode": "lines",
         "name": "Validación (Loss)",
         "type": "scatter",
         "x": [
          1,
          2,
          3,
          4,
          5,
          6,
          7,
          8,
          9,
          10
         ],
         "xaxis": "x2",
         "y": [
          5722850816,
          4949669376,
          4442550784,
          3931820800,
          3383814912,
          2966981888,
          2500578304,
          2027998720,
          1606939136,
          1188297728
         ],
         "yaxis": "y2"
        }
       ],
       "layout": {
        "annotations": [
         {
          "font": {
           "size": 16
          },
          "showarrow": false,
          "text": "Error Absoluto Medio (MAE)",
          "x": 0.2125,
          "xanchor": "center",
          "xref": "paper",
          "y": 1,
          "yanchor": "bottom",
          "yref": "paper"
         },
         {
          "font": {
           "size": 16
          },
          "showarrow": false,
          "text": "Pérdida (Loss)",
          "x": 0.7875,
          "xanchor": "center",
          "xref": "paper",
          "y": 1,
          "yanchor": "bottom",
          "yref": "paper"
         }
        ],
        "height": 400,
        "legend": {
         "x": 1.1,
         "y": 1
        },
        "showlegend": true,
        "template": {
         "data": {
          "bar": [
           {
            "error_x": {
             "color": "#2a3f5f"
            },
            "error_y": {
             "color": "#2a3f5f"
            },
            "marker": {
             "line": {
              "color": "white",
              "width": 0.5
             },
             "pattern": {
              "fillmode": "overlay",
              "size": 10,
              "solidity": 0.2
             }
            },
            "type": "bar"
           }
          ],
          "barpolar": [
           {
            "marker": {
             "line": {
              "color": "white",
              "width": 0.5
             },
             "pattern": {
              "fillmode": "overlay",
              "size": 10,
              "solidity": 0.2
             }
            },
            "type": "barpolar"
           }
          ],
          "carpet": [
           {
            "aaxis": {
             "endlinecolor": "#2a3f5f",
             "gridcolor": "#C8D4E3",
             "linecolor": "#C8D4E3",
             "minorgridcolor": "#C8D4E3",
             "startlinecolor": "#2a3f5f"
            },
            "baxis": {
             "endlinecolor": "#2a3f5f",
             "gridcolor": "#C8D4E3",
             "linecolor": "#C8D4E3",
             "minorgridcolor": "#C8D4E3",
             "startlinecolor": "#2a3f5f"
            },
            "type": "carpet"
           }
          ],
          "choropleth": [
           {
            "colorbar": {
             "outlinewidth": 0,
             "ticks": ""
            },
            "type": "choropleth"
           }
          ],
          "contour": [
           {
            "colorbar": {
             "outlinewidth": 0,
             "ticks": ""
            },
            "colorscale": [
             [
              0,
              "#0d0887"
             ],
             [
              0.1111111111111111,
              "#46039f"
             ],
             [
              0.2222222222222222,
              "#7201a8"
             ],
             [
              0.3333333333333333,
              "#9c179e"
             ],
             [
              0.4444444444444444,
              "#bd3786"
             ],
             [
              0.5555555555555556,
              "#d8576b"
             ],
             [
              0.6666666666666666,
              "#ed7953"
             ],
             [
              0.7777777777777778,
              "#fb9f3a"
             ],
             [
              0.8888888888888888,
              "#fdca26"
             ],
             [
              1,
              "#f0f921"
             ]
            ],
            "type": "contour"
           }
          ],
          "contourcarpet": [
           {
            "colorbar": {
             "outlinewidth": 0,
             "ticks": ""
            },
            "type": "contourcarpet"
           }
          ],
          "heatmap": [
           {
            "colorbar": {
             "outlinewidth": 0,
             "ticks": ""
            },
            "colorscale": [
             [
              0,
              "#0d0887"
             ],
             [
              0.1111111111111111,
              "#46039f"
             ],
             [
              0.2222222222222222,
              "#7201a8"
             ],
             [
              0.3333333333333333,
              "#9c179e"
             ],
             [
              0.4444444444444444,
              "#bd3786"
             ],
             [
              0.5555555555555556,
              "#d8576b"
             ],
             [
              0.6666666666666666,
              "#ed7953"
             ],
             [
              0.7777777777777778,
              "#fb9f3a"
             ],
             [
              0.8888888888888888,
              "#fdca26"
             ],
             [
              1,
              "#f0f921"
             ]
            ],
            "type": "heatmap"
           }
          ],
          "histogram": [
           {
            "marker": {
             "pattern": {
              "fillmode": "overlay",
              "size": 10,
              "solidity": 0.2
             }
            },
            "type": "histogram"
           }
          ],
          "histogram2d": [
           {
            "colorbar": {
             "outlinewidth": 0,
             "ticks": ""
            },
            "colorscale": [
             [
              0,
              "#0d0887"
             ],
             [
              0.1111111111111111,
              "#46039f"
             ],
             [
              0.2222222222222222,
              "#7201a8"
             ],
             [
              0.3333333333333333,
              "#9c179e"
             ],
             [
              0.4444444444444444,
              "#bd3786"
             ],
             [
              0.5555555555555556,
              "#d8576b"
             ],
             [
              0.6666666666666666,
              "#ed7953"
             ],
             [
              0.7777777777777778,
              "#fb9f3a"
             ],
             [
              0.8888888888888888,
              "#fdca26"
             ],
             [
              1,
              "#f0f921"
             ]
            ],
            "type": "histogram2d"
           }
          ],
          "histogram2dcontour": [
           {
            "colorbar": {
             "outlinewidth": 0,
             "ticks": ""
            },
            "colorscale": [
             [
              0,
              "#0d0887"
             ],
             [
              0.1111111111111111,
              "#46039f"
             ],
             [
              0.2222222222222222,
              "#7201a8"
             ],
             [
              0.3333333333333333,
              "#9c179e"
             ],
             [
              0.4444444444444444,
              "#bd3786"
             ],
             [
              0.5555555555555556,
              "#d8576b"
             ],
             [
              0.6666666666666666,
              "#ed7953"
             ],
             [
              0.7777777777777778,
              "#fb9f3a"
             ],
             [
              0.8888888888888888,
              "#fdca26"
             ],
             [
              1,
              "#f0f921"
             ]
            ],
            "type": "histogram2dcontour"
           }
          ],
          "mesh3d": [
           {
            "colorbar": {
             "outlinewidth": 0,
             "ticks": ""
            },
            "type": "mesh3d"
           }
          ],
          "parcoords": [
           {
            "line": {
             "colorbar": {
              "outlinewidth": 0,
              "ticks": ""
             }
            },
            "type": "parcoords"
           }
          ],
          "pie": [
           {
            "automargin": true,
            "type": "pie"
           }
          ],
          "scatter": [
           {
            "fillpattern": {
             "fillmode": "overlay",
             "size": 10,
             "solidity": 0.2
            },
            "type": "scatter"
           }
          ],
          "scatter3d": [
           {
            "line": {
             "colorbar": {
              "outlinewidth": 0,
              "ticks": ""
             }
            },
            "marker": {
             "colorbar": {
              "outlinewidth": 0,
              "ticks": ""
             }
            },
            "type": "scatter3d"
           }
          ],
          "scattercarpet": [
           {
            "marker": {
             "colorbar": {
              "outlinewidth": 0,
              "ticks": ""
             }
            },
            "type": "scattercarpet"
           }
          ],
          "scattergeo": [
           {
            "marker": {
             "colorbar": {
              "outlinewidth": 0,
              "ticks": ""
             }
            },
            "type": "scattergeo"
           }
          ],
          "scattergl": [
           {
            "marker": {
             "colorbar": {
              "outlinewidth": 0,
              "ticks": ""
             }
            },
            "type": "scattergl"
           }
          ],
          "scattermap": [
           {
            "marker": {
             "colorbar": {
              "outlinewidth": 0,
              "ticks": ""
             }
            },
            "type": "scattermap"
           }
          ],
          "scattermapbox": [
           {
            "marker": {
             "colorbar": {
              "outlinewidth": 0,
              "ticks": ""
             }
            },
            "type": "scattermapbox"
           }
          ],
          "scatterpolar": [
           {
            "marker": {
             "colorbar": {
              "outlinewidth": 0,
              "ticks": ""
             }
            },
            "type": "scatterpolar"
           }
          ],
          "scatterpolargl": [
           {
            "marker": {
             "colorbar": {
              "outlinewidth": 0,
              "ticks": ""
             }
            },
            "type": "scatterpolargl"
           }
          ],
          "scatterternary": [
           {
            "marker": {
             "colorbar": {
              "outlinewidth": 0,
              "ticks": ""
             }
            },
            "type": "scatterternary"
           }
          ],
          "surface": [
           {
            "colorbar": {
             "outlinewidth": 0,
             "ticks": ""
            },
            "colorscale": [
             [
              0,
              "#0d0887"
             ],
             [
              0.1111111111111111,
              "#46039f"
             ],
             [
              0.2222222222222222,
              "#7201a8"
             ],
             [
              0.3333333333333333,
              "#9c179e"
             ],
             [
              0.4444444444444444,
              "#bd3786"
             ],
             [
              0.5555555555555556,
              "#d8576b"
             ],
             [
              0.6666666666666666,
              "#ed7953"
             ],
             [
              0.7777777777777778,
              "#fb9f3a"
             ],
             [
              0.8888888888888888,
              "#fdca26"
             ],
             [
              1,
              "#f0f921"
             ]
            ],
            "type": "surface"
           }
          ],
          "table": [
           {
            "cells": {
             "fill": {
              "color": "#EBF0F8"
             },
             "line": {
              "color": "white"
             }
            },
            "header": {
             "fill": {
              "color": "#C8D4E3"
             },
             "line": {
              "color": "white"
             }
            },
            "type": "table"
           }
          ]
         },
         "layout": {
          "annotationdefaults": {
           "arrowcolor": "#2a3f5f",
           "arrowhead": 0,
           "arrowwidth": 1
          },
          "autotypenumbers": "strict",
          "coloraxis": {
           "colorbar": {
            "outlinewidth": 0,
            "ticks": ""
           }
          },
          "colorscale": {
           "diverging": [
            [
             0,
             "#8e0152"
            ],
            [
             0.1,
             "#c51b7d"
            ],
            [
             0.2,
             "#de77ae"
            ],
            [
             0.3,
             "#f1b6da"
            ],
            [
             0.4,
             "#fde0ef"
            ],
            [
             0.5,
             "#f7f7f7"
            ],
            [
             0.6,
             "#e6f5d0"
            ],
            [
             0.7,
             "#b8e186"
            ],
            [
             0.8,
             "#7fbc41"
            ],
            [
             0.9,
             "#4d9221"
            ],
            [
             1,
             "#276419"
            ]
           ],
           "sequential": [
            [
             0,
             "#0d0887"
            ],
            [
             0.1111111111111111,
             "#46039f"
            ],
            [
             0.2222222222222222,
             "#7201a8"
            ],
            [
             0.3333333333333333,
             "#9c179e"
            ],
            [
             0.4444444444444444,
             "#bd3786"
            ],
            [
             0.5555555555555556,
             "#d8576b"
            ],
            [
             0.6666666666666666,
             "#ed7953"
            ],
            [
             0.7777777777777778,
             "#fb9f3a"
            ],
            [
             0.8888888888888888,
             "#fdca26"
            ],
            [
             1,
             "#f0f921"
            ]
           ],
           "sequentialminus": [
            [
             0,
             "#0d0887"
            ],
            [
             0.1111111111111111,
             "#46039f"
            ],
            [
             0.2222222222222222,
             "#7201a8"
            ],
            [
             0.3333333333333333,
             "#9c179e"
            ],
            [
             0.4444444444444444,
             "#bd3786"
            ],
            [
             0.5555555555555556,
             "#d8576b"
            ],
            [
             0.6666666666666666,
             "#ed7953"
            ],
            [
             0.7777777777777778,
             "#fb9f3a"
            ],
            [
             0.8888888888888888,
             "#fdca26"
            ],
            [
             1,
             "#f0f921"
            ]
           ]
          },
          "colorway": [
           "#636efa",
           "#EF553B",
           "#00cc96",
           "#ab63fa",
           "#FFA15A",
           "#19d3f3",
           "#FF6692",
           "#B6E880",
           "#FF97FF",
           "#FECB52"
          ],
          "font": {
           "color": "#2a3f5f"
          },
          "geo": {
           "bgcolor": "white",
           "lakecolor": "white",
           "landcolor": "white",
           "showlakes": true,
           "showland": true,
           "subunitcolor": "#C8D4E3"
          },
          "hoverlabel": {
           "align": "left"
          },
          "hovermode": "closest",
          "mapbox": {
           "style": "light"
          },
          "paper_bgcolor": "white",
          "plot_bgcolor": "white",
          "polar": {
           "angularaxis": {
            "gridcolor": "#EBF0F8",
            "linecolor": "#EBF0F8",
            "ticks": ""
           },
           "bgcolor": "white",
           "radialaxis": {
            "gridcolor": "#EBF0F8",
            "linecolor": "#EBF0F8",
            "ticks": ""
           }
          },
          "scene": {
           "xaxis": {
            "backgroundcolor": "white",
            "gridcolor": "#DFE8F3",
            "gridwidth": 2,
            "linecolor": "#EBF0F8",
            "showbackground": true,
            "ticks": "",
            "zerolinecolor": "#EBF0F8"
           },
           "yaxis": {
            "backgroundcolor": "white",
            "gridcolor": "#DFE8F3",
            "gridwidth": 2,
            "linecolor": "#EBF0F8",
            "showbackground": true,
            "ticks": "",
            "zerolinecolor": "#EBF0F8"
           },
           "zaxis": {
            "backgroundcolor": "white",
            "gridcolor": "#DFE8F3",
            "gridwidth": 2,
            "linecolor": "#EBF0F8",
            "showbackground": true,
            "ticks": "",
            "zerolinecolor": "#EBF0F8"
           }
          },
          "shapedefaults": {
           "line": {
            "color": "#2a3f5f"
           }
          },
          "ternary": {
           "aaxis": {
            "gridcolor": "#DFE8F3",
            "linecolor": "#A2B1C6",
            "ticks": ""
           },
           "baxis": {
            "gridcolor": "#DFE8F3",
            "linecolor": "#A2B1C6",
            "ticks": ""
           },
           "bgcolor": "white",
           "caxis": {
            "gridcolor": "#DFE8F3",
            "linecolor": "#A2B1C6",
            "ticks": ""
           }
          },
          "title": {
           "x": 0.05
          },
          "xaxis": {
           "automargin": true,
           "gridcolor": "#EBF0F8",
           "linecolor": "#EBF0F8",
           "ticks": "",
           "title": {
            "standoff": 15
           },
           "zerolinecolor": "#EBF0F8",
           "zerolinewidth": 2
          },
          "yaxis": {
           "automargin": true,
           "gridcolor": "#EBF0F8",
           "linecolor": "#EBF0F8",
           "ticks": "",
           "title": {
            "standoff": 15
           },
           "zerolinecolor": "#EBF0F8",
           "zerolinewidth": 2
          }
         }
        },
        "title": {
         "text": "Curvas de Entrenamiento y Validación"
        },
        "xaxis": {
         "anchor": "y",
         "domain": [
          0,
          0.425
         ],
         "title": {
          "text": "Épocas"
         }
        },
        "xaxis2": {
         "anchor": "y2",
         "domain": [
          0.575,
          1
         ],
         "title": {
          "text": "Épocas"
         }
        },
        "yaxis": {
         "anchor": "x",
         "domain": [
          0,
          1
         ],
         "title": {
          "text": "MAE"
         }
        },
        "yaxis2": {
         "anchor": "x2",
         "domain": [
          0,
          1
         ],
         "title": {
          "text": "Loss"
         }
        }
       }
      }
     },
     "metadata": {},
     "output_type": "display_data"
    }
   ],
   "source": [
    "\n",
    "\n",
    "# Crear figura con 2 subplots (1 fila, 2 columnas)\n",
    "fig = make_subplots(\n",
    "    rows=1, \n",
    "    cols=2,\n",
    "    subplot_titles=('Error Absoluto Medio (MAE)', 'Pérdida (Loss)'),\n",
    "    horizontal_spacing=0.15  # Espacio entre subplots\n",
    ")\n",
    "\n",
    "# ---- Subplot 1: MAE ----\n",
    "fig.add_trace(\n",
    "    go.Scatter(\n",
    "        x=list(range(1, len(history.history['mae']) + 1)),\n",
    "        y=history.history['mae'],\n",
    "        mode='lines',\n",
    "        name='Entrenamiento (MAE)',\n",
    "        line=dict(color='blue')\n",
    "    ),\n",
    "    row=1, col=1  # Fila 1, Columna 1\n",
    ")\n",
    "\n",
    "fig.add_trace(\n",
    "    go.Scatter(\n",
    "        x=list(range(1, len(history.history['val_mae']) + 1)),\n",
    "        y=history.history['val_mae'],\n",
    "        mode='lines',\n",
    "        name='Validación (MAE)',\n",
    "        line=dict(color='red', dash='dash')\n",
    "    ),\n",
    "    row=1, col=1\n",
    ")\n",
    "\n",
    "# ---- Subplot 2: Loss ----\n",
    "fig.add_trace(\n",
    "    go.Scatter(\n",
    "        x=list(range(1, len(history.history['loss']) + 1)),\n",
    "        y=history.history['loss'],\n",
    "        mode='lines',\n",
    "        name='Entrenamiento (Loss)',\n",
    "        line=dict(color='green')\n",
    "    ),\n",
    "    row=1, col=2  # Fila 1, Columna 2\n",
    ")\n",
    "\n",
    "fig.add_trace(\n",
    "    go.Scatter(\n",
    "        x=list(range(1, len(history.history['val_loss']) + 1)),\n",
    "        y=history.history['val_loss'],\n",
    "        mode='lines',\n",
    "        name='Validación (Loss)',\n",
    "        line=dict(color='orange', dash='dash')\n",
    "    ),\n",
    "    row=1, col=2\n",
    ")\n",
    "\n",
    "# ---- Personalización global ----\n",
    "fig.update_layout(\n",
    "    title_text='Curvas de Entrenamiento y Validación',\n",
    "    showlegend=True,\n",
    "    legend=dict(x=1.1, y=1),  # Mover leyenda a la derecha\n",
    "    template='plotly_white',\n",
    "    height=400\n",
    ")\n",
    "\n",
    "# ---- Ejes individuales ----\n",
    "fig.update_xaxes(title_text='Épocas', row=1, col=1)\n",
    "fig.update_yaxes(title_text='MAE', row=1, col=1)\n",
    "fig.update_xaxes(title_text='Épocas', row=1, col=2)\n",
    "fig.update_yaxes(title_text='Loss', row=1, col=2)\n",
    "\n",
    "fig.show()"
   ]
  },
  {
   "cell_type": "code",
   "execution_count": 24,
   "id": "aa27cc06",
   "metadata": {},
   "outputs": [
    {
     "data": {
      "application/vnd.plotly.v1+json": {
       "config": {
        "plotlyServerURL": "https://plot.ly"
       },
       "data": [
        {
         "line": {
          "color": "#636EFA",
          "width": 3
         },
         "name": "Train Loss",
         "type": "scatter",
         "visible": true,
         "x": [
          1,
          2,
          3,
          4,
          5,
          6,
          7,
          8,
          9,
          10
         ],
         "y": [
          4628893696,
          1463179776,
          1253954688,
          1268996480,
          673851456,
          514120000,
          400959040,
          225912592,
          129058104,
          100049928
         ]
        },
        {
         "line": {
          "color": "#EF553B",
          "dash": "dash",
          "width": 3
         },
         "name": "Val Loss",
         "type": "scatter",
         "visible": true,
         "x": [
          1,
          2,
          3,
          4,
          5,
          6,
          7,
          8,
          9,
          10
         ],
         "y": [
          3301542656,
          2530977024,
          1843431296,
          1140614528,
          586190848,
          349037280,
          267882368,
          114767656,
          69260472,
          85961832
         ]
        },
        {
         "line": {
          "color": "#00CC96",
          "width": 3
         },
         "name": "Train MAE",
         "type": "scatter",
         "visible": false,
         "x": [
          1,
          2,
          3,
          4,
          5,
          6,
          7,
          8,
          9,
          10
         ],
         "y": [
          19220.0469,
          8567.7812,
          7191.8105,
          6355.0952,
          5497.1138,
          4763.5522,
          4462.437,
          4212.4707,
          3822.4619,
          3620.9583
         ]
        },
        {
         "line": {
          "color": "#AB63FA",
          "dash": "dash",
          "width": 3
         },
         "name": "Val MAE",
         "type": "scatter",
         "visible": false,
         "x": [
          1,
          2,
          3,
          4,
          5,
          6,
          7,
          8,
          9,
          10
         ],
         "y": [
          8875.4102,
          8017.1914,
          5988.168,
          5146.9941,
          4045.6462,
          3873.5422,
          3724.9561,
          2727.1287,
          2437.1638,
          2708.0784
         ]
        }
       ],
       "layout": {
        "annotations": [
         {
          "showarrow": false,
          "text": "Mejor época (Loss): 9",
          "x": 9,
          "xanchor": "left",
          "xref": "x",
          "y": 1,
          "yanchor": "top",
          "yref": "y domain"
         },
         {
          "showarrow": false,
          "text": "Mejor época (MAE): 9",
          "x": 9,
          "xanchor": "left",
          "xref": "x",
          "y": 0,
          "yanchor": "bottom",
          "yref": "y domain"
         }
        ],
        "height": 600,
        "hovermode": "x unified",
        "shapes": [
         {
          "line": {
           "color": "#FFA15A",
           "dash": "dot",
           "width": 2
          },
          "type": "line",
          "x0": 9,
          "x1": 9,
          "xref": "x",
          "y0": 0,
          "y1": 1,
          "yref": "y domain"
         },
         {
          "line": {
           "color": "#19D3F3",
           "dash": "dot",
           "width": 2
          },
          "type": "line",
          "x0": 9,
          "x1": 9,
          "xref": "x",
          "y0": 0,
          "y1": 1,
          "yref": "y domain"
         }
        ],
        "template": {
         "data": {
          "bar": [
           {
            "error_x": {
             "color": "#2a3f5f"
            },
            "error_y": {
             "color": "#2a3f5f"
            },
            "marker": {
             "line": {
              "color": "white",
              "width": 0.5
             },
             "pattern": {
              "fillmode": "overlay",
              "size": 10,
              "solidity": 0.2
             }
            },
            "type": "bar"
           }
          ],
          "barpolar": [
           {
            "marker": {
             "line": {
              "color": "white",
              "width": 0.5
             },
             "pattern": {
              "fillmode": "overlay",
              "size": 10,
              "solidity": 0.2
             }
            },
            "type": "barpolar"
           }
          ],
          "carpet": [
           {
            "aaxis": {
             "endlinecolor": "#2a3f5f",
             "gridcolor": "#C8D4E3",
             "linecolor": "#C8D4E3",
             "minorgridcolor": "#C8D4E3",
             "startlinecolor": "#2a3f5f"
            },
            "baxis": {
             "endlinecolor": "#2a3f5f",
             "gridcolor": "#C8D4E3",
             "linecolor": "#C8D4E3",
             "minorgridcolor": "#C8D4E3",
             "startlinecolor": "#2a3f5f"
            },
            "type": "carpet"
           }
          ],
          "choropleth": [
           {
            "colorbar": {
             "outlinewidth": 0,
             "ticks": ""
            },
            "type": "choropleth"
           }
          ],
          "contour": [
           {
            "colorbar": {
             "outlinewidth": 0,
             "ticks": ""
            },
            "colorscale": [
             [
              0,
              "#0d0887"
             ],
             [
              0.1111111111111111,
              "#46039f"
             ],
             [
              0.2222222222222222,
              "#7201a8"
             ],
             [
              0.3333333333333333,
              "#9c179e"
             ],
             [
              0.4444444444444444,
              "#bd3786"
             ],
             [
              0.5555555555555556,
              "#d8576b"
             ],
             [
              0.6666666666666666,
              "#ed7953"
             ],
             [
              0.7777777777777778,
              "#fb9f3a"
             ],
             [
              0.8888888888888888,
              "#fdca26"
             ],
             [
              1,
              "#f0f921"
             ]
            ],
            "type": "contour"
           }
          ],
          "contourcarpet": [
           {
            "colorbar": {
             "outlinewidth": 0,
             "ticks": ""
            },
            "type": "contourcarpet"
           }
          ],
          "heatmap": [
           {
            "colorbar": {
             "outlinewidth": 0,
             "ticks": ""
            },
            "colorscale": [
             [
              0,
              "#0d0887"
             ],
             [
              0.1111111111111111,
              "#46039f"
             ],
             [
              0.2222222222222222,
              "#7201a8"
             ],
             [
              0.3333333333333333,
              "#9c179e"
             ],
             [
              0.4444444444444444,
              "#bd3786"
             ],
             [
              0.5555555555555556,
              "#d8576b"
             ],
             [
              0.6666666666666666,
              "#ed7953"
             ],
             [
              0.7777777777777778,
              "#fb9f3a"
             ],
             [
              0.8888888888888888,
              "#fdca26"
             ],
             [
              1,
              "#f0f921"
             ]
            ],
            "type": "heatmap"
           }
          ],
          "histogram": [
           {
            "marker": {
             "pattern": {
              "fillmode": "overlay",
              "size": 10,
              "solidity": 0.2
             }
            },
            "type": "histogram"
           }
          ],
          "histogram2d": [
           {
            "colorbar": {
             "outlinewidth": 0,
             "ticks": ""
            },
            "colorscale": [
             [
              0,
              "#0d0887"
             ],
             [
              0.1111111111111111,
              "#46039f"
             ],
             [
              0.2222222222222222,
              "#7201a8"
             ],
             [
              0.3333333333333333,
              "#9c179e"
             ],
             [
              0.4444444444444444,
              "#bd3786"
             ],
             [
              0.5555555555555556,
              "#d8576b"
             ],
             [
              0.6666666666666666,
              "#ed7953"
             ],
             [
              0.7777777777777778,
              "#fb9f3a"
             ],
             [
              0.8888888888888888,
              "#fdca26"
             ],
             [
              1,
              "#f0f921"
             ]
            ],
            "type": "histogram2d"
           }
          ],
          "histogram2dcontour": [
           {
            "colorbar": {
             "outlinewidth": 0,
             "ticks": ""
            },
            "colorscale": [
             [
              0,
              "#0d0887"
             ],
             [
              0.1111111111111111,
              "#46039f"
             ],
             [
              0.2222222222222222,
              "#7201a8"
             ],
             [
              0.3333333333333333,
              "#9c179e"
             ],
             [
              0.4444444444444444,
              "#bd3786"
             ],
             [
              0.5555555555555556,
              "#d8576b"
             ],
             [
              0.6666666666666666,
              "#ed7953"
             ],
             [
              0.7777777777777778,
              "#fb9f3a"
             ],
             [
              0.8888888888888888,
              "#fdca26"
             ],
             [
              1,
              "#f0f921"
             ]
            ],
            "type": "histogram2dcontour"
           }
          ],
          "mesh3d": [
           {
            "colorbar": {
             "outlinewidth": 0,
             "ticks": ""
            },
            "type": "mesh3d"
           }
          ],
          "parcoords": [
           {
            "line": {
             "colorbar": {
              "outlinewidth": 0,
              "ticks": ""
             }
            },
            "type": "parcoords"
           }
          ],
          "pie": [
           {
            "automargin": true,
            "type": "pie"
           }
          ],
          "scatter": [
           {
            "fillpattern": {
             "fillmode": "overlay",
             "size": 10,
             "solidity": 0.2
            },
            "type": "scatter"
           }
          ],
          "scatter3d": [
           {
            "line": {
             "colorbar": {
              "outlinewidth": 0,
              "ticks": ""
             }
            },
            "marker": {
             "colorbar": {
              "outlinewidth": 0,
              "ticks": ""
             }
            },
            "type": "scatter3d"
           }
          ],
          "scattercarpet": [
           {
            "marker": {
             "colorbar": {
              "outlinewidth": 0,
              "ticks": ""
             }
            },
            "type": "scattercarpet"
           }
          ],
          "scattergeo": [
           {
            "marker": {
             "colorbar": {
              "outlinewidth": 0,
              "ticks": ""
             }
            },
            "type": "scattergeo"
           }
          ],
          "scattergl": [
           {
            "marker": {
             "colorbar": {
              "outlinewidth": 0,
              "ticks": ""
             }
            },
            "type": "scattergl"
           }
          ],
          "scattermap": [
           {
            "marker": {
             "colorbar": {
              "outlinewidth": 0,
              "ticks": ""
             }
            },
            "type": "scattermap"
           }
          ],
          "scattermapbox": [
           {
            "marker": {
             "colorbar": {
              "outlinewidth": 0,
              "ticks": ""
             }
            },
            "type": "scattermapbox"
           }
          ],
          "scatterpolar": [
           {
            "marker": {
             "colorbar": {
              "outlinewidth": 0,
              "ticks": ""
             }
            },
            "type": "scatterpolar"
           }
          ],
          "scatterpolargl": [
           {
            "marker": {
             "colorbar": {
              "outlinewidth": 0,
              "ticks": ""
             }
            },
            "type": "scatterpolargl"
           }
          ],
          "scatterternary": [
           {
            "marker": {
             "colorbar": {
              "outlinewidth": 0,
              "ticks": ""
             }
            },
            "type": "scatterternary"
           }
          ],
          "surface": [
           {
            "colorbar": {
             "outlinewidth": 0,
             "ticks": ""
            },
            "colorscale": [
             [
              0,
              "#0d0887"
             ],
             [
              0.1111111111111111,
              "#46039f"
             ],
             [
              0.2222222222222222,
              "#7201a8"
             ],
             [
              0.3333333333333333,
              "#9c179e"
             ],
             [
              0.4444444444444444,
              "#bd3786"
             ],
             [
              0.5555555555555556,
              "#d8576b"
             ],
             [
              0.6666666666666666,
              "#ed7953"
             ],
             [
              0.7777777777777778,
              "#fb9f3a"
             ],
             [
              0.8888888888888888,
              "#fdca26"
             ],
             [
              1,
              "#f0f921"
             ]
            ],
            "type": "surface"
           }
          ],
          "table": [
           {
            "cells": {
             "fill": {
              "color": "#EBF0F8"
             },
             "line": {
              "color": "white"
             }
            },
            "header": {
             "fill": {
              "color": "#C8D4E3"
             },
             "line": {
              "color": "white"
             }
            },
            "type": "table"
           }
          ]
         },
         "layout": {
          "annotationdefaults": {
           "arrowcolor": "#2a3f5f",
           "arrowhead": 0,
           "arrowwidth": 1
          },
          "autotypenumbers": "strict",
          "coloraxis": {
           "colorbar": {
            "outlinewidth": 0,
            "ticks": ""
           }
          },
          "colorscale": {
           "diverging": [
            [
             0,
             "#8e0152"
            ],
            [
             0.1,
             "#c51b7d"
            ],
            [
             0.2,
             "#de77ae"
            ],
            [
             0.3,
             "#f1b6da"
            ],
            [
             0.4,
             "#fde0ef"
            ],
            [
             0.5,
             "#f7f7f7"
            ],
            [
             0.6,
             "#e6f5d0"
            ],
            [
             0.7,
             "#b8e186"
            ],
            [
             0.8,
             "#7fbc41"
            ],
            [
             0.9,
             "#4d9221"
            ],
            [
             1,
             "#276419"
            ]
           ],
           "sequential": [
            [
             0,
             "#0d0887"
            ],
            [
             0.1111111111111111,
             "#46039f"
            ],
            [
             0.2222222222222222,
             "#7201a8"
            ],
            [
             0.3333333333333333,
             "#9c179e"
            ],
            [
             0.4444444444444444,
             "#bd3786"
            ],
            [
             0.5555555555555556,
             "#d8576b"
            ],
            [
             0.6666666666666666,
             "#ed7953"
            ],
            [
             0.7777777777777778,
             "#fb9f3a"
            ],
            [
             0.8888888888888888,
             "#fdca26"
            ],
            [
             1,
             "#f0f921"
            ]
           ],
           "sequentialminus": [
            [
             0,
             "#0d0887"
            ],
            [
             0.1111111111111111,
             "#46039f"
            ],
            [
             0.2222222222222222,
             "#7201a8"
            ],
            [
             0.3333333333333333,
             "#9c179e"
            ],
            [
             0.4444444444444444,
             "#bd3786"
            ],
            [
             0.5555555555555556,
             "#d8576b"
            ],
            [
             0.6666666666666666,
             "#ed7953"
            ],
            [
             0.7777777777777778,
             "#fb9f3a"
            ],
            [
             0.8888888888888888,
             "#fdca26"
            ],
            [
             1,
             "#f0f921"
            ]
           ]
          },
          "colorway": [
           "#636efa",
           "#EF553B",
           "#00cc96",
           "#ab63fa",
           "#FFA15A",
           "#19d3f3",
           "#FF6692",
           "#B6E880",
           "#FF97FF",
           "#FECB52"
          ],
          "font": {
           "color": "#2a3f5f"
          },
          "geo": {
           "bgcolor": "white",
           "lakecolor": "white",
           "landcolor": "white",
           "showlakes": true,
           "showland": true,
           "subunitcolor": "#C8D4E3"
          },
          "hoverlabel": {
           "align": "left"
          },
          "hovermode": "closest",
          "mapbox": {
           "style": "light"
          },
          "paper_bgcolor": "white",
          "plot_bgcolor": "white",
          "polar": {
           "angularaxis": {
            "gridcolor": "#EBF0F8",
            "linecolor": "#EBF0F8",
            "ticks": ""
           },
           "bgcolor": "white",
           "radialaxis": {
            "gridcolor": "#EBF0F8",
            "linecolor": "#EBF0F8",
            "ticks": ""
           }
          },
          "scene": {
           "xaxis": {
            "backgroundcolor": "white",
            "gridcolor": "#DFE8F3",
            "gridwidth": 2,
            "linecolor": "#EBF0F8",
            "showbackground": true,
            "ticks": "",
            "zerolinecolor": "#EBF0F8"
           },
           "yaxis": {
            "backgroundcolor": "white",
            "gridcolor": "#DFE8F3",
            "gridwidth": 2,
            "linecolor": "#EBF0F8",
            "showbackground": true,
            "ticks": "",
            "zerolinecolor": "#EBF0F8"
           },
           "zaxis": {
            "backgroundcolor": "white",
            "gridcolor": "#DFE8F3",
            "gridwidth": 2,
            "linecolor": "#EBF0F8",
            "showbackground": true,
            "ticks": "",
            "zerolinecolor": "#EBF0F8"
           }
          },
          "shapedefaults": {
           "line": {
            "color": "#2a3f5f"
           }
          },
          "ternary": {
           "aaxis": {
            "gridcolor": "#DFE8F3",
            "linecolor": "#A2B1C6",
            "ticks": ""
           },
           "baxis": {
            "gridcolor": "#DFE8F3",
            "linecolor": "#A2B1C6",
            "ticks": ""
           },
           "bgcolor": "white",
           "caxis": {
            "gridcolor": "#DFE8F3",
            "linecolor": "#A2B1C6",
            "ticks": ""
           }
          },
          "title": {
           "x": 0.05
          },
          "xaxis": {
           "automargin": true,
           "gridcolor": "#EBF0F8",
           "linecolor": "#EBF0F8",
           "ticks": "",
           "title": {
            "standoff": 15
           },
           "zerolinecolor": "#EBF0F8",
           "zerolinewidth": 2
          },
          "yaxis": {
           "automargin": true,
           "gridcolor": "#EBF0F8",
           "linecolor": "#EBF0F8",
           "ticks": "",
           "title": {
            "standoff": 15
           },
           "zerolinecolor": "#EBF0F8",
           "zerolinewidth": 2
          }
         }
        },
        "title": {
         "text": "Evolución de Pérdidas por Época"
        },
        "updatemenus": [
         {
          "buttons": [
           {
            "args": [
             {
              "visible": [
               true,
               true,
               false,
               false
              ]
             },
             {
              "title": "Evolución de Pérdidas por Época",
              "yaxis": {
               "title": "Loss",
               "type": "log"
              }
             }
            ],
            "label": "Pérdidas (Loss)",
            "method": "update"
           },
           {
            "args": [
             {
              "visible": [
               false,
               false,
               true,
               true
              ]
             },
             {
              "title": "Evolución del MAE por Época",
              "yaxis": {
               "title": "MAE",
               "type": "linear"
              }
             }
            ],
            "label": "Error (MAE)",
            "method": "update"
           }
          ],
          "direction": "left",
          "pad": {
           "r": 10,
           "t": 10
          },
          "showactive": true,
          "x": 0.1,
          "xanchor": "left",
          "y": 1.1,
          "yanchor": "top"
         }
        ],
        "xaxis": {
         "title": {
          "text": "Épocas"
         }
        },
        "yaxis": {
         "title": {
          "text": "Loss (escala logarítmica)"
         },
         "type": "log"
        }
       }
      }
     },
     "metadata": {},
     "output_type": "display_data"
    }
   ],
   "source": [
    "import plotly.graph_objects as go\n",
    "from plotly.subplots import make_subplots\n",
    "import numpy as np\n",
    "\n",
    "# Datos extraídos de tu entrenamiento\n",
    "epochs = list(range(1, 11))\n",
    "train_loss = [4628893696, 1463179776, 1253954688, 1268996480, 673851456, \n",
    "              514120000, 400959040, 225912592, 129058104, 100049928]\n",
    "val_loss = [3301542656, 2530977024, 1843431296, 1140614528, 586190848, \n",
    "            349037280, 267882368, 114767656, 69260472, 85961832]\n",
    "train_mae = [19220.0469, 8567.7812, 7191.8105, 6355.0952, 5497.1138, \n",
    "             4763.5522, 4462.4370, 4212.4707, 3822.4619, 3620.9583]\n",
    "val_mae = [8875.4102, 8017.1914, 5988.1680, 5146.9941, 4045.6462, \n",
    "           3873.5422, 3724.9561, 2727.1287, 2437.1638, 2708.0784]\n",
    "\n",
    "# Crear figura con pestañas\n",
    "fig = go.Figure()\n",
    "\n",
    "# Gráfico de Pérdidas (Loss)\n",
    "fig.add_trace(go.Scatter(\n",
    "    x=epochs, y=train_loss,\n",
    "    name='Train Loss',\n",
    "    line=dict(color='#636EFA', width=3),\n",
    "    visible=True\n",
    "))\n",
    "\n",
    "fig.add_trace(go.Scatter(\n",
    "    x=epochs, y=val_loss,\n",
    "    name='Val Loss',\n",
    "    line=dict(color='#EF553B', width=3, dash='dash'),\n",
    "    visible=True\n",
    "))\n",
    "\n",
    "# Gráfico de MAE (como pestaña secundaria)\n",
    "fig.add_trace(go.Scatter(\n",
    "    x=epochs, y=train_mae,\n",
    "    name='Train MAE',\n",
    "    line=dict(color='#00CC96', width=3),\n",
    "    visible=False\n",
    "))\n",
    "\n",
    "fig.add_trace(go.Scatter(\n",
    "    x=epochs, y=val_mae,\n",
    "    name='Val MAE',\n",
    "    line=dict(color='#AB63FA', width=3, dash='dash'),\n",
    "    visible=False\n",
    "))\n",
    "\n",
    "# Mejor época (mínimo val_loss)\n",
    "best_epoch_loss = np.argmin(val_loss) + 1\n",
    "best_epoch_mae = np.argmin(val_mae) + 1\n",
    "\n",
    "# Añadir líneas verticales\n",
    "fig.add_vline(\n",
    "    x=best_epoch_loss,\n",
    "    line=dict(color=\"#FFA15A\", width=2, dash=\"dot\"),\n",
    "    annotation_text=f\"Mejor época (Loss): {best_epoch_loss}\",\n",
    "    annotation_position=\"top right\"\n",
    ")\n",
    "\n",
    "fig.add_vline(\n",
    "    x=best_epoch_mae,\n",
    "    line=dict(color=\"#19D3F3\", width=2, dash=\"dot\"),\n",
    "    annotation_text=f\"Mejor época (MAE): {best_epoch_mae}\",\n",
    "    annotation_position=\"bottom right\"\n",
    ")\n",
    "\n",
    "# Botones para alternar entre gráficos\n",
    "fig.update_layout(\n",
    "    updatemenus=[{\n",
    "        \"buttons\": [\n",
    "            {\n",
    "                \"label\": \"Pérdidas (Loss)\",\n",
    "                \"method\": \"update\",\n",
    "                \"args\": [\n",
    "                    {\"visible\": [True, True, False, False]},\n",
    "                    {\"title\": \"Evolución de Pérdidas por Época\",\n",
    "                     \"yaxis\": {\"title\": \"Loss\", \"type\": \"log\"}}\n",
    "                ]\n",
    "            },\n",
    "            {\n",
    "                \"label\": \"Error (MAE)\",\n",
    "                \"method\": \"update\",\n",
    "                \"args\": [\n",
    "                    {\"visible\": [False, False, True, True]},\n",
    "                    {\"title\": \"Evolución del MAE por Época\",\n",
    "                     \"yaxis\": {\"title\": \"MAE\", \"type\": \"linear\"}}\n",
    "                ]\n",
    "            }\n",
    "        ],\n",
    "        \"direction\": \"left\",\n",
    "        \"pad\": {\"r\": 10, \"t\": 10},\n",
    "        \"showactive\": True,\n",
    "        \"x\": 0.1,\n",
    "        \"xanchor\": \"left\",\n",
    "        \"y\": 1.1,\n",
    "        \"yanchor\": \"top\"\n",
    "    }],\n",
    "    title_text=\"Evolución de Pérdidas por Época\",\n",
    "    template=\"plotly_white\",\n",
    "    hovermode=\"x unified\",\n",
    "    height=600,\n",
    "    yaxis_type=\"log\"\n",
    ")\n",
    "\n",
    "# Configuración adicional\n",
    "fig.update_yaxes(title_text=\"Loss (escala logarítmica)\")\n",
    "fig.update_xaxes(title_text=\"Épocas\")\n",
    "\n",
    "fig.show()"
   ]
  },
  {
   "cell_type": "code",
   "execution_count": null,
   "id": "397bc4e4",
   "metadata": {},
   "outputs": [],
   "source": []
  },
  {
   "cell_type": "code",
   "execution_count": null,
   "id": "0d95c43b",
   "metadata": {},
   "outputs": [],
   "source": []
  },
  {
   "cell_type": "code",
   "execution_count": null,
   "id": "f7d4399f",
   "metadata": {},
   "outputs": [],
   "source": []
  },
  {
   "cell_type": "code",
   "execution_count": null,
   "id": "c73299e2",
   "metadata": {},
   "outputs": [],
   "source": [
    "\n"
   ]
  },
  {
   "cell_type": "code",
   "execution_count": null,
   "id": "76a57357",
   "metadata": {},
   "outputs": [],
   "source": []
  },
  {
   "cell_type": "code",
   "execution_count": null,
   "id": "d361e590",
   "metadata": {},
   "outputs": [],
   "source": [
    "\n",
    "\n"
   ]
  },
  {
   "cell_type": "code",
   "execution_count": null,
   "id": "f5910b99",
   "metadata": {},
   "outputs": [],
   "source": []
  },
  {
   "cell_type": "code",
   "execution_count": null,
   "id": "b5584ddd",
   "metadata": {},
   "outputs": [],
   "source": []
  },
  {
   "cell_type": "code",
   "execution_count": null,
   "id": "fc42955f",
   "metadata": {},
   "outputs": [],
   "source": []
  },
  {
   "cell_type": "code",
   "execution_count": null,
   "id": "2fcbfd73",
   "metadata": {},
   "outputs": [],
   "source": []
  },
  {
   "cell_type": "code",
   "execution_count": null,
   "id": "d8fe4515",
   "metadata": {},
   "outputs": [],
   "source": []
  },
  {
   "cell_type": "code",
   "execution_count": null,
   "id": "d23990d8",
   "metadata": {},
   "outputs": [],
   "source": []
  },
  {
   "cell_type": "code",
   "execution_count": null,
   "id": "06c32c99",
   "metadata": {},
   "outputs": [],
   "source": []
  },
  {
   "cell_type": "code",
   "execution_count": null,
   "id": "4d67bede",
   "metadata": {},
   "outputs": [],
   "source": []
  },
  {
   "cell_type": "code",
   "execution_count": null,
   "id": "b2c986df",
   "metadata": {},
   "outputs": [],
   "source": []
  },
  {
   "cell_type": "code",
   "execution_count": null,
   "id": "dc4abe6e",
   "metadata": {},
   "outputs": [],
   "source": []
  },
  {
   "cell_type": "code",
   "execution_count": null,
   "id": "ebe1a2f6",
   "metadata": {},
   "outputs": [],
   "source": []
  }
 ],
 "metadata": {
  "kernelspec": {
   "display_name": ".venv",
   "language": "python",
   "name": "python3"
  },
  "language_info": {
   "codemirror_mode": {
    "name": "ipython",
    "version": 3
   },
   "file_extension": ".py",
   "mimetype": "text/x-python",
   "name": "python",
   "nbconvert_exporter": "python",
   "pygments_lexer": "ipython3",
   "version": "3.10.11"
  }
 },
 "nbformat": 4,
 "nbformat_minor": 5
}
