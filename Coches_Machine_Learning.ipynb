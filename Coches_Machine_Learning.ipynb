{
 "cells": [
  {
   "cell_type": "markdown",
   "id": "073706bf",
   "metadata": {},
   "source": [
    "## MACHINE LEARNING Y REDES NEURONALES ##"
   ]
  },
  {
   "cell_type": "code",
   "execution_count": 79,
   "id": "6e25a0bc",
   "metadata": {},
   "outputs": [],
   "source": [
    "## Probar diferentes modelos de regresion de Machine Learning y modelos de regresion de redes neuronales como variable target\n",
    "import pandas as pd\n",
    "import numpy as np\n",
    "import matplotlib.pyplot as plt\n",
    "import seaborn as sns\n",
    "from sklearn.model_selection import train_test_split, cross_val_score\n",
    "from sklearn.preprocessing import StandardScaler, OneHotEncoder\n",
    "from sklearn.linear_model import LinearRegression, Ridge, Lasso\n",
    "from sklearn.compose import ColumnTransformer\n",
    "from sklearn.pipeline import Pipeline\n",
    "from sklearn.ensemble import RandomForestRegressor, GradientBoostingRegressor\n",
    "from sklearn.metrics import mean_squared_error, r2_score,make_scorer, mean_absolute_error, mean_absolute_percentage_error\n",
    "from sklearn.svm import SVR\n",
    "from sklearn.neighbors import KNeighborsRegressor\n",
    "from sklearn.model_selection import GridSearchCV\n",
    "#---------------------------------------------------------------------\n",
    "# Librerias de keras\n",
    "from tensorflow import keras\n",
    "from keras.datasets import mnist\n",
    "from keras.models import Sequential\n",
    "from keras.layers import Dense, Dropout, Input\n",
    "from keras.utils import to_categorical\n",
    "import matplotlib.pyplot as plt\n",
    "import plotly.graph_objects as go\n",
    "from keras.optimizers import Adam\n",
    "import plotly.graph_objects as go\n",
    "from plotly.subplots import make_subplots\n",
    "\n",
    "from keras.layers import BatchNormalization\n",
    "from keras.callbacks import EarlyStopping, ReduceLROnPlateau, ModelCheckpoint\n",
    "from keras.regularizers import l2\n"
   ]
  },
  {
   "cell_type": "code",
   "execution_count": 80,
   "id": "2c2d6399",
   "metadata": {},
   "outputs": [],
   "source": [
    "df = pd.read_csv('datos_limpios_.csv')"
   ]
  },
  {
   "cell_type": "code",
   "execution_count": 81,
   "id": "af9c7be6",
   "metadata": {},
   "outputs": [
    {
     "data": {
      "text/html": [
       "<div>\n",
       "<style scoped>\n",
       "    .dataframe tbody tr th:only-of-type {\n",
       "        vertical-align: middle;\n",
       "    }\n",
       "\n",
       "    .dataframe tbody tr th {\n",
       "        vertical-align: top;\n",
       "    }\n",
       "\n",
       "    .dataframe thead th {\n",
       "        text-align: right;\n",
       "    }\n",
       "</style>\n",
       "<table border=\"1\" class=\"dataframe\">\n",
       "  <thead>\n",
       "    <tr style=\"text-align: right;\">\n",
       "      <th></th>\n",
       "      <th>id_extraccion</th>\n",
       "      <th>timestamp_extraccion</th>\n",
       "      <th>marca</th>\n",
       "      <th>precio_contado</th>\n",
       "      <th>precio_financiado</th>\n",
       "      <th>año</th>\n",
       "      <th>combustible</th>\n",
       "      <th>kilometraje</th>\n",
       "      <th>ubicacion</th>\n",
       "      <th>latitud</th>\n",
       "      <th>longitud</th>\n",
       "      <th>garantia</th>\n",
       "      <th>transmision</th>\n",
       "      <th>potencia_cv</th>\n",
       "      <th>puertas</th>\n",
       "      <th>asientos</th>\n",
       "      <th>tipo_carroceria</th>\n",
       "      <th>mes</th>\n",
       "      <th>modelo</th>\n",
       "    </tr>\n",
       "  </thead>\n",
       "  <tbody>\n",
       "    <tr>\n",
       "      <th>0</th>\n",
       "      <td>https://www.autocasion.com/coches-segunda-mano...</td>\n",
       "      <td>2025-06-20 21:10:20.086439</td>\n",
       "      <td>ABARTH</td>\n",
       "      <td>22990.0</td>\n",
       "      <td>20900.0</td>\n",
       "      <td>2022</td>\n",
       "      <td>Gasolina</td>\n",
       "      <td>23213.0</td>\n",
       "      <td>Madrid</td>\n",
       "      <td>40.4168</td>\n",
       "      <td>-3.7038</td>\n",
       "      <td>12</td>\n",
       "      <td>Manual</td>\n",
       "      <td>179.0</td>\n",
       "      <td>2.0</td>\n",
       "      <td>NaN</td>\n",
       "      <td>Descapotable</td>\n",
       "      <td>12.0</td>\n",
       "      <td>500 C 695C 1.4 16v T-Jet 132kW (180 CV)</td>\n",
       "    </tr>\n",
       "    <tr>\n",
       "      <th>1</th>\n",
       "      <td>https://www.autocasion.com/coches-segunda-mano...</td>\n",
       "      <td>2025-06-20 21:10:20.086694</td>\n",
       "      <td>ABARTH</td>\n",
       "      <td>23990.0</td>\n",
       "      <td>20990.0</td>\n",
       "      <td>2018</td>\n",
       "      <td>Gasolina</td>\n",
       "      <td>97814.0</td>\n",
       "      <td>Barcelona</td>\n",
       "      <td>41.3851</td>\n",
       "      <td>2.1734</td>\n",
       "      <td>12</td>\n",
       "      <td>Automático</td>\n",
       "      <td>170.0</td>\n",
       "      <td>2.0</td>\n",
       "      <td>2.0</td>\n",
       "      <td>Descapotable</td>\n",
       "      <td>12.0</td>\n",
       "      <td>124 SPIDER  Spider Turbo Multiair 125kW Auto</td>\n",
       "    </tr>\n",
       "    <tr>\n",
       "      <th>2</th>\n",
       "      <td>https://www.autocasion.com/coches-segunda-mano...</td>\n",
       "      <td>2025-06-20 21:10:20.086996</td>\n",
       "      <td>ABARTH</td>\n",
       "      <td>22500.0</td>\n",
       "      <td>20500.0</td>\n",
       "      <td>2022</td>\n",
       "      <td>Gasolina</td>\n",
       "      <td>33602.0</td>\n",
       "      <td>Malaga</td>\n",
       "      <td>36.7213</td>\n",
       "      <td>-4.4214</td>\n",
       "      <td>12</td>\n",
       "      <td>Manual</td>\n",
       "      <td>165.0</td>\n",
       "      <td>3.0</td>\n",
       "      <td>4.0</td>\n",
       "      <td>Berlina</td>\n",
       "      <td>3.0</td>\n",
       "      <td>595 1.4T JET 121KW</td>\n",
       "    </tr>\n",
       "    <tr>\n",
       "      <th>3</th>\n",
       "      <td>https://www.autocasion.com/coches-segunda-mano...</td>\n",
       "      <td>2025-06-20 21:10:20.087274</td>\n",
       "      <td>ABARTH</td>\n",
       "      <td>22950.0</td>\n",
       "      <td>NaN</td>\n",
       "      <td>2018</td>\n",
       "      <td>Gasolina</td>\n",
       "      <td>48500.0</td>\n",
       "      <td>Islas Baleares</td>\n",
       "      <td>39.5696</td>\n",
       "      <td>2.6502</td>\n",
       "      <td>12</td>\n",
       "      <td>Manual</td>\n",
       "      <td>180.0</td>\n",
       "      <td>3.0</td>\n",
       "      <td>4.0</td>\n",
       "      <td>Pequeño</td>\n",
       "      <td>2.0</td>\n",
       "      <td>695 Pequeño  Manual de 3 Puertas</td>\n",
       "    </tr>\n",
       "    <tr>\n",
       "      <th>4</th>\n",
       "      <td>https://www.autocasion.com/coches-segunda-mano...</td>\n",
       "      <td>2025-06-20 21:10:20.087595</td>\n",
       "      <td>ABARTH</td>\n",
       "      <td>16999.0</td>\n",
       "      <td>15713.0</td>\n",
       "      <td>2020</td>\n",
       "      <td>Gasolina</td>\n",
       "      <td>32922.0</td>\n",
       "      <td>Barcelona</td>\n",
       "      <td>41.3851</td>\n",
       "      <td>2.1734</td>\n",
       "      <td>12</td>\n",
       "      <td>Manual</td>\n",
       "      <td>145.0</td>\n",
       "      <td>3.0</td>\n",
       "      <td>NaN</td>\n",
       "      <td>Berlina</td>\n",
       "      <td>7.0</td>\n",
       "      <td>500 1.4 Turbo 595</td>\n",
       "    </tr>\n",
       "    <tr>\n",
       "      <th>...</th>\n",
       "      <td>...</td>\n",
       "      <td>...</td>\n",
       "      <td>...</td>\n",
       "      <td>...</td>\n",
       "      <td>...</td>\n",
       "      <td>...</td>\n",
       "      <td>...</td>\n",
       "      <td>...</td>\n",
       "      <td>...</td>\n",
       "      <td>...</td>\n",
       "      <td>...</td>\n",
       "      <td>...</td>\n",
       "      <td>...</td>\n",
       "      <td>...</td>\n",
       "      <td>...</td>\n",
       "      <td>...</td>\n",
       "      <td>...</td>\n",
       "      <td>...</td>\n",
       "      <td>...</td>\n",
       "    </tr>\n",
       "    <tr>\n",
       "      <th>88419</th>\n",
       "      <td>https://www.autocasion.com/coches-km0/km-0/yud...</td>\n",
       "      <td>2025-06-21 00:33:12.156646</td>\n",
       "      <td>YOOUDOOO</td>\n",
       "      <td>17590.0</td>\n",
       "      <td>15590.0</td>\n",
       "      <td>2025</td>\n",
       "      <td>Gasolina</td>\n",
       "      <td>2.0</td>\n",
       "      <td>La Rioja</td>\n",
       "      <td>42.4627</td>\n",
       "      <td>-2.4450</td>\n",
       "      <td>36</td>\n",
       "      <td>Manual</td>\n",
       "      <td>109.0</td>\n",
       "      <td>5.0</td>\n",
       "      <td>5.0</td>\n",
       "      <td>Todo Terreno</td>\n",
       "      <td>2.0</td>\n",
       "      <td>Y2 1.5L Comfort</td>\n",
       "    </tr>\n",
       "    <tr>\n",
       "      <th>88420</th>\n",
       "      <td>https://www.autocasion.com/coches-km0/km-0/yud...</td>\n",
       "      <td>2025-06-21 00:33:12.156777</td>\n",
       "      <td>YOOUDOOO</td>\n",
       "      <td>26838.0</td>\n",
       "      <td>25838.0</td>\n",
       "      <td>2024</td>\n",
       "      <td>Eléctrico</td>\n",
       "      <td>10.0</td>\n",
       "      <td>Barcelona</td>\n",
       "      <td>41.3851</td>\n",
       "      <td>2.1734</td>\n",
       "      <td>12</td>\n",
       "      <td>Automático</td>\n",
       "      <td>95.0</td>\n",
       "      <td>5.0</td>\n",
       "      <td>5.0</td>\n",
       "      <td>Pequeño</td>\n",
       "      <td>8.0</td>\n",
       "      <td>K3 YUDO Pequeño  Automático de 5 Puertas</td>\n",
       "    </tr>\n",
       "    <tr>\n",
       "      <th>88421</th>\n",
       "      <td>https://www.autocasion.com/coches-km0/km-0/yud...</td>\n",
       "      <td>2025-06-21 00:33:12.156928</td>\n",
       "      <td>YOOUDOOO</td>\n",
       "      <td>21900.0</td>\n",
       "      <td>21900.0</td>\n",
       "      <td>2024</td>\n",
       "      <td>Eléctrico</td>\n",
       "      <td>3000.0</td>\n",
       "      <td>Sevilla</td>\n",
       "      <td>37.3891</td>\n",
       "      <td>-5.9845</td>\n",
       "      <td>96</td>\n",
       "      <td>Automático</td>\n",
       "      <td>95.0</td>\n",
       "      <td>5.0</td>\n",
       "      <td>5.0</td>\n",
       "      <td>Todo Terreno</td>\n",
       "      <td>7.0</td>\n",
       "      <td>K3 70kW</td>\n",
       "    </tr>\n",
       "    <tr>\n",
       "      <th>88422</th>\n",
       "      <td>https://www.autocasion.com/coches-km0/km-0/yud...</td>\n",
       "      <td>2025-06-21 00:33:12.157050</td>\n",
       "      <td>YOOUDOOO</td>\n",
       "      <td>22990.0</td>\n",
       "      <td>19990.0</td>\n",
       "      <td>2025</td>\n",
       "      <td>Eléctrico</td>\n",
       "      <td>4585.0</td>\n",
       "      <td>La Rioja</td>\n",
       "      <td>42.4627</td>\n",
       "      <td>-2.4450</td>\n",
       "      <td>84</td>\n",
       "      <td>Automático</td>\n",
       "      <td>95.0</td>\n",
       "      <td>5.0</td>\n",
       "      <td>5.0</td>\n",
       "      <td>Todo Terreno</td>\n",
       "      <td>1.0</td>\n",
       "      <td>K3 70kW</td>\n",
       "    </tr>\n",
       "    <tr>\n",
       "      <th>88423</th>\n",
       "      <td>https://www.autocasion.com/coches-segunda-mano...</td>\n",
       "      <td>2025-06-21 00:33:12.157210</td>\n",
       "      <td>YOOUDOOO</td>\n",
       "      <td>21950.0</td>\n",
       "      <td>NaN</td>\n",
       "      <td>2024</td>\n",
       "      <td>Eléctrico</td>\n",
       "      <td>14066.0</td>\n",
       "      <td>Toledo</td>\n",
       "      <td>39.8628</td>\n",
       "      <td>-4.0273</td>\n",
       "      <td>12</td>\n",
       "      <td>Automático</td>\n",
       "      <td>95.0</td>\n",
       "      <td>5.0</td>\n",
       "      <td>5.0</td>\n",
       "      <td>Todo Terreno</td>\n",
       "      <td>6.0</td>\n",
       "      <td>K3 70kW</td>\n",
       "    </tr>\n",
       "  </tbody>\n",
       "</table>\n",
       "<p>88424 rows × 19 columns</p>\n",
       "</div>"
      ],
      "text/plain": [
       "                                           id_extraccion  \\\n",
       "0      https://www.autocasion.com/coches-segunda-mano...   \n",
       "1      https://www.autocasion.com/coches-segunda-mano...   \n",
       "2      https://www.autocasion.com/coches-segunda-mano...   \n",
       "3      https://www.autocasion.com/coches-segunda-mano...   \n",
       "4      https://www.autocasion.com/coches-segunda-mano...   \n",
       "...                                                  ...   \n",
       "88419  https://www.autocasion.com/coches-km0/km-0/yud...   \n",
       "88420  https://www.autocasion.com/coches-km0/km-0/yud...   \n",
       "88421  https://www.autocasion.com/coches-km0/km-0/yud...   \n",
       "88422  https://www.autocasion.com/coches-km0/km-0/yud...   \n",
       "88423  https://www.autocasion.com/coches-segunda-mano...   \n",
       "\n",
       "             timestamp_extraccion     marca  precio_contado  \\\n",
       "0      2025-06-20 21:10:20.086439    ABARTH         22990.0   \n",
       "1      2025-06-20 21:10:20.086694    ABARTH         23990.0   \n",
       "2      2025-06-20 21:10:20.086996    ABARTH         22500.0   \n",
       "3      2025-06-20 21:10:20.087274    ABARTH         22950.0   \n",
       "4      2025-06-20 21:10:20.087595    ABARTH         16999.0   \n",
       "...                           ...       ...             ...   \n",
       "88419  2025-06-21 00:33:12.156646  YOOUDOOO         17590.0   \n",
       "88420  2025-06-21 00:33:12.156777  YOOUDOOO         26838.0   \n",
       "88421  2025-06-21 00:33:12.156928  YOOUDOOO         21900.0   \n",
       "88422  2025-06-21 00:33:12.157050  YOOUDOOO         22990.0   \n",
       "88423  2025-06-21 00:33:12.157210  YOOUDOOO         21950.0   \n",
       "\n",
       "       precio_financiado   año combustible  kilometraje       ubicacion  \\\n",
       "0                20900.0  2022    Gasolina      23213.0          Madrid   \n",
       "1                20990.0  2018    Gasolina      97814.0       Barcelona   \n",
       "2                20500.0  2022    Gasolina      33602.0          Malaga   \n",
       "3                    NaN  2018    Gasolina      48500.0  Islas Baleares   \n",
       "4                15713.0  2020    Gasolina      32922.0       Barcelona   \n",
       "...                  ...   ...         ...          ...             ...   \n",
       "88419            15590.0  2025    Gasolina          2.0        La Rioja   \n",
       "88420            25838.0  2024   Eléctrico         10.0       Barcelona   \n",
       "88421            21900.0  2024   Eléctrico       3000.0         Sevilla   \n",
       "88422            19990.0  2025   Eléctrico       4585.0        La Rioja   \n",
       "88423                NaN  2024   Eléctrico      14066.0          Toledo   \n",
       "\n",
       "       latitud  longitud  garantia transmision  potencia_cv  puertas  \\\n",
       "0      40.4168   -3.7038        12      Manual        179.0      2.0   \n",
       "1      41.3851    2.1734        12  Automático        170.0      2.0   \n",
       "2      36.7213   -4.4214        12      Manual        165.0      3.0   \n",
       "3      39.5696    2.6502        12      Manual        180.0      3.0   \n",
       "4      41.3851    2.1734        12      Manual        145.0      3.0   \n",
       "...        ...       ...       ...         ...          ...      ...   \n",
       "88419  42.4627   -2.4450        36      Manual        109.0      5.0   \n",
       "88420  41.3851    2.1734        12  Automático         95.0      5.0   \n",
       "88421  37.3891   -5.9845        96  Automático         95.0      5.0   \n",
       "88422  42.4627   -2.4450        84  Automático         95.0      5.0   \n",
       "88423  39.8628   -4.0273        12  Automático         95.0      5.0   \n",
       "\n",
       "       asientos tipo_carroceria   mes  \\\n",
       "0           NaN    Descapotable  12.0   \n",
       "1           2.0    Descapotable  12.0   \n",
       "2           4.0         Berlina   3.0   \n",
       "3           4.0         Pequeño   2.0   \n",
       "4           NaN         Berlina   7.0   \n",
       "...         ...             ...   ...   \n",
       "88419       5.0    Todo Terreno   2.0   \n",
       "88420       5.0         Pequeño   8.0   \n",
       "88421       5.0    Todo Terreno   7.0   \n",
       "88422       5.0    Todo Terreno   1.0   \n",
       "88423       5.0    Todo Terreno   6.0   \n",
       "\n",
       "                                             modelo  \n",
       "0           500 C 695C 1.4 16v T-Jet 132kW (180 CV)  \n",
       "1      124 SPIDER  Spider Turbo Multiair 125kW Auto  \n",
       "2                                595 1.4T JET 121KW  \n",
       "3                  695 Pequeño  Manual de 3 Puertas  \n",
       "4                                 500 1.4 Turbo 595  \n",
       "...                                             ...  \n",
       "88419                               Y2 1.5L Comfort  \n",
       "88420      K3 YUDO Pequeño  Automático de 5 Puertas  \n",
       "88421                                       K3 70kW  \n",
       "88422                                       K3 70kW  \n",
       "88423                                       K3 70kW  \n",
       "\n",
       "[88424 rows x 19 columns]"
      ]
     },
     "execution_count": 81,
     "metadata": {},
     "output_type": "execute_result"
    }
   ],
   "source": [
    "df"
   ]
  },
  {
   "cell_type": "code",
   "execution_count": 82,
   "id": "e8866c95",
   "metadata": {},
   "outputs": [
    {
     "data": {
      "text/plain": [
       "0        22990.0\n",
       "1        23990.0\n",
       "2        22500.0\n",
       "3        22950.0\n",
       "4        16999.0\n",
       "          ...   \n",
       "88419    17590.0\n",
       "88420    26838.0\n",
       "88421    21900.0\n",
       "88422    22990.0\n",
       "88423    21950.0\n",
       "Name: precio_contado, Length: 88424, dtype: float64"
      ]
     },
     "execution_count": 82,
     "metadata": {},
     "output_type": "execute_result"
    }
   ],
   "source": [
    "df[\"precio_contado\"]"
   ]
  },
  {
   "cell_type": "code",
   "execution_count": 83,
   "id": "11c30e71",
   "metadata": {},
   "outputs": [
    {
     "data": {
      "image/png": "[encoded data removed]",
      "text/plain": [
       "<Figure size 1200x800 with 2 Axes>"
      ]
     },
     "metadata": {},
     "output_type": "display_data"
    }
   ],
   "source": [
    "plt.figure(figsize=(12, 8))\n",
    "sns.heatmap(df._get_numeric_data().iloc[:, 1:].corr(), annot=True)\n",
    "plt.show()"
   ]
  },
  {
   "cell_type": "code",
   "execution_count": 84,
   "id": "83305445",
   "metadata": {},
   "outputs": [
    {
     "name": "stdout",
     "output_type": "stream",
     "text": [
      "                   precio_contado\n",
      "precio_contado           1.000000\n",
      "precio_financiado        0.960488\n",
      "potencia_cv              0.541649\n",
      "año                      0.109324\n",
      "longitud                 0.019618\n",
      "garantia                 0.016588\n",
      "mes                     -0.003566\n",
      "latitud                 -0.022310\n",
      "kilometraje             -0.190240\n",
      "puertas                 -0.302454\n"
     ]
    }
   ],
   "source": [
    "X = df.drop(columns=['precio_contado'])\n",
    "y = df['precio_contado']\n",
    "categorical_cols = X.select_dtypes(include=['object']).columns.tolist()\n",
    "numeric_cols = X.select_dtypes(include=['float64', 'int64', 'bool']).columns.tolist()\n",
    "high_cardinality_cols = ['id_extraccion', 'titulo', 'timestamp_extraccion', 'modelo']  # Add 'modelo' here\n",
    "for col in high_cardinality_cols:\n",
    "\tif col in categorical_cols:\n",
    "\t\tcategorical_cols.remove(col)\n",
    "\tif col in X.columns:\n",
    "\t\tX = X.drop(columns=[col])\n",
    "categorical_cols = [col for col in categorical_cols if col in X.columns]\n",
    "numeric_cols = [col for col in numeric_cols if col in X.columns]\n",
    "preprocessor = ColumnTransformer(\n",
    "\ttransformers=[\n",
    "\t\t('num', StandardScaler(), numeric_cols),\n",
    "\t\t('cat', OneHotEncoder(handle_unknown='ignore', sparse_output=False), categorical_cols)\n",
    "\t]\n",
    ")\n",
    "\n",
    "X_processed = preprocessor.fit_transform(X)\n",
    "\n",
    "correlacion = df.corr(numeric_only=True)[['precio_contado']].sort_values('precio_contado', ascending=False)\n",
    "print(correlacion.head(10))\n",
    "x_train, x_test, y_train, y_test = train_test_split(X_processed, y, test_size=0.2, random_state=42)\n"
   ]
  },
  {
   "cell_type": "code",
   "execution_count": 85,
   "id": "5ff1c599",
   "metadata": {},
   "outputs": [],
   "source": [
    "X_scaler = StandardScaler()\n",
    "X_train_scaled = X_scaler.fit_transform(x_train) \n",
    "X_test_scaled = X_scaler.transform(x_test)\n",
    "\n",
    "y_scaler = StandardScaler()\n",
    "y_train_scaled = y_scaler.fit_transform(y_train.values.reshape(-1, 1))  \n",
    "y_test_scaled = y_scaler.transform(y_test.values.reshape(-1, 1))"
   ]
  },
  {
   "cell_type": "code",
   "execution_count": 86,
   "id": "9cd70a5c",
   "metadata": {},
   "outputs": [
    {
     "name": "stdout",
     "output_type": "stream",
     "text": [
      "\n",
      " Res Random Forest:\n",
      "MAE: 3221.08\n",
      "MSE: 2149734772.51\n",
      "RMSE: 46365.23\n",
      "R²: 0.5533\n",
      "\n",
      " Res Gradient Boosting:\n",
      "MAE: 6315.77\n",
      "MSE: 2046976742.19\n",
      "RMSE: 45243.53\n",
      "R²: 0.5746\n",
      "\n",
      " Res KNN:\n",
      "MAE: 7455.99\n",
      "MSE: 2800430524.09\n",
      "RMSE: 52919.09\n",
      "R²: 0.4180\n"
     ]
    }
   ],
   "source": [
    "\n",
    "from sklearn.metrics import mean_absolute_error\n",
    "\n",
    "def evaluar_modelo(y_real, y_pred, modelo_nombre):\n",
    "    mae = mean_absolute_error(y_real, y_pred)\n",
    "    mse = mean_squared_error(y_real, y_pred)\n",
    "    r2 = r2_score(y_real, y_pred)\n",
    "    \n",
    "    print(f\"\\n Res {modelo_nombre}:\")\n",
    "    print(f\"MAE: {mae:.2f}\")\n",
    "    print(f\"MSE: {mse:.2f}\")\n",
    "    print(f\"RMSE: {np.sqrt(mse):.2f}\")\n",
    "    print(f\"R²: {r2:.4f}\")\n",
    "    \n",
    "    return {'MAE': mae, 'MSE': mse, 'R²': r2}\n",
    "\n",
    "resultados = {}\n",
    "modelos = {\n",
    "    'Random Forest': RandomForestRegressor(n_estimators=50, random_state=42),\n",
    "    'Gradient Boosting': GradientBoostingRegressor(random_state=42),\n",
    "    'KNN': KNeighborsRegressor(n_neighbors=5)\n",
    "}\n",
    "\n",
    "from sklearn.impute import SimpleImputer\n",
    "\n",
    "# Impute missing values in the scaled data\n",
    "imputer = SimpleImputer(strategy='mean')\n",
    "X_train_imputed = imputer.fit_transform(X_train_scaled)\n",
    "X_test_imputed = imputer.transform(X_test_scaled)\n",
    "\n",
    "for nombre, modelo in modelos.items():\n",
    "    modelo.fit(X_train_imputed, y_train_scaled.ravel())\n",
    "    y_pred_scaled = modelo.predict(X_test_imputed)\n",
    "    y_pred = y_scaler.inverse_transform(y_pred_scaled.reshape(-1, 1))\n",
    "    y_test_original = y_scaler.inverse_transform(y_test_scaled)\n",
    "    resultados[nombre] = evaluar_modelo(y_test_original, y_pred, nombre)"
   ]
  },
  {
   "cell_type": "code",
   "execution_count": 87,
   "id": "562c89d4",
   "metadata": {},
   "outputs": [
    {
     "name": "stdout",
     "output_type": "stream",
     "text": [
      "\n",
      "Importancia de características ordenadas:\n",
      "========================================\n",
      "                               Feature   Importance\n",
      "                      num__potencia_cv 3.791264e-01\n",
      "                              num__año 1.153205e-01\n",
      "                      num__kilometraje 9.996493e-02\n",
      "                     cat__marca_PAGANI 8.567585e-02\n",
      "                    cat__marca_FERRARI 5.583598e-02\n",
      "               cat__marca_ASTON MARTIN 4.413654e-02\n",
      "                num__precio_financiado 2.650321e-02\n",
      "                    cat__marca_BUGATTI 2.468948e-02\n",
      "                         num__garantia 1.513324e-02\n",
      "                              num__mes 1.478893e-02\n",
      "                cat__marca_LAMBORGHINI 1.353776e-02\n",
      "     cat__tipo_carroceria_Descapotable 1.347177e-02\n",
      "                          num__puertas 1.282856e-02\n",
      "                          num__latitud 1.026949e-02\n",
      "                cat__marca_ROLLS-ROYCE 9.258940e-03\n",
      "        cat__tipo_carroceria_Deportivo 8.375078e-03\n",
      "                    cat__marca_BENTLEY 7.210221e-03\n",
      "                         num__asientos 6.760836e-03\n",
      "             cat__combustible_Gasolina 5.789049e-03\n",
      "                 cat__ubicacion_Madrid 5.464213e-03\n",
      "                    cat__marca_MCLAREN 4.794696e-03\n",
      "              cat__tipo_carroceria_nan 4.574517e-03\n",
      "                    cat__marca_PORSCHE 3.691643e-03\n",
      "                   cat__marca_MASERATI 3.018272e-03\n",
      "   cat__combustible_Híbrido Enchufable 2.886257e-03\n",
      "                         num__longitud 2.641134e-03\n",
      "     cat__tipo_carroceria_Todo Terreno 2.306913e-03\n",
      "                       cat__marca_FORD 2.301762e-03\n",
      "                 cat__ubicacion_Malaga 2.165688e-03\n",
      "                 cat__ubicacion_Murcia 2.106635e-03\n",
      "                        cat__marca_BMW 1.780735e-03\n",
      "                       cat__marca_JEEP 1.536902e-03\n",
      "      cat__tipo_carroceria_Convertible 1.422713e-03\n",
      "            cat__combustible_Eléctrico 1.373612e-03\n",
      "           cat__transmision_Automático 1.356681e-03\n",
      "              cat__combustible_Híbrido 1.237320e-03\n",
      "               cat__transmision_Manual 7.847157e-04\n",
      "          cat__tipo_carroceria_Berlina 7.116426e-04\n",
      "cat__tipo_carroceria_4x4, SUV o pickup 6.416584e-04\n",
      "                      cat__marca_DODGE 4.826056e-04\n",
      "              cat__marca_MERCEDES-BENZ 4.523047e-04\n",
      "               cat__combustible_Diésel 4.079278e-04\n",
      "                       cat__marca_AUDI 3.672227e-04\n",
      "                    cat__marca_MAYBACH 2.978185e-04\n",
      "                 cat__marca_LAND-ROVER 2.952452e-04\n",
      "          cat__tipo_carroceria_Pequeño 1.714657e-04\n",
      "              cat__ubicacion_Barcelona 1.674035e-04\n",
      "      cat__tipo_carroceria_Monovolumen 1.450830e-04\n",
      "               cat__ubicacion_Alicante 1.144267e-04\n",
      "                      cat__marca_TESLA 9.477441e-05\n",
      "                cat__ubicacion_Sevilla 6.738885e-05\n",
      "                     cat__marca_JAGUAR 6.500399e-05\n",
      "                  cat__combustible_nan 6.330670e-05\n",
      "               cat__ubicacion_Valencia 6.071156e-05\n",
      "                     cat__marca_TOYOTA 6.029547e-05\n",
      "                  cat__ubicacion_Cadiz 5.729551e-05\n",
      "              cat__ubicacion_Tarragona 5.353087e-05\n",
      "                        cat__marca_GMC 5.320604e-05\n",
      "     cat__tipo_carroceria_Stationwagon 5.223558e-05\n",
      "                   cat__marca_CADILLAC 5.197064e-05\n",
      "             cat__ubicacion_Valladolid 5.196712e-05\n",
      "                 cat__marca_VOLKSWAGEN 4.760154e-05\n",
      "                     cat__marca_MORGAN 4.472652e-05\n",
      "         cat__ubicacion_Islas Baleares 4.465328e-05\n",
      "                      cat__marca_LEXUS 4.338014e-05\n",
      "                    cat__marca_RENAULT 4.100756e-05\n",
      "                  cat__marca_CHEVROLET 3.828951e-05\n",
      "                   cat__ubicacion_Lugo 3.594564e-05\n",
      "                      cat__marca_LOTUS 3.466624e-05\n",
      "                      cat__marca_VOLVO 3.084973e-05\n",
      "                        cat__marca_RAM 2.598660e-05\n",
      "                cat__ubicacion_Badajoz 2.580400e-05\n",
      "                     cat__marca_HUMMER 2.356671e-05\n",
      "               cat__ubicacion_Zaragoza 2.218177e-05\n",
      "                    cat__marca_HYUNDAI 1.952007e-05\n",
      "                       cat__marca_MINI 1.944411e-05\n",
      "                    cat__marca_PEUGEOT 1.811836e-05\n",
      "                  cat__marca_LYNK & CO 1.794414e-05\n",
      "             cat__ubicacion_Pontevedra 1.775115e-05\n",
      "                   cat__marca_WIESMANN 1.668063e-05\n",
      "                 cat__ubicacion_Toledo 1.661818e-05\n",
      "                cat__ubicacion_Cordoba 1.578427e-05\n",
      "                       cat__marca_SEAT 1.523595e-05\n",
      "                     cat__marca_NISSAN 1.307137e-05\n",
      "                        cat__marca_KIA 1.145532e-05\n",
      "             cat__ubicacion_Las Palmas 1.145458e-05\n",
      "                 cat__ubicacion_Huelva 1.061198e-05\n",
      "              cat__ubicacion_Castellon 1.001511e-05\n",
      "               cat__ubicacion_Asturias 9.403416e-06\n",
      "                    cat__marca_LINCOLN 9.393838e-06\n",
      "                cat__ubicacion_Vizcaya 8.952545e-06\n",
      "                      cat__marca_MAZDA 8.864673e-06\n",
      "                 cat__ubicacion_Girona 8.486190e-06\n",
      "                       cat__marca_OPEL 8.064867e-06\n",
      "                      cat__marca_SMART 7.816531e-06\n",
      "                    cat__marca_CITROEN 7.435846e-06\n",
      "                      cat__marca_CUPRA 7.269888e-06\n",
      "                        cat__marca_XEV 6.838198e-06\n",
      "                     cat__marca_SUZUKI 6.743151e-06\n",
      "                cat__ubicacion_Granada 6.621340e-06\n",
      "                 cat__marca_ALFA ROMEO 6.550381e-06\n",
      "                cat__ubicacion_Almeria 6.479626e-06\n",
      "               cat__ubicacion_Albacete 5.986366e-06\n",
      "                 cat__ubicacion_Huesca 5.757286e-06\n",
      "         cat__tipo_carroceria_Familiar 5.482613e-06\n",
      "                 cat__ubicacion_Lleida 5.378203e-06\n",
      "                cat__ubicacion_Navarra 5.220328e-06\n",
      "                   cat__marca_CATERHAM 5.119301e-06\n",
      "                     cat__marca_HURTAN 4.572929e-06\n",
      "                      cat__marca_INEOS 4.509962e-06\n",
      "              cat__ubicacion_La Coruna 4.410489e-06\n",
      "               cat__ubicacion_La Rioja 4.159940e-06\n",
      "                         cat__marca_MG 4.128102e-06\n",
      "                 cat__ubicacion_Burgos 3.755128e-06\n",
      "               cat__ubicacion_Tenerife 3.620553e-06\n",
      "                      cat__marca_SKODA 3.210660e-06\n",
      "                 cat__marca_MITSUBISHI 3.120082e-06\n",
      "            cat__ubicacion_Ciudad Real 2.954954e-06\n",
      "                     cat__marca_ABARTH 2.925434e-06\n",
      "                       cat__marca_FIAT 2.699818e-06\n",
      "              cat__ubicacion_Cantabria 2.670155e-06\n",
      "                 cat__ubicacion_Orense 2.418883e-06\n",
      "                        cat__marca_BYD 2.293281e-06\n",
      "              cat__ubicacion_Salamanca 2.227003e-06\n",
      "              cat__ubicacion_Guipuzcoa 2.193388e-06\n",
      "                   cat__ubicacion_Jaen 2.099332e-06\n",
      "            cat__ubicacion_Guadalajara 1.884033e-06\n",
      "                   cat__marca_INFINITI 1.528911e-06\n",
      "                         cat__marca_DS 1.321212e-06\n",
      "                      cat__marca_HONDA 1.184411e-06\n",
      "                        cat__marca_KTM 9.675624e-07\n",
      "                   cat__marca_PLYMOUTH 9.637374e-07\n",
      "                 cat__marca_MPM MOTORS 9.462548e-07\n",
      "            cat__marca_KGM / SSANGYONG 9.438756e-07\n",
      "                    cat__marca_GENESIS 8.143144e-07\n",
      "                   cat__ubicacion_Leon 8.111257e-07\n",
      "                cat__ubicacion_Caceres 7.433605e-07\n",
      "                      cat__marca_DACIA 7.271781e-07\n",
      "                      cat__marca_OMODA 7.201223e-07\n",
      "                      cat__marca_ROVER 7.013581e-07\n",
      "                cat__ubicacion_Segovia 6.735511e-07\n",
      "                  cat__ubicacion_Alava 6.390082e-07\n",
      "                  cat__ubicacion_Avila 5.402904e-07\n",
      "                     cat__marca_JAECOO 5.106371e-07\n",
      "                       cat__marca_DFSK 4.373610e-07\n",
      "                    cat__marca_BESTUNE 3.783947e-07\n",
      "                     cat__marca_SUBARU 3.198420e-07\n",
      "                   cat__marca_POLESTAR 2.998098e-07\n",
      "                  cat__combustible_Gas 2.858647e-07\n",
      "                 cat__ubicacion_Zamora 2.235926e-07\n",
      "               cat__ubicacion_Palencia 2.146983e-07\n",
      "                       cat__marca_EBRO 2.069963e-07\n",
      "                  cat__ubicacion_Soria 2.062161e-07\n",
      "                      cat__marca_SERES 1.858509e-07\n",
      "                     cat__marca_ALPINE 1.847788e-07\n",
      "                       cat__marca_SAAB 1.507524e-07\n",
      "                   cat__marca_CHRYSLER 1.237921e-07\n",
      "                       cat__marca_YES! 1.087201e-07\n",
      "                 cat__ubicacion_Cuenca 3.114319e-08\n",
      "                     cat__marca_LANCIA 2.772260e-08\n",
      "                  cat__transmision_nan 2.502985e-08\n",
      "                        cat__marca_EVO 1.735216e-08\n",
      "                       cat__marca_TATA 1.590791e-08\n",
      "                        cat__marca_SWM 1.208271e-08\n",
      "                         cat__marca_DR 1.145112e-08\n",
      "                  cat__marca_LEAPMOTOR 6.538404e-09\n",
      "                    cat__marca_DAIMLER 6.022434e-09\n",
      "                   cat__marca_MAHINDRA 3.362516e-09\n",
      "                   cat__marca_GALLOPER 2.789521e-09\n",
      "                   cat__marca_YOOUDOOO 2.582469e-09\n",
      "                 cat__ubicacion_Teruel 1.792452e-09\n",
      "                      cat__marca_XPENG 1.346168e-09\n",
      "                      cat__marca_ISUZU 1.182505e-09\n",
      "                     cat__marca_FISKER 1.085262e-09\n",
      "                     cat__marca_AIWAYS 2.333807e-10\n",
      "                      cat__marca_MAXUS 1.675608e-11\n",
      "                      cat__marca_LIVAN 1.244650e-11\n",
      "                     cat__marca_CAN-AM 5.729820e-13\n",
      "                      cat__marca_BUICK 0.000000e+00\n",
      "                     cat__marca_DAEWOO 0.000000e+00\n",
      "                      cat__marca_KARMA 0.000000e+00\n",
      "========================================\n",
      "\n",
      "Otra presentación:\n",
      "num__potencia_cv    : 0.37913\n",
      "num__año            : 0.11532\n",
      "num__kilometraje    : 0.09996\n",
      "cat__marca_PAGANI   : 0.08568\n",
      "cat__marca_FERRARI  : 0.05584\n",
      "cat__marca_ASTON MARTIN: 0.04414\n",
      "num__precio_financiado: 0.02650\n",
      "cat__marca_BUGATTI  : 0.02469\n",
      "num__garantia       : 0.01513\n",
      "num__mes            : 0.01479\n",
      "cat__marca_LAMBORGHINI: 0.01354\n",
      "cat__tipo_carroceria_Descapotable: 0.01347\n",
      "num__puertas        : 0.01283\n",
      "num__latitud        : 0.01027\n",
      "cat__marca_ROLLS-ROYCE: 0.00926\n",
      "cat__tipo_carroceria_Deportivo: 0.00838\n",
      "cat__marca_BENTLEY  : 0.00721\n",
      "num__asientos       : 0.00676\n",
      "cat__combustible_Gasolina: 0.00579\n",
      "cat__ubicacion_Madrid: 0.00546\n",
      "cat__marca_MCLAREN  : 0.00479\n",
      "cat__tipo_carroceria_nan: 0.00457\n",
      "cat__marca_PORSCHE  : 0.00369\n",
      "cat__marca_MASERATI : 0.00302\n",
      "cat__combustible_Híbrido Enchufable: 0.00289\n",
      "num__longitud       : 0.00264\n",
      "cat__tipo_carroceria_Todo Terreno: 0.00231\n",
      "cat__marca_FORD     : 0.00230\n",
      "cat__ubicacion_Malaga: 0.00217\n",
      "cat__ubicacion_Murcia: 0.00211\n",
      "cat__marca_BMW      : 0.00178\n",
      "cat__marca_JEEP     : 0.00154\n",
      "cat__tipo_carroceria_Convertible: 0.00142\n",
      "cat__combustible_Eléctrico: 0.00137\n",
      "cat__transmision_Automático: 0.00136\n",
      "cat__combustible_Híbrido: 0.00124\n",
      "cat__transmision_Manual: 0.00078\n",
      "cat__tipo_carroceria_Berlina: 0.00071\n",
      "cat__tipo_carroceria_4x4, SUV o pickup: 0.00064\n",
      "cat__marca_DODGE    : 0.00048\n",
      "cat__marca_MERCEDES-BENZ: 0.00045\n",
      "cat__combustible_Diésel: 0.00041\n",
      "cat__marca_AUDI     : 0.00037\n",
      "cat__marca_MAYBACH  : 0.00030\n",
      "cat__marca_LAND-ROVER: 0.00030\n",
      "cat__tipo_carroceria_Pequeño: 0.00017\n",
      "cat__ubicacion_Barcelona: 0.00017\n",
      "cat__tipo_carroceria_Monovolumen: 0.00015\n",
      "cat__ubicacion_Alicante: 0.00011\n",
      "cat__marca_TESLA    : 0.00009\n",
      "cat__ubicacion_Sevilla: 0.00007\n",
      "cat__marca_JAGUAR   : 0.00007\n",
      "cat__combustible_nan: 0.00006\n",
      "cat__ubicacion_Valencia: 0.00006\n",
      "cat__marca_TOYOTA   : 0.00006\n",
      "cat__ubicacion_Cadiz: 0.00006\n",
      "cat__ubicacion_Tarragona: 0.00005\n",
      "cat__marca_GMC      : 0.00005\n",
      "cat__tipo_carroceria_Stationwagon: 0.00005\n",
      "cat__marca_CADILLAC : 0.00005\n",
      "cat__ubicacion_Valladolid: 0.00005\n",
      "cat__marca_VOLKSWAGEN: 0.00005\n",
      "cat__marca_MORGAN   : 0.00004\n",
      "cat__ubicacion_Islas Baleares: 0.00004\n",
      "cat__marca_LEXUS    : 0.00004\n",
      "cat__marca_RENAULT  : 0.00004\n",
      "cat__marca_CHEVROLET: 0.00004\n",
      "cat__ubicacion_Lugo : 0.00004\n",
      "cat__marca_LOTUS    : 0.00003\n",
      "cat__marca_VOLVO    : 0.00003\n",
      "cat__marca_RAM      : 0.00003\n",
      "cat__ubicacion_Badajoz: 0.00003\n",
      "cat__marca_HUMMER   : 0.00002\n",
      "cat__ubicacion_Zaragoza: 0.00002\n",
      "cat__marca_HYUNDAI  : 0.00002\n",
      "cat__marca_MINI     : 0.00002\n",
      "cat__marca_PEUGEOT  : 0.00002\n",
      "cat__marca_LYNK & CO: 0.00002\n",
      "cat__ubicacion_Pontevedra: 0.00002\n",
      "cat__marca_WIESMANN : 0.00002\n",
      "cat__ubicacion_Toledo: 0.00002\n",
      "cat__ubicacion_Cordoba: 0.00002\n",
      "cat__marca_SEAT     : 0.00002\n",
      "cat__marca_NISSAN   : 0.00001\n",
      "cat__marca_KIA      : 0.00001\n",
      "cat__ubicacion_Las Palmas: 0.00001\n",
      "cat__ubicacion_Huelva: 0.00001\n",
      "cat__ubicacion_Castellon: 0.00001\n",
      "cat__ubicacion_Asturias: 0.00001\n",
      "cat__marca_LINCOLN  : 0.00001\n",
      "cat__ubicacion_Vizcaya: 0.00001\n",
      "cat__marca_MAZDA    : 0.00001\n",
      "cat__ubicacion_Girona: 0.00001\n",
      "cat__marca_OPEL     : 0.00001\n",
      "cat__marca_SMART    : 0.00001\n",
      "cat__marca_CITROEN  : 0.00001\n",
      "cat__marca_CUPRA    : 0.00001\n",
      "cat__marca_XEV      : 0.00001\n",
      "cat__marca_SUZUKI   : 0.00001\n",
      "cat__ubicacion_Granada: 0.00001\n",
      "cat__marca_ALFA ROMEO: 0.00001\n",
      "cat__ubicacion_Almeria: 0.00001\n",
      "cat__ubicacion_Albacete: 0.00001\n",
      "cat__ubicacion_Huesca: 0.00001\n",
      "cat__tipo_carroceria_Familiar: 0.00001\n",
      "cat__ubicacion_Lleida: 0.00001\n",
      "cat__ubicacion_Navarra: 0.00001\n",
      "cat__marca_CATERHAM : 0.00001\n",
      "cat__marca_HURTAN   : 0.00000\n",
      "cat__marca_INEOS    : 0.00000\n",
      "cat__ubicacion_La Coruna: 0.00000\n",
      "cat__ubicacion_La Rioja: 0.00000\n",
      "cat__marca_MG       : 0.00000\n",
      "cat__ubicacion_Burgos: 0.00000\n",
      "cat__ubicacion_Tenerife: 0.00000\n",
      "cat__marca_SKODA    : 0.00000\n",
      "cat__marca_MITSUBISHI: 0.00000\n",
      "cat__ubicacion_Ciudad Real: 0.00000\n",
      "cat__marca_ABARTH   : 0.00000\n",
      "cat__marca_FIAT     : 0.00000\n",
      "cat__ubicacion_Cantabria: 0.00000\n",
      "cat__ubicacion_Orense: 0.00000\n",
      "cat__marca_BYD      : 0.00000\n",
      "cat__ubicacion_Salamanca: 0.00000\n",
      "cat__ubicacion_Guipuzcoa: 0.00000\n",
      "cat__ubicacion_Jaen : 0.00000\n",
      "cat__ubicacion_Guadalajara: 0.00000\n",
      "cat__marca_INFINITI : 0.00000\n",
      "cat__marca_DS       : 0.00000\n",
      "cat__marca_HONDA    : 0.00000\n",
      "cat__marca_KTM      : 0.00000\n",
      "cat__marca_PLYMOUTH : 0.00000\n",
      "cat__marca_MPM MOTORS: 0.00000\n",
      "cat__marca_KGM / SSANGYONG: 0.00000\n",
      "cat__marca_GENESIS  : 0.00000\n",
      "cat__ubicacion_Leon : 0.00000\n",
      "cat__ubicacion_Caceres: 0.00000\n",
      "cat__marca_DACIA    : 0.00000\n",
      "cat__marca_OMODA    : 0.00000\n",
      "cat__marca_ROVER    : 0.00000\n",
      "cat__ubicacion_Segovia: 0.00000\n",
      "cat__ubicacion_Alava: 0.00000\n",
      "cat__ubicacion_Avila: 0.00000\n",
      "cat__marca_JAECOO   : 0.00000\n",
      "cat__marca_DFSK     : 0.00000\n",
      "cat__marca_BESTUNE  : 0.00000\n",
      "cat__marca_SUBARU   : 0.00000\n",
      "cat__marca_POLESTAR : 0.00000\n",
      "cat__combustible_Gas: 0.00000\n",
      "cat__ubicacion_Zamora: 0.00000\n",
      "cat__ubicacion_Palencia: 0.00000\n",
      "cat__marca_EBRO     : 0.00000\n",
      "cat__ubicacion_Soria: 0.00000\n",
      "cat__marca_SERES    : 0.00000\n",
      "cat__marca_ALPINE   : 0.00000\n",
      "cat__marca_SAAB     : 0.00000\n",
      "cat__marca_CHRYSLER : 0.00000\n",
      "cat__marca_YES!     : 0.00000\n",
      "cat__ubicacion_Cuenca: 0.00000\n",
      "cat__marca_LANCIA   : 0.00000\n",
      "cat__transmision_nan: 0.00000\n",
      "cat__marca_EVO      : 0.00000\n",
      "cat__marca_TATA     : 0.00000\n",
      "cat__marca_SWM      : 0.00000\n",
      "cat__marca_DR       : 0.00000\n",
      "cat__marca_LEAPMOTOR: 0.00000\n",
      "cat__marca_DAIMLER  : 0.00000\n",
      "cat__marca_MAHINDRA : 0.00000\n",
      "cat__marca_GALLOPER : 0.00000\n",
      "cat__marca_YOOUDOOO : 0.00000\n",
      "cat__ubicacion_Teruel: 0.00000\n",
      "cat__marca_XPENG    : 0.00000\n",
      "cat__marca_ISUZU    : 0.00000\n",
      "cat__marca_FISKER   : 0.00000\n",
      "cat__marca_AIWAYS   : 0.00000\n",
      "cat__marca_MAXUS    : 0.00000\n",
      "cat__marca_LIVAN    : 0.00000\n",
      "cat__marca_CAN-AM   : 0.00000\n",
      "cat__marca_BUICK    : 0.00000\n",
      "cat__marca_DAEWOO   : 0.00000\n",
      "cat__marca_KARMA    : 0.00000\n"
     ]
    }
   ],
   "source": [
    "model = RandomForestRegressor().fit(x_train, y_train)\n",
    "importances = model.feature_importances_\n",
    "\n",
    "feature_names = preprocessor.get_feature_names_out()\n",
    "feature_importances = pd.DataFrame({\n",
    "    'Feature': feature_names,\n",
    "    'Importance': importances\n",
    "})\n",
    "\n",
    "feature_importances = feature_importances.sort_values('Importance', ascending=False)\n",
    "print(\"\\nImportancia de características ordenadas:\")\n",
    "print(\"=\"*40)\n",
    "print(feature_importances.to_string(index=False)) \n",
    "print(\"=\"*40)\n",
    "print(\"\\nOtra presentación:\")\n",
    "for i, row in feature_importances.iterrows():\n",
    "    print(f\"{row['Feature']:20s}: {row['Importance']:.5f}\")"
   ]
  },
  {
   "cell_type": "code",
   "execution_count": 88,
   "id": "be29bde7",
   "metadata": {},
   "outputs": [
    {
     "data": {
      "text/html": [
       "<div>\n",
       "<style scoped>\n",
       "    .dataframe tbody tr th:only-of-type {\n",
       "        vertical-align: middle;\n",
       "    }\n",
       "\n",
       "    .dataframe tbody tr th {\n",
       "        vertical-align: top;\n",
       "    }\n",
       "\n",
       "    .dataframe thead th {\n",
       "        text-align: right;\n",
       "    }\n",
       "</style>\n",
       "<table border=\"1\" class=\"dataframe\">\n",
       "  <thead>\n",
       "    <tr style=\"text-align: right;\">\n",
       "      <th></th>\n",
       "      <th>model_name</th>\n",
       "      <th>mae</th>\n",
       "      <th>mse</th>\n",
       "      <th>r2_score</th>\n",
       "    </tr>\n",
       "  </thead>\n",
       "  <tbody>\n",
       "    <tr>\n",
       "      <th>0</th>\n",
       "      <td>Gradient Boosting</td>\n",
       "      <td>6315.77</td>\n",
       "      <td>2046976742.19</td>\n",
       "      <td>0.5746</td>\n",
       "    </tr>\n",
       "    <tr>\n",
       "      <th>1</th>\n",
       "      <td>Random Forest</td>\n",
       "      <td>3221.08</td>\n",
       "      <td>2149734772.51</td>\n",
       "      <td>0.5533</td>\n",
       "    </tr>\n",
       "    <tr>\n",
       "      <th>2</th>\n",
       "      <td>KNN</td>\n",
       "      <td>7455.99</td>\n",
       "      <td>2800430524.09</td>\n",
       "      <td>0.4180</td>\n",
       "    </tr>\n",
       "  </tbody>\n",
       "</table>\n",
       "</div>"
      ],
      "text/plain": [
       "          model_name      mae            mse r2_score\n",
       "0  Gradient Boosting  6315.77  2046976742.19   0.5746\n",
       "1      Random Forest  3221.08  2149734772.51   0.5533\n",
       "2                KNN  7455.99  2800430524.09   0.4180"
      ]
     },
     "execution_count": 88,
     "metadata": {},
     "output_type": "execute_result"
    }
   ],
   "source": [
    "#Comparacion de resultados\n",
    "resultados_df = pd.DataFrame.from_dict(resultados, orient='index').reset_index()\n",
    "resultados_df.columns = ['model_name', 'mae', 'mse', 'r2_score']\n",
    "resultados_df = resultados_df.sort_values('r2_score', ascending=False).reset_index(drop=True)\n",
    "resultados_df['mae'] = resultados_df['mae'].apply(lambda x: f\"{x:.2f}\")\n",
    "resultados_df['mse'] = resultados_df['mse'].apply(lambda x: f\"{x:.2f}\")\n",
    "resultados_df['r2_score'] = resultados_df['r2_score'].apply(lambda x: f\"{x:.4f}\")\n",
    "resultados_df"
   ]
  },
  {
   "cell_type": "markdown",
   "id": "b3175380",
   "metadata": {},
   "source": [
    "## Redes Neuronales"
   ]
  },
  {
   "cell_type": "code",
   "execution_count": 89,
   "id": "7d24a6ef",
   "metadata": {},
   "outputs": [],
   "source": [
    "#Definimos las características y variables objetivo\n",
    "x = df.drop(columns=[\"precio_contado\"] )\n",
    "y= df[\"precio_contado\"]\n"
   ]
  },
  {
   "cell_type": "markdown",
   "id": "3ae276bc",
   "metadata": {},
   "source": [
    "# Primer Entrenamiento"
   ]
  },
  {
   "cell_type": "code",
   "execution_count": 90,
   "id": "ac5bae1e",
   "metadata": {},
   "outputs": [
    {
     "data": {
      "text/plain": [
       "(70739, 181)"
      ]
     },
     "execution_count": 90,
     "metadata": {},
     "output_type": "execute_result"
    }
   ],
   "source": [
    "x_train.shape "
   ]
  },
  {
   "cell_type": "code",
   "execution_count": 91,
   "id": "19bcab2d",
   "metadata": {},
   "outputs": [
    {
     "name": "stderr",
     "output_type": "stream",
     "text": [
      "c:\\Users\\irina\\Desktop\\HACK A BOSS\\Proyecto-\\.venv\\lib\\site-packages\\keras\\src\\layers\\core\\dense.py:93: UserWarning:\n",
      "\n",
      "Do not pass an `input_shape`/`input_dim` argument to a layer. When using Sequential models, prefer using an `Input(shape)` object as the first layer in the model instead.\n",
      "\n"
     ]
    },
    {
     "data": {
      "text/html": [
       "<pre style=\"white-space:pre;overflow-x:auto;line-height:normal;font-family:Menlo,'DejaVu Sans Mono',consolas,'Courier New',monospace\"><span style=\"font-weight: bold\">Model: \"sequential_5\"</span>\n",
       "</pre>\n"
      ],
      "text/plain": [
       "\u001b[1mModel: \"sequential_5\"\u001b[0m\n"
      ]
     },
     "metadata": {},
     "output_type": "display_data"
    },
    {
     "data": {
      "text/html": [
       "<pre style=\"white-space:pre;overflow-x:auto;line-height:normal;font-family:Menlo,'DejaVu Sans Mono',consolas,'Courier New',monospace\">┏━━━━━━━━━━━━━━━━━━━━━━━━━━━━━━━━━┳━━━━━━━━━━━━━━━━━━━━━━━━┳━━━━━━━━━━━━━━━┓\n",
       "┃<span style=\"font-weight: bold\"> Layer (type)                    </span>┃<span style=\"font-weight: bold\"> Output Shape           </span>┃<span style=\"font-weight: bold\">       Param # </span>┃\n",
       "┡━━━━━━━━━━━━━━━━━━━━━━━━━━━━━━━━━╇━━━━━━━━━━━━━━━━━━━━━━━━╇━━━━━━━━━━━━━━━┩\n",
       "│ dense_14 (<span style=\"color: #0087ff; text-decoration-color: #0087ff\">Dense</span>)                │ (<span style=\"color: #00d7ff; text-decoration-color: #00d7ff\">None</span>, <span style=\"color: #00af00; text-decoration-color: #00af00\">128</span>)            │        <span style=\"color: #00af00; text-decoration-color: #00af00\">23,296</span> │\n",
       "├─────────────────────────────────┼────────────────────────┼───────────────┤\n",
       "│ dropout_2 (<span style=\"color: #0087ff; text-decoration-color: #0087ff\">Dropout</span>)             │ (<span style=\"color: #00d7ff; text-decoration-color: #00d7ff\">None</span>, <span style=\"color: #00af00; text-decoration-color: #00af00\">128</span>)            │             <span style=\"color: #00af00; text-decoration-color: #00af00\">0</span> │\n",
       "├─────────────────────────────────┼────────────────────────┼───────────────┤\n",
       "│ dense_15 (<span style=\"color: #0087ff; text-decoration-color: #0087ff\">Dense</span>)                │ (<span style=\"color: #00d7ff; text-decoration-color: #00d7ff\">None</span>, <span style=\"color: #00af00; text-decoration-color: #00af00\">32</span>)             │         <span style=\"color: #00af00; text-decoration-color: #00af00\">4,128</span> │\n",
       "├─────────────────────────────────┼────────────────────────┼───────────────┤\n",
       "│ dense_16 (<span style=\"color: #0087ff; text-decoration-color: #0087ff\">Dense</span>)                │ (<span style=\"color: #00d7ff; text-decoration-color: #00d7ff\">None</span>, <span style=\"color: #00af00; text-decoration-color: #00af00\">1</span>)              │            <span style=\"color: #00af00; text-decoration-color: #00af00\">33</span> │\n",
       "└─────────────────────────────────┴────────────────────────┴───────────────┘\n",
       "</pre>\n"
      ],
      "text/plain": [
       "┏━━━━━━━━━━━━━━━━━━━━━━━━━━━━━━━━━┳━━━━━━━━━━━━━━━━━━━━━━━━┳━━━━━━━━━━━━━━━┓\n",
       "┃\u001b[1m \u001b[0m\u001b[1mLayer (type)                   \u001b[0m\u001b[1m \u001b[0m┃\u001b[1m \u001b[0m\u001b[1mOutput Shape          \u001b[0m\u001b[1m \u001b[0m┃\u001b[1m \u001b[0m\u001b[1m      Param #\u001b[0m\u001b[1m \u001b[0m┃\n",
       "┡━━━━━━━━━━━━━━━━━━━━━━━━━━━━━━━━━╇━━━━━━━━━━━━━━━━━━━━━━━━╇━━━━━━━━━━━━━━━┩\n",
       "│ dense_14 (\u001b[38;5;33mDense\u001b[0m)                │ (\u001b[38;5;45mNone\u001b[0m, \u001b[38;5;34m128\u001b[0m)            │        \u001b[38;5;34m23,296\u001b[0m │\n",
       "├─────────────────────────────────┼────────────────────────┼───────────────┤\n",
       "│ dropout_2 (\u001b[38;5;33mDropout\u001b[0m)             │ (\u001b[38;5;45mNone\u001b[0m, \u001b[38;5;34m128\u001b[0m)            │             \u001b[38;5;34m0\u001b[0m │\n",
       "├─────────────────────────────────┼────────────────────────┼───────────────┤\n",
       "│ dense_15 (\u001b[38;5;33mDense\u001b[0m)                │ (\u001b[38;5;45mNone\u001b[0m, \u001b[38;5;34m32\u001b[0m)             │         \u001b[38;5;34m4,128\u001b[0m │\n",
       "├─────────────────────────────────┼────────────────────────┼───────────────┤\n",
       "│ dense_16 (\u001b[38;5;33mDense\u001b[0m)                │ (\u001b[38;5;45mNone\u001b[0m, \u001b[38;5;34m1\u001b[0m)              │            \u001b[38;5;34m33\u001b[0m │\n",
       "└─────────────────────────────────┴────────────────────────┴───────────────┘\n"
      ]
     },
     "metadata": {},
     "output_type": "display_data"
    },
    {
     "data": {
      "text/html": [
       "<pre style=\"white-space:pre;overflow-x:auto;line-height:normal;font-family:Menlo,'DejaVu Sans Mono',consolas,'Courier New',monospace\"><span style=\"font-weight: bold\"> Total params: </span><span style=\"color: #00af00; text-decoration-color: #00af00\">27,457</span> (107.25 KB)\n",
       "</pre>\n"
      ],
      "text/plain": [
       "\u001b[1m Total params: \u001b[0m\u001b[38;5;34m27,457\u001b[0m (107.25 KB)\n"
      ]
     },
     "metadata": {},
     "output_type": "display_data"
    },
    {
     "data": {
      "text/html": [
       "<pre style=\"white-space:pre;overflow-x:auto;line-height:normal;font-family:Menlo,'DejaVu Sans Mono',consolas,'Courier New',monospace\"><span style=\"font-weight: bold\"> Trainable params: </span><span style=\"color: #00af00; text-decoration-color: #00af00\">27,457</span> (107.25 KB)\n",
       "</pre>\n"
      ],
      "text/plain": [
       "\u001b[1m Trainable params: \u001b[0m\u001b[38;5;34m27,457\u001b[0m (107.25 KB)\n"
      ]
     },
     "metadata": {},
     "output_type": "display_data"
    },
    {
     "data": {
      "text/html": [
       "<pre style=\"white-space:pre;overflow-x:auto;line-height:normal;font-family:Menlo,'DejaVu Sans Mono',consolas,'Courier New',monospace\"><span style=\"font-weight: bold\"> Non-trainable params: </span><span style=\"color: #00af00; text-decoration-color: #00af00\">0</span> (0.00 B)\n",
       "</pre>\n"
      ],
      "text/plain": [
       "\u001b[1m Non-trainable params: \u001b[0m\u001b[38;5;34m0\u001b[0m (0.00 B)\n"
      ]
     },
     "metadata": {},
     "output_type": "display_data"
    }
   ],
   "source": [
    "# Definir un modelo simple de red neuronal para regresión\n",
    "model = Sequential([\n",
    "\tDense(128, activation='relu', input_shape=(x_train.shape[1],)),\n",
    "\tDropout(0.3),\n",
    "\tDense(32, activation='relu'),\n",
    "\tDense(1) \n",
    "])\n",
    "model.compile(optimizer=Adam(learning_rate=0.001), loss='mse', metrics=['mae'])\n",
    "model.summary()"
   ]
  },
  {
   "cell_type": "code",
   "execution_count": 151,
   "id": "809632e9",
   "metadata": {},
   "outputs": [
    {
     "name": "stdout",
     "output_type": "stream",
     "text": [
      "Características de entrada: 181\n",
      "Neuronas sugeridas para primera capa: 128\n"
     ]
    }
   ],
   "source": [
    "input_dim = x_train.shape[1]\n",
    "suggested_units = max(32, min(128, int(input_dim * 1.5)))\n",
    "\n",
    "print(f\"Características de entrada: {input_dim}\")\n",
    "print(f\"Neuronas sugeridas para primera capa: {suggested_units}\")"
   ]
  },
  {
   "cell_type": "code",
   "execution_count": 154,
   "id": "061ac1d8",
   "metadata": {},
   "outputs": [
    {
     "name": "stdout",
     "output_type": "stream",
     "text": [
      "Epoch 1/30\n"
     ]
    },
    {
     "name": "stderr",
     "output_type": "stream",
     "text": [
      "c:\\Users\\irina\\Desktop\\HACK A BOSS\\Proyecto-\\.venv\\lib\\site-packages\\keras\\src\\layers\\core\\dense.py:93: UserWarning:\n",
      "\n",
      "Do not pass an `input_shape`/`input_dim` argument to a layer. When using Sequential models, prefer using an `Input(shape)` object as the first layer in the model instead.\n",
      "\n"
     ]
    },
    {
     "name": "stdout",
     "output_type": "stream",
     "text": [
      "\u001b[1m2211/2211\u001b[0m \u001b[32m━━━━━━━━━━━━━━━━━━━━\u001b[0m\u001b[37m\u001b[0m \u001b[1m3s\u001b[0m 1ms/step - loss: 6032043008.0000 - mae: 32096.5859 - val_loss: 5803902464.0000 - val_mae: 31492.9219\n",
      "Epoch 2/30\n",
      "\u001b[1m2211/2211\u001b[0m \u001b[32m━━━━━━━━━━━━━━━━━━━━\u001b[0m\u001b[37m\u001b[0m \u001b[1m3s\u001b[0m 1ms/step - loss: 5401968128.0000 - mae: 31444.9219 - val_loss: 5776470528.0000 - val_mae: 31054.5078\n",
      "Epoch 3/30\n",
      "\u001b[1m2211/2211\u001b[0m \u001b[32m━━━━━━━━━━━━━━━━━━━━\u001b[0m\u001b[37m\u001b[0m \u001b[1m3s\u001b[0m 1ms/step - loss: 6208656896.0000 - mae: 31219.2578 - val_loss: 5738109952.0000 - val_mae: 30430.5859\n",
      "Epoch 4/30\n",
      "\u001b[1m2211/2211\u001b[0m \u001b[32m━━━━━━━━━━━━━━━━━━━━\u001b[0m\u001b[37m\u001b[0m \u001b[1m3s\u001b[0m 1ms/step - loss: 5899291136.0000 - mae: 30594.0801 - val_loss: 5690352128.0000 - val_mae: 29635.7012\n",
      "Epoch 5/30\n",
      "\u001b[1m2211/2211\u001b[0m \u001b[32m━━━━━━━━━━━━━━━━━━━━\u001b[0m\u001b[37m\u001b[0m \u001b[1m3s\u001b[0m 1ms/step - loss: 5931948032.0000 - mae: 29875.2227 - val_loss: 5634845184.0000 - val_mae: 28685.9219\n",
      "Epoch 6/30\n",
      "\u001b[1m2211/2211\u001b[0m \u001b[32m━━━━━━━━━━━━━━━━━━━━\u001b[0m\u001b[37m\u001b[0m \u001b[1m3s\u001b[0m 1ms/step - loss: 4835327488.0000 - mae: 28789.0352 - val_loss: 5572010496.0000 - val_mae: 27576.5430\n",
      "Epoch 7/30\n",
      "\u001b[1m2211/2211\u001b[0m \u001b[32m━━━━━━━━━━━━━━━━━━━━\u001b[0m\u001b[37m\u001b[0m \u001b[1m3s\u001b[0m 2ms/step - loss: 5488578048.0000 - mae: 27542.0059 - val_loss: 5504621056.0000 - val_mae: 26347.8984\n",
      "Epoch 8/30\n",
      "\u001b[1m2211/2211\u001b[0m \u001b[32m━━━━━━━━━━━━━━━━━━━━\u001b[0m\u001b[37m\u001b[0m \u001b[1m3s\u001b[0m 1ms/step - loss: 7709848576.0000 - mae: 26957.1719 - val_loss: 5433366528.0000 - val_mae: 25002.3672\n",
      "Epoch 9/30\n",
      "\u001b[1m2211/2211\u001b[0m \u001b[32m━━━━━━━━━━━━━━━━━━━━\u001b[0m\u001b[37m\u001b[0m \u001b[1m4s\u001b[0m 2ms/step - loss: 5478862848.0000 - mae: 25220.5625 - val_loss: 5359461376.0000 - val_mae: 23563.0703\n",
      "Epoch 10/30\n",
      "\u001b[1m2211/2211\u001b[0m \u001b[32m━━━━━━━━━━━━━━━━━━━━\u001b[0m\u001b[37m\u001b[0m \u001b[1m4s\u001b[0m 2ms/step - loss: 5202930176.0000 - mae: 23447.7988 - val_loss: 5285224448.0000 - val_mae: 22092.6289\n",
      "Epoch 11/30\n",
      "\u001b[1m2211/2211\u001b[0m \u001b[32m━━━━━━━━━━━━━━━━━━━━\u001b[0m\u001b[37m\u001b[0m \u001b[1m4s\u001b[0m 2ms/step - loss: 6342279168.0000 - mae: 22501.0176 - val_loss: 5213700608.0000 - val_mae: 20707.0664\n",
      "Epoch 12/30\n",
      "\u001b[1m2211/2211\u001b[0m \u001b[32m━━━━━━━━━━━━━━━━━━━━\u001b[0m\u001b[37m\u001b[0m \u001b[1m4s\u001b[0m 2ms/step - loss: 5663586816.0000 - mae: 20806.6016 - val_loss: 5143400448.0000 - val_mae: 19424.7500\n",
      "Epoch 13/30\n",
      "\u001b[1m2211/2211\u001b[0m \u001b[32m━━━━━━━━━━━━━━━━━━━━\u001b[0m\u001b[37m\u001b[0m \u001b[1m5s\u001b[0m 2ms/step - loss: 7003930112.0000 - mae: 19779.4688 - val_loss: 5079216128.0000 - val_mae: 18400.1133\n",
      "Epoch 14/30\n",
      "\u001b[1m2211/2211\u001b[0m \u001b[32m━━━━━━━━━━━━━━━━━━━━\u001b[0m\u001b[37m\u001b[0m \u001b[1m5s\u001b[0m 2ms/step - loss: 5429148160.0000 - mae: 18649.3613 - val_loss: 5020048384.0000 - val_mae: 17654.6953\n",
      "Epoch 15/30\n",
      "\u001b[1m2211/2211\u001b[0m \u001b[32m━━━━━━━━━━━━━━━━━━━━\u001b[0m\u001b[37m\u001b[0m \u001b[1m4s\u001b[0m 2ms/step - loss: 6582392320.0000 - mae: 18204.8027 - val_loss: 4968999936.0000 - val_mae: 17268.2402\n",
      "Epoch 16/30\n",
      "\u001b[1m2211/2211\u001b[0m \u001b[32m━━━━━━━━━━━━━━━━━━━━\u001b[0m\u001b[37m\u001b[0m \u001b[1m5s\u001b[0m 2ms/step - loss: 7237145088.0000 - mae: 17903.3281 - val_loss: 4926605312.0000 - val_mae: 17220.6289\n",
      "Epoch 17/30\n",
      "\u001b[1m2211/2211\u001b[0m \u001b[32m━━━━━━━━━━━━━━━━━━━━\u001b[0m\u001b[37m\u001b[0m \u001b[1m3s\u001b[0m 1ms/step - loss: 7186916352.0000 - mae: 18220.8145 - val_loss: 4892440064.0000 - val_mae: 17425.9922\n",
      "Epoch 18/30\n",
      "\u001b[1m2211/2211\u001b[0m \u001b[32m━━━━━━━━━━━━━━━━━━━━\u001b[0m\u001b[37m\u001b[0m \u001b[1m3s\u001b[0m 1ms/step - loss: 5750923776.0000 - mae: 18013.7285 - val_loss: 4865163264.0000 - val_mae: 17808.4590\n",
      "Epoch 19/30\n",
      "\u001b[1m2211/2211\u001b[0m \u001b[32m━━━━━━━━━━━━━━━━━━━━\u001b[0m\u001b[37m\u001b[0m \u001b[1m3s\u001b[0m 1ms/step - loss: 4274921728.0000 - mae: 18229.2129 - val_loss: 4845468160.0000 - val_mae: 18290.8398\n",
      "Epoch 20/30\n",
      "\u001b[1m2211/2211\u001b[0m \u001b[32m━━━━━━━━━━━━━━━━━━━━\u001b[0m\u001b[37m\u001b[0m \u001b[1m3s\u001b[0m 1ms/step - loss: 4202276608.0000 - mae: 18697.2695 - val_loss: 4833150464.0000 - val_mae: 18760.6895\n",
      "Epoch 21/30\n",
      "\u001b[1m2211/2211\u001b[0m \u001b[32m━━━━━━━━━━━━━━━━━━━━\u001b[0m\u001b[37m\u001b[0m \u001b[1m3s\u001b[0m 1ms/step - loss: 6254335488.0000 - mae: 19721.8105 - val_loss: 4825100288.0000 - val_mae: 19196.7188\n",
      "Epoch 22/30\n",
      "\u001b[1m2211/2211\u001b[0m \u001b[32m━━━━━━━━━━━━━━━━━━━━\u001b[0m\u001b[37m\u001b[0m \u001b[1m3s\u001b[0m 1ms/step - loss: 4194469120.0000 - mae: 19598.8691 - val_loss: 4819242496.0000 - val_mae: 19647.3242\n",
      "Epoch 23/30\n",
      "\u001b[1m2211/2211\u001b[0m \u001b[32m━━━━━━━━━━━━━━━━━━━━\u001b[0m\u001b[37m\u001b[0m \u001b[1m3s\u001b[0m 1ms/step - loss: 4528874496.0000 - mae: 20132.5234 - val_loss: 4816044544.0000 - val_mae: 20001.8906\n",
      "Epoch 24/30\n",
      "\u001b[1m2211/2211\u001b[0m \u001b[32m━━━━━━━━━━━━━━━━━━━━\u001b[0m\u001b[37m\u001b[0m \u001b[1m3s\u001b[0m 1ms/step - loss: 4586330624.0000 - mae: 20331.7090 - val_loss: 4814125568.0000 - val_mae: 20303.6914\n",
      "Epoch 25/30\n",
      "\u001b[1m2211/2211\u001b[0m \u001b[32m━━━━━━━━━━━━━━━━━━━━\u001b[0m\u001b[37m\u001b[0m \u001b[1m3s\u001b[0m 1ms/step - loss: 7259645440.0000 - mae: 21575.1328 - val_loss: 4813134848.0000 - val_mae: 20527.0234\n",
      "Epoch 26/30\n",
      "\u001b[1m2211/2211\u001b[0m \u001b[32m━━━━━━━━━━━━━━━━━━━━\u001b[0m\u001b[37m\u001b[0m \u001b[1m3s\u001b[0m 1ms/step - loss: 5973435904.0000 - mae: 21238.2637 - val_loss: 4812582912.0000 - val_mae: 20707.6426\n",
      "Epoch 27/30\n",
      "\u001b[1m2211/2211\u001b[0m \u001b[32m━━━━━━━━━━━━━━━━━━━━\u001b[0m\u001b[37m\u001b[0m \u001b[1m3s\u001b[0m 1ms/step - loss: 4558911488.0000 - mae: 21199.1895 - val_loss: 4812274176.0000 - val_mae: 20866.8848\n",
      "Epoch 28/30\n",
      "\u001b[1m2211/2211\u001b[0m \u001b[32m━━━━━━━━━━━━━━━━━━━━\u001b[0m\u001b[37m\u001b[0m \u001b[1m3s\u001b[0m 1ms/step - loss: 5215257088.0000 - mae: 21669.4336 - val_loss: 4812149760.0000 - val_mae: 20974.4160\n",
      "Epoch 29/30\n",
      "\u001b[1m2211/2211\u001b[0m \u001b[32m━━━━━━━━━━━━━━━━━━━━\u001b[0m\u001b[37m\u001b[0m \u001b[1m3s\u001b[0m 1ms/step - loss: 5406074880.0000 - mae: 21497.4531 - val_loss: 4812105216.0000 - val_mae: 21059.2422\n",
      "Epoch 30/30\n",
      "\u001b[1m2211/2211\u001b[0m \u001b[32m━━━━━━━━━━━━━━━━━━━━\u001b[0m\u001b[37m\u001b[0m \u001b[1m3s\u001b[0m 1ms/step - loss: 5004772352.0000 - mae: 21571.4258 - val_loss: 4812096000.0000 - val_mae: 21126.8008\n"
     ]
    }
   ],
   "source": [
    "# Construcción del modelo\n",
    "model = keras.Sequential([\n",
    "    keras.layers.Dense(128, activation=\"relu\", input_shape=(x_train.shape[1],)),\n",
    "    keras.layers.Dropout(0.2), \n",
    "    keras.layers.Dense(32, activation=\"relu\"),\n",
    "    keras.layers.Dense(1)\n",
    "])\n",
    "\n",
    "# Compilar el modelo\n",
    "model.compile(optimizer=\"adam\", loss=\"mse\", metrics=[\"mae\"])\n",
    "\n",
    "# Entrenamiento\n",
    "history = model.fit(x_train, y_train, validation_data=(x_test, y_test), epochs=30, batch_size=32, verbose=1)"
   ]
  },
  {
   "cell_type": "markdown",
   "id": "8be24744",
   "metadata": {},
   "source": [
    "# Segundo Entrenamiento"
   ]
  },
  {
   "cell_type": "code",
   "execution_count": 157,
   "id": "fe92cc9a",
   "metadata": {},
   "outputs": [],
   "source": [
    "#Normalizacion\n",
    "scaler = StandardScaler()\n",
    "x_train_scaled = scaler.fit_transform(x_train)\n",
    "x_test_scaled = scaler.transform(x_test)"
   ]
  },
  {
   "cell_type": "code",
   "execution_count": 158,
   "id": "ff58a07a",
   "metadata": {},
   "outputs": [
    {
     "name": "stdout",
     "output_type": "stream",
     "text": [
      "Epoch 1/30\n",
      "\u001b[1m2211/2211\u001b[0m \u001b[32m━━━━━━━━━━━━━━━━━━━━\u001b[0m\u001b[37m\u001b[0m \u001b[1m3s\u001b[0m 1ms/step - loss: 5172314624.0000 - mae: 21759.5059 - val_loss: 4812110848.0000 - val_mae: 21177.7500\n",
      "Epoch 2/30\n",
      "\u001b[1m2211/2211\u001b[0m \u001b[32m━━━━━━━━━━━━━━━━━━━━\u001b[0m\u001b[37m\u001b[0m \u001b[1m3s\u001b[0m 1ms/step - loss: 4580984320.0000 - mae: 21359.1816 - val_loss: 4812133888.0000 - val_mae: 21220.0215\n",
      "Epoch 3/30\n",
      "\u001b[1m2211/2211\u001b[0m \u001b[32m━━━━━━━━━━━━━━━━━━━━\u001b[0m\u001b[37m\u001b[0m \u001b[1m3s\u001b[0m 1ms/step - loss: 5375079936.0000 - mae: 21640.2852 - val_loss: 4812152832.0000 - val_mae: 21249.0410\n",
      "Epoch 4/30\n",
      "\u001b[1m2211/2211\u001b[0m \u001b[32m━━━━━━━━━━━━━━━━━━━━\u001b[0m\u001b[37m\u001b[0m \u001b[1m3s\u001b[0m 2ms/step - loss: 5363773952.0000 - mae: 21621.9922 - val_loss: 4812185600.0000 - val_mae: 21281.9219\n",
      "Epoch 5/30\n",
      "\u001b[1m2211/2211\u001b[0m \u001b[32m━━━━━━━━━━━━━━━━━━━━\u001b[0m\u001b[37m\u001b[0m \u001b[1m4s\u001b[0m 2ms/step - loss: 6465163776.0000 - mae: 21841.5117 - val_loss: 4812195328.0000 - val_mae: 21291.0469\n",
      "Epoch 6/30\n",
      "\u001b[1m2211/2211\u001b[0m \u001b[32m━━━━━━━━━━━━━━━━━━━━\u001b[0m\u001b[37m\u001b[0m \u001b[1m4s\u001b[0m 2ms/step - loss: 4759380480.0000 - mae: 21425.1172 - val_loss: 4812209152.0000 - val_mae: 21306.8379\n",
      "Epoch 7/30\n",
      "\u001b[1m2211/2211\u001b[0m \u001b[32m━━━━━━━━━━━━━━━━━━━━\u001b[0m\u001b[37m\u001b[0m \u001b[1m3s\u001b[0m 1ms/step - loss: 6495995392.0000 - mae: 22081.9863 - val_loss: 4812211200.0000 - val_mae: 21306.7480\n",
      "Epoch 8/30\n",
      "\u001b[1m2211/2211\u001b[0m \u001b[32m━━━━━━━━━━━━━━━━━━━━\u001b[0m\u001b[37m\u001b[0m \u001b[1m3s\u001b[0m 1ms/step - loss: 4407895552.0000 - mae: 21320.0117 - val_loss: 4812232704.0000 - val_mae: 21323.3027\n",
      "Epoch 9/30\n",
      "\u001b[1m2211/2211\u001b[0m \u001b[32m━━━━━━━━━━━━━━━━━━━━\u001b[0m\u001b[37m\u001b[0m \u001b[1m5s\u001b[0m 1ms/step - loss: 5750658048.0000 - mae: 22310.8457 - val_loss: 4812231168.0000 - val_mae: 21320.7070\n",
      "Epoch 10/30\n",
      "\u001b[1m2211/2211\u001b[0m \u001b[32m━━━━━━━━━━━━━━━━━━━━\u001b[0m\u001b[37m\u001b[0m \u001b[1m3s\u001b[0m 1ms/step - loss: 4895920640.0000 - mae: 21233.3496 - val_loss: 4812245504.0000 - val_mae: 21331.7441\n",
      "Epoch 11/30\n",
      "\u001b[1m2211/2211\u001b[0m \u001b[32m━━━━━━━━━━━━━━━━━━━━\u001b[0m\u001b[37m\u001b[0m \u001b[1m3s\u001b[0m 1ms/step - loss: 5109544960.0000 - mae: 22188.3457 - val_loss: 4812241408.0000 - val_mae: 21333.4336\n",
      "Epoch 12/30\n",
      "\u001b[1m2211/2211\u001b[0m \u001b[32m━━━━━━━━━━━━━━━━━━━━\u001b[0m\u001b[37m\u001b[0m \u001b[1m3s\u001b[0m 1ms/step - loss: 4677144064.0000 - mae: 21727.3027 - val_loss: 4812251136.0000 - val_mae: 21339.8750\n",
      "Epoch 13/30\n",
      "\u001b[1m2211/2211\u001b[0m \u001b[32m━━━━━━━━━━━━━━━━━━━━\u001b[0m\u001b[37m\u001b[0m \u001b[1m3s\u001b[0m 1ms/step - loss: 4654554112.0000 - mae: 21749.1934 - val_loss: 4812257792.0000 - val_mae: 21342.3691\n",
      "Epoch 14/30\n",
      "\u001b[1m2211/2211\u001b[0m \u001b[32m━━━━━━━━━━━━━━━━━━━━\u001b[0m\u001b[37m\u001b[0m \u001b[1m3s\u001b[0m 1ms/step - loss: 6857519616.0000 - mae: 21792.1406 - val_loss: 4812260864.0000 - val_mae: 21345.3027\n",
      "Epoch 15/30\n",
      "\u001b[1m2211/2211\u001b[0m \u001b[32m━━━━━━━━━━━━━━━━━━━━\u001b[0m\u001b[37m\u001b[0m \u001b[1m3s\u001b[0m 1ms/step - loss: 4387843584.0000 - mae: 21714.6426 - val_loss: 4812253184.0000 - val_mae: 21341.1230\n",
      "Epoch 16/30\n",
      "\u001b[1m2211/2211\u001b[0m \u001b[32m━━━━━━━━━━━━━━━━━━━━\u001b[0m\u001b[37m\u001b[0m \u001b[1m3s\u001b[0m 1ms/step - loss: 4853921792.0000 - mae: 21685.1035 - val_loss: 4812263936.0000 - val_mae: 21347.5820\n",
      "Epoch 17/30\n",
      "\u001b[1m2211/2211\u001b[0m \u001b[32m━━━━━━━━━━━━━━━━━━━━\u001b[0m\u001b[37m\u001b[0m \u001b[1m3s\u001b[0m 1ms/step - loss: 5219928064.0000 - mae: 21995.5391 - val_loss: 4812265472.0000 - val_mae: 21346.9316\n",
      "Epoch 18/30\n",
      "\u001b[1m2211/2211\u001b[0m \u001b[32m━━━━━━━━━━━━━━━━━━━━\u001b[0m\u001b[37m\u001b[0m \u001b[1m3s\u001b[0m 1ms/step - loss: 4327163904.0000 - mae: 21463.9219 - val_loss: 4812269056.0000 - val_mae: 21351.6094\n",
      "Epoch 19/30\n",
      "\u001b[1m2211/2211\u001b[0m \u001b[32m━━━━━━━━━━━━━━━━━━━━\u001b[0m\u001b[37m\u001b[0m \u001b[1m3s\u001b[0m 1ms/step - loss: 4297116672.0000 - mae: 21511.9590 - val_loss: 4812266496.0000 - val_mae: 21350.8008\n",
      "Epoch 20/30\n",
      "\u001b[1m2211/2211\u001b[0m \u001b[32m━━━━━━━━━━━━━━━━━━━━\u001b[0m\u001b[37m\u001b[0m \u001b[1m3s\u001b[0m 1ms/step - loss: 4341912064.0000 - mae: 21572.0000 - val_loss: 4812269056.0000 - val_mae: 21351.5977\n",
      "Epoch 21/30\n",
      "\u001b[1m2211/2211\u001b[0m \u001b[32m━━━━━━━━━━━━━━━━━━━━\u001b[0m\u001b[37m\u001b[0m \u001b[1m3s\u001b[0m 1ms/step - loss: 5148227584.0000 - mae: 21721.9277 - val_loss: 4812265984.0000 - val_mae: 21349.5664\n",
      "Epoch 22/30\n",
      "\u001b[1m2211/2211\u001b[0m \u001b[32m━━━━━━━━━━━━━━━━━━━━\u001b[0m\u001b[37m\u001b[0m \u001b[1m3s\u001b[0m 1ms/step - loss: 6986206208.0000 - mae: 22297.7773 - val_loss: 4812270080.0000 - val_mae: 21349.9297\n",
      "Epoch 23/30\n",
      "\u001b[1m2211/2211\u001b[0m \u001b[32m━━━━━━━━━━━━━━━━━━━━\u001b[0m\u001b[37m\u001b[0m \u001b[1m3s\u001b[0m 1ms/step - loss: 4013655040.0000 - mae: 21237.2773 - val_loss: 4812275712.0000 - val_mae: 21352.7793\n",
      "Epoch 24/30\n",
      "\u001b[1m2211/2211\u001b[0m \u001b[32m━━━━━━━━━━━━━━━━━━━━\u001b[0m\u001b[37m\u001b[0m \u001b[1m3s\u001b[0m 1ms/step - loss: 5582471168.0000 - mae: 21539.8809 - val_loss: 4812283904.0000 - val_mae: 21360.4766\n",
      "Epoch 25/30\n",
      "\u001b[1m2211/2211\u001b[0m \u001b[32m━━━━━━━━━━━━━━━━━━━━\u001b[0m\u001b[37m\u001b[0m \u001b[1m3s\u001b[0m 1ms/step - loss: 4076426752.0000 - mae: 21512.7734 - val_loss: 4812274688.0000 - val_mae: 21353.2598\n",
      "Epoch 26/30\n",
      "\u001b[1m2211/2211\u001b[0m \u001b[32m━━━━━━━━━━━━━━━━━━━━\u001b[0m\u001b[37m\u001b[0m \u001b[1m3s\u001b[0m 1ms/step - loss: 5629901312.0000 - mae: 21788.6914 - val_loss: 4812283904.0000 - val_mae: 21359.6250\n",
      "Epoch 27/30\n",
      "\u001b[1m2211/2211\u001b[0m \u001b[32m━━━━━━━━━━━━━━━━━━━━\u001b[0m\u001b[37m\u001b[0m \u001b[1m3s\u001b[0m 1ms/step - loss: 4974212608.0000 - mae: 21490.9727 - val_loss: 4812286976.0000 - val_mae: 21361.1270\n",
      "Epoch 28/30\n",
      "\u001b[1m2211/2211\u001b[0m \u001b[32m━━━━━━━━━━━━━━━━━━━━\u001b[0m\u001b[37m\u001b[0m \u001b[1m3s\u001b[0m 1ms/step - loss: 6268881408.0000 - mae: 22039.1836 - val_loss: 4812284928.0000 - val_mae: 21359.1133\n",
      "Epoch 29/30\n",
      "\u001b[1m2211/2211\u001b[0m \u001b[32m━━━━━━━━━━━━━━━━━━━━\u001b[0m\u001b[37m\u001b[0m \u001b[1m3s\u001b[0m 1ms/step - loss: 6840530432.0000 - mae: 22080.6797 - val_loss: 4812273152.0000 - val_mae: 21353.9277\n",
      "Epoch 30/30\n",
      "\u001b[1m2211/2211\u001b[0m \u001b[32m━━━━━━━━━━━━━━━━━━━━\u001b[0m\u001b[37m\u001b[0m \u001b[1m3s\u001b[0m 1ms/step - loss: 7470282752.0000 - mae: 22036.5469 - val_loss: 4812281344.0000 - val_mae: 21357.7949\n"
     ]
    },
    {
     "data": {
      "text/plain": [
       "<keras.src.callbacks.history.History at 0x27e8ff80a00>"
      ]
     },
     "execution_count": 158,
     "metadata": {},
     "output_type": "execute_result"
    }
   ],
   "source": [
    "#Entrenar modelo con datos procesados\n",
    "model.fit(x_train_scaled, y_train, validation_data=(x_test_scaled, y_test), epochs=30, batch_size=32, verbose=1)"
   ]
  },
  {
   "cell_type": "markdown",
   "id": "bfe2e020",
   "metadata": {},
   "source": [
    "# Tercer Entrenamiento"
   ]
  },
  {
   "cell_type": "code",
   "execution_count": 159,
   "id": "650a44fe",
   "metadata": {},
   "outputs": [],
   "source": [
    "#Normalizacion\n",
    "scaler = StandardScaler()\n",
    "x_train_scaled = scaler.fit_transform(x_train)\n",
    "x_test_scaled = scaler.transform(x_test)"
   ]
  },
  {
   "cell_type": "code",
   "execution_count": 160,
   "id": "0f41ad42",
   "metadata": {},
   "outputs": [
    {
     "name": "stdout",
     "output_type": "stream",
     "text": [
      "Epoch 1/30\n",
      "\u001b[1m2211/2211\u001b[0m \u001b[32m━━━━━━━━━━━━━━━━━━━━\u001b[0m\u001b[37m\u001b[0m \u001b[1m3s\u001b[0m 1ms/step - loss: 4029435136.0000 - mae: 21697.7832 - val_loss: 4812280832.0000 - val_mae: 21358.4199\n",
      "Epoch 2/30\n",
      "\u001b[1m2211/2211\u001b[0m \u001b[32m━━━━━━━━━━━━━━━━━━━━\u001b[0m\u001b[37m\u001b[0m \u001b[1m3s\u001b[0m 1ms/step - loss: 5386754560.0000 - mae: 21983.8379 - val_loss: 4812267008.0000 - val_mae: 21351.0059\n",
      "Epoch 3/30\n",
      "\u001b[1m2211/2211\u001b[0m \u001b[32m━━━━━━━━━━━━━━━━━━━━\u001b[0m\u001b[37m\u001b[0m \u001b[1m3s\u001b[0m 1ms/step - loss: 5532020224.0000 - mae: 21736.5371 - val_loss: 4812276224.0000 - val_mae: 21353.1172\n",
      "Epoch 4/30\n",
      "\u001b[1m2211/2211\u001b[0m \u001b[32m━━━━━━━━━━━━━━━━━━━━\u001b[0m\u001b[37m\u001b[0m \u001b[1m3s\u001b[0m 1ms/step - loss: 6381829120.0000 - mae: 21860.8984 - val_loss: 4812264960.0000 - val_mae: 21349.3652\n",
      "Epoch 5/30\n",
      "\u001b[1m2211/2211\u001b[0m \u001b[32m━━━━━━━━━━━━━━━━━━━━\u001b[0m\u001b[37m\u001b[0m \u001b[1m3s\u001b[0m 1ms/step - loss: 4739874304.0000 - mae: 21558.2070 - val_loss: 4812268544.0000 - val_mae: 21350.6328\n",
      "Epoch 6/30\n",
      "\u001b[1m2211/2211\u001b[0m \u001b[32m━━━━━━━━━━━━━━━━━━━━\u001b[0m\u001b[37m\u001b[0m \u001b[1m3s\u001b[0m 1ms/step - loss: 5252441088.0000 - mae: 22208.2578 - val_loss: 4812264448.0000 - val_mae: 21346.9668\n",
      "Epoch 7/30\n",
      "\u001b[1m2211/2211\u001b[0m \u001b[32m━━━━━━━━━━━━━━━━━━━━\u001b[0m\u001b[37m\u001b[0m \u001b[1m3s\u001b[0m 1ms/step - loss: 6102854144.0000 - mae: 21766.9863 - val_loss: 4812264960.0000 - val_mae: 21345.9297\n",
      "Epoch 8/30\n",
      "\u001b[1m2211/2211\u001b[0m \u001b[32m━━━━━━━━━━━━━━━━━━━━\u001b[0m\u001b[37m\u001b[0m \u001b[1m3s\u001b[0m 1ms/step - loss: 4556527104.0000 - mae: 21476.3125 - val_loss: 4812263424.0000 - val_mae: 21348.7246\n",
      "Epoch 9/30\n",
      "\u001b[1m2211/2211\u001b[0m \u001b[32m━━━━━━━━━━━━━━━━━━━━\u001b[0m\u001b[37m\u001b[0m \u001b[1m3s\u001b[0m 1ms/step - loss: 6295384576.0000 - mae: 21897.5488 - val_loss: 4812259840.0000 - val_mae: 21343.5527\n",
      "Epoch 10/30\n",
      "\u001b[1m2211/2211\u001b[0m \u001b[32m━━━━━━━━━━━━━━━━━━━━\u001b[0m\u001b[37m\u001b[0m \u001b[1m3s\u001b[0m 1ms/step - loss: 4446377984.0000 - mae: 21302.3789 - val_loss: 4812262400.0000 - val_mae: 21348.9844\n",
      "Epoch 11/30\n",
      "\u001b[1m2211/2211\u001b[0m \u001b[32m━━━━━━━━━━━━━━━━━━━━\u001b[0m\u001b[37m\u001b[0m \u001b[1m3s\u001b[0m 1ms/step - loss: 4587399680.0000 - mae: 21521.7090 - val_loss: 4812269568.0000 - val_mae: 21350.0059\n",
      "Epoch 12/30\n",
      "\u001b[1m2211/2211\u001b[0m \u001b[32m━━━━━━━━━━━━━━━━━━━━\u001b[0m\u001b[37m\u001b[0m \u001b[1m3s\u001b[0m 1ms/step - loss: 4013417728.0000 - mae: 21506.7891 - val_loss: 4812274688.0000 - val_mae: 21353.3105\n",
      "Epoch 13/30\n",
      "\u001b[1m2211/2211\u001b[0m \u001b[32m━━━━━━━━━━━━━━━━━━━━\u001b[0m\u001b[37m\u001b[0m \u001b[1m3s\u001b[0m 1ms/step - loss: 5796172800.0000 - mae: 22233.1504 - val_loss: 4812264960.0000 - val_mae: 21345.7305\n",
      "Epoch 14/30\n",
      "\u001b[1m2211/2211\u001b[0m \u001b[32m━━━━━━━━━━━━━━━━━━━━\u001b[0m\u001b[37m\u001b[0m \u001b[1m3s\u001b[0m 1ms/step - loss: 4765304320.0000 - mae: 21674.6172 - val_loss: 4812270592.0000 - val_mae: 21352.3828\n",
      "Epoch 15/30\n",
      "\u001b[1m2211/2211\u001b[0m \u001b[32m━━━━━━━━━━━━━━━━━━━━\u001b[0m\u001b[37m\u001b[0m \u001b[1m5s\u001b[0m 1ms/step - loss: 4340819456.0000 - mae: 21502.2422 - val_loss: 4812275712.0000 - val_mae: 21355.9609\n",
      "Epoch 16/30\n",
      "\u001b[1m2211/2211\u001b[0m \u001b[32m━━━━━━━━━━━━━━━━━━━━\u001b[0m\u001b[37m\u001b[0m \u001b[1m3s\u001b[0m 1ms/step - loss: 5406233088.0000 - mae: 21780.7988 - val_loss: 4812276224.0000 - val_mae: 21355.2656\n",
      "Epoch 17/30\n",
      "\u001b[1m2211/2211\u001b[0m \u001b[32m━━━━━━━━━━━━━━━━━━━━\u001b[0m\u001b[37m\u001b[0m \u001b[1m3s\u001b[0m 1ms/step - loss: 4835681792.0000 - mae: 21658.7461 - val_loss: 4812274176.0000 - val_mae: 21353.7266\n",
      "Epoch 18/30\n",
      "\u001b[1m2211/2211\u001b[0m \u001b[32m━━━━━━━━━━━━━━━━━━━━\u001b[0m\u001b[37m\u001b[0m \u001b[1m3s\u001b[0m 1ms/step - loss: 4476124160.0000 - mae: 21737.2129 - val_loss: 4812276736.0000 - val_mae: 21355.2773\n",
      "Epoch 19/30\n",
      "\u001b[1m2211/2211\u001b[0m \u001b[32m━━━━━━━━━━━━━━━━━━━━\u001b[0m\u001b[37m\u001b[0m \u001b[1m3s\u001b[0m 1ms/step - loss: 5470749184.0000 - mae: 21729.4902 - val_loss: 4812276224.0000 - val_mae: 21355.0156\n",
      "Epoch 20/30\n",
      "\u001b[1m2211/2211\u001b[0m \u001b[32m━━━━━━━━━━━━━━━━━━━━\u001b[0m\u001b[37m\u001b[0m \u001b[1m3s\u001b[0m 1ms/step - loss: 4515350016.0000 - mae: 21603.4160 - val_loss: 4812275200.0000 - val_mae: 21354.9082\n",
      "Epoch 21/30\n",
      "\u001b[1m2211/2211\u001b[0m \u001b[32m━━━━━━━━━━━━━━━━━━━━\u001b[0m\u001b[37m\u001b[0m \u001b[1m3s\u001b[0m 1ms/step - loss: 4731125760.0000 - mae: 21561.9336 - val_loss: 4812275200.0000 - val_mae: 21355.6797\n",
      "Epoch 22/30\n",
      "\u001b[1m2211/2211\u001b[0m \u001b[32m━━━━━━━━━━━━━━━━━━━━\u001b[0m\u001b[37m\u001b[0m \u001b[1m3s\u001b[0m 1ms/step - loss: 4816652800.0000 - mae: 21740.9629 - val_loss: 4812274176.0000 - val_mae: 21353.7891\n",
      "Epoch 23/30\n",
      "\u001b[1m2211/2211\u001b[0m \u001b[32m━━━━━━━━━━━━━━━━━━━━\u001b[0m\u001b[37m\u001b[0m \u001b[1m3s\u001b[0m 1ms/step - loss: 5922048000.0000 - mae: 21744.0488 - val_loss: 4812274176.0000 - val_mae: 21352.6445\n",
      "Epoch 24/30\n",
      "\u001b[1m2211/2211\u001b[0m \u001b[32m━━━━━━━━━━━━━━━━━━━━\u001b[0m\u001b[37m\u001b[0m \u001b[1m3s\u001b[0m 1ms/step - loss: 5924858368.0000 - mae: 21970.8203 - val_loss: 4812274688.0000 - val_mae: 21352.7422\n",
      "Epoch 25/30\n",
      "\u001b[1m2211/2211\u001b[0m \u001b[32m━━━━━━━━━━━━━━━━━━━━\u001b[0m\u001b[37m\u001b[0m \u001b[1m3s\u001b[0m 1ms/step - loss: 4412568576.0000 - mae: 21434.0586 - val_loss: 4812269056.0000 - val_mae: 21350.5801\n",
      "Epoch 26/30\n",
      "\u001b[1m2211/2211\u001b[0m \u001b[32m━━━━━━━━━━━━━━━━━━━━\u001b[0m\u001b[37m\u001b[0m \u001b[1m3s\u001b[0m 1ms/step - loss: 5021708288.0000 - mae: 21264.9844 - val_loss: 4812269568.0000 - val_mae: 21351.3398\n",
      "Epoch 27/30\n",
      "\u001b[1m2211/2211\u001b[0m \u001b[32m━━━━━━━━━━━━━━━━━━━━\u001b[0m\u001b[37m\u001b[0m \u001b[1m3s\u001b[0m 1ms/step - loss: 4870348800.0000 - mae: 21655.8691 - val_loss: 4812269568.0000 - val_mae: 21351.3164\n",
      "Epoch 28/30\n",
      "\u001b[1m2211/2211\u001b[0m \u001b[32m━━━━━━━━━━━━━━━━━━━━\u001b[0m\u001b[37m\u001b[0m \u001b[1m3s\u001b[0m 1ms/step - loss: 6527587840.0000 - mae: 21898.2109 - val_loss: 4812277760.0000 - val_mae: 21356.2656\n",
      "Epoch 29/30\n",
      "\u001b[1m2211/2211\u001b[0m \u001b[32m━━━━━━━━━━━━━━━━━━━━\u001b[0m\u001b[37m\u001b[0m \u001b[1m3s\u001b[0m 1ms/step - loss: 3462393088.0000 - mae: 21231.9414 - val_loss: 4812280832.0000 - val_mae: 21357.7617\n",
      "Epoch 30/30\n",
      "\u001b[1m2211/2211\u001b[0m \u001b[32m━━━━━━━━━━━━━━━━━━━━\u001b[0m\u001b[37m\u001b[0m \u001b[1m3s\u001b[0m 1ms/step - loss: 4142946048.0000 - mae: 21325.9648 - val_loss: 4812287488.0000 - val_mae: 21362.6641\n"
     ]
    },
    {
     "data": {
      "text/plain": [
       "<keras.src.callbacks.history.History at 0x27e8ff0c9a0>"
      ]
     },
     "execution_count": 160,
     "metadata": {},
     "output_type": "execute_result"
    }
   ],
   "source": [
    "#Entrenar modelo con datos procesados\n",
    "model.fit(x_train_scaled, y_train, validation_data=(x_test_scaled, y_test), epochs=30, batch_size=32, verbose=1)"
   ]
  },
  {
   "cell_type": "markdown",
   "id": "ced723d6",
   "metadata": {},
   "source": [
    "# Último entrenamiento"
   ]
  },
  {
   "cell_type": "code",
   "execution_count": 161,
   "id": "d7832b91",
   "metadata": {},
   "outputs": [],
   "source": [
    "#sirve para extraer metricas de entrenamiento almacenadas en el objeto history\n",
    "loss = history.history.get('loss', [])\n",
    "val_loss = history.history.get('val_loss', [])\n",
    "mae = history.history.get('mae', [])\n",
    "val_mae = history.history.get('val_mae', [])\n",
    "mse = history.history.get('mse', [])\n",
    "val_mse = history.history.get('val_mse', [])"
   ]
  },
  {
   "cell_type": "code",
   "execution_count": 162,
   "id": "6be6cc0c",
   "metadata": {},
   "outputs": [],
   "source": [
    "#crear graficos interactivos para visualizar metricas de entrenamiento de modelos de machine learning\n",
    "def plot_metrics(epochs, train_metric, val_metric, metric_name, color_train, color_val):\n",
    "    fig = go.Figure()\n",
    "    \n",
    "    # Gráfico de métricas de entrenamiento y validación\n",
    "    fig.add_trace(go.Scatter(\n",
    "        x=epochs, y=train_metric, mode='lines+markers', \n",
    "        name=f'Train {metric_name}', line=dict(color=color_train))\n",
    "    )\n",
    "    fig.add_trace(go.Scatter(\n",
    "        x=epochs, y=val_metric, mode='lines+markers', \n",
    "        name=f'Validation {metric_name}', line=dict(color=color_val))\n",
    "    )\n",
    "    \n",
    "    # Encontrar la mejor época (mínimo val_mae)\n",
    "    best_epoch = np.argmin(val_metric) + 1  # +1 porque las épocas comienzan en 1\n",
    "    best_metric_value = val_metric[best_epoch - 1]  # Índice base 0\n",
    "    \n",
    "    # Línea vertical y anotación de la mejor época\n",
    "    fig.add_vline(\n",
    "        x=best_epoch,\n",
    "        line=dict(color=\"gray\", dash=\"dash\", width=1),\n",
    "        annotation_text=f'Mejor época: {best_epoch}',\n",
    "        annotation_position=\"top left\"\n",
    "    )\n",
    "    \n",
    "    # Personalizar el layout\n",
    "    fig.update_layout(\n",
    "        title=f'Evolución del {metric_name} (Mejor época: {best_epoch})',\n",
    "        xaxis_title='Época',\n",
    "        yaxis_title=metric_name,\n",
    "        template='plotly_white',\n",
    "        hovermode='x unified'\n",
    "    )\n",
    "    \n",
    "    return fig"
   ]
  },
  {
   "cell_type": "code",
   "execution_count": 163,
   "id": "16fef220",
   "metadata": {},
   "outputs": [],
   "source": [
    "#verificacion inteligente de metricas  y creación de grafico interactivo\n",
    "def plot_metrics(history, metric_name):\n",
    "    \"\"\"Versión más robusta de la función de graficado\"\"\"\n",
    "    available_metrics = history.history.keys()\n",
    "    \n",
    "    # Busca el nombre correcto de la métrica\n",
    "    possible_names = [metric_name, f'val_{metric_name}', \n",
    "                     metric_name.lower(), f'val_{metric_name.lower()}']\n",
    "    \n",
    "    actual_name = None\n",
    "    for name in possible_names:\n",
    "        if name in available_metrics:\n",
    "            actual_name = name.replace('val_', '')\n",
    "            break\n",
    "    \n",
    "    if actual_name is None:\n",
    "        raise ValueError(f\"No se encontró la métrica {metric_name}. Métricas disponibles: {available_metrics}\")\n",
    "    \n",
    "    metric = history.history[actual_name]\n",
    "    val_metric = history.history[f'val_{actual_name}']\n",
    "    epochs = list(range(1, len(metric) + 1))\n",
    "    \n",
    "    fig = go.Figure()\n",
    "    \n",
    "    fig.add_trace(go.Scatter(\n",
    "        x=epochs, y=metric,\n",
    "        mode='lines+markers',\n",
    "        name=f'Entrenamiento {actual_name.upper()}',\n",
    "        line=dict(color='blue', width=2)\n",
    "    ))\n",
    "    \n",
    "    fig.add_trace(go.Scatter(\n",
    "        x=epochs, y=val_metric,\n",
    "        mode='lines+markers',\n",
    "        name=f'Validación {actual_name.upper()}',\n",
    "        line=dict(color='red', width=2)\n",
    "    ))\n",
    "    \n",
    "    fig.update_layout(\n",
    "        title=f'Evolución del {actual_name.upper()}',\n",
    "        xaxis_title='Épocas',\n",
    "        yaxis_title=actual_name.upper(),\n",
    "        template='plotly_white'\n",
    "    )\n",
    "   \n",
    "    \n",
    "    return fig"
   ]
  },
  {
   "cell_type": "markdown",
   "id": "c50288ff",
   "metadata": {},
   "source": [
    "El gráfico muestra la evolución del error Absoluto Medio (MAE) durante el entrenamiento de un modelo de Machine Learning."
   ]
  },
  {
   "cell_type": "code",
   "execution_count": 164,
   "id": "f44700b0",
   "metadata": {},
   "outputs": [
    {
     "data": {
      "application/vnd.plotly.v1+json": {
       "config": {
        "plotlyServerURL": "https://plot.ly"
       },
       "data": [
        {
         "line": {
          "color": "blue",
          "width": 2
         },
         "mode": "lines+markers",
         "name": "Entrenamiento MAE",
         "type": "scatter",
         "x": [
          1,
          2,
          3,
          4,
          5,
          6,
          7,
          8,
          9,
          10,
          11,
          12,
          13,
          14,
          15,
          16,
          17,
          18,
          19,
          20,
          21,
          22,
          23,
          24,
          25,
          26,
          27,
          28,
          29,
          30
         ],
         "y": [
          32048.431640625,
          31726.451171875,
          31192.73828125,
          30484.4140625,
          29609.263671875,
          28577.16796875,
          27408.83984375,
          26117.90234375,
          24717.408203125,
          23260.826171875,
          21821.26953125,
          20487.958984375,
          19342.189453125,
          18468.685546875,
          17912.87109375,
          17698.833984375,
          17779.634765625,
          18067.927734375,
          18501.583984375,
          18988.140625,
          19454.783203125,
          19878.4453125,
          20282.21875,
          20584.701171875,
          20874.8046875,
          21070.490234375,
          21214.919921875,
          21354.927734375,
          21451.12890625,
          21522.255859375
         ]
        },
        {
         "line": {
          "color": "red",
          "width": 2
         },
         "mode": "lines+markers",
         "name": "Validación MAE",
         "type": "scatter",
         "x": [
          1,
          2,
          3,
          4,
          5,
          6,
          7,
          8,
          9,
          10,
          11,
          12,
          13,
          14,
          15,
          16,
          17,
          18,
          19,
          20,
          21,
          22,
          23,
          24,
          25,
          26,
          27,
          28,
          29,
          30
         ],
         "y": [
          31492.921875,
          31054.5078125,
          30430.5859375,
          29635.701171875,
          28685.921875,
          27576.54296875,
          26347.8984375,
          25002.3671875,
          23563.0703125,
          22092.62890625,
          20707.06640625,
          19424.75,
          18400.11328125,
          17654.6953125,
          17268.240234375,
          17220.62890625,
          17425.9921875,
          17808.458984375,
          18290.83984375,
          18760.689453125,
          19196.71875,
          19647.32421875,
          20001.890625,
          20303.69140625,
          20527.0234375,
          20707.642578125,
          20866.884765625,
          20974.416015625,
          21059.2421875,
          21126.80078125
         ]
        }
       ],
       "layout": {
        "template": {
         "data": {
          "bar": [
           {
            "error_x": {
             "color": "#2a3f5f"
            },
            "error_y": {
             "color": "#2a3f5f"
            },
            "marker": {
             "line": {
              "color": "white",
              "width": 0.5
             },
             "pattern": {
              "fillmode": "overlay",
              "size": 10,
              "solidity": 0.2
             }
            },
            "type": "bar"
           }
          ],
          "barpolar": [
           {
            "marker": {
             "line": {
              "color": "white",
              "width": 0.5
             },
             "pattern": {
              "fillmode": "overlay",
              "size": 10,
              "solidity": 0.2
             }
            },
            "type": "barpolar"
           }
          ],
          "carpet": [
           {
            "aaxis": {
             "endlinecolor": "#2a3f5f",
             "gridcolor": "#C8D4E3",
             "linecolor": "#C8D4E3",
             "minorgridcolor": "#C8D4E3",
             "startlinecolor": "#2a3f5f"
            },
            "baxis": {
             "endlinecolor": "#2a3f5f",
             "gridcolor": "#C8D4E3",
             "linecolor": "#C8D4E3",
             "minorgridcolor": "#C8D4E3",
             "startlinecolor": "#2a3f5f"
            },
            "type": "carpet"
           }
          ],
          "choropleth": [
           {
            "colorbar": {
             "outlinewidth": 0,
             "ticks": ""
            },
            "type": "choropleth"
           }
          ],
          "contour": [
           {
            "colorbar": {
             "outlinewidth": 0,
             "ticks": ""
            },
            "colorscale": [
             [
              0,
              "#0d0887"
             ],
             [
              0.1111111111111111,
              "#46039f"
             ],
             [
              0.2222222222222222,
              "#7201a8"
             ],
             [
              0.3333333333333333,
              "#9c179e"
             ],
             [
              0.4444444444444444,
              "#bd3786"
             ],
             [
              0.5555555555555556,
              "#d8576b"
             ],
             [
              0.6666666666666666,
              "#ed7953"
             ],
             [
              0.7777777777777778,
              "#fb9f3a"
             ],
             [
              0.8888888888888888,
              "#fdca26"
             ],
             [
              1,
              "#f0f921"
             ]
            ],
            "type": "contour"
           }
          ],
          "contourcarpet": [
           {
            "colorbar": {
             "outlinewidth": 0,
             "ticks": ""
            },
            "type": "contourcarpet"
           }
          ],
          "heatmap": [
           {
            "colorbar": {
             "outlinewidth": 0,
             "ticks": ""
            },
            "colorscale": [
             [
              0,
              "#0d0887"
             ],
             [
              0.1111111111111111,
              "#46039f"
             ],
             [
              0.2222222222222222,
              "#7201a8"
             ],
             [
              0.3333333333333333,
              "#9c179e"
             ],
             [
              0.4444444444444444,
              "#bd3786"
             ],
             [
              0.5555555555555556,
              "#d8576b"
             ],
             [
              0.6666666666666666,
              "#ed7953"
             ],
             [
              0.7777777777777778,
              "#fb9f3a"
             ],
             [
              0.8888888888888888,
              "#fdca26"
             ],
             [
              1,
              "#f0f921"
             ]
            ],
            "type": "heatmap"
           }
          ],
          "histogram": [
           {
            "marker": {
             "pattern": {
              "fillmode": "overlay",
              "size": 10,
              "solidity": 0.2
             }
            },
            "type": "histogram"
           }
          ],
          "histogram2d": [
           {
            "colorbar": {
             "outlinewidth": 0,
             "ticks": ""
            },
            "colorscale": [
             [
              0,
              "#0d0887"
             ],
             [
              0.1111111111111111,
              "#46039f"
             ],
             [
              0.2222222222222222,
              "#7201a8"
             ],
             [
              0.3333333333333333,
              "#9c179e"
             ],
             [
              0.4444444444444444,
              "#bd3786"
             ],
             [
              0.5555555555555556,
              "#d8576b"
             ],
             [
              0.6666666666666666,
              "#ed7953"
             ],
             [
              0.7777777777777778,
              "#fb9f3a"
             ],
             [
              0.8888888888888888,
              "#fdca26"
             ],
             [
              1,
              "#f0f921"
             ]
            ],
            "type": "histogram2d"
           }
          ],
          "histogram2dcontour": [
           {
            "colorbar": {
             "outlinewidth": 0,
             "ticks": ""
            },
            "colorscale": [
             [
              0,
              "#0d0887"
             ],
             [
              0.1111111111111111,
              "#46039f"
             ],
             [
              0.2222222222222222,
              "#7201a8"
             ],
             [
              0.3333333333333333,
              "#9c179e"
             ],
             [
              0.4444444444444444,
              "#bd3786"
             ],
             [
              0.5555555555555556,
              "#d8576b"
             ],
             [
              0.6666666666666666,
              "#ed7953"
             ],
             [
              0.7777777777777778,
              "#fb9f3a"
             ],
             [
              0.8888888888888888,
              "#fdca26"
             ],
             [
              1,
              "#f0f921"
             ]
            ],
            "type": "histogram2dcontour"
           }
          ],
          "mesh3d": [
           {
            "colorbar": {
             "outlinewidth": 0,
             "ticks": ""
            },
            "type": "mesh3d"
           }
          ],
          "parcoords": [
           {
            "line": {
             "colorbar": {
              "outlinewidth": 0,
              "ticks": ""
             }
            },
            "type": "parcoords"
           }
          ],
          "pie": [
           {
            "automargin": true,
            "type": "pie"
           }
          ],
          "scatter": [
           {
            "fillpattern": {
             "fillmode": "overlay",
             "size": 10,
             "solidity": 0.2
            },
            "type": "scatter"
           }
          ],
          "scatter3d": [
           {
            "line": {
             "colorbar": {
              "outlinewidth": 0,
              "ticks": ""
             }
            },
            "marker": {
             "colorbar": {
              "outlinewidth": 0,
              "ticks": ""
             }
            },
            "type": "scatter3d"
           }
          ],
          "scattercarpet": [
           {
            "marker": {
             "colorbar": {
              "outlinewidth": 0,
              "ticks": ""
             }
            },
            "type": "scattercarpet"
           }
          ],
          "scattergeo": [
           {
            "marker": {
             "colorbar": {
              "outlinewidth": 0,
              "ticks": ""
             }
            },
            "type": "scattergeo"
           }
          ],
          "scattergl": [
           {
            "marker": {
             "colorbar": {
              "outlinewidth": 0,
              "ticks": ""
             }
            },
            "type": "scattergl"
           }
          ],
          "scattermap": [
           {
            "marker": {
             "colorbar": {
              "outlinewidth": 0,
              "ticks": ""
             }
            },
            "type": "scattermap"
           }
          ],
          "scattermapbox": [
           {
            "marker": {
             "colorbar": {
              "outlinewidth": 0,
              "ticks": ""
             }
            },
            "type": "scattermapbox"
           }
          ],
          "scatterpolar": [
           {
            "marker": {
             "colorbar": {
              "outlinewidth": 0,
              "ticks": ""
             }
            },
            "type": "scatterpolar"
           }
          ],
          "scatterpolargl": [
           {
            "marker": {
             "colorbar": {
              "outlinewidth": 0,
              "ticks": ""
             }
            },
            "type": "scatterpolargl"
           }
          ],
          "scatterternary": [
           {
            "marker": {
             "colorbar": {
              "outlinewidth": 0,
              "ticks": ""
             }
            },
            "type": "scatterternary"
           }
          ],
          "surface": [
           {
            "colorbar": {
             "outlinewidth": 0,
             "ticks": ""
            },
            "colorscale": [
             [
              0,
              "#0d0887"
             ],
             [
              0.1111111111111111,
              "#46039f"
             ],
             [
              0.2222222222222222,
              "#7201a8"
             ],
             [
              0.3333333333333333,
              "#9c179e"
             ],
             [
              0.4444444444444444,
              "#bd3786"
             ],
             [
              0.5555555555555556,
              "#d8576b"
             ],
             [
              0.6666666666666666,
              "#ed7953"
             ],
             [
              0.7777777777777778,
              "#fb9f3a"
             ],
             [
              0.8888888888888888,
              "#fdca26"
             ],
             [
              1,
              "#f0f921"
             ]
            ],
            "type": "surface"
           }
          ],
          "table": [
           {
            "cells": {
             "fill": {
              "color": "#EBF0F8"
             },
             "line": {
              "color": "white"
             }
            },
            "header": {
             "fill": {
              "color": "#C8D4E3"
             },
             "line": {
              "color": "white"
             }
            },
            "type": "table"
           }
          ]
         },
         "layout": {
          "annotationdefaults": {
           "arrowcolor": "#2a3f5f",
           "arrowhead": 0,
           "arrowwidth": 1
          },
          "autotypenumbers": "strict",
          "coloraxis": {
           "colorbar": {
            "outlinewidth": 0,
            "ticks": ""
           }
          },
          "colorscale": {
           "diverging": [
            [
             0,
             "#8e0152"
            ],
            [
             0.1,
             "#c51b7d"
            ],
            [
             0.2,
             "#de77ae"
            ],
            [
             0.3,
             "#f1b6da"
            ],
            [
             0.4,
             "#fde0ef"
            ],
            [
             0.5,
             "#f7f7f7"
            ],
            [
             0.6,
             "#e6f5d0"
            ],
            [
             0.7,
             "#b8e186"
            ],
            [
             0.8,
             "#7fbc41"
            ],
            [
             0.9,
             "#4d9221"
            ],
            [
             1,
             "#276419"
            ]
           ],
           "sequential": [
            [
             0,
             "#0d0887"
            ],
            [
             0.1111111111111111,
             "#46039f"
            ],
            [
             0.2222222222222222,
             "#7201a8"
            ],
            [
             0.3333333333333333,
             "#9c179e"
            ],
            [
             0.4444444444444444,
             "#bd3786"
            ],
            [
             0.5555555555555556,
             "#d8576b"
            ],
            [
             0.6666666666666666,
             "#ed7953"
            ],
            [
             0.7777777777777778,
             "#fb9f3a"
            ],
            [
             0.8888888888888888,
             "#fdca26"
            ],
            [
             1,
             "#f0f921"
            ]
           ],
           "sequentialminus": [
            [
             0,
             "#0d0887"
            ],
            [
             0.1111111111111111,
             "#46039f"
            ],
            [
             0.2222222222222222,
             "#7201a8"
            ],
            [
             0.3333333333333333,
             "#9c179e"
            ],
            [
             0.4444444444444444,
             "#bd3786"
            ],
            [
             0.5555555555555556,
             "#d8576b"
            ],
            [
             0.6666666666666666,
             "#ed7953"
            ],
            [
             0.7777777777777778,
             "#fb9f3a"
            ],
            [
             0.8888888888888888,
             "#fdca26"
            ],
            [
             1,
             "#f0f921"
            ]
           ]
          },
          "colorway": [
           "#636efa",
           "#EF553B",
           "#00cc96",
           "#ab63fa",
           "#FFA15A",
           "#19d3f3",
           "#FF6692",
           "#B6E880",
           "#FF97FF",
           "#FECB52"
          ],
          "font": {
           "color": "#2a3f5f"
          },
          "geo": {
           "bgcolor": "white",
           "lakecolor": "white",
           "landcolor": "white",
           "showlakes": true,
           "showland": true,
           "subunitcolor": "#C8D4E3"
          },
          "hoverlabel": {
           "align": "left"
          },
          "hovermode": "closest",
          "mapbox": {
           "style": "light"
          },
          "paper_bgcolor": "white",
          "plot_bgcolor": "white",
          "polar": {
           "angularaxis": {
            "gridcolor": "#EBF0F8",
            "linecolor": "#EBF0F8",
            "ticks": ""
           },
           "bgcolor": "white",
           "radialaxis": {
            "gridcolor": "#EBF0F8",
            "linecolor": "#EBF0F8",
            "ticks": ""
           }
          },
          "scene": {
           "xaxis": {
            "backgroundcolor": "white",
            "gridcolor": "#DFE8F3",
            "gridwidth": 2,
            "linecolor": "#EBF0F8",
            "showbackground": true,
            "ticks": "",
            "zerolinecolor": "#EBF0F8"
           },
           "yaxis": {
            "backgroundcolor": "white",
            "gridcolor": "#DFE8F3",
            "gridwidth": 2,
            "linecolor": "#EBF0F8",
            "showbackground": true,
            "ticks": "",
            "zerolinecolor": "#EBF0F8"
           },
           "zaxis": {
            "backgroundcolor": "white",
            "gridcolor": "#DFE8F3",
            "gridwidth": 2,
            "linecolor": "#EBF0F8",
            "showbackground": true,
            "ticks": "",
            "zerolinecolor": "#EBF0F8"
           }
          },
          "shapedefaults": {
           "line": {
            "color": "#2a3f5f"
           }
          },
          "ternary": {
           "aaxis": {
            "gridcolor": "#DFE8F3",
            "linecolor": "#A2B1C6",
            "ticks": ""
           },
           "baxis": {
            "gridcolor": "#DFE8F3",
            "linecolor": "#A2B1C6",
            "ticks": ""
           },
           "bgcolor": "white",
           "caxis": {
            "gridcolor": "#DFE8F3",
            "linecolor": "#A2B1C6",
            "ticks": ""
           }
          },
          "title": {
           "x": 0.05
          },
          "xaxis": {
           "automargin": true,
           "gridcolor": "#EBF0F8",
           "linecolor": "#EBF0F8",
           "ticks": "",
           "title": {
            "standoff": 15
           },
           "zerolinecolor": "#EBF0F8",
           "zerolinewidth": 2
          },
          "yaxis": {
           "automargin": true,
           "gridcolor": "#EBF0F8",
           "linecolor": "#EBF0F8",
           "ticks": "",
           "title": {
            "standoff": 15
           },
           "zerolinecolor": "#EBF0F8",
           "zerolinewidth": 2
          }
         }
        },
        "title": {
         "text": "Evolución del MAE"
        },
        "xaxis": {
         "title": {
          "text": "Épocas"
         }
        },
        "yaxis": {
         "title": {
          "text": "MAE"
         }
        }
       }
      }
     },
     "metadata": {},
     "output_type": "display_data"
    }
   ],
   "source": [
    "#mae\n",
    "fig_mae = plot_metrics(history, 'mae')\n",
    "fig_mae.show()"
   ]
  },
  {
   "cell_type": "markdown",
   "id": "5dbacf72",
   "metadata": {},
   "source": [
    "Grafico de perdidas en el train LOSS"
   ]
  },
  {
   "cell_type": "code",
   "execution_count": 165,
   "id": "c2e1d552",
   "metadata": {},
   "outputs": [
    {
     "data": {
      "application/vnd.plotly.v1+json": {
       "config": {
        "plotlyServerURL": "https://plot.ly"
       },
       "data": [
        {
         "line": {
          "color": "blue",
          "width": 2
         },
         "mode": "lines+markers",
         "name": "Train LOSS",
         "type": "scatter",
         "x": [
          1,
          2,
          3,
          4,
          5,
          6,
          7,
          8,
          9,
          10,
          11,
          12,
          13,
          14,
          15,
          16,
          17,
          18,
          19,
          20,
          21,
          22,
          23,
          24,
          25,
          26,
          27,
          28,
          29,
          30
         ],
         "y": [
          6253822976,
          6233273856,
          6199769600,
          6156008448,
          6103468032,
          6043153408,
          5977084928,
          5906691072,
          5832402432,
          5756810752,
          5682550272,
          5609651200,
          5541006336,
          5477423616,
          5420765184,
          5372330496,
          5332550144,
          5300111360,
          5275181568,
          5258296320,
          5247351808,
          5239438848,
          5234361344,
          5231317504,
          5229501952,
          5228416512,
          5227736064,
          5227323392,
          5227100160,
          5226959360
         ]
        },
        {
         "line": {
          "color": "red",
          "width": 2
         },
         "mode": "lines+markers",
         "name": "Validation LOSS",
         "type": "scatter",
         "x": [
          1,
          2,
          3,
          4,
          5,
          6,
          7,
          8,
          9,
          10,
          11,
          12,
          13,
          14,
          15,
          16,
          17,
          18,
          19,
          20,
          21,
          22,
          23,
          24,
          25,
          26,
          27,
          28,
          29,
          30
         ],
         "y": [
          5803902464,
          5776470528,
          5738109952,
          5690352128,
          5634845184,
          5572010496,
          5504621056,
          5433366528,
          5359461376,
          5285224448,
          5213700608,
          5143400448,
          5079216128,
          5020048384,
          4968999936,
          4926605312,
          4892440064,
          4865163264,
          4845468160,
          4833150464,
          4825100288,
          4819242496,
          4816044544,
          4814125568,
          4813134848,
          4812582912,
          4812274176,
          4812149760,
          4812105216,
          4812096000
         ]
        }
       ],
       "layout": {
        "annotations": [
         {
          "showarrow": false,
          "text": "Mejor época: 30",
          "x": 30,
          "xanchor": "left",
          "xref": "x",
          "y": 1,
          "yanchor": "top",
          "yref": "y domain"
         }
        ],
        "legend": {
         "x": 0.01,
         "xanchor": "left",
         "y": 0.99,
         "yanchor": "top"
        },
        "shapes": [
         {
          "line": {
           "color": "green",
           "dash": "dash",
           "width": 1
          },
          "type": "line",
          "x0": 30,
          "x1": 30,
          "xref": "x",
          "y0": 0,
          "y1": 1,
          "yref": "y domain"
         }
        ],
        "template": {
         "data": {
          "bar": [
           {
            "error_x": {
             "color": "#2a3f5f"
            },
            "error_y": {
             "color": "#2a3f5f"
            },
            "marker": {
             "line": {
              "color": "#E5ECF6",
              "width": 0.5
             },
             "pattern": {
              "fillmode": "overlay",
              "size": 10,
              "solidity": 0.2
             }
            },
            "type": "bar"
           }
          ],
          "barpolar": [
           {
            "marker": {
             "line": {
              "color": "#E5ECF6",
              "width": 0.5
             },
             "pattern": {
              "fillmode": "overlay",
              "size": 10,
              "solidity": 0.2
             }
            },
            "type": "barpolar"
           }
          ],
          "carpet": [
           {
            "aaxis": {
             "endlinecolor": "#2a3f5f",
             "gridcolor": "white",
             "linecolor": "white",
             "minorgridcolor": "white",
             "startlinecolor": "#2a3f5f"
            },
            "baxis": {
             "endlinecolor": "#2a3f5f",
             "gridcolor": "white",
             "linecolor": "white",
             "minorgridcolor": "white",
             "startlinecolor": "#2a3f5f"
            },
            "type": "carpet"
           }
          ],
          "choropleth": [
           {
            "colorbar": {
             "outlinewidth": 0,
             "ticks": ""
            },
            "type": "choropleth"
           }
          ],
          "contour": [
           {
            "colorbar": {
             "outlinewidth": 0,
             "ticks": ""
            },
            "colorscale": [
             [
              0,
              "#0d0887"
             ],
             [
              0.1111111111111111,
              "#46039f"
             ],
             [
              0.2222222222222222,
              "#7201a8"
             ],
             [
              0.3333333333333333,
              "#9c179e"
             ],
             [
              0.4444444444444444,
              "#bd3786"
             ],
             [
              0.5555555555555556,
              "#d8576b"
             ],
             [
              0.6666666666666666,
              "#ed7953"
             ],
             [
              0.7777777777777778,
              "#fb9f3a"
             ],
             [
              0.8888888888888888,
              "#fdca26"
             ],
             [
              1,
              "#f0f921"
             ]
            ],
            "type": "contour"
           }
          ],
          "contourcarpet": [
           {
            "colorbar": {
             "outlinewidth": 0,
             "ticks": ""
            },
            "type": "contourcarpet"
           }
          ],
          "heatmap": [
           {
            "colorbar": {
             "outlinewidth": 0,
             "ticks": ""
            },
            "colorscale": [
             [
              0,
              "#0d0887"
             ],
             [
              0.1111111111111111,
              "#46039f"
             ],
             [
              0.2222222222222222,
              "#7201a8"
             ],
             [
              0.3333333333333333,
              "#9c179e"
             ],
             [
              0.4444444444444444,
              "#bd3786"
             ],
             [
              0.5555555555555556,
              "#d8576b"
             ],
             [
              0.6666666666666666,
              "#ed7953"
             ],
             [
              0.7777777777777778,
              "#fb9f3a"
             ],
             [
              0.8888888888888888,
              "#fdca26"
             ],
             [
              1,
              "#f0f921"
             ]
            ],
            "type": "heatmap"
           }
          ],
          "histogram": [
           {
            "marker": {
             "pattern": {
              "fillmode": "overlay",
              "size": 10,
              "solidity": 0.2
             }
            },
            "type": "histogram"
           }
          ],
          "histogram2d": [
           {
            "colorbar": {
             "outlinewidth": 0,
             "ticks": ""
            },
            "colorscale": [
             [
              0,
              "#0d0887"
             ],
             [
              0.1111111111111111,
              "#46039f"
             ],
             [
              0.2222222222222222,
              "#7201a8"
             ],
             [
              0.3333333333333333,
              "#9c179e"
             ],
             [
              0.4444444444444444,
              "#bd3786"
             ],
             [
              0.5555555555555556,
              "#d8576b"
             ],
             [
              0.6666666666666666,
              "#ed7953"
             ],
             [
              0.7777777777777778,
              "#fb9f3a"
             ],
             [
              0.8888888888888888,
              "#fdca26"
             ],
             [
              1,
              "#f0f921"
             ]
            ],
            "type": "histogram2d"
           }
          ],
          "histogram2dcontour": [
           {
            "colorbar": {
             "outlinewidth": 0,
             "ticks": ""
            },
            "colorscale": [
             [
              0,
              "#0d0887"
             ],
             [
              0.1111111111111111,
              "#46039f"
             ],
             [
              0.2222222222222222,
              "#7201a8"
             ],
             [
              0.3333333333333333,
              "#9c179e"
             ],
             [
              0.4444444444444444,
              "#bd3786"
             ],
             [
              0.5555555555555556,
              "#d8576b"
             ],
             [
              0.6666666666666666,
              "#ed7953"
             ],
             [
              0.7777777777777778,
              "#fb9f3a"
             ],
             [
              0.8888888888888888,
              "#fdca26"
             ],
             [
              1,
              "#f0f921"
             ]
            ],
            "type": "histogram2dcontour"
           }
          ],
          "mesh3d": [
           {
            "colorbar": {
             "outlinewidth": 0,
             "ticks": ""
            },
            "type": "mesh3d"
           }
          ],
          "parcoords": [
           {
            "line": {
             "colorbar": {
              "outlinewidth": 0,
              "ticks": ""
             }
            },
            "type": "parcoords"
           }
          ],
          "pie": [
           {
            "automargin": true,
            "type": "pie"
           }
          ],
          "scatter": [
           {
            "fillpattern": {
             "fillmode": "overlay",
             "size": 10,
             "solidity": 0.2
            },
            "type": "scatter"
           }
          ],
          "scatter3d": [
           {
            "line": {
             "colorbar": {
              "outlinewidth": 0,
              "ticks": ""
             }
            },
            "marker": {
             "colorbar": {
              "outlinewidth": 0,
              "ticks": ""
             }
            },
            "type": "scatter3d"
           }
          ],
          "scattercarpet": [
           {
            "marker": {
             "colorbar": {
              "outlinewidth": 0,
              "ticks": ""
             }
            },
            "type": "scattercarpet"
           }
          ],
          "scattergeo": [
           {
            "marker": {
             "colorbar": {
              "outlinewidth": 0,
              "ticks": ""
             }
            },
            "type": "scattergeo"
           }
          ],
          "scattergl": [
           {
            "marker": {
             "colorbar": {
              "outlinewidth": 0,
              "ticks": ""
             }
            },
            "type": "scattergl"
           }
          ],
          "scattermap": [
           {
            "marker": {
             "colorbar": {
              "outlinewidth": 0,
              "ticks": ""
             }
            },
            "type": "scattermap"
           }
          ],
          "scattermapbox": [
           {
            "marker": {
             "colorbar": {
              "outlinewidth": 0,
              "ticks": ""
             }
            },
            "type": "scattermapbox"
           }
          ],
          "scatterpolar": [
           {
            "marker": {
             "colorbar": {
              "outlinewidth": 0,
              "ticks": ""
             }
            },
            "type": "scatterpolar"
           }
          ],
          "scatterpolargl": [
           {
            "marker": {
             "colorbar": {
              "outlinewidth": 0,
              "ticks": ""
             }
            },
            "type": "scatterpolargl"
           }
          ],
          "scatterternary": [
           {
            "marker": {
             "colorbar": {
              "outlinewidth": 0,
              "ticks": ""
             }
            },
            "type": "scatterternary"
           }
          ],
          "surface": [
           {
            "colorbar": {
             "outlinewidth": 0,
             "ticks": ""
            },
            "colorscale": [
             [
              0,
              "#0d0887"
             ],
             [
              0.1111111111111111,
              "#46039f"
             ],
             [
              0.2222222222222222,
              "#7201a8"
             ],
             [
              0.3333333333333333,
              "#9c179e"
             ],
             [
              0.4444444444444444,
              "#bd3786"
             ],
             [
              0.5555555555555556,
              "#d8576b"
             ],
             [
              0.6666666666666666,
              "#ed7953"
             ],
             [
              0.7777777777777778,
              "#fb9f3a"
             ],
             [
              0.8888888888888888,
              "#fdca26"
             ],
             [
              1,
              "#f0f921"
             ]
            ],
            "type": "surface"
           }
          ],
          "table": [
           {
            "cells": {
             "fill": {
              "color": "#EBF0F8"
             },
             "line": {
              "color": "white"
             }
            },
            "header": {
             "fill": {
              "color": "#C8D4E3"
             },
             "line": {
              "color": "white"
             }
            },
            "type": "table"
           }
          ]
         },
         "layout": {
          "annotationdefaults": {
           "arrowcolor": "#2a3f5f",
           "arrowhead": 0,
           "arrowwidth": 1
          },
          "autotypenumbers": "strict",
          "coloraxis": {
           "colorbar": {
            "outlinewidth": 0,
            "ticks": ""
           }
          },
          "colorscale": {
           "diverging": [
            [
             0,
             "#8e0152"
            ],
            [
             0.1,
             "#c51b7d"
            ],
            [
             0.2,
             "#de77ae"
            ],
            [
             0.3,
             "#f1b6da"
            ],
            [
             0.4,
             "#fde0ef"
            ],
            [
             0.5,
             "#f7f7f7"
            ],
            [
             0.6,
             "#e6f5d0"
            ],
            [
             0.7,
             "#b8e186"
            ],
            [
             0.8,
             "#7fbc41"
            ],
            [
             0.9,
             "#4d9221"
            ],
            [
             1,
             "#276419"
            ]
           ],
           "sequential": [
            [
             0,
             "#0d0887"
            ],
            [
             0.1111111111111111,
             "#46039f"
            ],
            [
             0.2222222222222222,
             "#7201a8"
            ],
            [
             0.3333333333333333,
             "#9c179e"
            ],
            [
             0.4444444444444444,
             "#bd3786"
            ],
            [
             0.5555555555555556,
             "#d8576b"
            ],
            [
             0.6666666666666666,
             "#ed7953"
            ],
            [
             0.7777777777777778,
             "#fb9f3a"
            ],
            [
             0.8888888888888888,
             "#fdca26"
            ],
            [
             1,
             "#f0f921"
            ]
           ],
           "sequentialminus": [
            [
             0,
             "#0d0887"
            ],
            [
             0.1111111111111111,
             "#46039f"
            ],
            [
             0.2222222222222222,
             "#7201a8"
            ],
            [
             0.3333333333333333,
             "#9c179e"
            ],
            [
             0.4444444444444444,
             "#bd3786"
            ],
            [
             0.5555555555555556,
             "#d8576b"
            ],
            [
             0.6666666666666666,
             "#ed7953"
            ],
            [
             0.7777777777777778,
             "#fb9f3a"
            ],
            [
             0.8888888888888888,
             "#fdca26"
            ],
            [
             1,
             "#f0f921"
            ]
           ]
          },
          "colorway": [
           "#636efa",
           "#EF553B",
           "#00cc96",
           "#ab63fa",
           "#FFA15A",
           "#19d3f3",
           "#FF6692",
           "#B6E880",
           "#FF97FF",
           "#FECB52"
          ],
          "font": {
           "color": "#2a3f5f"
          },
          "geo": {
           "bgcolor": "white",
           "lakecolor": "white",
           "landcolor": "#E5ECF6",
           "showlakes": true,
           "showland": true,
           "subunitcolor": "white"
          },
          "hoverlabel": {
           "align": "left"
          },
          "hovermode": "closest",
          "mapbox": {
           "style": "light"
          },
          "paper_bgcolor": "white",
          "plot_bgcolor": "#E5ECF6",
          "polar": {
           "angularaxis": {
            "gridcolor": "white",
            "linecolor": "white",
            "ticks": ""
           },
           "bgcolor": "#E5ECF6",
           "radialaxis": {
            "gridcolor": "white",
            "linecolor": "white",
            "ticks": ""
           }
          },
          "scene": {
           "xaxis": {
            "backgroundcolor": "#E5ECF6",
            "gridcolor": "white",
            "gridwidth": 2,
            "linecolor": "white",
            "showbackground": true,
            "ticks": "",
            "zerolinecolor": "white"
           },
           "yaxis": {
            "backgroundcolor": "#E5ECF6",
            "gridcolor": "white",
            "gridwidth": 2,
            "linecolor": "white",
            "showbackground": true,
            "ticks": "",
            "zerolinecolor": "white"
           },
           "zaxis": {
            "backgroundcolor": "#E5ECF6",
            "gridcolor": "white",
            "gridwidth": 2,
            "linecolor": "white",
            "showbackground": true,
            "ticks": "",
            "zerolinecolor": "white"
           }
          },
          "shapedefaults": {
           "line": {
            "color": "#2a3f5f"
           }
          },
          "ternary": {
           "aaxis": {
            "gridcolor": "white",
            "linecolor": "white",
            "ticks": ""
           },
           "baxis": {
            "gridcolor": "white",
            "linecolor": "white",
            "ticks": ""
           },
           "bgcolor": "#E5ECF6",
           "caxis": {
            "gridcolor": "white",
            "linecolor": "white",
            "ticks": ""
           }
          },
          "title": {
           "x": 0.05
          },
          "xaxis": {
           "automargin": true,
           "gridcolor": "white",
           "linecolor": "white",
           "ticks": "",
           "title": {
            "standoff": 15
           },
           "zerolinecolor": "white",
           "zerolinewidth": 2
          },
          "yaxis": {
           "automargin": true,
           "gridcolor": "white",
           "linecolor": "white",
           "ticks": "",
           "title": {
            "standoff": 15
           },
           "zerolinecolor": "white",
           "zerolinewidth": 2
          }
         }
        },
        "yaxis": {
         "range": [
          4330886400,
          6879205273.6
         ]
        }
       }
      }
     },
     "metadata": {},
     "output_type": "display_data"
    }
   ],
   "source": [
    "# Extracción de métricas (como ya lo tienes)\n",
    "loss = history.history.get('loss', [])\n",
    "val_loss = history.history.get('val_loss', [])\n",
    "mse = history.history.get('mse', [])\n",
    "val_mse = history.history.get('val_mse', [])\n",
    "epochs = list(range(1, len(loss) + 1))\n",
    "\n",
    "# Función mejorada para graficar (versión más robusta)\n",
    "def plot_training_metrics(history, metrics=['loss', 'mse']):\n",
    "    \"\"\"Visualiza múltiples métricas de entrenamiento\"\"\"\n",
    "    figures = []\n",
    "    \n",
    "    for metric_name in metrics:\n",
    "        # Manejo flexible de nombres de métricas\n",
    "        possible_names = [metric_name, f'val_{metric_name}', \n",
    "                         metric_name.lower(), f'val_{metric_name.lower()}']\n",
    "        \n",
    "        # Buscar la métrica en el historial\n",
    "        actual_name = None\n",
    "        for name in possible_names:\n",
    "            if name in history.history:\n",
    "                actual_name = name.replace('val_', '')\n",
    "                break\n",
    "        \n",
    "        \n",
    "            \n",
    "        # Obtener datos\n",
    "        train_metric = history.history[actual_name]\n",
    "        val_metric = history.history[f'val_{actual_name}']\n",
    "        epochs = list(range(1, len(train_metric) + 1))\n",
    "        \n",
    "        # Crear figura\n",
    "        fig = go.Figure()\n",
    "        \n",
    "        # Añadir trazas\n",
    "        fig.add_trace(go.Scatter(\n",
    "            x=epochs, y=train_metric,\n",
    "            mode='lines+markers',\n",
    "            name=f'Train {actual_name.upper()}',\n",
    "            line=dict(color='blue', width=2)\n",
    "        ))\n",
    "        \n",
    "        fig.add_trace(go.Scatter(\n",
    "            x=epochs, y=val_metric,\n",
    "            mode='lines+markers',\n",
    "            name=f'Validation {actual_name.upper()}',\n",
    "            line=dict(color='red', width=2)\n",
    "        ))\n",
    "        \n",
    "        # Encontrar y marcar la mejor época\n",
    "        best_epoch = np.argmin(val_metric) + 1\n",
    "        best_value = val_metric[best_epoch-1]\n",
    "        \n",
    "        fig.add_vline(\n",
    "            x=best_epoch,\n",
    "            line=dict(color=\"green\", dash=\"dash\", width=1),\n",
    "            annotation_text=f'Mejor época: {best_epoch}',\n",
    "            annotation_position=\"top right\"\n",
    "        )\n",
    "        fig.update_layout(\n",
    "        yaxis=dict(range=[min(min(train_metric), min(val_metric)) * 0.9, \n",
    "               max(max(train_metric), max(val_metric)) * 1.1]),\n",
    "        legend=dict(\n",
    "        yanchor=\"top\",\n",
    "        y=0.99,\n",
    "        xanchor=\"left\",\n",
    "        x=0.01\n",
    "    )\n",
    ")\n",
    "        \n",
    "        figures.append(fig)\n",
    "    \n",
    "    return figures\n",
    "\n",
    "# Uso: Visualizar MSE y Loss\n",
    "figures = plot_training_metrics(history, metrics=['loss'])\n",
    "\n",
    "# Mostrar figuras\n",
    "for fig in figures:\n",
    "    fig.show()"
   ]
  },
  {
   "cell_type": "code",
   "execution_count": 166,
   "id": "7f43d7c8",
   "metadata": {},
   "outputs": [
    {
     "data": {
      "application/vnd.plotly.v1+json": {
       "config": {
        "plotlyServerURL": "https://plot.ly"
       },
       "data": [
        {
         "line": {
          "color": "#FF7F0E",
          "width": 3
         },
         "marker": {
          "size": 8
         },
         "mode": "lines+markers",
         "name": "Validation Loss",
         "type": "scatter",
         "x": [
          1,
          2,
          3,
          4,
          5,
          6,
          7,
          8,
          9,
          10,
          11,
          12,
          13,
          14,
          15,
          16,
          17,
          18,
          19,
          20,
          21,
          22,
          23,
          24,
          25,
          26,
          27,
          28,
          29,
          30
         ],
         "xaxis": "x",
         "y": [
          5803902464,
          5776470528,
          5738109952,
          5690352128,
          5634845184,
          5572010496,
          5504621056,
          5433366528,
          5359461376,
          5285224448,
          5213700608,
          5143400448,
          5079216128,
          5020048384,
          4968999936,
          4926605312,
          4892440064,
          4865163264,
          4845468160,
          4833150464,
          4825100288,
          4819242496,
          4816044544,
          4814125568,
          4813134848,
          4812582912,
          4812274176,
          4812149760,
          4812105216,
          4812096000
         ],
         "yaxis": "y"
        },
        {
         "line": {
          "color": "#1F77B4",
          "width": 3
         },
         "marker": {
          "size": 8
         },
         "mode": "lines+markers",
         "name": "Validation MAE",
         "type": "scatter",
         "x": [
          1,
          2,
          3,
          4,
          5,
          6,
          7,
          8,
          9,
          10,
          11,
          12,
          13,
          14,
          15,
          16,
          17,
          18,
          19,
          20,
          21,
          22,
          23,
          24,
          25,
          26,
          27,
          28,
          29,
          30
         ],
         "xaxis": "x2",
         "y": [
          31492.921875,
          31054.5078125,
          30430.5859375,
          29635.701171875,
          28685.921875,
          27576.54296875,
          26347.8984375,
          25002.3671875,
          23563.0703125,
          22092.62890625,
          20707.06640625,
          19424.75,
          18400.11328125,
          17654.6953125,
          17268.240234375,
          17220.62890625,
          17425.9921875,
          17808.458984375,
          18290.83984375,
          18760.689453125,
          19196.71875,
          19647.32421875,
          20001.890625,
          20303.69140625,
          20527.0234375,
          20707.642578125,
          20866.884765625,
          20974.416015625,
          21059.2421875,
          21126.80078125
         ],
         "yaxis": "y2"
        }
       ],
       "layout": {
        "annotations": [
         {
          "font": {
           "size": 16
          },
          "showarrow": false,
          "text": "Validation Loss",
          "x": 0.5,
          "xanchor": "center",
          "xref": "paper",
          "y": 1,
          "yanchor": "bottom",
          "yref": "paper"
         },
         {
          "font": {
           "size": 16
          },
          "showarrow": false,
          "text": "Validation MAE",
          "x": 0.5,
          "xanchor": "center",
          "xref": "paper",
          "y": 0.425,
          "yanchor": "bottom",
          "yref": "paper"
         },
         {
          "arrowhead": 1,
          "ax": 0,
          "ay": -40,
          "showarrow": true,
          "text": "Mejor Loss: 4812096000.00",
          "x": 30,
          "xref": "x",
          "y": 5803902464,
          "yref": "y"
         },
         {
          "arrowhead": 1,
          "ax": 0,
          "ay": -40,
          "showarrow": true,
          "text": "Mejor MAE: 17220.63",
          "x": 16,
          "xref": "x2",
          "y": 31492.921875,
          "yref": "y2"
         }
        ],
        "height": 800,
        "hovermode": "x unified",
        "margin": {
         "b": 80,
         "t": 100
        },
        "shapes": [
         {
          "line": {
           "color": "#FF7F0E",
           "dash": "dash"
          },
          "type": "line",
          "x0": 30,
          "x1": 30,
          "xref": "x",
          "y0": 0,
          "y1": 1,
          "yref": "y domain"
         },
         {
          "line": {
           "color": "#1F77B4",
           "dash": "dash"
          },
          "type": "line",
          "x0": 16,
          "x1": 16,
          "xref": "x2",
          "y0": 0,
          "y1": 1,
          "yref": "y2 domain"
         }
        ],
        "showlegend": false,
        "template": {
         "data": {
          "bar": [
           {
            "error_x": {
             "color": "#2a3f5f"
            },
            "error_y": {
             "color": "#2a3f5f"
            },
            "marker": {
             "line": {
              "color": "white",
              "width": 0.5
             },
             "pattern": {
              "fillmode": "overlay",
              "size": 10,
              "solidity": 0.2
             }
            },
            "type": "bar"
           }
          ],
          "barpolar": [
           {
            "marker": {
             "line": {
              "color": "white",
              "width": 0.5
             },
             "pattern": {
              "fillmode": "overlay",
              "size": 10,
              "solidity": 0.2
             }
            },
            "type": "barpolar"
           }
          ],
          "carpet": [
           {
            "aaxis": {
             "endlinecolor": "#2a3f5f",
             "gridcolor": "#C8D4E3",
             "linecolor": "#C8D4E3",
             "minorgridcolor": "#C8D4E3",
             "startlinecolor": "#2a3f5f"
            },
            "baxis": {
             "endlinecolor": "#2a3f5f",
             "gridcolor": "#C8D4E3",
             "linecolor": "#C8D4E3",
             "minorgridcolor": "#C8D4E3",
             "startlinecolor": "#2a3f5f"
            },
            "type": "carpet"
           }
          ],
          "choropleth": [
           {
            "colorbar": {
             "outlinewidth": 0,
             "ticks": ""
            },
            "type": "choropleth"
           }
          ],
          "contour": [
           {
            "colorbar": {
             "outlinewidth": 0,
             "ticks": ""
            },
            "colorscale": [
             [
              0,
              "#0d0887"
             ],
             [
              0.1111111111111111,
              "#46039f"
             ],
             [
              0.2222222222222222,
              "#7201a8"
             ],
             [
              0.3333333333333333,
              "#9c179e"
             ],
             [
              0.4444444444444444,
              "#bd3786"
             ],
             [
              0.5555555555555556,
              "#d8576b"
             ],
             [
              0.6666666666666666,
              "#ed7953"
             ],
             [
              0.7777777777777778,
              "#fb9f3a"
             ],
             [
              0.8888888888888888,
              "#fdca26"
             ],
             [
              1,
              "#f0f921"
             ]
            ],
            "type": "contour"
           }
          ],
          "contourcarpet": [
           {
            "colorbar": {
             "outlinewidth": 0,
             "ticks": ""
            },
            "type": "contourcarpet"
           }
          ],
          "heatmap": [
           {
            "colorbar": {
             "outlinewidth": 0,
             "ticks": ""
            },
            "colorscale": [
             [
              0,
              "#0d0887"
             ],
             [
              0.1111111111111111,
              "#46039f"
             ],
             [
              0.2222222222222222,
              "#7201a8"
             ],
             [
              0.3333333333333333,
              "#9c179e"
             ],
             [
              0.4444444444444444,
              "#bd3786"
             ],
             [
              0.5555555555555556,
              "#d8576b"
             ],
             [
              0.6666666666666666,
              "#ed7953"
             ],
             [
              0.7777777777777778,
              "#fb9f3a"
             ],
             [
              0.8888888888888888,
              "#fdca26"
             ],
             [
              1,
              "#f0f921"
             ]
            ],
            "type": "heatmap"
           }
          ],
          "histogram": [
           {
            "marker": {
             "pattern": {
              "fillmode": "overlay",
              "size": 10,
              "solidity": 0.2
             }
            },
            "type": "histogram"
           }
          ],
          "histogram2d": [
           {
            "colorbar": {
             "outlinewidth": 0,
             "ticks": ""
            },
            "colorscale": [
             [
              0,
              "#0d0887"
             ],
             [
              0.1111111111111111,
              "#46039f"
             ],
             [
              0.2222222222222222,
              "#7201a8"
             ],
             [
              0.3333333333333333,
              "#9c179e"
             ],
             [
              0.4444444444444444,
              "#bd3786"
             ],
             [
              0.5555555555555556,
              "#d8576b"
             ],
             [
              0.6666666666666666,
              "#ed7953"
             ],
             [
              0.7777777777777778,
              "#fb9f3a"
             ],
             [
              0.8888888888888888,
              "#fdca26"
             ],
             [
              1,
              "#f0f921"
             ]
            ],
            "type": "histogram2d"
           }
          ],
          "histogram2dcontour": [
           {
            "colorbar": {
             "outlinewidth": 0,
             "ticks": ""
            },
            "colorscale": [
             [
              0,
              "#0d0887"
             ],
             [
              0.1111111111111111,
              "#46039f"
             ],
             [
              0.2222222222222222,
              "#7201a8"
             ],
             [
              0.3333333333333333,
              "#9c179e"
             ],
             [
              0.4444444444444444,
              "#bd3786"
             ],
             [
              0.5555555555555556,
              "#d8576b"
             ],
             [
              0.6666666666666666,
              "#ed7953"
             ],
             [
              0.7777777777777778,
              "#fb9f3a"
             ],
             [
              0.8888888888888888,
              "#fdca26"
             ],
             [
              1,
              "#f0f921"
             ]
            ],
            "type": "histogram2dcontour"
           }
          ],
          "mesh3d": [
           {
            "colorbar": {
             "outlinewidth": 0,
             "ticks": ""
            },
            "type": "mesh3d"
           }
          ],
          "parcoords": [
           {
            "line": {
             "colorbar": {
              "outlinewidth": 0,
              "ticks": ""
             }
            },
            "type": "parcoords"
           }
          ],
          "pie": [
           {
            "automargin": true,
            "type": "pie"
           }
          ],
          "scatter": [
           {
            "fillpattern": {
             "fillmode": "overlay",
             "size": 10,
             "solidity": 0.2
            },
            "type": "scatter"
           }
          ],
          "scatter3d": [
           {
            "line": {
             "colorbar": {
              "outlinewidth": 0,
              "ticks": ""
             }
            },
            "marker": {
             "colorbar": {
              "outlinewidth": 0,
              "ticks": ""
             }
            },
            "type": "scatter3d"
           }
          ],
          "scattercarpet": [
           {
            "marker": {
             "colorbar": {
              "outlinewidth": 0,
              "ticks": ""
             }
            },
            "type": "scattercarpet"
           }
          ],
          "scattergeo": [
           {
            "marker": {
             "colorbar": {
              "outlinewidth": 0,
              "ticks": ""
             }
            },
            "type": "scattergeo"
           }
          ],
          "scattergl": [
           {
            "marker": {
             "colorbar": {
              "outlinewidth": 0,
              "ticks": ""
             }
            },
            "type": "scattergl"
           }
          ],
          "scattermap": [
           {
            "marker": {
             "colorbar": {
              "outlinewidth": 0,
              "ticks": ""
             }
            },
            "type": "scattermap"
           }
          ],
          "scattermapbox": [
           {
            "marker": {
             "colorbar": {
              "outlinewidth": 0,
              "ticks": ""
             }
            },
            "type": "scattermapbox"
           }
          ],
          "scatterpolar": [
           {
            "marker": {
             "colorbar": {
              "outlinewidth": 0,
              "ticks": ""
             }
            },
            "type": "scatterpolar"
           }
          ],
          "scatterpolargl": [
           {
            "marker": {
             "colorbar": {
              "outlinewidth": 0,
              "ticks": ""
             }
            },
            "type": "scatterpolargl"
           }
          ],
          "scatterternary": [
           {
            "marker": {
             "colorbar": {
              "outlinewidth": 0,
              "ticks": ""
             }
            },
            "type": "scatterternary"
           }
          ],
          "surface": [
           {
            "colorbar": {
             "outlinewidth": 0,
             "ticks": ""
            },
            "colorscale": [
             [
              0,
              "#0d0887"
             ],
             [
              0.1111111111111111,
              "#46039f"
             ],
             [
              0.2222222222222222,
              "#7201a8"
             ],
             [
              0.3333333333333333,
              "#9c179e"
             ],
             [
              0.4444444444444444,
              "#bd3786"
             ],
             [
              0.5555555555555556,
              "#d8576b"
             ],
             [
              0.6666666666666666,
              "#ed7953"
             ],
             [
              0.7777777777777778,
              "#fb9f3a"
             ],
             [
              0.8888888888888888,
              "#fdca26"
             ],
             [
              1,
              "#f0f921"
             ]
            ],
            "type": "surface"
           }
          ],
          "table": [
           {
            "cells": {
             "fill": {
              "color": "#EBF0F8"
             },
             "line": {
              "color": "white"
             }
            },
            "header": {
             "fill": {
              "color": "#C8D4E3"
             },
             "line": {
              "color": "white"
             }
            },
            "type": "table"
           }
          ]
         },
         "layout": {
          "annotationdefaults": {
           "arrowcolor": "#2a3f5f",
           "arrowhead": 0,
           "arrowwidth": 1
          },
          "autotypenumbers": "strict",
          "coloraxis": {
           "colorbar": {
            "outlinewidth": 0,
            "ticks": ""
           }
          },
          "colorscale": {
           "diverging": [
            [
             0,
             "#8e0152"
            ],
            [
             0.1,
             "#c51b7d"
            ],
            [
             0.2,
             "#de77ae"
            ],
            [
             0.3,
             "#f1b6da"
            ],
            [
             0.4,
             "#fde0ef"
            ],
            [
             0.5,
             "#f7f7f7"
            ],
            [
             0.6,
             "#e6f5d0"
            ],
            [
             0.7,
             "#b8e186"
            ],
            [
             0.8,
             "#7fbc41"
            ],
            [
             0.9,
             "#4d9221"
            ],
            [
             1,
             "#276419"
            ]
           ],
           "sequential": [
            [
             0,
             "#0d0887"
            ],
            [
             0.1111111111111111,
             "#46039f"
            ],
            [
             0.2222222222222222,
             "#7201a8"
            ],
            [
             0.3333333333333333,
             "#9c179e"
            ],
            [
             0.4444444444444444,
             "#bd3786"
            ],
            [
             0.5555555555555556,
             "#d8576b"
            ],
            [
             0.6666666666666666,
             "#ed7953"
            ],
            [
             0.7777777777777778,
             "#fb9f3a"
            ],
            [
             0.8888888888888888,
             "#fdca26"
            ],
            [
             1,
             "#f0f921"
            ]
           ],
           "sequentialminus": [
            [
             0,
             "#0d0887"
            ],
            [
             0.1111111111111111,
             "#46039f"
            ],
            [
             0.2222222222222222,
             "#7201a8"
            ],
            [
             0.3333333333333333,
             "#9c179e"
            ],
            [
             0.4444444444444444,
             "#bd3786"
            ],
            [
             0.5555555555555556,
             "#d8576b"
            ],
            [
             0.6666666666666666,
             "#ed7953"
            ],
            [
             0.7777777777777778,
             "#fb9f3a"
            ],
            [
             0.8888888888888888,
             "#fdca26"
            ],
            [
             1,
             "#f0f921"
            ]
           ]
          },
          "colorway": [
           "#636efa",
           "#EF553B",
           "#00cc96",
           "#ab63fa",
           "#FFA15A",
           "#19d3f3",
           "#FF6692",
           "#B6E880",
           "#FF97FF",
           "#FECB52"
          ],
          "font": {
           "color": "#2a3f5f"
          },
          "geo": {
           "bgcolor": "white",
           "lakecolor": "white",
           "landcolor": "white",
           "showlakes": true,
           "showland": true,
           "subunitcolor": "#C8D4E3"
          },
          "hoverlabel": {
           "align": "left"
          },
          "hovermode": "closest",
          "mapbox": {
           "style": "light"
          },
          "paper_bgcolor": "white",
          "plot_bgcolor": "white",
          "polar": {
           "angularaxis": {
            "gridcolor": "#EBF0F8",
            "linecolor": "#EBF0F8",
            "ticks": ""
           },
           "bgcolor": "white",
           "radialaxis": {
            "gridcolor": "#EBF0F8",
            "linecolor": "#EBF0F8",
            "ticks": ""
           }
          },
          "scene": {
           "xaxis": {
            "backgroundcolor": "white",
            "gridcolor": "#DFE8F3",
            "gridwidth": 2,
            "linecolor": "#EBF0F8",
            "showbackground": true,
            "ticks": "",
            "zerolinecolor": "#EBF0F8"
           },
           "yaxis": {
            "backgroundcolor": "white",
            "gridcolor": "#DFE8F3",
            "gridwidth": 2,
            "linecolor": "#EBF0F8",
            "showbackground": true,
            "ticks": "",
            "zerolinecolor": "#EBF0F8"
           },
           "zaxis": {
            "backgroundcolor": "white",
            "gridcolor": "#DFE8F3",
            "gridwidth": 2,
            "linecolor": "#EBF0F8",
            "showbackground": true,
            "ticks": "",
            "zerolinecolor": "#EBF0F8"
           }
          },
          "shapedefaults": {
           "line": {
            "color": "#2a3f5f"
           }
          },
          "ternary": {
           "aaxis": {
            "gridcolor": "#DFE8F3",
            "linecolor": "#A2B1C6",
            "ticks": ""
           },
           "baxis": {
            "gridcolor": "#DFE8F3",
            "linecolor": "#A2B1C6",
            "ticks": ""
           },
           "bgcolor": "white",
           "caxis": {
            "gridcolor": "#DFE8F3",
            "linecolor": "#A2B1C6",
            "ticks": ""
           }
          },
          "title": {
           "x": 0.05
          },
          "xaxis": {
           "automargin": true,
           "gridcolor": "#EBF0F8",
           "linecolor": "#EBF0F8",
           "ticks": "",
           "title": {
            "standoff": 15
           },
           "zerolinecolor": "#EBF0F8",
           "zerolinewidth": 2
          },
          "yaxis": {
           "automargin": true,
           "gridcolor": "#EBF0F8",
           "linecolor": "#EBF0F8",
           "ticks": "",
           "title": {
            "standoff": 15
           },
           "zerolinecolor": "#EBF0F8",
           "zerolinewidth": 2
          }
         }
        },
        "title": {
         "font": {
          "size": 20
         },
         "text": "<b>Métricas de Validación durante el Entrenamiento</b>",
         "x": 0.5
        },
        "width": 1000,
        "xaxis": {
         "anchor": "y",
         "domain": [
          0,
          1
         ]
        },
        "xaxis2": {
         "anchor": "y2",
         "domain": [
          0,
          1
         ],
         "title": {
          "text": "Épocas"
         }
        },
        "yaxis": {
         "anchor": "x",
         "domain": [
          0.575,
          1
         ],
         "title": {
          "text": "Loss"
         }
        },
        "yaxis2": {
         "anchor": "x2",
         "domain": [
          0,
          0.425
         ],
         "title": {
          "text": "MAE"
         }
        }
       }
      }
     },
     "metadata": {},
     "output_type": "display_data"
    }
   ],
   "source": [
    "def plot_validation_metrics(history):\n",
    "    # Verificar que las métricas existan\n",
    "    if not all(metric in history.history for metric in ['val_loss', 'val_mae']):\n",
    "        raise ValueError(\"Faltan métricas en el historial. Asegúrate de incluir 'loss' y 'mae' en model.compile()\")\n",
    "\n",
    "    epochs = list(range(1, len(history.history['val_loss']) + 1))\n",
    "    val_loss = history.history['val_loss']\n",
    "    val_mae = history.history['val_mae']\n",
    "   \n",
    "    fig = make_subplots(rows=2, cols=1, \n",
    "                       subplot_titles=('Validation Loss', 'Validation MAE'),\n",
    "                       vertical_spacing=0.15)\n",
    "    fig.add_trace(\n",
    "        go.Scatter(x=epochs, y=val_loss, \n",
    "                  mode='lines+markers',\n",
    "                  name='Validation Loss',\n",
    "                  line=dict(color='#FF7F0E', width=3),\n",
    "                  marker=dict(size=8)),\n",
    "        row=1, col=1\n",
    "    )\n",
    "    # Gráfico de Validation MAE\n",
    "    fig.add_trace(\n",
    "        go.Scatter(x=epochs, y=val_mae,\n",
    "                  mode='lines+markers',\n",
    "                  name='Validation MAE',\n",
    "                  line=dict(color='#1F77B4', width=3),\n",
    "                  marker=dict(size=8)),\n",
    "        row=2, col=1\n",
    "    )\n",
    "    \n",
    "    # Encontrar y marcar las mejores épocas\n",
    "    best_loss_epoch = np.argmin(val_loss) + 1\n",
    "    best_mae_epoch = np.argmin(val_mae) + 1\n",
    "    fig.add_vline(x=best_loss_epoch, line=dict(color='#FF7F0E', dash='dash'),\n",
    "                 row=1, col=1)\n",
    "    fig.add_vline(x=best_mae_epoch, line=dict(color='#1F77B4', dash='dash'),\n",
    "                 row=2, col=1)\n",
    "    fig.update_layout(\n",
    "        height=800,\n",
    "        width=1000,\n",
    "        title_text='<b>Métricas de Validación durante el Entrenamiento</b>',\n",
    "        title_font_size=20,\n",
    "        title_x=0.5,\n",
    "        hovermode='x unified',\n",
    "        template='plotly_white',\n",
    "        showlegend=False,\n",
    "        margin=dict(t=100, b=80)\n",
    "    )\n",
    "    \n",
    "    fig.update_xaxes(title_text='Épocas', row=2, col=1)\n",
    "    fig.update_yaxes(title_text='Loss', row=1, col=1)\n",
    "    fig.update_yaxes(title_text='MAE', row=2, col=1)\n",
    "    fig.add_annotation(\n",
    "        x=best_loss_epoch, y=max(val_loss),\n",
    "        text=f'Mejor Loss: {min(val_loss):.2f}',\n",
    "        showarrow=True,\n",
    "        arrowhead=1,\n",
    "        ax=0,\n",
    "        ay=-40,\n",
    "        row=1,\n",
    "        col=1\n",
    "    )\n",
    "    \n",
    "    fig.add_annotation(\n",
    "        x=best_mae_epoch, y=max(val_mae),\n",
    "        text=f'Mejor MAE: {min(val_mae):.2f}',\n",
    "        showarrow=True,\n",
    "        arrowhead=1,\n",
    "        ax=0,\n",
    "        ay=-40,\n",
    "        row=2,\n",
    "        col=1\n",
    "    )\n",
    "    return fig\n",
    "fig = plot_validation_metrics(history)\n",
    "fig.show()"
   ]
  },
  {
   "cell_type": "code",
   "execution_count": 148,
   "id": "04b8ac0c",
   "metadata": {},
   "outputs": [],
   "source": [
    "import tensorflow as tf\n",
    "\n",
    "model.compile(optimizer=tf.keras.optimizers.Adam(learning_rate=0.001),  # Probablemente necesites reducir el LR\n",
    "             loss='mae')"
   ]
  },
  {
   "cell_type": "code",
   "execution_count": 150,
   "id": "5c55108f",
   "metadata": {},
   "outputs": [],
   "source": [
    "model.add(Dense(64, activation='relu', kernel_regularizer='l2'))  # Regularización L2\n",
    "model.add(Dropout(0.3))"
   ]
  },
  {
   "cell_type": "code",
   "execution_count": null,
   "id": "4b53e91a",
   "metadata": {},
   "outputs": [],
   "source": []
  },
  {
   "cell_type": "code",
   "execution_count": null,
   "id": "bf70d7cc",
   "metadata": {},
   "outputs": [],
   "source": []
  },
  {
   "cell_type": "code",
   "execution_count": null,
   "id": "b44fad1a",
   "metadata": {},
   "outputs": [],
   "source": []
  },
  {
   "cell_type": "code",
   "execution_count": null,
   "id": "762cb446",
   "metadata": {},
   "outputs": [],
   "source": []
  },
  {
   "cell_type": "code",
   "execution_count": null,
   "id": "c35f1402",
   "metadata": {},
   "outputs": [],
   "source": []
  },
  {
   "cell_type": "markdown",
   "id": "feb8e070",
   "metadata": {},
   "source": []
  },
  {
   "cell_type": "code",
   "execution_count": null,
   "id": "0f3afdb0",
   "metadata": {},
   "outputs": [],
   "source": []
  },
  {
   "cell_type": "code",
   "execution_count": null,
   "id": "aa27cc06",
   "metadata": {},
   "outputs": [],
   "source": [
    "\n",
    "\n"
   ]
  },
  {
   "cell_type": "code",
   "execution_count": null,
   "id": "397bc4e4",
   "metadata": {},
   "outputs": [],
   "source": []
  },
  {
   "cell_type": "code",
   "execution_count": null,
   "id": "0d95c43b",
   "metadata": {},
   "outputs": [],
   "source": []
  },
  {
   "cell_type": "code",
   "execution_count": null,
   "id": "f7d4399f",
   "metadata": {},
   "outputs": [],
   "source": []
  },
  {
   "cell_type": "code",
   "execution_count": null,
   "id": "c73299e2",
   "metadata": {},
   "outputs": [],
   "source": [
    "\n"
   ]
  },
  {
   "cell_type": "code",
   "execution_count": null,
   "id": "76a57357",
   "metadata": {},
   "outputs": [],
   "source": []
  },
  {
   "cell_type": "code",
   "execution_count": null,
   "id": "d361e590",
   "metadata": {},
   "outputs": [],
   "source": [
    "\n",
    "\n"
   ]
  },
  {
   "cell_type": "code",
   "execution_count": null,
   "id": "f5910b99",
   "metadata": {},
   "outputs": [],
   "source": []
  },
  {
   "cell_type": "code",
   "execution_count": null,
   "id": "b5584ddd",
   "metadata": {},
   "outputs": [],
   "source": []
  },
  {
   "cell_type": "code",
   "execution_count": null,
   "id": "fc42955f",
   "metadata": {},
   "outputs": [],
   "source": []
  },
  {
   "cell_type": "code",
   "execution_count": null,
   "id": "2fcbfd73",
   "metadata": {},
   "outputs": [],
   "source": []
  },
  {
   "cell_type": "code",
   "execution_count": null,
   "id": "d8fe4515",
   "metadata": {},
   "outputs": [],
   "source": []
  },
  {
   "cell_type": "code",
   "execution_count": null,
   "id": "d23990d8",
   "metadata": {},
   "outputs": [],
   "source": []
  },
  {
   "cell_type": "code",
   "execution_count": null,
   "id": "06c32c99",
   "metadata": {},
   "outputs": [],
   "source": []
  },
  {
   "cell_type": "code",
   "execution_count": null,
   "id": "4d67bede",
   "metadata": {},
   "outputs": [],
   "source": []
  },
  {
   "cell_type": "code",
   "execution_count": null,
   "id": "b2c986df",
   "metadata": {},
   "outputs": [],
   "source": []
  },
  {
   "cell_type": "code",
   "execution_count": null,
   "id": "dc4abe6e",
   "metadata": {},
   "outputs": [],
   "source": []
  },
  {
   "cell_type": "code",
   "execution_count": null,
   "id": "ebe1a2f6",
   "metadata": {},
   "outputs": [],
   "source": []
  }
 ],
 "metadata": {
  "kernelspec": {
   "display_name": ".venv",
   "language": "python",
   "name": "python3"
  },
  "language_info": {
   "codemirror_mode": {
    "name": "ipython",
    "version": 3
   },
   "file_extension": ".py",
   "mimetype": "text/x-python",
   "name": "python",
   "nbconvert_exporter": "python",
   "pygments_lexer": "ipython3",
   "version": "3.10.11"
  }
 },
 "nbformat": 4,
 "nbformat_minor": 5
}
